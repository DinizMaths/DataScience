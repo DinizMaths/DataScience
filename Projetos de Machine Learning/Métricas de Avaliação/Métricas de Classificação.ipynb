{
 "cells": [
  {
   "cell_type": "markdown",
   "id": "c067d55f",
   "metadata": {},
   "source": [
    "# Matriz de confusão\n",
    "\n",
    "É uma tabela que mostra o desempenho de uma classificação de acordo com o número de previsões corretas e incorretas para cada tipo de resposta.\n",
    "\n",
    "Sklearn: http://scikit-learn.org/stable/modules/generated/sklearn.metrics.confusion_matrix.html"
   ]
  },
  {
   "cell_type": "markdown",
   "id": "a1b904ae",
   "metadata": {},
   "source": [
    "## Matriz binária\n",
    "\n",
    "<img src=\"figures/Confusion-Matrix.png\" style=\"width: 500px\">\n",
    "\n",
    "- TP = True Positive: Modelo previu positivo e isso é verdade\n",
    "- TN = True Negative: Modelo previu negativo e isso é verdade\n",
    "- FP = False Positive: Modelo previu positivo e isso é falso\n",
    "- FN = False Negative: Modelo previu negativo e isso é  falso"
   ]
  },
  {
   "cell_type": "code",
   "execution_count": 50,
   "id": "61711642",
   "metadata": {},
   "outputs": [],
   "source": [
    "from sklearn.metrics import confusion_matrix\n",
    "\n",
    "import matplotlib.pyplot as plt\n",
    "import seaborn as sns"
   ]
  },
  {
   "cell_type": "markdown",
   "id": "ab1b5151",
   "metadata": {},
   "source": [
    "Supondo pacientes com covid-19:\n",
    "- 0 - Paciente não infectado\n",
    "- 1 - Paciente infectado"
   ]
  },
  {
   "cell_type": "code",
   "execution_count": 51,
   "id": "11c8f094",
   "metadata": {},
   "outputs": [],
   "source": [
    "real = [1, 0, 1, 0, 1, 1, 0, 1]\n",
    "pred = [1, 0, 1, 1, 0, 1, 1, 1]"
   ]
  },
  {
   "cell_type": "code",
   "execution_count": 52,
   "id": "d5b8edf6",
   "metadata": {},
   "outputs": [],
   "source": [
    "conf_matrix = confusion_matrix(real, pred)"
   ]
  },
  {
   "cell_type": "code",
   "execution_count": 53,
   "id": "c8c3335d",
   "metadata": {
    "scrolled": false
   },
   "outputs": [
    {
     "data": {
      "image/png": "[encoded data removed]",
      "text/plain": [
       "<Figure size 576x504 with 1 Axes>"
      ]
     },
     "metadata": {},
     "output_type": "display_data"
    }
   ],
   "source": [
    "plt.figure(figsize=(8, 7))\n",
    "sns.set(font_scale=1.4)\n",
    "\n",
    "sns.heatmap(\n",
    "    conf_matrix, \n",
    "    annot=True, \n",
    "    cbar=False, \n",
    "    linewidths=0.2, \n",
    "    xticklabels=['False', 'True'], \n",
    "    yticklabels=['False', 'True'],\n",
    ")\n",
    "\n",
    "plt.show()"
   ]
  },
  {
   "cell_type": "code",
   "execution_count": 54,
   "id": "02c1db89",
   "metadata": {},
   "outputs": [],
   "source": [
    "TN, FP, FN, TP = conf_matrix.flatten()"
   ]
  },
  {
   "cell_type": "markdown",
   "id": "aff4a9ff",
   "metadata": {},
   "source": [
    "### Acurácia\n",
    "\n",
    "Respresenta o percentual de acerto de um modelo\n",
    "\n",
    "<center style=\"font-size: 20px\">\n",
    "    Acurácia $= \\frac{TN + TP}{TN + TP + FN + FP}$\n",
    "</center>"
   ]
  },
  {
   "cell_type": "code",
   "execution_count": 55,
   "id": "be4c559b",
   "metadata": {},
   "outputs": [],
   "source": [
    "def accuracy(TN, FP, FN, TP):\n",
    "    return (TN + TP) / (TN + TP + FN + FP)"
   ]
  },
  {
   "cell_type": "markdown",
   "id": "b54649ee",
   "metadata": {},
   "source": [
    "### Precisão\n",
    "\n",
    "Informa quantas da amostras previstas como positivas realmente são positivas. Usada em casos em que os Falsos Positivos são considerados mais prejudiciais que os Falsos Negativos.\n",
    "\n",
    "Ex.: Decisão de um investimento\n",
    "\n",
    "<center style=\"font-size: 20px\">\n",
    "    Precisão $= \\frac{TP}{TP + FP}$\n",
    "</center>"
   ]
  },
  {
   "cell_type": "code",
   "execution_count": 56,
   "id": "eb246648",
   "metadata": {},
   "outputs": [],
   "source": [
    "def precision(TP, FP):\n",
    "    return TP / (TP + FP)"
   ]
  },
  {
   "cell_type": "markdown",
   "id": "cb2bb52b",
   "metadata": {},
   "source": [
    "### Recall\n",
    "\n",
    "Mede o quantoum modelo classifica corretamente os Verdadeiros Positivos. Usado em que queremos evitar Falsos Negativos.\n",
    "\n",
    "Ex.: Classificar um passiente com Covid-19 como se ele não estivesse contaminado (Falso Negativo) é muito mais prejudicial que o contrário.\n",
    "<br>\n",
    "<br>\n",
    "<center style=\"font-size: 20px\">\n",
    "    Recall $= \\frac{TP}{TP + FN}$\n",
    "</center>"
   ]
  },
  {
   "cell_type": "code",
   "execution_count": 57,
   "id": "733e0511",
   "metadata": {},
   "outputs": [],
   "source": [
    "def recall(TP, FN):\n",
    "    return TP / (TP + FN)"
   ]
  },
  {
   "cell_type": "markdown",
   "id": "5d7c52de",
   "metadata": {},
   "source": [
    "### f1 score\n",
    "\n",
    "É uma média harmônica entre a Precisão e o Recall. Precisão e Recall são inversamente proporcionais, logo o f1 score nos dá a informação de quando ou Recall ou a Precisão não estão muito baixos. Ou seja, caso queiramos o equilíbrio entre Recall e Precisão, maximizamos o f1 score.\n",
    "<br>\n",
    "<br>\n",
    "<center style=\"font-size: 20px\">\n",
    "    f1score $= 2 \\cdot \\frac{\\text{Precisão} \\cdot \\text{Recall}}{\\text{Precisão} + \\text{Recall}}$\n",
    "</center>"
   ]
  },
  {
   "cell_type": "code",
   "execution_count": 58,
   "id": "ce356ce4",
   "metadata": {},
   "outputs": [],
   "source": [
    "def f1_score(TP, FP, FN):\n",
    "    rec = recall(TP, FN)\n",
    "    prc = precision(TP, FP)\n",
    "    \n",
    "    return 2 * (prc * rec) / (prc + rec)"
   ]
  },
  {
   "cell_type": "code",
   "execution_count": 59,
   "id": "2b1863e6",
   "metadata": {},
   "outputs": [],
   "source": [
    "from sklearn.metrics import accuracy_score, precision_score, recall_score, f1_score"
   ]
  },
  {
   "cell_type": "code",
   "execution_count": 60,
   "id": "1a7552fc",
   "metadata": {},
   "outputs": [
    {
     "name": "stdout",
     "output_type": "stream",
     "text": [
      "Acurácia: 0.625\n"
     ]
    }
   ],
   "source": [
    "print(f\"Acurácia: {accuracy_score(real, pred):.3f}\")"
   ]
  },
  {
   "cell_type": "code",
   "execution_count": 61,
   "id": "456f9a1d",
   "metadata": {},
   "outputs": [
    {
     "name": "stdout",
     "output_type": "stream",
     "text": [
      "Precisão: 0.667\n"
     ]
    }
   ],
   "source": [
    "print(f\"Precisão: {precision_score(real, pred):.3f}\")"
   ]
  },
  {
   "cell_type": "code",
   "execution_count": 62,
   "id": "f057e3df",
   "metadata": {},
   "outputs": [
    {
     "name": "stdout",
     "output_type": "stream",
     "text": [
      "Recall: 0.800\n"
     ]
    }
   ],
   "source": [
    "print(f\"Recall: {recall_score(real, pred):.3f}\")"
   ]
  },
  {
   "cell_type": "code",
   "execution_count": 63,
   "id": "0f2c4d34",
   "metadata": {},
   "outputs": [
    {
     "name": "stdout",
     "output_type": "stream",
     "text": [
      "F1 Score: 0.727\n"
     ]
    }
   ],
   "source": [
    "print(f\"F1 Score: {f1_score(real, pred):.3f}\")"
   ]
  },
  {
   "cell_type": "markdown",
   "id": "a1571f0b",
   "metadata": {},
   "source": [
    "## Matriz não binária\n",
    "\n",
    "<img src=\"figures/Confusion-Matrix-NonBinary.png\" style=\"width: 500px\">"
   ]
  },
  {
   "cell_type": "markdown",
   "id": "7efb7f91",
   "metadata": {},
   "source": [
    "- Apple = 0\n",
    "- Orange = 1\n",
    "- Mango = 2"
   ]
  },
  {
   "cell_type": "code",
   "execution_count": 64,
   "id": "b1b2ecfa",
   "metadata": {},
   "outputs": [],
   "source": [
    "real = [0, 0, 0, 0, 0, 0, 0, 1, 1, 2, 0, 0, 0, 0, 1, 1, 1, 1, 1, 1, 1, 1, 1, 1, 2, 2, 2, 2, 2, 2, 2, 2, 2, 2, 2, 2]\n",
    "pred = [0, 0, 0, 0, 0, 0, 0, 1, 1, 2, 1, 2, 2, 2, 0, 0, 0, 0, 0, 0, 0, 0, 2, 2, 0, 0, 0, 0, 0, 0, 0, 0, 0, 1, 1, 1]\n",
    "\n",
    "conf_matrix = confusion_matrix(real, pred)"
   ]
  },
  {
   "cell_type": "code",
   "execution_count": 65,
   "id": "48b524be",
   "metadata": {},
   "outputs": [
    {
     "data": {
      "image/png": "[encoded data removed]",
      "text/plain": [
       "<Figure size 576x504 with 1 Axes>"
      ]
     },
     "metadata": {},
     "output_type": "display_data"
    }
   ],
   "source": [
    "plt.figure(figsize=(8, 7))\n",
    "sns.set(font_scale=1.4)\n",
    "\n",
    "sns.heatmap(\n",
    "    conf_matrix.T, \n",
    "    annot=True, \n",
    "    cbar=False, \n",
    "    linewidths=0.2, \n",
    "    xticklabels=['Apple', 'Orange', 'Mango'], \n",
    "    yticklabels=['Apple', 'Orange', 'Mango'],\n",
    ")\n",
    "\n",
    "plt.show()"
   ]
  },
  {
   "cell_type": "code",
   "execution_count": 66,
   "id": "40b1f1d4",
   "metadata": {},
   "outputs": [
    {
     "name": "stdout",
     "output_type": "stream",
     "text": [
      "Acurácia: 0.278\n"
     ]
    }
   ],
   "source": [
    "print(f\"Acurácia: {accuracy_score(real, pred):.3f}\")"
   ]
  }
 ],
 "metadata": {
  "kernelspec": {
   "display_name": "Python 3",
   "language": "python",
   "name": "python3"
  },
  "language_info": {
   "codemirror_mode": {
    "name": "ipython",
    "version": 3
   },
   "file_extension": ".py",
   "mimetype": "text/x-python",
   "name": "python",
   "nbconvert_exporter": "python",
   "pygments_lexer": "ipython3",
   "version": "3.9.10"
  },
  "latex_envs": {
   "LaTeX_envs_menu_present": true,
   "autoclose": false,
   "autocomplete": true,
   "bibliofile": "biblio.bib",
   "cite_by": "apalike",
   "current_citInitial": 1,
   "eqLabelWithNumbers": true,
   "eqNumInitial": 1,
   "hotkeys": {
    "equation": "Ctrl-E",
    "itemize": "Ctrl-I"
   },
   "labels_anchors": false,
   "latex_user_defs": false,
   "report_style_numbering": false,
   "user_envs_cfg": false
  }
 },
 "nbformat": 4,
 "nbformat_minor": 5
}
