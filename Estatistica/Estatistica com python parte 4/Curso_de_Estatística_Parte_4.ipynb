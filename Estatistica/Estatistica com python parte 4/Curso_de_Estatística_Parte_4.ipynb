{
 "cells": [
  {
   "cell_type": "markdown",
   "metadata": {
    "colab_type": "text",
    "id": "WvMflodMjQKe"
   },
   "source": [
    "# <font color=green size=10>CURSO DE ESTATÍSTICA - PARTE 4</font>\n",
    "***"
   ]
  },
  {
   "cell_type": "markdown",
   "metadata": {
    "colab_type": "text",
    "id": "cVgsZ_E3jQKg"
   },
   "source": [
    "# <font color=green>1 CONHECENDO OS DADOS</font>\n",
    "***"
   ]
  },
  {
   "cell_type": "markdown",
   "metadata": {
    "colab_type": "text",
    "id": "TDjqYYNojQKh"
   },
   "source": [
    "## <font color=green>1.1 Dataset do projeto</font>\n",
    "***"
   ]
  },
  {
   "cell_type": "markdown",
   "metadata": {
    "colab_type": "text",
    "id": "iN1gIbaKjQKh"
   },
   "source": [
    "### Pesquisa Nacional por Amostra de Domicílios - 2015\n",
    "\n",
    "A <b>Pesquisa Nacional por Amostra de Domicílios - PNAD</b> investiga anualmente, de forma permanente, características gerais da população, de educação, trabalho, rendimento e habitação e outras, com periodicidade variável, de acordo com as necessidades de informação para o país, como as características sobre migração, fecundidade, nupcialidade, saúde, segurança alimentar, entre outros temas. O levantamento dessas estatísticas constitui, ao longo dos 49 anos de realização da pesquisa, um importante instrumento para formulação, validação e avaliação de políticas orientadas para o desenvolvimento socioeconômico e a melhoria das condições de vida no Brasil."
   ]
  },
  {
   "cell_type": "markdown",
   "metadata": {
    "colab_type": "text",
    "id": "U6V7br1RjQKi"
   },
   "source": [
    "### Fonte dos Dados\n",
    "\n",
    "https://ww2.ibge.gov.br/home/estatistica/populacao/trabalhoerendimento/pnad2015/microdados.shtm"
   ]
  },
  {
   "cell_type": "markdown",
   "metadata": {
    "colab_type": "text",
    "id": "r0Fe_qnzjQKj"
   },
   "source": [
    "### Variáveis utilizadas\n",
    "\n",
    "> ### Renda\n",
    "> ***\n",
    "\n",
    "Rendimento mensal do trabalho principal para pessoas de 10 anos ou mais de idade.\n",
    "\n",
    "> ### Idade\n",
    "> ***\n",
    "\n",
    "Idade do morador na data de referência em anos.\n",
    "\n",
    "> ### Altura (elaboração própria)\n",
    "> ***\n",
    "\n",
    "Altura do morador em metros.\n",
    "\n",
    "> ### UF\n",
    "> ***\n",
    "\n",
    "|Código|Descrição|\n",
    "|---|---|\n",
    "|11|Rondônia|\n",
    "|12|Acre|\n",
    "|13|Amazonas|\n",
    "|14|Roraima|\n",
    "|15|Pará|\n",
    "|16|Amapá|\n",
    "|17|Tocantins|\n",
    "|21|Maranhão|\n",
    "|22|Piauí|\n",
    "|23|Ceará|\n",
    "|24|Rio Grande do Norte|\n",
    "|25|Paraíba|\n",
    "|26|Pernambuco|\n",
    "|27|Alagoas|\n",
    "|28|Sergipe|\n",
    "|29|Bahia|\n",
    "|31|Minas Gerais|\n",
    "|32|Espírito Santo|\n",
    "|33|Rio de Janeiro|\n",
    "|35|São Paulo|\n",
    "|41|Paraná|\n",
    "|42|Santa Catarina|\n",
    "|43|Rio Grande do Sul|\n",
    "|50|Mato Grosso do Sul|\n",
    "|51|Mato Grosso|\n",
    "|52|Goiás|\n",
    "|53|Distrito Federal|\n",
    "\n",
    "> ### Sexo\t\n",
    "> ***\n",
    "\n",
    "|Código|Descrição|\n",
    "|---|---|\n",
    "|0|Masculino|\n",
    "|1|Feminino|\n",
    "\n",
    "> ### Anos de Estudo\n",
    "> ***\n",
    "\n",
    "|Código|Descrição|\n",
    "|---|---|\n",
    "|1|Sem instrução e menos de 1 ano|\n",
    "|2|1 ano|\n",
    "|3|2 anos|\n",
    "|4|3 anos|\n",
    "|5|4 anos|\n",
    "|6|5 anos|\n",
    "|7|6 anos|\n",
    "|8|7 anos|\n",
    "|9|8 anos|\n",
    "|10|9 anos|\n",
    "|11|10 anos|\n",
    "|12|11 anos|\n",
    "|13|12 anos|\n",
    "|14|13 anos|\n",
    "|15|14 anos|\n",
    "|16|15 anos ou mais|\n",
    "|17|Não determinados| \n",
    "||Não aplicável|\n",
    "\n",
    "> ### Cor\n",
    "> ***\n",
    "\n",
    "|Código|Descrição|\n",
    "|---|---|\n",
    "|0|Indígena|\n",
    "|2|Branca|\n",
    "|4|Preta|\n",
    "|6|Amarela|\n",
    "|8|Parda|\n",
    "|9|Sem declaração|"
   ]
  },
  {
   "cell_type": "markdown",
   "metadata": {
    "colab_type": "text",
    "id": "OK1IQH5cX7Gb"
   },
   "source": [
    "#### <font color='red'>Observação</font>\n",
    "***\n",
    "> Os seguintes tratamentos foram realizados nos dados originais:\n",
    "> 1. Foram eliminados os registros onde a <b>Renda</b> era inválida (999 999 999 999);\n",
    "> 2. Foram eliminados os registros onde a <b>Renda</b> era missing;\n",
    "> 3. Foram considerados somente os registros das <b>Pessoas de Referência</b> de cada domicílio (responsável pelo domicílio)."
   ]
  },
  {
   "cell_type": "markdown",
   "metadata": {
    "colab_type": "text",
    "id": "_mFnZ15pcmu1"
   },
   "source": [
    "### Solução do problema com dependência do statsmodels"
   ]
  },
  {
   "cell_type": "code",
   "execution_count": 1,
   "metadata": {
    "colab": {
     "base_uri": "https://localhost:8080/",
     "height": 217
    },
    "colab_type": "code",
    "id": "m5QYUoH4cnp1",
    "outputId": "ae1b7302-bf47-42a7-a627-95af2790f810"
   },
   "outputs": [],
   "source": [
    "# Retire o comentário da linha de código abaixo caso precise fazer a correção\n",
    "\n",
    "# !pip install scipy==1.2 --upgrade"
   ]
  },
  {
   "cell_type": "markdown",
   "metadata": {
    "colab_type": "text",
    "id": "MAO1aY6GcajB"
   },
   "source": [
    "### Importando bibliotecas\n",
    "\n",
    "https://pandas.pydata.org/\n",
    "\n",
    "https://www.numpy.org/\n",
    "\n",
    "https://seaborn.pydata.org/"
   ]
  },
  {
   "cell_type": "code",
   "execution_count": 2,
   "metadata": {
    "colab": {},
    "colab_type": "code",
    "id": "8QgOpE-wjQKl"
   },
   "outputs": [],
   "source": [
    "import pandas as pd\n",
    "import numpy as np\n",
    "import seaborn as sns"
   ]
  },
  {
   "cell_type": "markdown",
   "metadata": {
    "colab_type": "text",
    "id": "8Rw70V6ojQKk"
   },
   "source": [
    "### Lendo o dataset do projeto"
   ]
  },
  {
   "cell_type": "code",
   "execution_count": 3,
   "metadata": {
    "colab": {},
    "colab_type": "code",
    "id": "ufRZ7TLwjQKo"
   },
   "outputs": [],
   "source": [
    "dados = pd.read_csv('dados.csv')"
   ]
  },
  {
   "cell_type": "code",
   "execution_count": 4,
   "metadata": {
    "colab": {
     "base_uri": "https://localhost:8080/",
     "height": 204
    },
    "colab_type": "code",
    "id": "GsC_WhLFjQKq",
    "outputId": "864c083b-7233-49f5-a7bf-94c31169f30f",
    "scrolled": true
   },
   "outputs": [
    {
     "data": {
      "text/html": [
       "<div>\n",
       "<style scoped>\n",
       "    .dataframe tbody tr th:only-of-type {\n",
       "        vertical-align: middle;\n",
       "    }\n",
       "\n",
       "    .dataframe tbody tr th {\n",
       "        vertical-align: top;\n",
       "    }\n",
       "\n",
       "    .dataframe thead th {\n",
       "        text-align: right;\n",
       "    }\n",
       "</style>\n",
       "<table border=\"1\" class=\"dataframe\">\n",
       "  <thead>\n",
       "    <tr style=\"text-align: right;\">\n",
       "      <th></th>\n",
       "      <th>UF</th>\n",
       "      <th>Sexo</th>\n",
       "      <th>Idade</th>\n",
       "      <th>Cor</th>\n",
       "      <th>Anos de Estudo</th>\n",
       "      <th>Renda</th>\n",
       "      <th>Altura</th>\n",
       "    </tr>\n",
       "  </thead>\n",
       "  <tbody>\n",
       "    <tr>\n",
       "      <th>0</th>\n",
       "      <td>11</td>\n",
       "      <td>0</td>\n",
       "      <td>23</td>\n",
       "      <td>8</td>\n",
       "      <td>12</td>\n",
       "      <td>800</td>\n",
       "      <td>1.603808</td>\n",
       "    </tr>\n",
       "    <tr>\n",
       "      <th>1</th>\n",
       "      <td>11</td>\n",
       "      <td>1</td>\n",
       "      <td>23</td>\n",
       "      <td>2</td>\n",
       "      <td>12</td>\n",
       "      <td>1150</td>\n",
       "      <td>1.739790</td>\n",
       "    </tr>\n",
       "    <tr>\n",
       "      <th>2</th>\n",
       "      <td>11</td>\n",
       "      <td>1</td>\n",
       "      <td>35</td>\n",
       "      <td>8</td>\n",
       "      <td>15</td>\n",
       "      <td>880</td>\n",
       "      <td>1.760444</td>\n",
       "    </tr>\n",
       "    <tr>\n",
       "      <th>3</th>\n",
       "      <td>11</td>\n",
       "      <td>0</td>\n",
       "      <td>46</td>\n",
       "      <td>2</td>\n",
       "      <td>6</td>\n",
       "      <td>3500</td>\n",
       "      <td>1.783158</td>\n",
       "    </tr>\n",
       "    <tr>\n",
       "      <th>4</th>\n",
       "      <td>11</td>\n",
       "      <td>1</td>\n",
       "      <td>47</td>\n",
       "      <td>8</td>\n",
       "      <td>9</td>\n",
       "      <td>150</td>\n",
       "      <td>1.690631</td>\n",
       "    </tr>\n",
       "  </tbody>\n",
       "</table>\n",
       "</div>"
      ],
      "text/plain": [
       "   UF  Sexo  Idade  Cor  Anos de Estudo  Renda    Altura\n",
       "0  11     0     23    8              12    800  1.603808\n",
       "1  11     1     23    2              12   1150  1.739790\n",
       "2  11     1     35    8              15    880  1.760444\n",
       "3  11     0     46    2               6   3500  1.783158\n",
       "4  11     1     47    8               9    150  1.690631"
      ]
     },
     "execution_count": 4,
     "metadata": {},
     "output_type": "execute_result"
    }
   ],
   "source": [
    "dados.head()"
   ]
  },
  {
   "cell_type": "markdown",
   "metadata": {
    "colab_type": "text",
    "id": "I8SZvx_GcajO"
   },
   "source": [
    "---"
   ]
  },
  {
   "cell_type": "markdown",
   "metadata": {
    "colab_type": "text",
    "id": "dPTT675fcajP"
   },
   "source": [
    "# <font color=green>2 RODANDO UMA REGRESSÃO LINEAR</font>\n",
    "***"
   ]
  },
  {
   "cell_type": "markdown",
   "metadata": {
    "colab_type": "text",
    "id": "yRxm2BrFcajQ"
   },
   "source": [
    "## Dataset de exemplo\n",
    "> ### $Y$ = Gasto das famílias\n",
    "> ### $X$ = Renda das Famílias"
   ]
  },
  {
   "cell_type": "code",
   "execution_count": 5,
   "metadata": {
    "colab": {},
    "colab_type": "code",
    "id": "TvENegfwcajQ"
   },
   "outputs": [],
   "source": [
    "dataset = {\n",
    "    'Y': [3011, 1305, 1879, 2654, 2849, 1068, 2892, 2543, 3074, 849, 2184, 2943, 1357, 2755, 2163, 3099, 1600, 353, 1778, 740, 2129, 3302, 2412, 2683, 2515, 2395, 2292, 1000, 600, 1864, 3027, 1978, 2791, 1982, 900, 1964, 1247, 3067, 700, 1500, 3110, 2644, 1378, 2601, 501, 1292, 2125, 1431, 2260, 1770],\n",
    "    'X': [9714, 3728, 6062, 8845, 8378, 3338, 8507, 7947, 9915, 1632, 6825, 8918, 4100, 9184, 6180, 9997, 4500, 1069, 5925, 2466, 6083, 9712, 7780, 8383, 7185, 7483, 7640, 2100, 2000, 6012, 8902, 5345, 8210, 5662, 2700, 6546, 2900, 9894, 1500, 5000, 8885, 8813, 3446, 7881, 1164, 3401, 6641, 3329, 6648, 4800]\n",
    "}"
   ]
  },
  {
   "cell_type": "code",
   "execution_count": 6,
   "metadata": {
    "colab": {
     "base_uri": "https://localhost:8080/",
     "height": 204
    },
    "colab_type": "code",
    "id": "HfeWvtFWcajT",
    "outputId": "74959df4-b6bb-488a-a98e-fe77f9393415"
   },
   "outputs": [
    {
     "data": {
      "text/html": [
       "<div>\n",
       "<style scoped>\n",
       "    .dataframe tbody tr th:only-of-type {\n",
       "        vertical-align: middle;\n",
       "    }\n",
       "\n",
       "    .dataframe tbody tr th {\n",
       "        vertical-align: top;\n",
       "    }\n",
       "\n",
       "    .dataframe thead th {\n",
       "        text-align: right;\n",
       "    }\n",
       "</style>\n",
       "<table border=\"1\" class=\"dataframe\">\n",
       "  <thead>\n",
       "    <tr style=\"text-align: right;\">\n",
       "      <th></th>\n",
       "      <th>Y</th>\n",
       "      <th>X</th>\n",
       "    </tr>\n",
       "  </thead>\n",
       "  <tbody>\n",
       "    <tr>\n",
       "      <th>0</th>\n",
       "      <td>3011</td>\n",
       "      <td>9714</td>\n",
       "    </tr>\n",
       "    <tr>\n",
       "      <th>1</th>\n",
       "      <td>1305</td>\n",
       "      <td>3728</td>\n",
       "    </tr>\n",
       "    <tr>\n",
       "      <th>2</th>\n",
       "      <td>1879</td>\n",
       "      <td>6062</td>\n",
       "    </tr>\n",
       "    <tr>\n",
       "      <th>3</th>\n",
       "      <td>2654</td>\n",
       "      <td>8845</td>\n",
       "    </tr>\n",
       "    <tr>\n",
       "      <th>4</th>\n",
       "      <td>2849</td>\n",
       "      <td>8378</td>\n",
       "    </tr>\n",
       "  </tbody>\n",
       "</table>\n",
       "</div>"
      ],
      "text/plain": [
       "      Y     X\n",
       "0  3011  9714\n",
       "1  1305  3728\n",
       "2  1879  6062\n",
       "3  2654  8845\n",
       "4  2849  8378"
      ]
     },
     "execution_count": 6,
     "metadata": {},
     "output_type": "execute_result"
    }
   ],
   "source": [
    "dataset = pd.DataFrame(dataset)\n",
    "dataset.head()"
   ]
  },
  {
   "cell_type": "code",
   "execution_count": 7,
   "metadata": {
    "colab": {
     "base_uri": "https://localhost:8080/",
     "height": 35
    },
    "colab_type": "code",
    "id": "NGPOPV1VcajX",
    "outputId": "801add58-89f8-4a20-8218-fa7108f5ac7a"
   },
   "outputs": [
    {
     "data": {
      "text/plain": [
       "(50, 2)"
      ]
     },
     "execution_count": 7,
     "metadata": {},
     "output_type": "execute_result"
    }
   ],
   "source": [
    "dataset.shape"
   ]
  },
  {
   "cell_type": "markdown",
   "metadata": {
    "colab_type": "text",
    "id": "y0Lt1C-Ccaja"
   },
   "source": [
    "### Estatísticas descritivas"
   ]
  },
  {
   "cell_type": "code",
   "execution_count": 8,
   "metadata": {
    "colab": {
     "base_uri": "https://localhost:8080/",
     "height": 297
    },
    "colab_type": "code",
    "id": "POZusgEccajb",
    "outputId": "43d3c550-b52f-48bd-d4a5-32f0b634abed"
   },
   "outputs": [
    {
     "data": {
      "text/html": [
       "<div>\n",
       "<style scoped>\n",
       "    .dataframe tbody tr th:only-of-type {\n",
       "        vertical-align: middle;\n",
       "    }\n",
       "\n",
       "    .dataframe tbody tr th {\n",
       "        vertical-align: top;\n",
       "    }\n",
       "\n",
       "    .dataframe thead th {\n",
       "        text-align: right;\n",
       "    }\n",
       "</style>\n",
       "<table border=\"1\" class=\"dataframe\">\n",
       "  <thead>\n",
       "    <tr style=\"text-align: right;\">\n",
       "      <th></th>\n",
       "      <th>Y</th>\n",
       "      <th>X</th>\n",
       "    </tr>\n",
       "  </thead>\n",
       "  <tbody>\n",
       "    <tr>\n",
       "      <th>count</th>\n",
       "      <td>50.000000</td>\n",
       "      <td>50.000000</td>\n",
       "    </tr>\n",
       "    <tr>\n",
       "      <th>mean</th>\n",
       "      <td>2011.120000</td>\n",
       "      <td>6065.500000</td>\n",
       "    </tr>\n",
       "    <tr>\n",
       "      <th>std</th>\n",
       "      <td>817.214648</td>\n",
       "      <td>2707.187812</td>\n",
       "    </tr>\n",
       "    <tr>\n",
       "      <th>min</th>\n",
       "      <td>353.000000</td>\n",
       "      <td>1069.000000</td>\n",
       "    </tr>\n",
       "    <tr>\n",
       "      <th>25%</th>\n",
       "      <td>1362.250000</td>\n",
       "      <td>3516.500000</td>\n",
       "    </tr>\n",
       "    <tr>\n",
       "      <th>50%</th>\n",
       "      <td>2127.000000</td>\n",
       "      <td>6363.000000</td>\n",
       "    </tr>\n",
       "    <tr>\n",
       "      <th>75%</th>\n",
       "      <td>2675.750000</td>\n",
       "      <td>8381.750000</td>\n",
       "    </tr>\n",
       "    <tr>\n",
       "      <th>max</th>\n",
       "      <td>3302.000000</td>\n",
       "      <td>9997.000000</td>\n",
       "    </tr>\n",
       "  </tbody>\n",
       "</table>\n",
       "</div>"
      ],
      "text/plain": [
       "                 Y            X\n",
       "count    50.000000    50.000000\n",
       "mean   2011.120000  6065.500000\n",
       "std     817.214648  2707.187812\n",
       "min     353.000000  1069.000000\n",
       "25%    1362.250000  3516.500000\n",
       "50%    2127.000000  6363.000000\n",
       "75%    2675.750000  8381.750000\n",
       "max    3302.000000  9997.000000"
      ]
     },
     "execution_count": 8,
     "metadata": {},
     "output_type": "execute_result"
    }
   ],
   "source": [
    "dataset.describe()"
   ]
  },
  {
   "cell_type": "markdown",
   "metadata": {
    "colab_type": "text",
    "id": "tVozByhrcajd"
   },
   "source": [
    "### Análise gráfica\n",
    "\n",
    "https://seaborn.pydata.org/generated/seaborn.boxplot.html"
   ]
  },
  {
   "cell_type": "code",
   "execution_count": 9,
   "metadata": {
    "colab": {
     "base_uri": "https://localhost:8080/",
     "height": 432
    },
    "colab_type": "code",
    "id": "xPtAowUacajf",
    "outputId": "999d7778-2e6f-4889-c6ae-230c3f3118ea"
   },
   "outputs": [
    {
     "data": {
      "text/plain": [
       "<AxesSubplot:title={'center':'Box plot'}, xlabel='Reais (R$)'>"
      ]
     },
     "execution_count": 9,
     "metadata": {},
     "output_type": "execute_result"
    },
    {
     "data": {
      "image/png": "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\n",
      "text/plain": [
       "<Figure size 864x432 with 1 Axes>"
      ]
     },
     "metadata": {
      "needs_background": "light"
     },
     "output_type": "display_data"
    }
   ],
   "source": [
    "ax = sns.boxplot(data=dataset, orient='h', width=0.5)\n",
    "ax.figure.set_size_inches(12, 6)\n",
    "ax.set_title('Box plot', fontsize=20)\n",
    "ax.set_xlabel('Reais (R$)', fontsize=16)\n",
    "ax"
   ]
  },
  {
   "cell_type": "markdown",
   "metadata": {
    "colab_type": "text",
    "id": "Fg0MIFfgcaji"
   },
   "source": [
    "https://seaborn.pydata.org/generated/seaborn.lmplot.html"
   ]
  },
  {
   "cell_type": "code",
   "execution_count": 10,
   "metadata": {
    "colab": {
     "base_uri": "https://localhost:8080/",
     "height": 474
    },
    "colab_type": "code",
    "id": "s2ZFx_INcajj",
    "outputId": "cd551661-024c-4c0c-8a24-8548eb8ef207"
   },
   "outputs": [
    {
     "data": {
      "text/plain": [
       "<seaborn.axisgrid.FacetGrid at 0x268681dc850>"
      ]
     },
     "execution_count": 10,
     "metadata": {},
     "output_type": "execute_result"
    },
    {
     "data": {
      "image/png": "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\n",
      "text/plain": [
       "<Figure size 864x432 with 1 Axes>"
      ]
     },
     "metadata": {
      "needs_background": "light"
     },
     "output_type": "display_data"
    }
   ],
   "source": [
    "ax = sns.lmplot(x=\"X\", y=\"Y\", data=dataset)\n",
    "ax.fig.set_size_inches(12, 6)\n",
    "ax.fig.suptitle('Reta de Regressão - Gasto X Renda', fontsize=16, y=1.02)\n",
    "ax.set_xlabels(\"Renda das Famílias\", fontsize=14)\n",
    "ax.set_ylabels(\"Gasto das Famílias\", fontsize=14)\n",
    "ax"
   ]
  },
  {
   "cell_type": "markdown",
   "metadata": {
    "colab_type": "text",
    "id": "c2OpdF85cajl"
   },
   "source": [
    "### Análise da correlação\n",
    "\n",
    "https://pandas.pydata.org/pandas-docs/stable/reference/api/pandas.DataFrame.corr.html"
   ]
  },
  {
   "cell_type": "code",
   "execution_count": 11,
   "metadata": {
    "colab": {
     "base_uri": "https://localhost:8080/",
     "height": 111
    },
    "colab_type": "code",
    "id": "eQEiUOdccajm",
    "outputId": "020089c6-ebe5-4afc-d887-2fb96d1dd90e",
    "scrolled": true
   },
   "outputs": [
    {
     "data": {
      "text/html": [
       "<div>\n",
       "<style scoped>\n",
       "    .dataframe tbody tr th:only-of-type {\n",
       "        vertical-align: middle;\n",
       "    }\n",
       "\n",
       "    .dataframe tbody tr th {\n",
       "        vertical-align: top;\n",
       "    }\n",
       "\n",
       "    .dataframe thead th {\n",
       "        text-align: right;\n",
       "    }\n",
       "</style>\n",
       "<table border=\"1\" class=\"dataframe\">\n",
       "  <thead>\n",
       "    <tr style=\"text-align: right;\">\n",
       "      <th></th>\n",
       "      <th>Y</th>\n",
       "      <th>X</th>\n",
       "    </tr>\n",
       "  </thead>\n",
       "  <tbody>\n",
       "    <tr>\n",
       "      <th>Y</th>\n",
       "      <td>1.000000</td>\n",
       "      <td>0.984835</td>\n",
       "    </tr>\n",
       "    <tr>\n",
       "      <th>X</th>\n",
       "      <td>0.984835</td>\n",
       "      <td>1.000000</td>\n",
       "    </tr>\n",
       "  </tbody>\n",
       "</table>\n",
       "</div>"
      ],
      "text/plain": [
       "          Y         X\n",
       "Y  1.000000  0.984835\n",
       "X  0.984835  1.000000"
      ]
     },
     "execution_count": 11,
     "metadata": {},
     "output_type": "execute_result"
    }
   ],
   "source": [
    "dataset.corr()"
   ]
  },
  {
   "cell_type": "markdown",
   "metadata": {
    "colab_type": "text",
    "id": "cPOlHTg2cajo"
   },
   "source": [
    "### Modelo de regressão linear simples\n",
    "\n",
    "https://www.statsmodels.org/stable/regression.html"
   ]
  },
  {
   "cell_type": "code",
   "execution_count": 12,
   "metadata": {
    "colab": {},
    "colab_type": "code",
    "id": "SidSGHeQcajo"
   },
   "outputs": [],
   "source": [
    "import statsmodels.api as sm"
   ]
  },
  {
   "cell_type": "code",
   "execution_count": 13,
   "metadata": {
    "colab": {
     "base_uri": "https://localhost:8080/",
     "height": 73
    },
    "colab_type": "code",
    "id": "iBQFGkf_cajr",
    "outputId": "7ec1f5e1-c161-4e2b-d7d8-1fc9c2328662"
   },
   "outputs": [
    {
     "name": "stderr",
     "output_type": "stream",
     "text": [
      "C:\\Users\\rnand\\anaconda3\\lib\\site-packages\\statsmodels\\tsa\\tsatools.py:142: FutureWarning: In a future version of pandas all arguments of concat except for the argument 'objs' will be keyword-only\n",
      "  x = pd.concat(x[::order], 1)\n"
     ]
    }
   ],
   "source": [
    "Y = dataset.Y\n",
    "X = sm.add_constant(dataset.X)"
   ]
  },
  {
   "cell_type": "code",
   "execution_count": 14,
   "metadata": {
    "colab": {
     "base_uri": "https://localhost:8080/",
     "height": 125
    },
    "colab_type": "code",
    "id": "PdS9cDXqcajt",
    "outputId": "aa952c5e-ad21-47e9-81a9-04bf78cd224b",
    "scrolled": true
   },
   "outputs": [
    {
     "data": {
      "text/plain": [
       "0    3011\n",
       "1    1305\n",
       "2    1879\n",
       "3    2654\n",
       "4    2849\n",
       "Name: Y, dtype: int64"
      ]
     },
     "execution_count": 14,
     "metadata": {},
     "output_type": "execute_result"
    }
   ],
   "source": [
    "Y.head()"
   ]
  },
  {
   "cell_type": "code",
   "execution_count": 15,
   "metadata": {
    "colab": {
     "base_uri": "https://localhost:8080/",
     "height": 204
    },
    "colab_type": "code",
    "id": "lBrVRfVfcajv",
    "outputId": "0813c19d-8a54-4cde-bb3a-9cee9d47d030",
    "scrolled": true
   },
   "outputs": [
    {
     "data": {
      "text/html": [
       "<div>\n",
       "<style scoped>\n",
       "    .dataframe tbody tr th:only-of-type {\n",
       "        vertical-align: middle;\n",
       "    }\n",
       "\n",
       "    .dataframe tbody tr th {\n",
       "        vertical-align: top;\n",
       "    }\n",
       "\n",
       "    .dataframe thead th {\n",
       "        text-align: right;\n",
       "    }\n",
       "</style>\n",
       "<table border=\"1\" class=\"dataframe\">\n",
       "  <thead>\n",
       "    <tr style=\"text-align: right;\">\n",
       "      <th></th>\n",
       "      <th>const</th>\n",
       "      <th>X</th>\n",
       "    </tr>\n",
       "  </thead>\n",
       "  <tbody>\n",
       "    <tr>\n",
       "      <th>0</th>\n",
       "      <td>1.0</td>\n",
       "      <td>9714</td>\n",
       "    </tr>\n",
       "    <tr>\n",
       "      <th>1</th>\n",
       "      <td>1.0</td>\n",
       "      <td>3728</td>\n",
       "    </tr>\n",
       "    <tr>\n",
       "      <th>2</th>\n",
       "      <td>1.0</td>\n",
       "      <td>6062</td>\n",
       "    </tr>\n",
       "    <tr>\n",
       "      <th>3</th>\n",
       "      <td>1.0</td>\n",
       "      <td>8845</td>\n",
       "    </tr>\n",
       "    <tr>\n",
       "      <th>4</th>\n",
       "      <td>1.0</td>\n",
       "      <td>8378</td>\n",
       "    </tr>\n",
       "  </tbody>\n",
       "</table>\n",
       "</div>"
      ],
      "text/plain": [
       "   const     X\n",
       "0    1.0  9714\n",
       "1    1.0  3728\n",
       "2    1.0  6062\n",
       "3    1.0  8845\n",
       "4    1.0  8378"
      ]
     },
     "execution_count": 15,
     "metadata": {},
     "output_type": "execute_result"
    }
   ],
   "source": [
    "X.head()"
   ]
  },
  {
   "cell_type": "markdown",
   "metadata": {
    "colab_type": "text",
    "id": "Dkg9S5tWcajy"
   },
   "source": [
    "### Estimando o modelo"
   ]
  },
  {
   "cell_type": "code",
   "execution_count": 16,
   "metadata": {
    "colab": {},
    "colab_type": "code",
    "id": "9O0dhVTfcajz"
   },
   "outputs": [],
   "source": [
    "resultado_regressao = sm.OLS(Y, X).fit()"
   ]
  },
  {
   "cell_type": "code",
   "execution_count": 17,
   "metadata": {
    "colab": {
     "base_uri": "https://localhost:8080/",
     "height": 503
    },
    "colab_type": "code",
    "id": "8W1oGgNecaj0",
    "outputId": "aa4b6d35-1512-4cc2-e502-368cc81a21b2"
   },
   "outputs": [
    {
     "name": "stdout",
     "output_type": "stream",
     "text": [
      "                            OLS Regression Results                            \n",
      "==============================================================================\n",
      "Dep. Variable:                      Y   R-squared:                       0.970\n",
      "Model:                            OLS   Adj. R-squared:                  0.969\n",
      "Method:                 Least Squares   F-statistic:                     1547.\n",
      "Date:                Tue, 17 Aug 2021   Prob (F-statistic):           3.56e-38\n",
      "Time:                        09:14:39   Log-Likelihood:                -318.16\n",
      "No. Observations:                  50   AIC:                             640.3\n",
      "Df Residuals:                      48   BIC:                             644.1\n",
      "Df Model:                           1                                         \n",
      "Covariance Type:            nonrobust                                         \n",
      "==============================================================================\n",
      "                 coef    std err          t      P>|t|      [0.025      0.975]\n",
      "------------------------------------------------------------------------------\n",
      "const        207.9033     50.127      4.148      0.000     107.117     308.690\n",
      "X              0.2973      0.008     39.328      0.000       0.282       0.312\n",
      "==============================================================================\n",
      "Omnibus:                       22.833   Durbin-Watson:                   2.408\n",
      "Prob(Omnibus):                  0.000   Jarque-Bera (JB):                3.915\n",
      "Skew:                           0.073   Prob(JB):                        0.141\n",
      "Kurtosis:                       1.637   Cond. No.                     1.64e+04\n",
      "==============================================================================\n",
      "\n",
      "Notes:\n",
      "[1] Standard Errors assume that the covariance matrix of the errors is correctly specified.\n",
      "[2] The condition number is large, 1.64e+04. This might indicate that there are\n",
      "strong multicollinearity or other numerical problems.\n"
     ]
    }
   ],
   "source": [
    "print(resultado_regressao.summary())"
   ]
  },
  {
   "cell_type": "markdown",
   "metadata": {
    "colab_type": "text",
    "id": "eP2wm9fBcaj2"
   },
   "source": [
    "### Obtendo as previsões dentro da amostra"
   ]
  },
  {
   "cell_type": "code",
   "execution_count": 18,
   "metadata": {
    "colab": {
     "base_uri": "https://localhost:8080/",
     "height": 1599
    },
    "colab_type": "code",
    "id": "cbuzGLB-caj2",
    "outputId": "5f069bbe-aa37-4317-a186-01b4a64ed728",
    "scrolled": true
   },
   "outputs": [
    {
     "data": {
      "text/html": [
       "<div>\n",
       "<style scoped>\n",
       "    .dataframe tbody tr th:only-of-type {\n",
       "        vertical-align: middle;\n",
       "    }\n",
       "\n",
       "    .dataframe tbody tr th {\n",
       "        vertical-align: top;\n",
       "    }\n",
       "\n",
       "    .dataframe thead th {\n",
       "        text-align: right;\n",
       "    }\n",
       "</style>\n",
       "<table border=\"1\" class=\"dataframe\">\n",
       "  <thead>\n",
       "    <tr style=\"text-align: right;\">\n",
       "      <th></th>\n",
       "      <th>Y</th>\n",
       "      <th>X</th>\n",
       "      <th>Y_previsto</th>\n",
       "    </tr>\n",
       "  </thead>\n",
       "  <tbody>\n",
       "    <tr>\n",
       "      <th>0</th>\n",
       "      <td>3011</td>\n",
       "      <td>9714</td>\n",
       "      <td>3095.785086</td>\n",
       "    </tr>\n",
       "    <tr>\n",
       "      <th>1</th>\n",
       "      <td>1305</td>\n",
       "      <td>3728</td>\n",
       "      <td>1316.203010</td>\n",
       "    </tr>\n",
       "    <tr>\n",
       "      <th>2</th>\n",
       "      <td>1879</td>\n",
       "      <td>6062</td>\n",
       "      <td>2010.079483</td>\n",
       "    </tr>\n",
       "    <tr>\n",
       "      <th>3</th>\n",
       "      <td>2654</td>\n",
       "      <td>8845</td>\n",
       "      <td>2837.439476</td>\n",
       "    </tr>\n",
       "    <tr>\n",
       "      <th>4</th>\n",
       "      <td>2849</td>\n",
       "      <td>8378</td>\n",
       "      <td>2698.604723</td>\n",
       "    </tr>\n",
       "    <tr>\n",
       "      <th>5</th>\n",
       "      <td>1068</td>\n",
       "      <td>3338</td>\n",
       "      <td>1200.259640</td>\n",
       "    </tr>\n",
       "    <tr>\n",
       "      <th>6</th>\n",
       "      <td>2892</td>\n",
       "      <td>8507</td>\n",
       "      <td>2736.955222</td>\n",
       "    </tr>\n",
       "    <tr>\n",
       "      <th>7</th>\n",
       "      <td>2543</td>\n",
       "      <td>7947</td>\n",
       "      <td>2570.472435</td>\n",
       "    </tr>\n",
       "    <tr>\n",
       "      <th>8</th>\n",
       "      <td>3074</td>\n",
       "      <td>9915</td>\n",
       "      <td>3155.540515</td>\n",
       "    </tr>\n",
       "    <tr>\n",
       "      <th>9</th>\n",
       "      <td>849</td>\n",
       "      <td>1632</td>\n",
       "      <td>693.081721</td>\n",
       "    </tr>\n",
       "    <tr>\n",
       "      <th>10</th>\n",
       "      <td>2184</td>\n",
       "      <td>6825</td>\n",
       "      <td>2236.912280</td>\n",
       "    </tr>\n",
       "    <tr>\n",
       "      <th>11</th>\n",
       "      <td>2943</td>\n",
       "      <td>8918</td>\n",
       "      <td>2859.141696</td>\n",
       "    </tr>\n",
       "    <tr>\n",
       "      <th>12</th>\n",
       "      <td>1357</td>\n",
       "      <td>4100</td>\n",
       "      <td>1426.795147</td>\n",
       "    </tr>\n",
       "    <tr>\n",
       "      <th>13</th>\n",
       "      <td>2755</td>\n",
       "      <td>9184</td>\n",
       "      <td>2938.221020</td>\n",
       "    </tr>\n",
       "    <tr>\n",
       "      <th>14</th>\n",
       "      <td>2163</td>\n",
       "      <td>6180</td>\n",
       "      <td>2045.159784</td>\n",
       "    </tr>\n",
       "    <tr>\n",
       "      <th>15</th>\n",
       "      <td>3099</td>\n",
       "      <td>9997</td>\n",
       "      <td>3179.918352</td>\n",
       "    </tr>\n",
       "    <tr>\n",
       "      <th>16</th>\n",
       "      <td>1600</td>\n",
       "      <td>4500</td>\n",
       "      <td>1545.711423</td>\n",
       "    </tr>\n",
       "    <tr>\n",
       "      <th>17</th>\n",
       "      <td>353</td>\n",
       "      <td>1069</td>\n",
       "      <td>525.707062</td>\n",
       "    </tr>\n",
       "    <tr>\n",
       "      <th>18</th>\n",
       "      <td>1778</td>\n",
       "      <td>5925</td>\n",
       "      <td>1969.350658</td>\n",
       "    </tr>\n",
       "    <tr>\n",
       "      <th>19</th>\n",
       "      <td>740</td>\n",
       "      <td>2466</td>\n",
       "      <td>941.022158</td>\n",
       "    </tr>\n",
       "    <tr>\n",
       "      <th>20</th>\n",
       "      <td>2129</td>\n",
       "      <td>6083</td>\n",
       "      <td>2016.322587</td>\n",
       "    </tr>\n",
       "    <tr>\n",
       "      <th>21</th>\n",
       "      <td>3302</td>\n",
       "      <td>9712</td>\n",
       "      <td>3095.190505</td>\n",
       "    </tr>\n",
       "    <tr>\n",
       "      <th>22</th>\n",
       "      <td>2412</td>\n",
       "      <td>7780</td>\n",
       "      <td>2520.824890</td>\n",
       "    </tr>\n",
       "    <tr>\n",
       "      <th>23</th>\n",
       "      <td>2683</td>\n",
       "      <td>8383</td>\n",
       "      <td>2700.091176</td>\n",
       "    </tr>\n",
       "    <tr>\n",
       "      <th>24</th>\n",
       "      <td>2515</td>\n",
       "      <td>7185</td>\n",
       "      <td>2343.936929</td>\n",
       "    </tr>\n",
       "    <tr>\n",
       "      <th>25</th>\n",
       "      <td>2395</td>\n",
       "      <td>7483</td>\n",
       "      <td>2432.529554</td>\n",
       "    </tr>\n",
       "    <tr>\n",
       "      <th>26</th>\n",
       "      <td>2292</td>\n",
       "      <td>7640</td>\n",
       "      <td>2479.204193</td>\n",
       "    </tr>\n",
       "    <tr>\n",
       "      <th>27</th>\n",
       "      <td>1000</td>\n",
       "      <td>2100</td>\n",
       "      <td>832.213765</td>\n",
       "    </tr>\n",
       "    <tr>\n",
       "      <th>28</th>\n",
       "      <td>600</td>\n",
       "      <td>2000</td>\n",
       "      <td>802.484696</td>\n",
       "    </tr>\n",
       "    <tr>\n",
       "      <th>29</th>\n",
       "      <td>1864</td>\n",
       "      <td>6012</td>\n",
       "      <td>1995.214948</td>\n",
       "    </tr>\n",
       "    <tr>\n",
       "      <th>30</th>\n",
       "      <td>3027</td>\n",
       "      <td>8902</td>\n",
       "      <td>2854.385045</td>\n",
       "    </tr>\n",
       "    <tr>\n",
       "      <th>31</th>\n",
       "      <td>1978</td>\n",
       "      <td>5345</td>\n",
       "      <td>1796.922057</td>\n",
       "    </tr>\n",
       "    <tr>\n",
       "      <th>32</th>\n",
       "      <td>2791</td>\n",
       "      <td>8210</td>\n",
       "      <td>2648.659887</td>\n",
       "    </tr>\n",
       "    <tr>\n",
       "      <th>33</th>\n",
       "      <td>1982</td>\n",
       "      <td>5662</td>\n",
       "      <td>1891.163206</td>\n",
       "    </tr>\n",
       "    <tr>\n",
       "      <th>34</th>\n",
       "      <td>900</td>\n",
       "      <td>2700</td>\n",
       "      <td>1010.588179</td>\n",
       "    </tr>\n",
       "    <tr>\n",
       "      <th>35</th>\n",
       "      <td>1964</td>\n",
       "      <td>6546</td>\n",
       "      <td>2153.968177</td>\n",
       "    </tr>\n",
       "    <tr>\n",
       "      <th>36</th>\n",
       "      <td>1247</td>\n",
       "      <td>2900</td>\n",
       "      <td>1070.046318</td>\n",
       "    </tr>\n",
       "    <tr>\n",
       "      <th>37</th>\n",
       "      <td>3067</td>\n",
       "      <td>9894</td>\n",
       "      <td>3149.297410</td>\n",
       "    </tr>\n",
       "    <tr>\n",
       "      <th>38</th>\n",
       "      <td>700</td>\n",
       "      <td>1500</td>\n",
       "      <td>653.839350</td>\n",
       "    </tr>\n",
       "    <tr>\n",
       "      <th>39</th>\n",
       "      <td>1500</td>\n",
       "      <td>5000</td>\n",
       "      <td>1694.356769</td>\n",
       "    </tr>\n",
       "    <tr>\n",
       "      <th>40</th>\n",
       "      <td>3110</td>\n",
       "      <td>8885</td>\n",
       "      <td>2849.331103</td>\n",
       "    </tr>\n",
       "    <tr>\n",
       "      <th>41</th>\n",
       "      <td>2644</td>\n",
       "      <td>8813</td>\n",
       "      <td>2827.926174</td>\n",
       "    </tr>\n",
       "    <tr>\n",
       "      <th>42</th>\n",
       "      <td>1378</td>\n",
       "      <td>3446</td>\n",
       "      <td>1232.367035</td>\n",
       "    </tr>\n",
       "    <tr>\n",
       "      <th>43</th>\n",
       "      <td>2601</td>\n",
       "      <td>7881</td>\n",
       "      <td>2550.851249</td>\n",
       "    </tr>\n",
       "    <tr>\n",
       "      <th>44</th>\n",
       "      <td>501</td>\n",
       "      <td>1164</td>\n",
       "      <td>553.949678</td>\n",
       "    </tr>\n",
       "    <tr>\n",
       "      <th>45</th>\n",
       "      <td>1292</td>\n",
       "      <td>3401</td>\n",
       "      <td>1218.988954</td>\n",
       "    </tr>\n",
       "    <tr>\n",
       "      <th>46</th>\n",
       "      <td>2125</td>\n",
       "      <td>6641</td>\n",
       "      <td>2182.210793</td>\n",
       "    </tr>\n",
       "    <tr>\n",
       "      <th>47</th>\n",
       "      <td>1431</td>\n",
       "      <td>3329</td>\n",
       "      <td>1197.584024</td>\n",
       "    </tr>\n",
       "    <tr>\n",
       "      <th>48</th>\n",
       "      <td>2260</td>\n",
       "      <td>6648</td>\n",
       "      <td>2184.291828</td>\n",
       "    </tr>\n",
       "    <tr>\n",
       "      <th>49</th>\n",
       "      <td>1770</td>\n",
       "      <td>4800</td>\n",
       "      <td>1634.898631</td>\n",
       "    </tr>\n",
       "  </tbody>\n",
       "</table>\n",
       "</div>"
      ],
      "text/plain": [
       "       Y     X   Y_previsto\n",
       "0   3011  9714  3095.785086\n",
       "1   1305  3728  1316.203010\n",
       "2   1879  6062  2010.079483\n",
       "3   2654  8845  2837.439476\n",
       "4   2849  8378  2698.604723\n",
       "5   1068  3338  1200.259640\n",
       "6   2892  8507  2736.955222\n",
       "7   2543  7947  2570.472435\n",
       "8   3074  9915  3155.540515\n",
       "9    849  1632   693.081721\n",
       "10  2184  6825  2236.912280\n",
       "11  2943  8918  2859.141696\n",
       "12  1357  4100  1426.795147\n",
       "13  2755  9184  2938.221020\n",
       "14  2163  6180  2045.159784\n",
       "15  3099  9997  3179.918352\n",
       "16  1600  4500  1545.711423\n",
       "17   353  1069   525.707062\n",
       "18  1778  5925  1969.350658\n",
       "19   740  2466   941.022158\n",
       "20  2129  6083  2016.322587\n",
       "21  3302  9712  3095.190505\n",
       "22  2412  7780  2520.824890\n",
       "23  2683  8383  2700.091176\n",
       "24  2515  7185  2343.936929\n",
       "25  2395  7483  2432.529554\n",
       "26  2292  7640  2479.204193\n",
       "27  1000  2100   832.213765\n",
       "28   600  2000   802.484696\n",
       "29  1864  6012  1995.214948\n",
       "30  3027  8902  2854.385045\n",
       "31  1978  5345  1796.922057\n",
       "32  2791  8210  2648.659887\n",
       "33  1982  5662  1891.163206\n",
       "34   900  2700  1010.588179\n",
       "35  1964  6546  2153.968177\n",
       "36  1247  2900  1070.046318\n",
       "37  3067  9894  3149.297410\n",
       "38   700  1500   653.839350\n",
       "39  1500  5000  1694.356769\n",
       "40  3110  8885  2849.331103\n",
       "41  2644  8813  2827.926174\n",
       "42  1378  3446  1232.367035\n",
       "43  2601  7881  2550.851249\n",
       "44   501  1164   553.949678\n",
       "45  1292  3401  1218.988954\n",
       "46  2125  6641  2182.210793\n",
       "47  1431  3329  1197.584024\n",
       "48  2260  6648  2184.291828\n",
       "49  1770  4800  1634.898631"
      ]
     },
     "execution_count": 18,
     "metadata": {},
     "output_type": "execute_result"
    }
   ],
   "source": [
    "dataset['Y_previsto'] = resultado_regressao.predict()\n",
    "dataset"
   ]
  },
  {
   "cell_type": "markdown",
   "metadata": {
    "colab_type": "text",
    "id": "QTCRxEClcaj-"
   },
   "source": [
    "---"
   ]
  },
  {
   "cell_type": "markdown",
   "metadata": {
    "colab_type": "text",
    "id": "DU3ADw3fdeS1"
   },
   "source": [
    "# <font color=green>3 CORRELAÇÃO</font>\n",
    "***"
   ]
  },
  {
   "cell_type": "markdown",
   "metadata": {
    "colab_type": "text",
    "id": "_8zdNQvrcakA"
   },
   "source": [
    "## <font color=green>3.1 Covariância</font>\n",
    "***"
   ]
  },
  {
   "cell_type": "markdown",
   "metadata": {
    "colab_type": "text",
    "id": "E5xyRLiYcakB"
   },
   "source": [
    "A covariância, ou variância conjunta, é a medida do grau de interdependência (ou inter-relação) numérica entre duas variáveis. É definida da seguinte maneira:"
   ]
  },
  {
   "cell_type": "markdown",
   "metadata": {
    "colab_type": "text",
    "id": "z66qdhEPcakB"
   },
   "source": [
    "### Covariância populacional\n",
    "\n",
    "# $$\\sigma_{xy} = \\frac 1n\\sum_{i=1}^{n}(X_i-\\mu_x)(Y_i-\\mu_y)$$"
   ]
  },
  {
   "cell_type": "markdown",
   "metadata": {
    "colab_type": "text",
    "id": "Q5Z7pL4ncakB"
   },
   "source": [
    "### Covariância amostral\n",
    "\n",
    "# $$S_{xy} = \\frac 1{n-1}\\sum_{i=1}^{n}(X_i-\\bar{X})(Y_i-\\bar{Y})$$"
   ]
  },
  {
   "cell_type": "markdown",
   "metadata": {
    "colab_type": "text",
    "id": "jL1SrReTcakC"
   },
   "source": [
    "### Gerando uma amostra aleatória para facilitar o entendimento"
   ]
  },
  {
   "cell_type": "code",
   "execution_count": 19,
   "metadata": {
    "colab": {},
    "colab_type": "code",
    "id": "ulha75EgcakC"
   },
   "outputs": [],
   "source": [
    "amostra = dados.query('Renda < 5000').sample(n = 20, random_state = 101)"
   ]
  },
  {
   "cell_type": "markdown",
   "metadata": {
    "colab_type": "text",
    "id": "ZssTPkXGcakD"
   },
   "source": [
    "### Obtendo a matriz de covariância"
   ]
  },
  {
   "cell_type": "code",
   "execution_count": 20,
   "metadata": {
    "colab": {
     "base_uri": "https://localhost:8080/",
     "height": 173
    },
    "colab_type": "code",
    "id": "hU6Ca7k3cakE",
    "outputId": "a0890859-c040-4d87-deed-7bcd6ce5c8b4"
   },
   "outputs": [
    {
     "data": {
      "text/html": [
       "<div>\n",
       "<style scoped>\n",
       "    .dataframe tbody tr th:only-of-type {\n",
       "        vertical-align: middle;\n",
       "    }\n",
       "\n",
       "    .dataframe tbody tr th {\n",
       "        vertical-align: top;\n",
       "    }\n",
       "\n",
       "    .dataframe thead th {\n",
       "        text-align: right;\n",
       "    }\n",
       "</style>\n",
       "<table border=\"1\" class=\"dataframe\">\n",
       "  <thead>\n",
       "    <tr style=\"text-align: right;\">\n",
       "      <th></th>\n",
       "      <th>Idade</th>\n",
       "      <th>Renda</th>\n",
       "      <th>Anos de Estudo</th>\n",
       "      <th>Altura</th>\n",
       "    </tr>\n",
       "  </thead>\n",
       "  <tbody>\n",
       "    <tr>\n",
       "      <th>Idade</th>\n",
       "      <td>134.410526</td>\n",
       "      <td>-4947.968421</td>\n",
       "      <td>-16.410526</td>\n",
       "      <td>0.016506</td>\n",
       "    </tr>\n",
       "    <tr>\n",
       "      <th>Renda</th>\n",
       "      <td>-4947.968421</td>\n",
       "      <td>764668.326316</td>\n",
       "      <td>2209.021053</td>\n",
       "      <td>-7.138236</td>\n",
       "    </tr>\n",
       "    <tr>\n",
       "      <th>Anos de Estudo</th>\n",
       "      <td>-16.410526</td>\n",
       "      <td>2209.021053</td>\n",
       "      <td>16.936842</td>\n",
       "      <td>0.111281</td>\n",
       "    </tr>\n",
       "    <tr>\n",
       "      <th>Altura</th>\n",
       "      <td>0.016506</td>\n",
       "      <td>-7.138236</td>\n",
       "      <td>0.111281</td>\n",
       "      <td>0.003354</td>\n",
       "    </tr>\n",
       "  </tbody>\n",
       "</table>\n",
       "</div>"
      ],
      "text/plain": [
       "                      Idade          Renda  Anos de Estudo    Altura\n",
       "Idade            134.410526   -4947.968421      -16.410526  0.016506\n",
       "Renda          -4947.968421  764668.326316     2209.021053 -7.138236\n",
       "Anos de Estudo   -16.410526    2209.021053       16.936842  0.111281\n",
       "Altura             0.016506      -7.138236        0.111281  0.003354"
      ]
     },
     "execution_count": 20,
     "metadata": {},
     "output_type": "execute_result"
    }
   ],
   "source": [
    "amostra[['Idade', 'Renda', 'Anos de Estudo', 'Altura']].cov()"
   ]
  },
  {
   "cell_type": "markdown",
   "metadata": {
    "colab_type": "text",
    "id": "dodkzGyBcakG"
   },
   "source": [
    "### Identificando as variâncias na diagonal principal da matriz"
   ]
  },
  {
   "cell_type": "code",
   "execution_count": 21,
   "metadata": {
    "colab": {
     "base_uri": "https://localhost:8080/",
     "height": 35
    },
    "colab_type": "code",
    "id": "iG3mpmBfcakH",
    "outputId": "cf9885ba-996a-4254-85b3-e190a31556f3"
   },
   "outputs": [
    {
     "data": {
      "text/plain": [
       "134.4105263157895"
      ]
     },
     "execution_count": 21,
     "metadata": {},
     "output_type": "execute_result"
    }
   ],
   "source": [
    "amostra.Idade.var()"
   ]
  },
  {
   "cell_type": "markdown",
   "metadata": {
    "colab_type": "text",
    "id": "9I8MVJAscakK"
   },
   "source": [
    "## <font color=green>3.2 Interpretação da Covariância</font>\n",
    "***"
   ]
  },
  {
   "cell_type": "markdown",
   "metadata": {
    "colab_type": "text",
    "id": "_H2Y3PVZcakK"
   },
   "source": [
    "Valor de $S_{xy}$ positivo indica uma associação linear positiva entre x e y, ou seja, à medida que o valor de x aumenta, o valor de y também aumenta. Neste caso, podemos ver na figura abaixo que os pontos que têm a maior influência sobre $S_{xy}$ devem estar nos quadrantes I e III.\n",
    "\n",
    "Se o valor de $S_{xy}$ for negativo temos um indicativo de associação linear negativa entre x e y, ou seja, à medida que x aumenta, o valor de y diminui. Neste caso, podemos ver na figura abaixo que os pontos que têm a maior influência sobre $S_{xy}$ devem estar nos quadrantes II e IV.\n",
    "\n",
    "Finalmente, se os pontos estiverem uniformemente distribuídos pelos quadrantes, o valor de $S_{xy}$ se aproximará de zero, indicando que não existe nenhuma associação linear entre x e y.\n",
    "\n",
    "<img src=\"https://caelum-online-public.s3.amazonaws.com/1273-estatistica-parte4/01/img026.png\" width=50%>"
   ]
  },
  {
   "cell_type": "markdown",
   "metadata": {
    "colab_type": "text",
    "id": "frhw7Uc8cakL"
   },
   "source": [
    "### Verificando a existência de uma associação linear negativa"
   ]
  },
  {
   "cell_type": "code",
   "execution_count": 22,
   "metadata": {
    "colab": {
     "base_uri": "https://localhost:8080/",
     "height": 410
    },
    "colab_type": "code",
    "id": "Xb__N-ZlcakL",
    "outputId": "3600e9a4-5f77-4291-8640-fc0af0b4bb70"
   },
   "outputs": [
    {
     "name": "stderr",
     "output_type": "stream",
     "text": [
      "C:\\Users\\rnand\\anaconda3\\lib\\site-packages\\seaborn\\_decorators.py:36: FutureWarning: Pass the following variables as keyword args: x, y. From version 0.12, the only valid positional argument will be `data`, and passing other arguments without an explicit keyword will result in an error or misinterpretation.\n",
      "  warnings.warn(\n"
     ]
    },
    {
     "data": {
      "text/plain": [
       "<matplotlib.collections.LineCollection at 0x26869299700>"
      ]
     },
     "execution_count": 22,
     "metadata": {},
     "output_type": "execute_result"
    },
    {
     "data": {
      "image/png": "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\n",
      "text/plain": [
       "<Figure size 720x432 with 1 Axes>"
      ]
     },
     "metadata": {
      "needs_background": "light"
     },
     "output_type": "display_data"
    }
   ],
   "source": [
    "x = amostra.Renda\n",
    "y = amostra.Idade\n",
    "\n",
    "ax = sns.scatterplot(x, y)\n",
    "ax.figure.set_size_inches(10, 6)\n",
    "ax.hlines(y = y.mean(), xmin = x.min(), xmax = x.max(), colors='black', linestyles='dashed')\n",
    "ax.vlines(x = x.mean(), ymin = y.min(), ymax = y.max(), colors='black', linestyles='dashed')"
   ]
  },
  {
   "cell_type": "markdown",
   "metadata": {
    "colab_type": "text",
    "id": "es2CobcCcakQ"
   },
   "source": [
    "### Verificando a existência de uma associação linear positiva"
   ]
  },
  {
   "cell_type": "code",
   "execution_count": 23,
   "metadata": {
    "colab": {
     "base_uri": "https://localhost:8080/",
     "height": 410
    },
    "colab_type": "code",
    "id": "eLc5JmYCcakQ",
    "outputId": "0b7b1dd4-82aa-4a50-9635-ad16f88371c6"
   },
   "outputs": [
    {
     "name": "stderr",
     "output_type": "stream",
     "text": [
      "C:\\Users\\rnand\\anaconda3\\lib\\site-packages\\seaborn\\_decorators.py:36: FutureWarning: Pass the following variables as keyword args: x, y. From version 0.12, the only valid positional argument will be `data`, and passing other arguments without an explicit keyword will result in an error or misinterpretation.\n",
      "  warnings.warn(\n"
     ]
    },
    {
     "data": {
      "text/plain": [
       "<matplotlib.collections.LineCollection at 0x2686930a850>"
      ]
     },
     "execution_count": 23,
     "metadata": {},
     "output_type": "execute_result"
    },
    {
     "data": {
      "image/png": "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\n",
      "text/plain": [
       "<Figure size 720x432 with 1 Axes>"
      ]
     },
     "metadata": {
      "needs_background": "light"
     },
     "output_type": "display_data"
    }
   ],
   "source": [
    "x = amostra.Renda\n",
    "y = amostra['Anos de Estudo']\n",
    "\n",
    "ax = sns.scatterplot(x, y)\n",
    "ax.figure.set_size_inches(10, 6)\n",
    "ax.hlines(y = y.mean(), xmin = x.min(), xmax = x.max(), colors='black', linestyles='dashed')\n",
    "ax.vlines(x = x.mean(), ymin = y.min(), ymax = y.max(), colors='black', linestyles='dashed')"
   ]
  },
  {
   "cell_type": "markdown",
   "metadata": {
    "colab_type": "text",
    "id": "mYYlKQeHcakS"
   },
   "source": [
    "### Verificando a inexistência de uma associação linear entre as variáveis"
   ]
  },
  {
   "cell_type": "code",
   "execution_count": 24,
   "metadata": {
    "colab": {
     "base_uri": "https://localhost:8080/",
     "height": 410
    },
    "colab_type": "code",
    "id": "R0S1AiBlcakS",
    "outputId": "c6897cb3-a3d5-44a3-8a5c-ec58dd257aad"
   },
   "outputs": [
    {
     "name": "stderr",
     "output_type": "stream",
     "text": [
      "C:\\Users\\rnand\\anaconda3\\lib\\site-packages\\seaborn\\_decorators.py:36: FutureWarning: Pass the following variables as keyword args: x, y. From version 0.12, the only valid positional argument will be `data`, and passing other arguments without an explicit keyword will result in an error or misinterpretation.\n",
      "  warnings.warn(\n"
     ]
    },
    {
     "data": {
      "text/plain": [
       "<matplotlib.collections.LineCollection at 0x2686934da60>"
      ]
     },
     "execution_count": 24,
     "metadata": {},
     "output_type": "execute_result"
    },
    {
     "data": {
      "image/png": "iVBORw0KGgoAAAANSUhEUgAAAm4AAAFzCAYAAACHCIXLAAAAOXRFWHRTb2Z0d2FyZQBNYXRwbG90bGliIHZlcnNpb24zLjMuNCwgaHR0cHM6Ly9tYXRwbG90bGliLm9yZy8QVMy6AAAACXBIWXMAAAsTAAALEwEAmpwYAAAq/ElEQVR4nO3df5Bd5X3n+ff3Qnsb9MPGrR+wlpi2skaU5Sl34o494JDIEUkkBtlmwcJ4IZB1jSgclihANjZFFrbsMi4DimbWI0B2iGycYDrGXhuGYANjmU0gHrc8PfwwgdhMG2SwWmo2I6mhd2Tf7/7Rp0W37u1Wy9LVubfv+1WlurfPc87tT586TX95nvOcJzITSZIkNb9K2QEkSZI0MxZukiRJLcLCTZIkqUVYuEmSJLUICzdJkqQWYeEmSZLUIo4vO8CxsGDBguzu7i47hiRJ0iFt3759d2YurNfWFoVbd3c3/f39ZceQJEk6pIj4yVRtDpVKkiS1CAs3SZKkFmHhJkmS1CIs3CRJklqEhZskSVKLsHCTJElqERZukiRJLcLCTZIkqUVYuEmSJLWItlg5QZKko61aTQaHR9i5Z5TF8zvp7ppDpRJlx9IsZ+EmSdJhqlaTB5/+GVf3DTC6v0pnR4WN63pYveJkizc1lEOlkiQdpsHhkQNFG8Do/ipX9w0wODxScjLNdhZuklTHypUrWblyZdkx1KR27hk9ULSNG91fZWjvaEmJ1C4s3CRJOkyL53fS2TH5T2hnR4VF8zpLSqR2YeEmSXUsWbKEJUuWlB1DTaq7aw4b1/UcKN7G73Hr7ppTcjLNdpGZjfngiDuBc4GhzHxHnfY3Al8GTmVsksQtmfmXRdtq4N8CxwFfyMzPFNvfDNwDdAODwLrM/H8PlaW3tzf7+/uPwk8lSdKY8VmlQ3tHWTTPWaU6eiJie2b21mtrZI/bVmD1NO1/CPwwM98JrARujYg3RMRxwL8H1gBvBy6KiLcXx3wceCQz3wY8UnwtSdIxV6kEyxbO5V8tW8CyhXMt2nRMNKxwy8xHgVem2wWYFxEBzC32/TnwbuBHmfl8Zv534CvAB4pjPgB8sXj/ReCDDYguSWzYsIENGzaUHUOSJinzOW6fA74JvATMAy7MzGpEvAV4ccJ+O4D3FO8XZ+bLAJn5ckQsOpaBJbWPgYGBsiNIUo0yJyf8HjAA/I9AD/C5iJgP1OtrPuwb8SJifUT0R0T/rl27jiSnJElSUyizcPsD4Gs55kfAfwVOZ6yHbemE/ZYw1isHsDMiTgEoXoem+vDM3JKZvZnZu3Dhwob8AJIkScdSmYXbC8AqgIhYDCwHnge+D7wtIt4aEW8APszYkCrF66XF+0uBbxzTxJIkSSVq2D1uEXE3Y7NFF0TEDuAGoAMgM28HPglsjYgnGRse/dPM3F0ceyXwLcYeB3JnZj5dfOxngL6I+Chjhd+HGpVfUns77bTTyo4gSTUa9hy3ZuJz3CRJUqso6zlukiRJOoos3CSpjvXr17N+/fqyY0jSJGU+x02SmtZzzz1XdgRJqmGPmyRJUouwcJMkSWoRFm6SJEktwnvcJKmOnp6esiNIUg0LN0mqY9OmTWVHkKQaDpVKkiS1CAs3Sarj4osv5uKLLy47hiRN4lCpJNWxY8eOsiNIUg173CRJklqEhZskSVKLsHCTJElqEd7jprZUrSaDwyPs3DPK4vmddHfNoVKJsmOpiZxxxhllR2hr/o5K9Vm4qe1Uq8mDT/+Mq/sGGN1fpbOjwsZ1PaxecbJ/GHTATTfdVHaEtuXvqDQ1h0rVdgaHRw78QQAY3V/l6r4BBodHSk4mCfwdlaZj4aa2s3PP6IE/CONG91cZ2jtaUiI1o/PPP5/zzz//mH2/ajV5ftc+Hv/xbp7ftY9qNY/Z9242/o5KU3OoVG1n8fxOOjsqk/4wdHZUWDSvs8RUajbDw8PH7Hs5NDiZv6PS1OxxU9vp7prDxnU9dHaMXf7jfyS7u+aUnEztyqHByfwdlaZmj5vaTqUSrF5xMqdfdRZDe0dZNM8ZayrXdEODyxbOLSlVefwdlaZm4aa2VKkEyxbObcs/imo+Dg3W8ndUqs+hUkmqY9WqVaxateqYfC+HBiXNVGTO/plLvb292d/fX3YMSZrS+ANnHRqUFBHbM7O3XptDpZLUBBwalDQTDpVKUh1r1qxhzZo1ZceQpEnscZOkOl577bWyI0hSDXvcJEmSWoSFmyRJUotoWOEWEXdGxFBEPDVF+59ExEDx76mI+EVEvDkilk/YPhAReyJiQ3HMjRHx0wlt5zQqvyRJUrNp5D1uW4HPAV+q15iZNwM3A0TEWuCPM/MV4BWgp9h+HPBT4OsTDv3zzLylYaklCTj33HPLjiBJNRpWuGXmoxHRPcPdLwLurrN9FfDjzPzJUQsmSTNw7bXXlh1BkmqUfo9bRJwIrAburdP8YWoLuisj4oliKPakhgeUJElqEqUXbsBa4O+LYdIDIuINwPuBv5mw+TbgVxgbSn0ZuHWqD42I9RHRHxH9u3btOuqhJc1uK1euZOXKlWXHkKRJmqFwq9erBrAG+EFm7hzfkJk7M/MXmVkFPg+8e6oPzcwtmdmbmb0LFy486qElSZKOtVILt4h4I/BbwDfqNNfc9xYRp0z48jyg7oxVSZKk2ahhkxMi4m5gJbAgInYANwAdAJl5e7HbecC3M3PkoGNPBH4HuPygj/1sRPQACQzWaZckSZq1Gjmr9KIZ7LOVsceGHLz9VaCrzvZLjkY2SZKkVuRapZJUx7p168qOIEk1LNwkqY6PfexjZUeQpBrNMKtUkprOq6++yquvvlp2DEmaxB43SarjnHPGlkLetm1buUEkaQJ73CRJklqEhZskSVKLsHCTJElqERZukiRJLcLJCZJUx2WXXVZ2BEmqYeEmSXVYuElqRg6VSlIdu3fvZvfu3WXHkKRJ7HGTpDouuOACwOe4SWou9rhJkiS1CAs3SZKkFmHhJkmS1CIs3CRJklqEkxMkqY4rrrii7AiSVMPCTZLquPDCC8uOIEk1HCqVpDpefPFFXnzxxbJjSNIk9rhJUh2XXHIJ4HPcJDUXe9wkSZJahIWbJElSi7BwkyRJahEWbpIkSS3CyQmSVMc111xTdgRJqmHhJkl1rF27tuwIklTDwk1tqVpNBodH2LlnlMXzO+numkOlEmXHUhN59tlnAVi+fHnJSSTpdRZuajvVavLg0z/j6r4BRvdX6eyosHFdD6tXnGzxpgMuv/xywOe4SWouTk5Q2xkcHjlQtAGM7q9ydd8Ag8MjJSeTJGl6DSvcIuLOiBiKiKemaP+TiBgo/j0VEb+IiDcXbYMR8WTR1j/hmDdHxEMR8U/F60mNyq/Za+ee0QNF27jR/VWG9o6WlEiSpJlpZI/bVmD1VI2ZeXNm9mRmD/AJ4LuZ+cqEXd5XtPdO2PZx4JHMfBvwSPG1dFgWz++ks2Pypd/ZUWHRvM6SEkmSNDMNK9wy81HglUPuOOYi4O4Z7PcB4IvF+y8CHzz8ZGp33V1z2Liu50DxNn6PW3fXnJKTSZI0vdInJ0TEiYz1zF05YXMC346IBO7IzC3F9sWZ+TJAZr4cEYuObVrNBpVKsHrFyZx+1VkM7R1l0TxnlarW9ddfX3YESapReuEGrAX+/qBh0vdm5ktFYfZQRPxj0YM3YxGxHlgPcOqppx69tJoVKpVg2cK5LFs4t+woalJnn3122REkqUYzzCr9MAcNk2bmS8XrEPB14N1F086IOAWgeB2a6kMzc0tm9mZm78KFCxsSXNLsNTAwwMDAQNkxJGmSUgu3iHgj8FvANyZsmxMR88bfA78LjM9M/SZwafH+0onHSToy1Wry/K59PP7j3Ty/ax/VapYdqVQbNmxgw4YNZceQpEkaNlQaEXcDK4EFEbEDuAHoAMjM24vdzgO+nZkTH6C1GPh6RIzn++vMfLBo+wzQFxEfBV4APtSo/FI78aHEktQaGla4ZeZFM9hnK2OPDZm47XngnVPsPwysOgrxJE0w1UOJT7/qLO8DlKQm0gz3uEkqmQ8llqTWYOEmyYcSS1KLaIbHgUgq2fhDiQ++x62dH0r86U9/uuwIklQjMmf/zLHe3t7s7+8/9I5SG6tWk8HhER9KLEkli4jtBy35eYA9bpIAH0p8sMceewyAM888s+QkkvQ6CzdJquO6664DYNu2beUGkaQJnJwgSZLUIizcJEmSWoSFmyRJUouwcJMkSWoRTk6QpDo2bdpUdgRJqmHhJkl19PT0lB1Bkmo4VCpJdTz88MM8/PDDZceQpEnscZOkOj71qU8BcPbZZ5ecRJJeZ4+bJElSi7BwkyRJahEWbpIkSS3Cwk2SJKlFODlBkuq44447yo4gSTUs3CSpjuXLl5cdQZJqOFQqSXXcd9993HfffWXHkKRJ7HGTpDpuvfVWANauXVtyEkl6nT1ukiRJLcLCTZIkqUU4VCpJko6KajUZHB5h555RFs/vpLtrDpVKlB1rVrFwkyRJR6xaTR58+mdc3TfA6P4qnR0VNq7rYfWKky3ejiILN0mq46677io7gtRSBodHDhRtAKP7q1zdN8DpV53FsoVzS043e1i4SVIdS5cuLTuC1FJ27hk9ULSNG91fZWjvqIXbUeTkBEmq45577uGee+4pO4bUMhbP76SzY3JZ0dlRYdG8zpISzU4NK9wi4s6IGIqIp6Zo/5OIGCj+PRURv4iIN0fE0oj4TkQ8ExFPR8QfTTjmxoj46YTjzmlUfknt7bbbbuO2224rO4bUMrq75rBxXc+B4m38HrfurjklJ5tdGjlUuhX4HPCleo2ZeTNwM0BErAX+ODNfiYj/AbgmM38QEfOA7RHxUGb+sDj0zzPzlgbmliRJh6lSCVavOJnTrzqLob2jLJrnrNJGaFjhlpmPRkT3DHe/CLi7OO5l4OXi/d6IeAZ4C/DDqQ+XJEllq1SCZQvnek9bA5V+j1tEnAisBu6t09YN/CrwvQmbr4yIJ4qh2JOOTUpJkqTylV64AWuBv8/MVyZujIi5jBVzGzJzT7H5NuBXgB7GeuVunepDI2J9RPRHRP+uXbsaElySJOlYaobHgXyYYph0XER0MFa0/VVmfm18e2bunLDP54H7p/rQzNwCbAHo7e3No5xZ0iz31a9+tewIklSj1MItIt4I/BZw8YRtAfwF8Exmbjxo/1OKe+AAzgPqzliVpCO1YMGCsiNIUo2GFW4RcTewElgQETuAG4AOgMy8vdjtPODbmTky4dD3ApcAT0bEQLHtusx8APhsRPQACQwClzcqv6T2tnXrVgAuu+yyUnNI0kSROftHEXt7e7O/v7/sGJJayMqVKwHYtm1bqTkktZ+I2J6ZvfXammFygiRJkmbAwk2SJKlFWLhJkiS1CAs3SZKkFtEMz3GTpKbzwAMPlB1BkmpYuElSHSeeeGLZESSphkOlklTH5s2b2bx5c9kxJGkSCzdJqqOvr4++vr6yY0jSJBZukiRJLcLCTZIkqUXMaHJCRLwDeDvQOb4tM7/UqFCSJEmqdcjCLSJuYGyx+LcDDwBrgL8DLNwkSZKOoZn0uF0AvBP4z5n5BxGxGPhCY2NJUrlcXF5SM5pJ4fZaZlYj4ucRMR8YApY1OJckSTpC1WoyODzCzj2jLJ7fSXfXHCqVKDuWjsBMCrf+iHgT8HlgO7AP+E+NDCVJZbvlllsAuPbaa0tOIv1yqtXkwad/xtV9A4zur9LZUWHjuh5WrzjZ4q2FTTurNCICuCkz/zkzbwd+B7g0M//gmKSTpJLcf//93H///WXHkH5pg8MjB4o2gNH9Va7uG2BweKTkZDoS0xZumZnA/z3h68HMfKLRoSRJ0pHZuWf0QNE2bnR/laG9oyUl0tEwk+e4/UNE/HrDk0iSpKNm8fxOOjsm/5nv7KiwaF7nFEeoFcykcHsf8HhE/DginoiIJyPCXjdJkppYd9ccNq7rOVC8jd/j1t01p+RkOhIzmZywpuEpJKnJnHDCCWVHkI5IpRKsXnEyp191FkN7R1k0z1mls8FMCrdseApJajJ/+7d/W3YE6YhVKsGyhXNZtnBu2VF0lMykcPsPjBVvwdiSV28FngVWNDCXJEmSDnLIwi0z/+XEryPi14DLG5ZIkprAJz/5SQD+7M/+rOQkkvS6mUxOmCQzfwA4y1TSrPbII4/wyCOPlB1DkiaZySLzV0/4sgL8GrCrYYkkSZJU10zucZs34f3PGbvn7d7GxJEkSdJUZlK4/TAz/2bihoj4EPA3U+wvSZKkBpjJPW6fmOE2SZo1urq66OrqKjuGJE0yZY9bRKwBzgHeEhH/bkLTfMaGTDXBypUra7atW7eOj33sY7z66qucc845Ne2XXXYZl112Gbt37+aCCy6oab/iiiu48MILefHFF7nkkktq2q+55hrWrl3Ls88+y+WX1070vf766zn77LMZGBhgw4YNNe2f/vSnOfPMM3nssce47rrrato3bdpET08PDz/8MJ/61Kdq2u+44w6WL1/Offfdx6233lrTftddd7F06VLuuecebrvttpr2r371qyxYsICtW7eydevWmvYHHniAE088kc2bN9PX11fTvm3bNgBuueWWmsXATzjhhAPP4frkJz9Zc5N5V1cX9947NuL/iU98gscff3xS+5IlS/jyl78MwIYNGxgYGJjUftppp7FlyxYA1q9fz3PPPTepvaenh02bNgFw8cUXs2PHjkntZ5xxBjfddBMA559/PsPDw5PaV61adWA245o1a3jttdcmtZ977rlce+21gNdeo669e++9l82bN9c9v157Xnv+d699r72yTdfj9hKwHRgtXsf/fRP4vUN9cETcGRFDEfHUFO1/EhEDxb+nIuIXEfHmom11RDwbET+KiI9POObNEfFQRPxT8XrSzH9USZKk1haZ0y+MEBHHZ+Zh97BFxG8C+4AvZeY7DrHvWuCPM/O3I+I44Dngd4AdwPeBizLzhxHxWeCVzPxMUdCdlJl/eqgsvb292d/ff7g/gqQ29olPjN0RMt5DIEnHSkRsz8zeem3TDZU+SbHcVUTNumaZme+c7ptm5qMR0T3DjBcBdxfv3w38KDOfL773V4APAD8sXlcW+30R2AYcsnCTpMN18DCSJDWD6WaVnltnWwBLgNobA35JEXEisBq4stj0FuDFCbvsAN5TvF+cmS8DZObLEbHoaOWQJElqdlMWbpn5k/H3EdEDfARYB/xXju5z3NYCf5+Zr4x/u3pxDvdDI2I9sB7g1FNP/eXTSZIkNYnphkpPAz7M2DDmMHAPY/fEve8oZ/gwrw+TwlgP29IJXy9hbKIEwM6IOKXobTsFGJrqQzNzC7AFxu5xO7qRJUmSjr3pZpX+I7AKWJuZv5GZ/xfwi6P5zSPijcBvAd+YsPn7wNsi4q0R8QbGCrtvFm3fBC4t3l960HGSdNQsWbKEJUuWlB1DkiaZ7h638xkrmr4TEQ8CX6H+MGZdEXE3YxMJFkTEDuAGoAMgM28vdjsP+HZmjowfl5k/j4grgW8BxwF3ZubTRfNngL6I+CjwAvChmeaRpMMx/jwrSWomM3kcyBzgg4wNmf42Y7M5v56Z3254uqPEx4FIkqRWMd3jQA655FVmjmTmX2XmuYzdbzYAfHz6oySptW3YsKHuk/clqUwzWWT+gGLm5x3FPwHVajI4PMLOPaMsnt9Jd9ccKpUZjyhLU/LaKtfBy/1IUjM4rMJNk1WryYNP/4yr+wYY3V+ls6PCxnU9rF5xsn9gdUS8tiRJ9RxyqFRTGxweOfCHFWB0f5Wr+wYYHB45xJHS9Ly2JEn1WLgdgZ17Rg/8YR03ur/K0N7RkhJptvDakiTV41DpEVg8v5POjsqkP7CdHRUWzessMZVmA6+t8p122mllR5CkGva4HYHurjlsXNdDZ8fYaRy/D6m7a07JydTqvLbKt2XLFrZs2VJ2DEma5JDPcZsNGvkct/GZf0N7R1k0z5l/Onq8tiSpPU33HDeHSo9QpRIsWziXZQvnlh1Fs4zXVrnWr18PYK+bpKZi4SZJdTz33HNlR5CkGt7jJkmS1CIs3CRJklqEhZskSVKL8B43Saqjp6en7AhSW3Bd5sNj4SZJdWzatKnsCNKs57rMh8+hUkmSVArXZT58Fm6SVMfFF1/MxRdfXHYMaVZzXebD51CpJNWxY8eOsiNIs57rMh8+e9wkSVIpXJf58NnjJkmSSlGpBKtXnMzpV53luswzZOEmSZJK47rMh8fCTZLqOOOMM8qOIEk1LNwkqY6bbrqp7AiSVMPJCZIkSS3CHje1NJdKUaOcf/75ANx7770lJ5Gk11m4qWW5VIoaaXh4uOwIklTDoVK1LJdKkSS1Gws3tSyXSpEktRsLN7Ws8aVSJnKpFEnSbNawwi0i7oyIoYh4app9VkbEQEQ8HRHfLbYtL7aN/9sTERuKthsj4qcT2s5pVH41P5dKUSOtWrWKVatWlR1DkiaJzGzMB0f8JrAP+FJmvqNO+5uAx4DVmflCRCzKzKGD9jkO+Cnwnsz8SUTcCOzLzFsOJ0tvb2/29/f/kj+Jmtn4rFKXSpEkzRYRsT0ze+u1NWxWaWY+GhHd0+zyEeBrmflCsf9QnX1WAT/OzJ80IKJmAZdKkSS1kzLvcTsNOCkitkXE9oj4/Tr7fBi4+6BtV0bEE8VQ7EmNjympHa1Zs4Y1a9aUHUOSJimzcDseeBfwr4HfA/4sIk4bb4yINwDvB/5mwjG3Ab8C9AAvA7dO9eERsT4i+iOif9euXUc/vZpCtZo8v2sfj/94N8/v2ke12pihf7Wf1157jddee63sGJI0SZkP4N0B7M7MEWAkIh4F3gk8V7SvAX6QmTvHD5j4PiI+D9w/1Ydn5hZgC4zd43b046tsPoBXktRuyuxx+wZwVkQcHxEnAu8BnpnQfhEHDZNGxCkTvjwPmHLGqmY/H8ArSWo3Detxi4i7gZXAgojYAdwAdABk5u2Z+UxEPAg8AVSBL2TmU8WxJwK/A1x+0Md+NiJ6gAQG67SrjUz3AF4nK0hTc41fqXU1clbpRTPY52bg5jrbXwW66my/5Oik02ww/gDeicWbD+DV0XLuueeWHaEhvMVAam0Ne45bM/E5brOTf4Ckw/f8rn2c8+/+n5r/4XngqrPsqZaaRCnPcZMarVIJVq84mdOvOssH8Eoz5C0GUmuzcFNL8wG8apSVK1cCsG3btlJzHG3eYiC1NheZl6Q24hq/Umuzx02S2oi3GGgmnHncvCzcJKnNeIuBpuPEr+bmUKkkSTrAh5s3N3vcJKmOdevWlR1BKoUzj5ubhZsk1fGxj32s7AhSKZx53NwcKpWaVLWaPL9rH4//eDfP79pHtTr7H5bdTF599VVeffXVsmNIx5wzj5ubPW5SE/Lm4PKdc845wOx7jpt0KM48bm72uElNyJuDJZVpfObxv1q2gGUL51q0NRELN6kJTXdzsCSpfVm4SU1o/Obgibw5WJJk4SY1IW8OliTV4+QEqQl5c3D5LrvssrIjSFKNyJz9jxjo7e3N/v7+smNIkiQdUkRsz8zeem0OlUpSHbt372b37t1lx5CkSRwqlaQ6LrjgAsDnuElqLhZubaBaTQaHR9i5Z5TF871XSpKkVmXhNsv5BH5JkmYP73Gb5XwCvyRJs4eF2yznE/glSZo9HCqd5cafwD+xePMJ/NKhXXHFFWVHkKQaFm6z3PgT+A++x80n8EvTu/DCC8uOIEk1LNxmOZ/AL/1yXnzxRQCWLl1achJJep2FWxuoVIJlC+eybOHcsqNILeOSSy4BfI6bpObi5ARJkqQWYeEmSZLUIhpWuEXEnRExFBFPTbPPyogYiIinI+K7E7YPRsSTRVv/hO1vjoiHIuKfiteTGpVfkiSp2TSyx20rsHqqxoh4E7AZeH9mrgA+dNAu78vMnszsnbDt48Ajmfk24JHia0mSpLbQsMkJmfloRHRPs8tHgK9l5gvF/kMz+NgPACuL918EtgF/+sunlKT6rrnmmrIjSFKNMmeVngZ0RMQ2YB7wbzPzS0VbAt+OiATuyMwtxfbFmfkyQGa+HBGLjnVoSe1h7dq1ZUeQpBplFm7HA+8CVgEnAI9HxD9k5nPAezPzpaIweygi/jEzHz2cD4+I9cB6gFNPPfUoR5c02z377LMALF++vOQkkvS6MmeV7gAezMyRzNwNPAq8EyAzXypeh4CvA+8ujtkZEacAFK9TDq9m5pbM7M3M3oULFzbwx5A0G11++eVcfvnlZceQpEnKLNy+AZwVEcdHxInAe4BnImJORMwDiIg5wO8C4zNTvwlcWry/tPgMSZKkttCwodKIuJuxiQQLImIHcAPQAZCZt2fmMxHxIPAEUAW+kJlPRcQy4OsRMZ7vrzPzweJjPwP0RcRHgReonYkqSZI0azVyVulFM9jnZuDmg7Y9TzFkWmf/YcbuiZMkSWo7rpwgSZLUIlxkXpLquP7668uOIEk1LNwkqY6zzz677AiSVMOhUkmqY2BggIGBgbJjSNIk9rhJUh0bNmwAYNu2baXmkKSJ7HGTJElqERZukiRJLcLCTZIkqUV4j5vUYNVqMjg8ws49oyye30l31xwqlSg7liSpBVm4SQ1UrSYPPv0zru4bYHR/lc6OChvX9bB6xckWb03u05/+dNkRJKmGQ6VSAw0Ojxwo2gBG91e5um+AweGRkpPpUM4880zOPPPMsmNI0iQWblID7dwzeqBoGze6v8rQ3tGSEmmmHnvsMR577LGyY0jSJA6VSg20eH4nnR2VScVbZ0eFRfM6S0ylmbjuuusAn+MmqbnY4yY1UHfXHDau66GzY+xXbfwet+6uOSUnkyS1InvcpAaqVILVK07m9KvOYmjvKIvmOatUkvTLs3CTGqxSCZYtnMuyhXPLjiJJanEOlUqSJLUIe9wkqY5NmzaVHUGSali4SVIdPT09ZUeQpBoOlUpSHQ8//DAPP/xw2TEkaRJ73CSpjk996lMAnH322SUnkaTX2eMmSZLUIizcJEmSWoSFmyRJUouwcJMkSWoRTk6QpDruuOOOsiNIUg0LN0mqY/ny5WVHkKQaDpVKUh333Xcf9913X9kxJGkSe9wkqY5bb70VgLVr15acRJJe17Aet4i4MyKGIuKpafZZGREDEfF0RHy32LY0Ir4TEc8U2/9owv43RsRPi2MGIuKcRuWXJElqNo3scdsKfA74Ur3GiHgTsBlYnZkvRMSiounnwDWZ+YOImAdsj4iHMvOHRfufZ+YtDcwtSZLUlBrW45aZjwKvTLPLR4CvZeYLxf5DxevLmfmD4v1e4BngLY3KKUmS1CrKnJxwGnBSRGyLiO0R8fsH7xAR3cCvAt+bsPnKiHiiGIo96RhllSRJKl2ZkxOOB94FrAJOAB6PiH/IzOcAImIucC+wITP3FMfcBnwSyOL1VuB/rffhEbEeWA9w6qmnNvDHkDQb3XXXXWVHkKQaZRZuO4DdmTkCjETEo8A7geciooOxou2vMvNr4wdk5s7x9xHxeeD+qT48M7cAWwB6e3uzMT+CpNlq6dKlZUeQpBplDpV+AzgrIo6PiBOB9wDPREQAfwE8k5kbJx4QEadM+PI8YMoZq5J0JO655x7uueeesmNI0iQN63GLiLuBlcCCiNgB3AB0AGTm7Zn5TEQ8CDwBVIEvZOZTEfEbwCXAkxExUHzcdZn5APDZiOhhbKh0ELi8UfkltbfbbrsNgAsvvLDkJJL0uoYVbpl50Qz2uRm4+aBtfwfEFPtfcnTSSZIktR6XvJIkSWoRFm6SJEktwsJNkiSpRbjIvCTV8dWvfrXsCJJUw8JNkupYsGBB2REkqYaFmyTVceedf8nukf+Ps865gMXzO+numkOlUnfCuyQdMxZuknSQajXZdNvn+dHQPhb9dCmdHRU2ruth9YqTLd4klcrJCZJ0kMHhEX40tI9qjq2WN7q/ytV9AwwOj5ScTFK7s3CTpIPs3DN6oGgbN7q/ytDe0ZISSdIYCzdJOsji+Z1UYvKQaGdHhUXzOktKJEljLNwk6SDdXXP4nxbNPVC8jd/j1t01p+RkktqdkxMk6SCVSvDYdx7iJ8Mj7P3FWE+bs0olNQMLN0mqY+7cOayYaw+bpObiUKkk1bF582Y2b95cdgxJmsTCTZLq6Ovro6+vr+wYkjSJhZskSVKL8B43SZKkQ6hWk8HhEXbuGS11GTwLN0mSpGlUq8mDT/+Mq/sGGN1fLXUZPIdKJUmSpjE4PHKgaINyl8Gzx02S6ti2bVvZESQ1iZ17Rg8UbePGl8FbtnDuMc1ij5skSdI0Fs/vpLNjcslU1jJ4Fm6SJEnT6O6aw8Z1PQeKtzKXwXOoVJIkaRqVSrB6xcmcftVZDO0dLXUZPAs3SZKkQ6hUgmUL5x7ze9pqcpT63SVJkjRjFm6SJEktwsJNkiSpRVi4SZIktQgLN0mSpBbRsMItIu6MiKGIeGqafVZGxEBEPB0R352wfXVEPBsRP4qIj0/Y/uaIeCgi/ql4PalR+SVJkppNI3vctgKrp2qMiDcBm4H3Z+YK4EPF9uOAfw+sAd4OXBQRby8O+zjwSGa+DXik+FqSJKktNKxwy8xHgVem2eUjwNcy84Vi/6Fi+7uBH2Xm85n534GvAB8o2j4AfLF4/0Xgg0c7tyRJUrMq8x6304CTImJbRGyPiN8vtr8FeHHCfjuKbQCLM/NlgOJ10TFLK0mSVLIyV044HngXsAo4AXg8Iv4BqLd+RB7uh0fEemA9wKmnnnoEMSVJkppDmYXbDmB3Zo4AIxHxKPDOYvvSCfstAV4q3u+MiFMy8+WIOAUYYgqZuQXYAhARuyLiJ4eRbQGw+zD2n+08H7U8J5N5Pmp5TibzfNTynEzm+Xjdv5iqoczC7RvA5yLieOANwHuAPwf+EXhbRLwV+CnwYcbuhwP4JnAp8Jni9Rsz+UaZufBwgkVEf2b2Hs4xs5nno5bnZDLPRy3PyWSej1qek8k8HzPTsMItIu4GVgILImIHcAPQAZCZt2fmMxHxIPAEUAW+kJlPFcdeCXwLOA64MzOfLj72M0BfRHwUeIFiJqokSVI7aFjhlpkXzWCfm4Gb62x/AHigzvZhxu6JkyRJajuunFDflrIDNBnPRy3PyWSej1qek8k8H7U8J5N5PmYgMg97wqYkSZJKYI+bJElSi2jrwi0ilkbEdyLimWK91D8qtrftmqjTnJMbI+KnxdqyAxFxTtlZj4WI6IyI/xQR/6U4H/9nsb2dr5GpzklbXiPjIuK4iPjPEXF/8XXbXiNQ93y0+/UxGBFPFj97f7Gt3a+Reuekra+TmWjrodLiWXCnZOYPImIesJ2xZbQuA17JzM8Ui9yflJl/Wl7SY2eac7IO2JeZt5SZ71iLiADmZOa+iOgA/g74I+B/pn2vkanOyWra8BoZFxFXA73A/Mw8NyI+S5teI1D3fNxIe18fg0BvZu6esK3dr5FBas/JjbTxdTITbd3jlpkvZ+YPivd7gWcYW16rbddEneactKUcs6/4sqP4l7T3NTLVOWlbEbEE+NfAFyZsbttrZIrzoVpte43ol9fWhdtEEdEN/CrwPVwTFag5JwBXRsQTEXFnO3XpF0M+A4yt1PFQZrb9NTLFOYE2vUaATcD/ztgzKce18zWyidrzAe17fcDY/9x8O8bW5l5fbGvnawTqnxNo7+vkkCzcgIiYC9wLbMjMPWXnaQZ1zsltwK8APcDLwK3lpTu2MvMXmdnD2PJr746Id5QcqXRTnJO2vEYi4lxgKDO3l52lGUxzPtry+pjgvZn5a8Aa4A8j4jfLDtQE6p2Tdr9ODqntC7fiHp17gb/KzK8Vm3cW93qN3/M15Zqos1G9c5KZO4s/1lXg88C7y8xYhsz8Z2AbY/dytfU1Mm7iOWnja+S9wPuL+3W+Avx2RHyZ9r1G6p6PNr4+AMjMl4rXIeDrjP387XqNAPXPSbtfJzPR1oVbcZP1XwDPZObGCU3ja6LCYayJOhtMdU7G/+NSOA946lhnK0NELIyINxXvTwDOZmw93Xa+Ruqek3a9RjLzE5m5JDO7GVtb+T9m5sW06TUy1flo1+sDICLmFJO9iIg5wO8y9vO35TUCU5+Tdr5OZqrMReabwXuBS4Ani/t1AK6jvddEneqcXBQRPYzdkzAIXF5GuBKcAnwxIo5j7H90+jLz/oh4nPa9RqY6J3e16TUylXb+70g9n23j62Mx8PWx/y/meOCvM/PBiPg+7XuNTHVO/O/IIbT140AkSZJaSVsPlUqSJLUSCzdJkqQWYeEmSZLUIizcJEmSWoSFmyRJUouwcJMkICL2TbF9a0RccBif0x0RPntKUkNYuEmSJLUICzdJmiDGfC4ifhgR/4EJC39HxP8REd+PiKciYkux0ggR8a6I+C/Fg5n/cML+x0XEzcUxT0SEDxOVdEQs3CRpsvOA5cC/BP4NcOaEts9l5q9n5juAE4Bzi+1/CVyVmWcc9FkfBf5bZv468OvAv4mItzY0vaRZzcJNkib7TeDuYqHrl4D/OKHtfRHxvYh4EvhtYEVEvBF4U2Z+t9jnrgn7/y7w+8Xycd8DuoC3NfwnkDRrtftapZJUT81agBHRCWwGejPzxYi4EegEot7+44cB/1tmfqtRQSW1F3vcJGmyR4EPF/ennQK8r9jeWbzujoi5wAUAmfnPwH+LiN8o2v+XCZ/1LeCKiOgAiIjTImJOo38ASbOXPW6SNNnXGRsGfRJ4DvgujBVoEfH5Yvsg8P0Jx/wBcGdEvMpYsTbuC0A38INiIsMu4IONjS9pNovMqXr4JUmS1EwcKpUkSWoRFm6SJEktwsJNkiSpRVi4SZIktQgLN0mSpBZh4SZJktQiLNwkSZJahIWbJElSi/j/AZspzgINH0WdAAAAAElFTkSuQmCC\n",
      "text/plain": [
       "<Figure size 720x432 with 1 Axes>"
      ]
     },
     "metadata": {
      "needs_background": "light"
     },
     "output_type": "display_data"
    }
   ],
   "source": [
    "x = amostra.Idade\n",
    "y = amostra.Altura\n",
    "\n",
    "ax = sns.scatterplot(x, y)\n",
    "ax.figure.set_size_inches(10, 6)\n",
    "ax.hlines(y = y.mean(), xmin = x.min(), xmax = x.max(), colors='black', linestyles='dashed')\n",
    "ax.vlines(x = x.mean(), ymin = y.min(), ymax = y.max(), colors='black', linestyles='dashed')"
   ]
  },
  {
   "cell_type": "markdown",
   "metadata": {
    "colab_type": "text",
    "id": "zgSmQYrHcakb"
   },
   "source": [
    "### <font color='red'>Observação Importante:</font>\n",
    "> Pelo que foi apresentado pode parecer que valores elevados, tanto positivos quanto negativos, para a covariância indicam relações lineares fortes entre as variáveis envolvidas. No entanto, um problema quando se usa a covariância como uma medida da intensidade da relação linear é que o valor da covariância depende das unidades de medida para x e y.\n",
    "> \n",
    "> Uma medida da relação entre duas variáveis que não é afetada pelas unidades de medida para x e y é o coeficiente de correlação que veremos no próximo tópico."
   ]
  },
  {
   "cell_type": "markdown",
   "metadata": {
    "colab_type": "text",
    "id": "oPAxUkyQcakb"
   },
   "source": [
    "## <font color=green>3.3 Coeficiente de correlação de Pearson</font>\n",
    "***"
   ]
  },
  {
   "cell_type": "markdown",
   "metadata": {
    "colab_type": "text",
    "id": "6TYCLh0Hcakf"
   },
   "source": [
    "É obtido dividindo-se a covariância da população ou amostra pelo produto do desvio padrão populacional ou amostral de x pelo desvio padrão populacional ou amostral de y.\n",
    "\n",
    "O coeficiente de correlação varia de -1 a +1. Valores que se aproximam de -1 ou +1 indicam uma relação linear forte. Quanto mais próxima a correlação estiver de zero, mais fraca será a relação.\n",
    "\n",
    "Um ponto importante é que o coeficiente de correlação é uma medida de associação linear e não necessariamente de causação. Uma correlação alta entre duas variáveis não significa, necessariamente, que variações em uma delas provocará alterações na outra."
   ]
  },
  {
   "cell_type": "markdown",
   "metadata": {
    "colab_type": "text",
    "id": "OgecrWGdcakf"
   },
   "source": [
    "### Coeficiente de correlação de Pearson - dados populacionais\n",
    "\n",
    "# $$\\rho_{xy} = \\frac{\\sigma_{xy}}{\\sigma_{x}\\sigma_{y}}$$\n",
    "\n",
    "### Coeficiente de correlação de Pearson - dados amostrais\n",
    "\n",
    "# $$r_{xy} = \\frac{s_{xy}}{s_{x}s_{y}}$$\n",
    "\n",
    "Onde\n",
    "\n",
    "$\\sigma_{xy}$ = covariância populacional entre x e y\n",
    "\n",
    "$s_{xy}$ = covariância amostral entre x e y\n",
    "\n",
    "$\\sigma_{x}$ e $\\sigma_{y}$ = desvios padrão populacionais de x e y, respectivamente\n",
    "\n",
    "$s_{x}$ e $s_{y}$ = desvios padrão amostrais de x e y, respectivamente"
   ]
  },
  {
   "cell_type": "markdown",
   "metadata": {
    "colab_type": "text",
    "id": "jPk2i26acakg"
   },
   "source": [
    "### Obtendo $s_{xy}$"
   ]
  },
  {
   "cell_type": "code",
   "execution_count": 25,
   "metadata": {
    "colab": {
     "base_uri": "https://localhost:8080/",
     "height": 111
    },
    "colab_type": "code",
    "id": "lc6MNkgQcakg",
    "outputId": "02da9ed9-ebf3-4e90-b546-c300d7503b65"
   },
   "outputs": [
    {
     "data": {
      "text/html": [
       "<div>\n",
       "<style scoped>\n",
       "    .dataframe tbody tr th:only-of-type {\n",
       "        vertical-align: middle;\n",
       "    }\n",
       "\n",
       "    .dataframe tbody tr th {\n",
       "        vertical-align: top;\n",
       "    }\n",
       "\n",
       "    .dataframe thead th {\n",
       "        text-align: right;\n",
       "    }\n",
       "</style>\n",
       "<table border=\"1\" class=\"dataframe\">\n",
       "  <thead>\n",
       "    <tr style=\"text-align: right;\">\n",
       "      <th></th>\n",
       "      <th>Altura</th>\n",
       "      <th>Renda</th>\n",
       "    </tr>\n",
       "  </thead>\n",
       "  <tbody>\n",
       "    <tr>\n",
       "      <th>Altura</th>\n",
       "      <td>0.006355</td>\n",
       "      <td>-1.078964e+00</td>\n",
       "    </tr>\n",
       "    <tr>\n",
       "      <th>Renda</th>\n",
       "      <td>-1.078964</td>\n",
       "      <td>1.104491e+07</td>\n",
       "    </tr>\n",
       "  </tbody>\n",
       "</table>\n",
       "</div>"
      ],
      "text/plain": [
       "          Altura         Renda\n",
       "Altura  0.006355 -1.078964e+00\n",
       "Renda  -1.078964  1.104491e+07"
      ]
     },
     "execution_count": 25,
     "metadata": {},
     "output_type": "execute_result"
    }
   ],
   "source": [
    "s_xy = dados[['Altura', 'Renda']].cov()\n",
    "s_xy"
   ]
  },
  {
   "cell_type": "code",
   "execution_count": 26,
   "metadata": {
    "colab": {
     "base_uri": "https://localhost:8080/",
     "height": 35
    },
    "colab_type": "code",
    "id": "_8KNoxdhcakj",
    "outputId": "57108a7a-db55-49a3-e554-2b51c94f58b7"
   },
   "outputs": [
    {
     "data": {
      "text/plain": [
       "-1.0789639314252708"
      ]
     },
     "execution_count": 26,
     "metadata": {},
     "output_type": "execute_result"
    }
   ],
   "source": [
    "s_xy= s_xy.Altura.loc['Renda']\n",
    "s_xy"
   ]
  },
  {
   "cell_type": "markdown",
   "metadata": {
    "colab_type": "text",
    "id": "sDybJtCMcakl"
   },
   "source": [
    "### Obtendo $s_x$ e $s_y$"
   ]
  },
  {
   "cell_type": "code",
   "execution_count": 27,
   "metadata": {
    "colab": {},
    "colab_type": "code",
    "id": "LTEEbMIzcakl"
   },
   "outputs": [],
   "source": [
    "s_x = dados.Altura.std()\n",
    "s_y = dados.Renda.std()"
   ]
  },
  {
   "cell_type": "markdown",
   "metadata": {
    "colab_type": "text",
    "id": "VVpQ5QcCcakm"
   },
   "source": [
    "### Obtendo o coeficiente de correlação $r_{xy}$"
   ]
  },
  {
   "cell_type": "code",
   "execution_count": 28,
   "metadata": {
    "colab": {
     "base_uri": "https://localhost:8080/",
     "height": 35
    },
    "colab_type": "code",
    "id": "TuPWxVgccakq",
    "outputId": "76d8e637-5a9c-4362-f069-fd7ce8a5fe03"
   },
   "outputs": [
    {
     "data": {
      "text/plain": [
       "-0.004072608143399509"
      ]
     },
     "execution_count": 28,
     "metadata": {},
     "output_type": "execute_result"
    }
   ],
   "source": [
    "r_xy = s_xy / ( s_x * s_y)\n",
    "r_xy"
   ]
  },
  {
   "cell_type": "markdown",
   "metadata": {
    "colab_type": "text",
    "id": "miyTUNqpcakr"
   },
   "source": [
    "### Obtendo uma matriz de correlação com o Pandas"
   ]
  },
  {
   "cell_type": "code",
   "execution_count": 29,
   "metadata": {
    "colab": {
     "base_uri": "https://localhost:8080/",
     "height": 111
    },
    "colab_type": "code",
    "id": "SjQUE6wVcakt",
    "outputId": "4ccd6e52-c99a-4d79-d582-17ce1dc07b53"
   },
   "outputs": [
    {
     "data": {
      "text/html": [
       "<div>\n",
       "<style scoped>\n",
       "    .dataframe tbody tr th:only-of-type {\n",
       "        vertical-align: middle;\n",
       "    }\n",
       "\n",
       "    .dataframe tbody tr th {\n",
       "        vertical-align: top;\n",
       "    }\n",
       "\n",
       "    .dataframe thead th {\n",
       "        text-align: right;\n",
       "    }\n",
       "</style>\n",
       "<table border=\"1\" class=\"dataframe\">\n",
       "  <thead>\n",
       "    <tr style=\"text-align: right;\">\n",
       "      <th></th>\n",
       "      <th>Altura</th>\n",
       "      <th>Renda</th>\n",
       "    </tr>\n",
       "  </thead>\n",
       "  <tbody>\n",
       "    <tr>\n",
       "      <th>Altura</th>\n",
       "      <td>1.000000</td>\n",
       "      <td>-0.004073</td>\n",
       "    </tr>\n",
       "    <tr>\n",
       "      <th>Renda</th>\n",
       "      <td>-0.004073</td>\n",
       "      <td>1.000000</td>\n",
       "    </tr>\n",
       "  </tbody>\n",
       "</table>\n",
       "</div>"
      ],
      "text/plain": [
       "          Altura     Renda\n",
       "Altura  1.000000 -0.004073\n",
       "Renda  -0.004073  1.000000"
      ]
     },
     "execution_count": 29,
     "metadata": {},
     "output_type": "execute_result"
    }
   ],
   "source": [
    "dados[['Altura', 'Renda']].corr()"
   ]
  },
  {
   "cell_type": "code",
   "execution_count": 30,
   "metadata": {
    "colab": {
     "base_uri": "https://localhost:8080/",
     "height": 111
    },
    "colab_type": "code",
    "id": "r-Iasce4cakv",
    "outputId": "83ae245a-9895-4fec-f37c-627c77250369"
   },
   "outputs": [
    {
     "data": {
      "text/html": [
       "<div>\n",
       "<style scoped>\n",
       "    .dataframe tbody tr th:only-of-type {\n",
       "        vertical-align: middle;\n",
       "    }\n",
       "\n",
       "    .dataframe tbody tr th {\n",
       "        vertical-align: top;\n",
       "    }\n",
       "\n",
       "    .dataframe thead th {\n",
       "        text-align: right;\n",
       "    }\n",
       "</style>\n",
       "<table border=\"1\" class=\"dataframe\">\n",
       "  <thead>\n",
       "    <tr style=\"text-align: right;\">\n",
       "      <th></th>\n",
       "      <th>Y</th>\n",
       "      <th>X</th>\n",
       "    </tr>\n",
       "  </thead>\n",
       "  <tbody>\n",
       "    <tr>\n",
       "      <th>Y</th>\n",
       "      <td>1.000000</td>\n",
       "      <td>0.984835</td>\n",
       "    </tr>\n",
       "    <tr>\n",
       "      <th>X</th>\n",
       "      <td>0.984835</td>\n",
       "      <td>1.000000</td>\n",
       "    </tr>\n",
       "  </tbody>\n",
       "</table>\n",
       "</div>"
      ],
      "text/plain": [
       "          Y         X\n",
       "Y  1.000000  0.984835\n",
       "X  0.984835  1.000000"
      ]
     },
     "execution_count": 30,
     "metadata": {},
     "output_type": "execute_result"
    }
   ],
   "source": [
    "dataset[['Y', 'X']].corr()"
   ]
  },
  {
   "cell_type": "code",
   "execution_count": 31,
   "metadata": {
    "colab": {
     "base_uri": "https://localhost:8080/",
     "height": 410
    },
    "colab_type": "code",
    "id": "0Zddu4ajcakx",
    "outputId": "283f8695-7440-439b-f7ad-0da9c0514f2e"
   },
   "outputs": [
    {
     "name": "stderr",
     "output_type": "stream",
     "text": [
      "C:\\Users\\rnand\\anaconda3\\lib\\site-packages\\seaborn\\_decorators.py:36: FutureWarning: Pass the following variables as keyword args: x, y. From version 0.12, the only valid positional argument will be `data`, and passing other arguments without an explicit keyword will result in an error or misinterpretation.\n",
      "  warnings.warn(\n"
     ]
    },
    {
     "data": {
      "text/plain": [
       "<matplotlib.collections.LineCollection at 0x268693a0880>"
      ]
     },
     "execution_count": 31,
     "metadata": {},
     "output_type": "execute_result"
    },
    {
     "data": {
      "image/png": "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\n",
      "text/plain": [
       "<Figure size 720x432 with 1 Axes>"
      ]
     },
     "metadata": {
      "needs_background": "light"
     },
     "output_type": "display_data"
    }
   ],
   "source": [
    "x = amostra.Renda\n",
    "y = amostra.Altura\n",
    "\n",
    "ax = sns.scatterplot(x, y)\n",
    "ax.figure.set_size_inches(10, 6)\n",
    "ax.hlines(y = y.mean(), xmin = x.min(), xmax = x.max(), colors='black', linestyles='dashed')\n",
    "ax.vlines(x = x.mean(), ymin = y.min(), ymax = y.max(), colors='black', linestyles='dashed')"
   ]
  },
  {
   "cell_type": "code",
   "execution_count": 32,
   "metadata": {
    "colab": {
     "base_uri": "https://localhost:8080/",
     "height": 410
    },
    "colab_type": "code",
    "id": "iMNkYpnhcak0",
    "outputId": "0ac13998-74b4-4da5-e939-54dcc577a52e"
   },
   "outputs": [
    {
     "name": "stderr",
     "output_type": "stream",
     "text": [
      "C:\\Users\\rnand\\anaconda3\\lib\\site-packages\\seaborn\\_decorators.py:36: FutureWarning: Pass the following variables as keyword args: x, y. From version 0.12, the only valid positional argument will be `data`, and passing other arguments without an explicit keyword will result in an error or misinterpretation.\n",
      "  warnings.warn(\n"
     ]
    },
    {
     "data": {
      "text/plain": [
       "<matplotlib.collections.LineCollection at 0x2686940d3d0>"
      ]
     },
     "execution_count": 32,
     "metadata": {},
     "output_type": "execute_result"
    },
    {
     "data": {
      "image/png": "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\n",
      "text/plain": [
       "<Figure size 720x432 with 1 Axes>"
      ]
     },
     "metadata": {
      "needs_background": "light"
     },
     "output_type": "display_data"
    }
   ],
   "source": [
    "x = dataset.Y\n",
    "y = dataset.X\n",
    "\n",
    "ax = sns.scatterplot(x, y)\n",
    "ax.figure.set_size_inches(10, 6)\n",
    "ax.hlines(y = y.mean(), xmin = x.min(), xmax = x.max(), colors='black', linestyles='dashed')\n",
    "ax.vlines(x = x.mean(), ymin = y.min(), ymax = y.max(), colors='black', linestyles='dashed')"
   ]
  },
  {
   "cell_type": "markdown",
   "metadata": {
    "colab_type": "text",
    "id": "HSF3lXxzcak3"
   },
   "source": [
    "---"
   ]
  },
  {
   "cell_type": "markdown",
   "metadata": {
    "colab_type": "text",
    "id": "glWc43l2hLnL"
   },
   "source": [
    "# <font color=green>4 REGRESSÃO LINEAR</font>\n",
    "***"
   ]
  },
  {
   "cell_type": "markdown",
   "metadata": {
    "colab_type": "text",
    "id": "T0nLJKtLcak8"
   },
   "source": [
    "A análise de regressão diz respeito ao estudo da dependência de uma variável (a variável dependente) em relação a uma ou mais variáveis, as variáveis explicativas ou independentes, visando estimar e/ou prever o valor médio da primeira em termos dos valores conhecidos ou fixados das segundas.\n",
    "\n",
    "#### Terminologia\n",
    "\n",
    "> A variável que é prevista é conhecida como variável dependente (*Y*).\n",
    "\n",
    "> A variável utilizada para prever o valor da variável dependente é conhecida como variável independente (*X*).\n",
    "\n",
    "Em nosso treinamento vamos abordar o tipo mais simples de análise de regressão que considera uma variável dependente e apenas uma variável independente onde a relação entre as variáveis se aproxima de uma linha reta."
   ]
  },
  {
   "cell_type": "markdown",
   "metadata": {
    "colab_type": "text",
    "id": "jIXc6LA7cak9"
   },
   "source": [
    "## <font color=green>4.1 Regressão linear simples</font>\n",
    "***"
   ]
  },
  {
   "cell_type": "markdown",
   "metadata": {
    "colab_type": "text",
    "id": "bIhWKDuK75k2"
   },
   "source": [
    "### Função consumo\n",
    "\n",
    "Um economista famoso do passado concluiu em um de seus estudos que os indivíduos tendem a aumentar o seu consumo conforme sua renda aumenta. Logicamente esta teoria ganhou um pouco mais de complexidade, mas vamos utilizar sua forma mais simples para entender o procedimento de análise de regressão com a seguninte formulação:\n",
    "\n",
    "# $$Y_i = \\beta_1 + \\beta_2X_i$$\n",
    "\n",
    "Onde\n",
    "\n",
    "- $Y_i$ é o gasto das famílias ou consumo das famílias\n",
    "\n",
    "- $X_i$ é a renda disponível\n",
    "\n",
    "- $\\beta_1$ é conhecido como intercepto (no modelo teórico acima é conhecido como consumo autônomo, ou seja, o consumo quando o rendimento é zero)\n",
    "\n",
    "- $\\beta_2$ é o coefiente angular (no modelo teórico é a propensão marginal a consumir)\n",
    "\n",
    "Em uma análise de regressão linear simples, o interesse está em estimar a função de regressão populacional como a apresentada acima, ou seja, estimar os valores dos parâmetros $\\beta_1$ e $\\beta_2$ com base nas observações de $Y$ e $X$."
   ]
  },
  {
   "cell_type": "markdown",
   "metadata": {
    "colab_type": "text",
    "id": "1kkZ2NxPcak-"
   },
   "source": [
    "### Carregando o dataset"
   ]
  },
  {
   "cell_type": "code",
   "execution_count": 33,
   "metadata": {
    "colab": {},
    "colab_type": "code",
    "id": "-um71iXqcak-"
   },
   "outputs": [],
   "source": [
    "dataset = {\n",
    "    'Y': [3011, 1305, 1879, 2654, 2849, 1068, 2892, 2543, 3074, 849, 2184, 2943, 1357, 2755, 2163, 3099, 1600, 353, 1778, 740, 2129, 3302, 2412, 2683, 2515, 2395, 2292, 1000, 600, 1864, 3027, 1978, 2791, 1982, 900, 1964, 1247, 3067, 700, 1500, 3110, 2644, 1378, 2601, 501, 1292, 2125, 1431, 2260, 1770],\n",
    "    'X': [9714, 3728, 6062, 8845, 8378, 3338, 8507, 7947, 9915, 1632, 6825, 8918, 4100, 9184, 6180, 9997, 4500, 1069, 5925, 2466, 6083, 9712, 7780, 8383, 7185, 7483, 7640, 2100, 2000, 6012, 8902, 5345, 8210, 5662, 2700, 6546, 2900, 9894, 1500, 5000, 8885, 8813, 3446, 7881, 1164, 3401, 6641, 3329, 6648, 4800]\n",
    "}"
   ]
  },
  {
   "cell_type": "code",
   "execution_count": 34,
   "metadata": {
    "colab": {
     "base_uri": "https://localhost:8080/",
     "height": 204
    },
    "colab_type": "code",
    "id": "eVisdrGdcak_",
    "outputId": "4987998b-7679-42f3-dc9b-28b3b1fa7e24",
    "scrolled": true
   },
   "outputs": [
    {
     "data": {
      "text/html": [
       "<div>\n",
       "<style scoped>\n",
       "    .dataframe tbody tr th:only-of-type {\n",
       "        vertical-align: middle;\n",
       "    }\n",
       "\n",
       "    .dataframe tbody tr th {\n",
       "        vertical-align: top;\n",
       "    }\n",
       "\n",
       "    .dataframe thead th {\n",
       "        text-align: right;\n",
       "    }\n",
       "</style>\n",
       "<table border=\"1\" class=\"dataframe\">\n",
       "  <thead>\n",
       "    <tr style=\"text-align: right;\">\n",
       "      <th></th>\n",
       "      <th>Y</th>\n",
       "      <th>X</th>\n",
       "    </tr>\n",
       "  </thead>\n",
       "  <tbody>\n",
       "    <tr>\n",
       "      <th>0</th>\n",
       "      <td>3011</td>\n",
       "      <td>9714</td>\n",
       "    </tr>\n",
       "    <tr>\n",
       "      <th>1</th>\n",
       "      <td>1305</td>\n",
       "      <td>3728</td>\n",
       "    </tr>\n",
       "    <tr>\n",
       "      <th>2</th>\n",
       "      <td>1879</td>\n",
       "      <td>6062</td>\n",
       "    </tr>\n",
       "    <tr>\n",
       "      <th>3</th>\n",
       "      <td>2654</td>\n",
       "      <td>8845</td>\n",
       "    </tr>\n",
       "    <tr>\n",
       "      <th>4</th>\n",
       "      <td>2849</td>\n",
       "      <td>8378</td>\n",
       "    </tr>\n",
       "  </tbody>\n",
       "</table>\n",
       "</div>"
      ],
      "text/plain": [
       "      Y     X\n",
       "0  3011  9714\n",
       "1  1305  3728\n",
       "2  1879  6062\n",
       "3  2654  8845\n",
       "4  2849  8378"
      ]
     },
     "execution_count": 34,
     "metadata": {},
     "output_type": "execute_result"
    }
   ],
   "source": [
    "dataset = pd.DataFrame(dataset)\n",
    "dataset.head()"
   ]
  },
  {
   "cell_type": "markdown",
   "metadata": {
    "colab_type": "text",
    "id": "FnwGB3f1calB"
   },
   "source": [
    "### Identificando a relação entre as variáveis\n",
    "\n",
    "https://seaborn.pydata.org/generated/seaborn.lmplot.html\n",
    "\n",
    "Plota a reta de regressão entre duas variáveis juntamente com a dispersão entre elas."
   ]
  },
  {
   "cell_type": "code",
   "execution_count": 35,
   "metadata": {
    "colab": {
     "base_uri": "https://localhost:8080/",
     "height": 474
    },
    "colab_type": "code",
    "id": "DI16LyC7calB",
    "outputId": "5576d35b-6e22-4c05-d754-6285edeb9436"
   },
   "outputs": [
    {
     "data": {
      "text/plain": [
       "<seaborn.axisgrid.FacetGrid at 0x2686943e220>"
      ]
     },
     "execution_count": 35,
     "metadata": {},
     "output_type": "execute_result"
    },
    {
     "data": {
      "image/png": "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\n",
      "text/plain": [
       "<Figure size 864x432 with 1 Axes>"
      ]
     },
     "metadata": {
      "needs_background": "light"
     },
     "output_type": "display_data"
    }
   ],
   "source": [
    "ax = sns.lmplot(x=\"X\", y=\"Y\", data=dataset)\n",
    "ax.fig.set_size_inches(12, 6)\n",
    "ax.fig.suptitle('Reta de Regressão - Gasto X Renda', fontsize=16, y=1.02)\n",
    "ax.set_xlabels(\"Renda das Famílias\", fontsize=14)\n",
    "ax.set_ylabels(\"Gasto das Famílias\", fontsize=14)\n",
    "ax"
   ]
  },
  {
   "cell_type": "markdown",
   "metadata": {
    "colab_type": "text",
    "id": "5_PIOCAv75k9"
   },
   "source": [
    "### Matriz de correlação"
   ]
  },
  {
   "cell_type": "code",
   "execution_count": 36,
   "metadata": {
    "colab": {
     "base_uri": "https://localhost:8080/",
     "height": 111
    },
    "colab_type": "code",
    "id": "R7Zr6nuy75k-",
    "outputId": "4fa8db39-0b93-42c4-8c61-315102699102"
   },
   "outputs": [
    {
     "data": {
      "text/html": [
       "<div>\n",
       "<style scoped>\n",
       "    .dataframe tbody tr th:only-of-type {\n",
       "        vertical-align: middle;\n",
       "    }\n",
       "\n",
       "    .dataframe tbody tr th {\n",
       "        vertical-align: top;\n",
       "    }\n",
       "\n",
       "    .dataframe thead th {\n",
       "        text-align: right;\n",
       "    }\n",
       "</style>\n",
       "<table border=\"1\" class=\"dataframe\">\n",
       "  <thead>\n",
       "    <tr style=\"text-align: right;\">\n",
       "      <th></th>\n",
       "      <th>Y</th>\n",
       "      <th>X</th>\n",
       "    </tr>\n",
       "  </thead>\n",
       "  <tbody>\n",
       "    <tr>\n",
       "      <th>Y</th>\n",
       "      <td>1.000000</td>\n",
       "      <td>0.984835</td>\n",
       "    </tr>\n",
       "    <tr>\n",
       "      <th>X</th>\n",
       "      <td>0.984835</td>\n",
       "      <td>1.000000</td>\n",
       "    </tr>\n",
       "  </tbody>\n",
       "</table>\n",
       "</div>"
      ],
      "text/plain": [
       "          Y         X\n",
       "Y  1.000000  0.984835\n",
       "X  0.984835  1.000000"
      ]
     },
     "execution_count": 36,
     "metadata": {},
     "output_type": "execute_result"
    }
   ],
   "source": [
    "dataset.corr()"
   ]
  },
  {
   "cell_type": "markdown",
   "metadata": {
    "colab_type": "text",
    "id": "lzD2VpXccak9"
   },
   "source": [
    "### Função de regressão populacional\n",
    "\n",
    "A equação formulada acima é conhecida como **função de regressão populacional (FRP)** e em alguns livros é também representada da seguinte forma:\n",
    "\n",
    "# $$E(Y|X_i) = \\beta_1 + \\beta_2X_i$$\n",
    "\n",
    "Ela afirma que o valor esperado da distribuição de $Y$, dado $X_i$, tem uma relação funcional com $X_i$, isto é, a resposta média de $Y$ varia com $X$. Os coeficientes $\\beta_1$ e $\\beta_2$ são conhecidos como coeficientes de regressão e também como intercepto e coeficiente angular, respectivamente.\n",
    "\n",
    "<img src=\"https://caelum-online-public.s3.amazonaws.com/1273-estatistica-parte4/01/img027.png\" width=50%>\n",
    "\n",
    "O gráfico de dispersão acima deixa claro que com o aumento da renda familiar, em média, as despesas de consumo das famílias aumentam, mas não no mesmo nível. O que podemos dizer é que para um nível de renda $X_i$ as despesas médias de consumo de uma\n",
    "família agrupam-se em torno do consumo médio de todas as famílias deste nível $X_i$, isto é, em torno de sua esperança condicional $E(Y|X_i)$. Portanto, podemos expressar o desvio individual de $Y_i$ em torno de seu valor esperado da seguinte forma:\n",
    "\n",
    "# $$u_i = Y_i - E(Y|X_i)$$\n",
    "\n",
    "ou\n",
    "\n",
    "# $$Y_i = E(Y|X_i) + u_i$$\n",
    "\n",
    "onde o desvio $u_i$ é uma variável aleatória não-observável que assume valores positivos ou negativos. Esta variável é também conhecida como termo de erro estocástico.\n",
    "\n",
    "Observe que a podemos representar a FRP em sua forma estocástica da seguinte maneira:\n",
    "\n",
    "# $$Y_i = \\beta_1 + \\beta_2X_i + u_i$$"
   ]
  },
  {
   "cell_type": "markdown",
   "metadata": {
    "colab_type": "text",
    "id": "yOR8pKHkcak9"
   },
   "source": [
    "## <font color=green>4.2 O método de mínimos quadrados</font>\n",
    "***"
   ]
  },
  {
   "cell_type": "markdown",
   "metadata": {
    "colab_type": "text",
    "id": "M-iKUvPlcak-"
   },
   "source": [
    "Considere a seguinte **função de regressão da população (FRP)** para duas variáveis:\n",
    "\n",
    "# $$Y_i = \\beta_1 + \\beta_2X_i + u_i$$\n",
    "\n",
    "Como a **FRP** não pode ser obtida de forma direta, precisamos estimá-la através da **função de regressão amostral (FRA)**.\n",
    "\n",
    "# $$Y_i = \\hat{\\beta}_1 + \\hat{\\beta}_2X_i + \\hat{u}_i$$\n",
    "# $$Y_i = \\hat{Y}_i + \\hat{u}_i$$\n",
    "\n",
    "onde $\\hat{Y}_i$ é o valor estimado de $Y_i$.\n",
    "\n",
    "A partir da equação acima podemos expressar o erro da seguinte maneira:\n",
    "\n",
    "# $$\\hat{u}_i = Y_i - \\hat{Y}_i$$\n",
    "# $$\\hat{u}_i = Y_i - \\hat{\\beta}_1 - \\hat{\\beta}_2X_i$$\n",
    "\n",
    "A ideia é determinar **FRA** de forma que fique o mais próximo possível do valor observado de $Y$. Intuitivamente uma forma interessante de fazer isso seria determinar **FRA** de maneira que a soma dos resíduos seja a menor possível.\n",
    "\n",
    "# $$\\sum\\hat{u}_i = \\sum{(Y_i - \\hat{Y}_i)}$$\n",
    "\n",
    "Avaliando a figura abaixo se pode verificar que talvez o critério de minimizar a soma dos resíduos não seja a melhor abordagem para solucionar o problema.\n",
    "\n",
    "<img src=\"https://caelum-online-public.s3.amazonaws.com/1273-estatistica-parte4/01/img015.png\" width=50%>\n",
    "\n",
    "O critério de minimização da soma dos resíduos assume que todos os resíduos tem o mesmo peso no somatório, o que nem sempre se comprova. Em nosso exemplo os resíduos $\\hat{u}_1$ e $\\hat{u}_4$ encontram-se bem mais afastados da **FRA** que $\\hat{u}_2$ e $\\hat{u}_3$. Isso acarreta na possibilidade de que a soma dos $\\hat{u}_i$'s seja bastante pequena e até mesmo nula, mesmo que os resíduos estejam muito dispersos em relação a reta de regressão.\n",
    "\n",
    "Para evitar tal problema adotou-se o critério de minimização da soma dos quadrados dos resíduos que é conhecido como **Método de Mínimos Quadrados**.\n",
    "\n",
    "# $$\\sum\\hat{u}_i^2 = \\sum{(Y_i - \\hat{Y}_i)^2}$$\n",
    "# $$\\sum\\hat{u}_i^2 = \\sum{(Y_i - \\hat{\\beta}_1 - \\hat{\\beta}_2X_i)^2}$$\n",
    "\n",
    "Após um procedimento de diferenciação, algumas simplificações e manipulações algébricas obtemos os **estimadores de mínimos quadrados**.\n",
    "\n",
    "# $$\n",
    "\\begin{equation}\n",
    "\\boxed{\\hat{\\beta}_2 = \\frac{n\\sum{X_iY_i} - \\sum{X_i}\\sum{Y_i}}{n\\sum{X_i^2} - (\\sum{X_i})^2}}\n",
    "\\end{equation}\n",
    "$$\n",
    "\n",
    "# $$\n",
    "\\begin{equation}\n",
    "\\boxed{\n",
    "\\begin{eqnarray}\n",
    "\\hat{\\beta}_1 &=& \\frac{\\sum{X_i^2}\\sum{Y_i} - \\sum{X_i}\\sum{X_iY_i}}{n\\sum{X_i^2} - (\\sum{X_i})^2}\\\\\n",
    "&=& \\bar{Y} - \\hat{\\beta}_2\\bar{X}\n",
    "\\end{eqnarray}\n",
    "}\n",
    "\\end{equation}\n",
    "$$"
   ]
  },
  {
   "cell_type": "markdown",
   "metadata": {
    "colab_type": "text",
    "id": "bIsppET0cak-"
   },
   "source": [
    "## <font color=green>4.3 Estimadores de mínimos quadrados ordinários</font>\n",
    "***"
   ]
  },
  {
   "cell_type": "markdown",
   "metadata": {
    "colab_type": "text",
    "id": "HTFJyCNCcalE"
   },
   "source": [
    "### Obter $n$"
   ]
  },
  {
   "cell_type": "code",
   "execution_count": 37,
   "metadata": {
    "colab": {
     "base_uri": "https://localhost:8080/",
     "height": 35
    },
    "colab_type": "code",
    "id": "ZcHOhSNRcalE",
    "outputId": "8a21ac4b-34d6-4139-cef4-6a3a79dd240f"
   },
   "outputs": [
    {
     "data": {
      "text/plain": [
       "50"
      ]
     },
     "execution_count": 37,
     "metadata": {},
     "output_type": "execute_result"
    }
   ],
   "source": [
    "n = len(dataset)\n",
    "n"
   ]
  },
  {
   "cell_type": "markdown",
   "metadata": {
    "colab_type": "text",
    "id": "2R8QzULvcalF"
   },
   "source": [
    "### Obter $\\sum{Y}$"
   ]
  },
  {
   "cell_type": "code",
   "execution_count": 38,
   "metadata": {
    "colab": {
     "base_uri": "https://localhost:8080/",
     "height": 35
    },
    "colab_type": "code",
    "id": "wfY4FHLgcalG",
    "outputId": "7034961e-e69c-424b-8a81-ef3443856811"
   },
   "outputs": [
    {
     "data": {
      "text/plain": [
       "100556"
      ]
     },
     "execution_count": 38,
     "metadata": {},
     "output_type": "execute_result"
    }
   ],
   "source": [
    "SOMA_Y = dataset.Y.sum()\n",
    "SOMA_Y"
   ]
  },
  {
   "cell_type": "markdown",
   "metadata": {
    "colab_type": "text",
    "id": "dpWo8F-fcalI"
   },
   "source": [
    "### Obter $\\sum{X}$"
   ]
  },
  {
   "cell_type": "code",
   "execution_count": 39,
   "metadata": {
    "colab": {
     "base_uri": "https://localhost:8080/",
     "height": 35
    },
    "colab_type": "code",
    "id": "vgRIhNl9calI",
    "outputId": "58ef8ded-cbde-440a-a2ed-4f6c1e1b49a3"
   },
   "outputs": [
    {
     "data": {
      "text/plain": [
       "303275"
      ]
     },
     "execution_count": 39,
     "metadata": {},
     "output_type": "execute_result"
    }
   ],
   "source": [
    "SOMA_X = dataset.X.sum()\n",
    "SOMA_X"
   ]
  },
  {
   "cell_type": "markdown",
   "metadata": {
    "colab_type": "text",
    "id": "ZOrXXyygcalJ"
   },
   "source": [
    "### Obter $\\sum{X^2}$"
   ]
  },
  {
   "cell_type": "code",
   "execution_count": 40,
   "metadata": {
    "colab": {
     "base_uri": "https://localhost:8080/",
     "height": 204
    },
    "colab_type": "code",
    "id": "boXBQUIJcalK",
    "outputId": "4c12972c-6ba0-43e7-b6f2-92692723a752",
    "scrolled": true
   },
   "outputs": [
    {
     "data": {
      "text/html": [
       "<div>\n",
       "<style scoped>\n",
       "    .dataframe tbody tr th:only-of-type {\n",
       "        vertical-align: middle;\n",
       "    }\n",
       "\n",
       "    .dataframe tbody tr th {\n",
       "        vertical-align: top;\n",
       "    }\n",
       "\n",
       "    .dataframe thead th {\n",
       "        text-align: right;\n",
       "    }\n",
       "</style>\n",
       "<table border=\"1\" class=\"dataframe\">\n",
       "  <thead>\n",
       "    <tr style=\"text-align: right;\">\n",
       "      <th></th>\n",
       "      <th>Y</th>\n",
       "      <th>X</th>\n",
       "      <th>X2</th>\n",
       "    </tr>\n",
       "  </thead>\n",
       "  <tbody>\n",
       "    <tr>\n",
       "      <th>0</th>\n",
       "      <td>3011</td>\n",
       "      <td>9714</td>\n",
       "      <td>94361796</td>\n",
       "    </tr>\n",
       "    <tr>\n",
       "      <th>1</th>\n",
       "      <td>1305</td>\n",
       "      <td>3728</td>\n",
       "      <td>13897984</td>\n",
       "    </tr>\n",
       "    <tr>\n",
       "      <th>2</th>\n",
       "      <td>1879</td>\n",
       "      <td>6062</td>\n",
       "      <td>36747844</td>\n",
       "    </tr>\n",
       "    <tr>\n",
       "      <th>3</th>\n",
       "      <td>2654</td>\n",
       "      <td>8845</td>\n",
       "      <td>78234025</td>\n",
       "    </tr>\n",
       "    <tr>\n",
       "      <th>4</th>\n",
       "      <td>2849</td>\n",
       "      <td>8378</td>\n",
       "      <td>70190884</td>\n",
       "    </tr>\n",
       "  </tbody>\n",
       "</table>\n",
       "</div>"
      ],
      "text/plain": [
       "      Y     X        X2\n",
       "0  3011  9714  94361796\n",
       "1  1305  3728  13897984\n",
       "2  1879  6062  36747844\n",
       "3  2654  8845  78234025\n",
       "4  2849  8378  70190884"
      ]
     },
     "execution_count": 40,
     "metadata": {},
     "output_type": "execute_result"
    }
   ],
   "source": [
    "dataset['X2'] = dataset.X ** 2\n",
    "dataset.head()"
   ]
  },
  {
   "cell_type": "code",
   "execution_count": 41,
   "metadata": {
    "colab": {
     "base_uri": "https://localhost:8080/",
     "height": 35
    },
    "colab_type": "code",
    "id": "ce-I43picalL",
    "outputId": "da5633b5-6ec6-4b44-e4cf-c7dabe6f351d"
   },
   "outputs": [
    {
     "data": {
      "text/plain": [
       "2198628939"
      ]
     },
     "execution_count": 41,
     "metadata": {},
     "output_type": "execute_result"
    }
   ],
   "source": [
    "SOMA_X2 = dataset.X2.sum()\n",
    "SOMA_X2"
   ]
  },
  {
   "cell_type": "code",
   "execution_count": 42,
   "metadata": {
    "colab": {
     "base_uri": "https://localhost:8080/",
     "height": 35
    },
    "colab_type": "code",
    "id": "TAiTZKfOcalM",
    "outputId": "c4b00b99-d659-4306-d3e1-1177e24bd193"
   },
   "outputs": [
    {
     "data": {
      "text/plain": [
       "2198628939"
      ]
     },
     "execution_count": 42,
     "metadata": {},
     "output_type": "execute_result"
    }
   ],
   "source": [
    "SOMA_X2 = dataset.X.apply(lambda x: x**2).sum()\n",
    "SOMA_X2"
   ]
  },
  {
   "cell_type": "markdown",
   "metadata": {
    "colab_type": "text",
    "id": "ls1COzpxcalN"
   },
   "source": [
    "### Obter $\\sum{Y^2}$"
   ]
  },
  {
   "cell_type": "code",
   "execution_count": 43,
   "metadata": {
    "colab": {
     "base_uri": "https://localhost:8080/",
     "height": 35
    },
    "colab_type": "code",
    "id": "gYc_poUmcalN",
    "outputId": "b8a0cc3e-6c2f-41cf-aaba-6e3ca3246c74"
   },
   "outputs": [
    {
     "data": {
      "text/plain": [
       "234954332"
      ]
     },
     "execution_count": 43,
     "metadata": {},
     "output_type": "execute_result"
    }
   ],
   "source": [
    "SOMA_Y2 = dataset.Y.apply(lambda y: y**2).sum()\n",
    "SOMA_Y2"
   ]
  },
  {
   "cell_type": "markdown",
   "metadata": {
    "colab_type": "text",
    "id": "UsCtTk3pcalP"
   },
   "source": [
    "### Obter $\\sum{XY}$"
   ]
  },
  {
   "cell_type": "code",
   "execution_count": 44,
   "metadata": {
    "colab": {
     "base_uri": "https://localhost:8080/",
     "height": 204
    },
    "colab_type": "code",
    "id": "Mw4pfCAEcalP",
    "outputId": "b2542e6c-a49d-4f55-bec6-b1f12abfad21",
    "scrolled": true
   },
   "outputs": [
    {
     "data": {
      "text/html": [
       "<div>\n",
       "<style scoped>\n",
       "    .dataframe tbody tr th:only-of-type {\n",
       "        vertical-align: middle;\n",
       "    }\n",
       "\n",
       "    .dataframe tbody tr th {\n",
       "        vertical-align: top;\n",
       "    }\n",
       "\n",
       "    .dataframe thead th {\n",
       "        text-align: right;\n",
       "    }\n",
       "</style>\n",
       "<table border=\"1\" class=\"dataframe\">\n",
       "  <thead>\n",
       "    <tr style=\"text-align: right;\">\n",
       "      <th></th>\n",
       "      <th>Y</th>\n",
       "      <th>X</th>\n",
       "      <th>X2</th>\n",
       "      <th>XY</th>\n",
       "    </tr>\n",
       "  </thead>\n",
       "  <tbody>\n",
       "    <tr>\n",
       "      <th>0</th>\n",
       "      <td>3011</td>\n",
       "      <td>9714</td>\n",
       "      <td>94361796</td>\n",
       "      <td>29248854</td>\n",
       "    </tr>\n",
       "    <tr>\n",
       "      <th>1</th>\n",
       "      <td>1305</td>\n",
       "      <td>3728</td>\n",
       "      <td>13897984</td>\n",
       "      <td>4865040</td>\n",
       "    </tr>\n",
       "    <tr>\n",
       "      <th>2</th>\n",
       "      <td>1879</td>\n",
       "      <td>6062</td>\n",
       "      <td>36747844</td>\n",
       "      <td>11390498</td>\n",
       "    </tr>\n",
       "    <tr>\n",
       "      <th>3</th>\n",
       "      <td>2654</td>\n",
       "      <td>8845</td>\n",
       "      <td>78234025</td>\n",
       "      <td>23474630</td>\n",
       "    </tr>\n",
       "    <tr>\n",
       "      <th>4</th>\n",
       "      <td>2849</td>\n",
       "      <td>8378</td>\n",
       "      <td>70190884</td>\n",
       "      <td>23868922</td>\n",
       "    </tr>\n",
       "  </tbody>\n",
       "</table>\n",
       "</div>"
      ],
      "text/plain": [
       "      Y     X        X2        XY\n",
       "0  3011  9714  94361796  29248854\n",
       "1  1305  3728  13897984   4865040\n",
       "2  1879  6062  36747844  11390498\n",
       "3  2654  8845  78234025  23474630\n",
       "4  2849  8378  70190884  23868922"
      ]
     },
     "execution_count": 44,
     "metadata": {},
     "output_type": "execute_result"
    }
   ],
   "source": [
    "dataset['XY'] = dataset.X * dataset.Y\n",
    "dataset.head()"
   ]
  },
  {
   "cell_type": "code",
   "execution_count": 45,
   "metadata": {
    "colab": {
     "base_uri": "https://localhost:8080/",
     "height": 35
    },
    "colab_type": "code",
    "id": "s1NNuoM4calQ",
    "outputId": "cc080b68-6635-47c4-bc48-157801759ea6"
   },
   "outputs": [
    {
     "data": {
      "text/plain": [
       "716683794"
      ]
     },
     "execution_count": 45,
     "metadata": {},
     "output_type": "execute_result"
    }
   ],
   "source": [
    "SOMA_XY = dataset.XY.sum()\n",
    "SOMA_XY"
   ]
  },
  {
   "cell_type": "code",
   "execution_count": 46,
   "metadata": {
    "colab": {
     "base_uri": "https://localhost:8080/",
     "height": 35
    },
    "colab_type": "code",
    "id": "fwAWf3SScalR",
    "outputId": "4dff48a5-a69a-47b4-e7d2-09a0ea60756c"
   },
   "outputs": [
    {
     "data": {
      "text/plain": [
       "716683794"
      ]
     },
     "execution_count": 46,
     "metadata": {},
     "output_type": "execute_result"
    }
   ],
   "source": [
    "SOMA_XY = dataset.apply(lambda data: data.X * data.Y, axis = 1).sum()\n",
    "SOMA_XY"
   ]
  },
  {
   "cell_type": "code",
   "execution_count": 47,
   "metadata": {
    "colab": {
     "base_uri": "https://localhost:8080/",
     "height": 204
    },
    "colab_type": "code",
    "id": "_6-qQG_ucalS",
    "outputId": "f4eaf5ce-1f26-4812-9455-17e5a18f9c9e"
   },
   "outputs": [
    {
     "data": {
      "text/html": [
       "<div>\n",
       "<style scoped>\n",
       "    .dataframe tbody tr th:only-of-type {\n",
       "        vertical-align: middle;\n",
       "    }\n",
       "\n",
       "    .dataframe tbody tr th {\n",
       "        vertical-align: top;\n",
       "    }\n",
       "\n",
       "    .dataframe thead th {\n",
       "        text-align: right;\n",
       "    }\n",
       "</style>\n",
       "<table border=\"1\" class=\"dataframe\">\n",
       "  <thead>\n",
       "    <tr style=\"text-align: right;\">\n",
       "      <th></th>\n",
       "      <th>Y</th>\n",
       "      <th>X</th>\n",
       "    </tr>\n",
       "  </thead>\n",
       "  <tbody>\n",
       "    <tr>\n",
       "      <th>0</th>\n",
       "      <td>3011</td>\n",
       "      <td>9714</td>\n",
       "    </tr>\n",
       "    <tr>\n",
       "      <th>1</th>\n",
       "      <td>1305</td>\n",
       "      <td>3728</td>\n",
       "    </tr>\n",
       "    <tr>\n",
       "      <th>2</th>\n",
       "      <td>1879</td>\n",
       "      <td>6062</td>\n",
       "    </tr>\n",
       "    <tr>\n",
       "      <th>3</th>\n",
       "      <td>2654</td>\n",
       "      <td>8845</td>\n",
       "    </tr>\n",
       "    <tr>\n",
       "      <th>4</th>\n",
       "      <td>2849</td>\n",
       "      <td>8378</td>\n",
       "    </tr>\n",
       "  </tbody>\n",
       "</table>\n",
       "</div>"
      ],
      "text/plain": [
       "      Y     X\n",
       "0  3011  9714\n",
       "1  1305  3728\n",
       "2  1879  6062\n",
       "3  2654  8845\n",
       "4  2849  8378"
      ]
     },
     "execution_count": 47,
     "metadata": {},
     "output_type": "execute_result"
    }
   ],
   "source": [
    "dataset.drop(['X2', 'XY'], axis = 1, inplace = True)\n",
    "dataset.head()"
   ]
  },
  {
   "cell_type": "markdown",
   "metadata": {
    "colab_type": "text",
    "id": "EX-oAn2rcalU"
   },
   "source": [
    "### Obter $\\hat{\\beta}_2$\n",
    "\n",
    "# $$\\hat{\\beta}_2 = \\frac{n\\sum{X_iY_i} - \\sum{X_i}\\sum{Y_i}}{n\\sum{X_i^2} - (\\sum{X_i})^2}$$"
   ]
  },
  {
   "cell_type": "code",
   "execution_count": 48,
   "metadata": {
    "colab": {
     "base_uri": "https://localhost:8080/",
     "height": 35
    },
    "colab_type": "code",
    "id": "UY-nWn7LcalU",
    "outputId": "de545732-ffe4-4095-f42d-0c3bf6680fbb"
   },
   "outputs": [
    {
     "data": {
      "text/plain": [
       "0.29729069099372424"
      ]
     },
     "execution_count": 48,
     "metadata": {},
     "output_type": "execute_result"
    }
   ],
   "source": [
    "numerador = n * SOMA_XY - SOMA_X * SOMA_Y\n",
    "denominador = n * SOMA_X2 - (SOMA_X)**2\n",
    "beta_2 = numerador / denominador\n",
    "beta_2"
   ]
  },
  {
   "cell_type": "markdown",
   "metadata": {
    "colab_type": "text",
    "id": "v4QCFagscalW"
   },
   "source": [
    "### Obter $\\hat{\\beta}_1$\n",
    "\n",
    "# $$\n",
    "\\begin{eqnarray}\n",
    "\\hat{\\beta}_1 &=& \\frac{\\sum{X_i^2}\\sum{Y_i} - \\sum{X_i}\\sum{X_iY_i}}{n\\sum{X_i^2} - (\\sum{X_i})^2}\\\\\n",
    "&=& \\bar{Y} - \\hat{\\beta}_2\\bar{X}\n",
    "\\end{eqnarray}\n",
    "$$ "
   ]
  },
  {
   "cell_type": "code",
   "execution_count": 49,
   "metadata": {
    "colab": {
     "base_uri": "https://localhost:8080/",
     "height": 35
    },
    "colab_type": "code",
    "id": "-Gjc1ra5calW",
    "outputId": "a469f5b7-eb58-4891-e618-6959ad1a6d39"
   },
   "outputs": [
    {
     "data": {
      "text/plain": [
       "207.90331377756547"
      ]
     },
     "execution_count": 49,
     "metadata": {},
     "output_type": "execute_result"
    }
   ],
   "source": [
    "beta_1 = dataset.Y.mean() - beta_2 * dataset.X.mean()\n",
    "beta_1"
   ]
  },
  {
   "cell_type": "markdown",
   "metadata": {
    "colab_type": "text",
    "id": "SjcncMd1calY"
   },
   "source": [
    "### Obtendo a estimativa dos parâmetros com o StatsModels"
   ]
  },
  {
   "cell_type": "markdown",
   "metadata": {
    "colab_type": "text",
    "id": "Ud6O4f-qcalY"
   },
   "source": [
    "### Importando a biblioteca\n",
    "https://www.statsmodels.org/stable/index.html"
   ]
  },
  {
   "cell_type": "code",
   "execution_count": 50,
   "metadata": {
    "colab": {},
    "colab_type": "code",
    "id": "QnYZ2T-7calZ"
   },
   "outputs": [],
   "source": [
    "import statsmodels.api as sm"
   ]
  },
  {
   "cell_type": "code",
   "execution_count": 51,
   "metadata": {
    "colab": {
     "base_uri": "https://localhost:8080/",
     "height": 73
    },
    "colab_type": "code",
    "id": "sUlIFQh-calb",
    "outputId": "6278704b-b319-4d83-97da-74b5eccd66ec"
   },
   "outputs": [
    {
     "name": "stderr",
     "output_type": "stream",
     "text": [
      "C:\\Users\\rnand\\anaconda3\\lib\\site-packages\\statsmodels\\tsa\\tsatools.py:142: FutureWarning: In a future version of pandas all arguments of concat except for the argument 'objs' will be keyword-only\n",
      "  x = pd.concat(x[::order], 1)\n"
     ]
    }
   ],
   "source": [
    "Y = dataset.Y\n",
    "X = sm.add_constant(dataset.X)"
   ]
  },
  {
   "cell_type": "code",
   "execution_count": 52,
   "metadata": {
    "colab": {
     "base_uri": "https://localhost:8080/",
     "height": 125
    },
    "colab_type": "code",
    "id": "6Npgg9NNcald",
    "outputId": "ddb0fe1f-f4a5-47c6-f957-2f3d23b86765",
    "scrolled": true
   },
   "outputs": [
    {
     "data": {
      "text/plain": [
       "0    3011\n",
       "1    1305\n",
       "2    1879\n",
       "3    2654\n",
       "4    2849\n",
       "Name: Y, dtype: int64"
      ]
     },
     "execution_count": 52,
     "metadata": {},
     "output_type": "execute_result"
    }
   ],
   "source": [
    "Y.head()"
   ]
  },
  {
   "cell_type": "code",
   "execution_count": 53,
   "metadata": {
    "colab": {
     "base_uri": "https://localhost:8080/",
     "height": 204
    },
    "colab_type": "code",
    "id": "eDgJXjCAcale",
    "outputId": "f306e7c0-5af3-4f45-cfe7-59b948470d80",
    "scrolled": true
   },
   "outputs": [
    {
     "data": {
      "text/html": [
       "<div>\n",
       "<style scoped>\n",
       "    .dataframe tbody tr th:only-of-type {\n",
       "        vertical-align: middle;\n",
       "    }\n",
       "\n",
       "    .dataframe tbody tr th {\n",
       "        vertical-align: top;\n",
       "    }\n",
       "\n",
       "    .dataframe thead th {\n",
       "        text-align: right;\n",
       "    }\n",
       "</style>\n",
       "<table border=\"1\" class=\"dataframe\">\n",
       "  <thead>\n",
       "    <tr style=\"text-align: right;\">\n",
       "      <th></th>\n",
       "      <th>const</th>\n",
       "      <th>X</th>\n",
       "    </tr>\n",
       "  </thead>\n",
       "  <tbody>\n",
       "    <tr>\n",
       "      <th>0</th>\n",
       "      <td>1.0</td>\n",
       "      <td>9714</td>\n",
       "    </tr>\n",
       "    <tr>\n",
       "      <th>1</th>\n",
       "      <td>1.0</td>\n",
       "      <td>3728</td>\n",
       "    </tr>\n",
       "    <tr>\n",
       "      <th>2</th>\n",
       "      <td>1.0</td>\n",
       "      <td>6062</td>\n",
       "    </tr>\n",
       "    <tr>\n",
       "      <th>3</th>\n",
       "      <td>1.0</td>\n",
       "      <td>8845</td>\n",
       "    </tr>\n",
       "    <tr>\n",
       "      <th>4</th>\n",
       "      <td>1.0</td>\n",
       "      <td>8378</td>\n",
       "    </tr>\n",
       "  </tbody>\n",
       "</table>\n",
       "</div>"
      ],
      "text/plain": [
       "   const     X\n",
       "0    1.0  9714\n",
       "1    1.0  3728\n",
       "2    1.0  6062\n",
       "3    1.0  8845\n",
       "4    1.0  8378"
      ]
     },
     "execution_count": 53,
     "metadata": {},
     "output_type": "execute_result"
    }
   ],
   "source": [
    "X.head()"
   ]
  },
  {
   "cell_type": "markdown",
   "metadata": {
    "colab_type": "text",
    "id": "OZs1ykL_calh"
   },
   "source": [
    "### Estimando o modelo"
   ]
  },
  {
   "cell_type": "code",
   "execution_count": 54,
   "metadata": {
    "colab": {},
    "colab_type": "code",
    "id": "CGGritStcalh"
   },
   "outputs": [],
   "source": [
    "resultado_regressao = sm.OLS(Y, X, missing='drop').fit()"
   ]
  },
  {
   "cell_type": "markdown",
   "metadata": {
    "colab_type": "text",
    "id": "pyVnbv7vcali"
   },
   "source": [
    "### Visualizando os parâmetros estimados"
   ]
  },
  {
   "cell_type": "code",
   "execution_count": 55,
   "metadata": {
    "colab": {
     "base_uri": "https://localhost:8080/",
     "height": 35
    },
    "colab_type": "code",
    "id": "Ye2sF_ygcalj",
    "outputId": "d0e2d875-011a-4b71-8ff8-de0ace39e866"
   },
   "outputs": [
    {
     "data": {
      "text/plain": [
       "207.90331377756547"
      ]
     },
     "execution_count": 55,
     "metadata": {},
     "output_type": "execute_result"
    }
   ],
   "source": [
    "beta_1"
   ]
  },
  {
   "cell_type": "code",
   "execution_count": 56,
   "metadata": {
    "colab": {
     "base_uri": "https://localhost:8080/",
     "height": 35
    },
    "colab_type": "code",
    "id": "5RGcqao9call",
    "outputId": "f39c311b-499b-4317-d0ed-5cb7c488739a"
   },
   "outputs": [
    {
     "data": {
      "text/plain": [
       "0.29729069099372424"
      ]
     },
     "execution_count": 56,
     "metadata": {},
     "output_type": "execute_result"
    }
   ],
   "source": [
    "beta_2"
   ]
  },
  {
   "cell_type": "code",
   "execution_count": 57,
   "metadata": {
    "colab": {
     "base_uri": "https://localhost:8080/",
     "height": 71
    },
    "colab_type": "code",
    "id": "RUScqQ1dcalm",
    "outputId": "3a6a0609-1ca3-45c1-9a7d-15108f072def"
   },
   "outputs": [
    {
     "data": {
      "text/plain": [
       "const    207.903314\n",
       "X          0.297291\n",
       "dtype: float64"
      ]
     },
     "execution_count": 57,
     "metadata": {},
     "output_type": "execute_result"
    }
   ],
   "source": [
    "resultado_regressao.params"
   ]
  },
  {
   "cell_type": "code",
   "execution_count": 58,
   "metadata": {
    "colab": {
     "base_uri": "https://localhost:8080/",
     "height": 35
    },
    "colab_type": "code",
    "id": "9geqX6FScaln",
    "outputId": "44cdde13-3662-49c7-84e9-ef4159ef9ec6"
   },
   "outputs": [
    {
     "data": {
      "text/plain": [
       "207.9033137775661"
      ]
     },
     "execution_count": 58,
     "metadata": {},
     "output_type": "execute_result"
    }
   ],
   "source": [
    "beta_1 = resultado_regressao.params[0]\n",
    "beta_1"
   ]
  },
  {
   "cell_type": "code",
   "execution_count": 59,
   "metadata": {
    "colab": {
     "base_uri": "https://localhost:8080/",
     "height": 35
    },
    "colab_type": "code",
    "id": "U238WwEVcalo",
    "outputId": "f305705c-639c-417b-e930-f5adaaccd216"
   },
   "outputs": [
    {
     "data": {
      "text/plain": [
       "0.29729069099372407"
      ]
     },
     "execution_count": 59,
     "metadata": {},
     "output_type": "execute_result"
    }
   ],
   "source": [
    "beta_2 = resultado_regressao.params[1]\n",
    "beta_2"
   ]
  },
  {
   "cell_type": "markdown",
   "metadata": {
    "colab_type": "text",
    "id": "POcFkp72calp"
   },
   "source": [
    "### Intervalo de confiança para os parâmetros estimados"
   ]
  },
  {
   "cell_type": "code",
   "execution_count": 60,
   "metadata": {
    "colab": {
     "base_uri": "https://localhost:8080/",
     "height": 111
    },
    "colab_type": "code",
    "id": "-VrPhUV8calp",
    "outputId": "48df0d6d-8ef8-4a6f-9f14-d45e0b8ab341"
   },
   "outputs": [
    {
     "data": {
      "text/html": [
       "<div>\n",
       "<style scoped>\n",
       "    .dataframe tbody tr th:only-of-type {\n",
       "        vertical-align: middle;\n",
       "    }\n",
       "\n",
       "    .dataframe tbody tr th {\n",
       "        vertical-align: top;\n",
       "    }\n",
       "\n",
       "    .dataframe thead th {\n",
       "        text-align: right;\n",
       "    }\n",
       "</style>\n",
       "<table border=\"1\" class=\"dataframe\">\n",
       "  <thead>\n",
       "    <tr style=\"text-align: right;\">\n",
       "      <th></th>\n",
       "      <th>0</th>\n",
       "      <th>1</th>\n",
       "    </tr>\n",
       "  </thead>\n",
       "  <tbody>\n",
       "    <tr>\n",
       "      <th>const</th>\n",
       "      <td>107.116864</td>\n",
       "      <td>308.689763</td>\n",
       "    </tr>\n",
       "    <tr>\n",
       "      <th>X</th>\n",
       "      <td>0.282092</td>\n",
       "      <td>0.312490</td>\n",
       "    </tr>\n",
       "  </tbody>\n",
       "</table>\n",
       "</div>"
      ],
      "text/plain": [
       "                0           1\n",
       "const  107.116864  308.689763\n",
       "X        0.282092    0.312490"
      ]
     },
     "execution_count": 60,
     "metadata": {},
     "output_type": "execute_result"
    }
   ],
   "source": [
    "resultado_regressao.conf_int(alpha=0.05)"
   ]
  },
  {
   "cell_type": "markdown",
   "metadata": {
    "colab_type": "text",
    "id": "Je8U449lcalq"
   },
   "source": [
    "## <font color=green>4.4 Obtendo previsões</font>\n",
    "***"
   ]
  },
  {
   "cell_type": "markdown",
   "metadata": {
    "colab_type": "text",
    "id": "PNPQFFsrcalq"
   },
   "source": [
    "# $$\\hat{Y}_i = 207,9033 + 0,2973X_i$$"
   ]
  },
  {
   "cell_type": "markdown",
   "metadata": {
    "colab_type": "text",
    "id": "qNpJclcrcalr"
   },
   "source": [
    "### Previsões dentro da amostra"
   ]
  },
  {
   "cell_type": "code",
   "execution_count": 61,
   "metadata": {
    "colab": {
     "base_uri": "https://localhost:8080/",
     "height": 359
    },
    "colab_type": "code",
    "id": "fqOX7ssAcalr",
    "outputId": "aa8eafbb-24ad-44e5-c85a-47f9c31e41b3",
    "scrolled": true
   },
   "outputs": [
    {
     "data": {
      "text/html": [
       "<div>\n",
       "<style scoped>\n",
       "    .dataframe tbody tr th:only-of-type {\n",
       "        vertical-align: middle;\n",
       "    }\n",
       "\n",
       "    .dataframe tbody tr th {\n",
       "        vertical-align: top;\n",
       "    }\n",
       "\n",
       "    .dataframe thead th {\n",
       "        text-align: right;\n",
       "    }\n",
       "</style>\n",
       "<table border=\"1\" class=\"dataframe\">\n",
       "  <thead>\n",
       "    <tr style=\"text-align: right;\">\n",
       "      <th></th>\n",
       "      <th>Y</th>\n",
       "      <th>X</th>\n",
       "      <th>Y_previsto</th>\n",
       "    </tr>\n",
       "  </thead>\n",
       "  <tbody>\n",
       "    <tr>\n",
       "      <th>0</th>\n",
       "      <td>3011</td>\n",
       "      <td>9714</td>\n",
       "      <td>3095.785086</td>\n",
       "    </tr>\n",
       "    <tr>\n",
       "      <th>1</th>\n",
       "      <td>1305</td>\n",
       "      <td>3728</td>\n",
       "      <td>1316.203010</td>\n",
       "    </tr>\n",
       "    <tr>\n",
       "      <th>2</th>\n",
       "      <td>1879</td>\n",
       "      <td>6062</td>\n",
       "      <td>2010.079483</td>\n",
       "    </tr>\n",
       "    <tr>\n",
       "      <th>3</th>\n",
       "      <td>2654</td>\n",
       "      <td>8845</td>\n",
       "      <td>2837.439476</td>\n",
       "    </tr>\n",
       "    <tr>\n",
       "      <th>4</th>\n",
       "      <td>2849</td>\n",
       "      <td>8378</td>\n",
       "      <td>2698.604723</td>\n",
       "    </tr>\n",
       "    <tr>\n",
       "      <th>5</th>\n",
       "      <td>1068</td>\n",
       "      <td>3338</td>\n",
       "      <td>1200.259640</td>\n",
       "    </tr>\n",
       "    <tr>\n",
       "      <th>6</th>\n",
       "      <td>2892</td>\n",
       "      <td>8507</td>\n",
       "      <td>2736.955222</td>\n",
       "    </tr>\n",
       "    <tr>\n",
       "      <th>7</th>\n",
       "      <td>2543</td>\n",
       "      <td>7947</td>\n",
       "      <td>2570.472435</td>\n",
       "    </tr>\n",
       "    <tr>\n",
       "      <th>8</th>\n",
       "      <td>3074</td>\n",
       "      <td>9915</td>\n",
       "      <td>3155.540515</td>\n",
       "    </tr>\n",
       "    <tr>\n",
       "      <th>9</th>\n",
       "      <td>849</td>\n",
       "      <td>1632</td>\n",
       "      <td>693.081721</td>\n",
       "    </tr>\n",
       "  </tbody>\n",
       "</table>\n",
       "</div>"
      ],
      "text/plain": [
       "      Y     X   Y_previsto\n",
       "0  3011  9714  3095.785086\n",
       "1  1305  3728  1316.203010\n",
       "2  1879  6062  2010.079483\n",
       "3  2654  8845  2837.439476\n",
       "4  2849  8378  2698.604723\n",
       "5  1068  3338  1200.259640\n",
       "6  2892  8507  2736.955222\n",
       "7  2543  7947  2570.472435\n",
       "8  3074  9915  3155.540515\n",
       "9   849  1632   693.081721"
      ]
     },
     "execution_count": 61,
     "metadata": {},
     "output_type": "execute_result"
    }
   ],
   "source": [
    "dataset['Y_previsto'] = beta_1 + beta_2 * dataset.X\n",
    "dataset.head(10)"
   ]
  },
  {
   "cell_type": "markdown",
   "metadata": {
    "colab_type": "text",
    "id": "hRRoxxAwcals"
   },
   "source": [
    "### Utilizando o statsmodels"
   ]
  },
  {
   "cell_type": "code",
   "execution_count": 62,
   "metadata": {
    "colab": {
     "base_uri": "https://localhost:8080/",
     "height": 204
    },
    "colab_type": "code",
    "id": "qLhv0yTgcals",
    "outputId": "43f540ac-006f-4e1c-adab-8a9e8844cef5",
    "scrolled": true
   },
   "outputs": [
    {
     "data": {
      "text/html": [
       "<div>\n",
       "<style scoped>\n",
       "    .dataframe tbody tr th:only-of-type {\n",
       "        vertical-align: middle;\n",
       "    }\n",
       "\n",
       "    .dataframe tbody tr th {\n",
       "        vertical-align: top;\n",
       "    }\n",
       "\n",
       "    .dataframe thead th {\n",
       "        text-align: right;\n",
       "    }\n",
       "</style>\n",
       "<table border=\"1\" class=\"dataframe\">\n",
       "  <thead>\n",
       "    <tr style=\"text-align: right;\">\n",
       "      <th></th>\n",
       "      <th>Y</th>\n",
       "      <th>X</th>\n",
       "      <th>Y_previsto</th>\n",
       "      <th>Y_previsto_statsmodels</th>\n",
       "    </tr>\n",
       "  </thead>\n",
       "  <tbody>\n",
       "    <tr>\n",
       "      <th>0</th>\n",
       "      <td>3011</td>\n",
       "      <td>9714</td>\n",
       "      <td>3095.785086</td>\n",
       "      <td>3095.785086</td>\n",
       "    </tr>\n",
       "    <tr>\n",
       "      <th>1</th>\n",
       "      <td>1305</td>\n",
       "      <td>3728</td>\n",
       "      <td>1316.203010</td>\n",
       "      <td>1316.203010</td>\n",
       "    </tr>\n",
       "    <tr>\n",
       "      <th>2</th>\n",
       "      <td>1879</td>\n",
       "      <td>6062</td>\n",
       "      <td>2010.079483</td>\n",
       "      <td>2010.079483</td>\n",
       "    </tr>\n",
       "    <tr>\n",
       "      <th>3</th>\n",
       "      <td>2654</td>\n",
       "      <td>8845</td>\n",
       "      <td>2837.439476</td>\n",
       "      <td>2837.439476</td>\n",
       "    </tr>\n",
       "    <tr>\n",
       "      <th>4</th>\n",
       "      <td>2849</td>\n",
       "      <td>8378</td>\n",
       "      <td>2698.604723</td>\n",
       "      <td>2698.604723</td>\n",
       "    </tr>\n",
       "  </tbody>\n",
       "</table>\n",
       "</div>"
      ],
      "text/plain": [
       "      Y     X   Y_previsto  Y_previsto_statsmodels\n",
       "0  3011  9714  3095.785086             3095.785086\n",
       "1  1305  3728  1316.203010             1316.203010\n",
       "2  1879  6062  2010.079483             2010.079483\n",
       "3  2654  8845  2837.439476             2837.439476\n",
       "4  2849  8378  2698.604723             2698.604723"
      ]
     },
     "execution_count": 62,
     "metadata": {},
     "output_type": "execute_result"
    }
   ],
   "source": [
    "dataset['Y_previsto_statsmodels'] = resultado_regressao.predict()\n",
    "dataset.head()"
   ]
  },
  {
   "cell_type": "code",
   "execution_count": 63,
   "metadata": {
    "colab": {
     "base_uri": "https://localhost:8080/",
     "height": 1599
    },
    "colab_type": "code",
    "id": "FctIV05Kcalu",
    "outputId": "3482ccfd-9b1d-4dd4-d2de-cdc3926cd28b",
    "scrolled": true
   },
   "outputs": [
    {
     "data": {
      "text/html": [
       "<div>\n",
       "<style scoped>\n",
       "    .dataframe tbody tr th:only-of-type {\n",
       "        vertical-align: middle;\n",
       "    }\n",
       "\n",
       "    .dataframe tbody tr th {\n",
       "        vertical-align: top;\n",
       "    }\n",
       "\n",
       "    .dataframe thead th {\n",
       "        text-align: right;\n",
       "    }\n",
       "</style>\n",
       "<table border=\"1\" class=\"dataframe\">\n",
       "  <thead>\n",
       "    <tr style=\"text-align: right;\">\n",
       "      <th></th>\n",
       "      <th>Y</th>\n",
       "      <th>X</th>\n",
       "      <th>Y_previsto</th>\n",
       "    </tr>\n",
       "  </thead>\n",
       "  <tbody>\n",
       "    <tr>\n",
       "      <th>0</th>\n",
       "      <td>3011</td>\n",
       "      <td>9714</td>\n",
       "      <td>3095.785086</td>\n",
       "    </tr>\n",
       "    <tr>\n",
       "      <th>1</th>\n",
       "      <td>1305</td>\n",
       "      <td>3728</td>\n",
       "      <td>1316.203010</td>\n",
       "    </tr>\n",
       "    <tr>\n",
       "      <th>2</th>\n",
       "      <td>1879</td>\n",
       "      <td>6062</td>\n",
       "      <td>2010.079483</td>\n",
       "    </tr>\n",
       "    <tr>\n",
       "      <th>3</th>\n",
       "      <td>2654</td>\n",
       "      <td>8845</td>\n",
       "      <td>2837.439476</td>\n",
       "    </tr>\n",
       "    <tr>\n",
       "      <th>4</th>\n",
       "      <td>2849</td>\n",
       "      <td>8378</td>\n",
       "      <td>2698.604723</td>\n",
       "    </tr>\n",
       "    <tr>\n",
       "      <th>5</th>\n",
       "      <td>1068</td>\n",
       "      <td>3338</td>\n",
       "      <td>1200.259640</td>\n",
       "    </tr>\n",
       "    <tr>\n",
       "      <th>6</th>\n",
       "      <td>2892</td>\n",
       "      <td>8507</td>\n",
       "      <td>2736.955222</td>\n",
       "    </tr>\n",
       "    <tr>\n",
       "      <th>7</th>\n",
       "      <td>2543</td>\n",
       "      <td>7947</td>\n",
       "      <td>2570.472435</td>\n",
       "    </tr>\n",
       "    <tr>\n",
       "      <th>8</th>\n",
       "      <td>3074</td>\n",
       "      <td>9915</td>\n",
       "      <td>3155.540515</td>\n",
       "    </tr>\n",
       "    <tr>\n",
       "      <th>9</th>\n",
       "      <td>849</td>\n",
       "      <td>1632</td>\n",
       "      <td>693.081721</td>\n",
       "    </tr>\n",
       "    <tr>\n",
       "      <th>10</th>\n",
       "      <td>2184</td>\n",
       "      <td>6825</td>\n",
       "      <td>2236.912280</td>\n",
       "    </tr>\n",
       "    <tr>\n",
       "      <th>11</th>\n",
       "      <td>2943</td>\n",
       "      <td>8918</td>\n",
       "      <td>2859.141696</td>\n",
       "    </tr>\n",
       "    <tr>\n",
       "      <th>12</th>\n",
       "      <td>1357</td>\n",
       "      <td>4100</td>\n",
       "      <td>1426.795147</td>\n",
       "    </tr>\n",
       "    <tr>\n",
       "      <th>13</th>\n",
       "      <td>2755</td>\n",
       "      <td>9184</td>\n",
       "      <td>2938.221020</td>\n",
       "    </tr>\n",
       "    <tr>\n",
       "      <th>14</th>\n",
       "      <td>2163</td>\n",
       "      <td>6180</td>\n",
       "      <td>2045.159784</td>\n",
       "    </tr>\n",
       "    <tr>\n",
       "      <th>15</th>\n",
       "      <td>3099</td>\n",
       "      <td>9997</td>\n",
       "      <td>3179.918352</td>\n",
       "    </tr>\n",
       "    <tr>\n",
       "      <th>16</th>\n",
       "      <td>1600</td>\n",
       "      <td>4500</td>\n",
       "      <td>1545.711423</td>\n",
       "    </tr>\n",
       "    <tr>\n",
       "      <th>17</th>\n",
       "      <td>353</td>\n",
       "      <td>1069</td>\n",
       "      <td>525.707062</td>\n",
       "    </tr>\n",
       "    <tr>\n",
       "      <th>18</th>\n",
       "      <td>1778</td>\n",
       "      <td>5925</td>\n",
       "      <td>1969.350658</td>\n",
       "    </tr>\n",
       "    <tr>\n",
       "      <th>19</th>\n",
       "      <td>740</td>\n",
       "      <td>2466</td>\n",
       "      <td>941.022158</td>\n",
       "    </tr>\n",
       "    <tr>\n",
       "      <th>20</th>\n",
       "      <td>2129</td>\n",
       "      <td>6083</td>\n",
       "      <td>2016.322587</td>\n",
       "    </tr>\n",
       "    <tr>\n",
       "      <th>21</th>\n",
       "      <td>3302</td>\n",
       "      <td>9712</td>\n",
       "      <td>3095.190505</td>\n",
       "    </tr>\n",
       "    <tr>\n",
       "      <th>22</th>\n",
       "      <td>2412</td>\n",
       "      <td>7780</td>\n",
       "      <td>2520.824890</td>\n",
       "    </tr>\n",
       "    <tr>\n",
       "      <th>23</th>\n",
       "      <td>2683</td>\n",
       "      <td>8383</td>\n",
       "      <td>2700.091176</td>\n",
       "    </tr>\n",
       "    <tr>\n",
       "      <th>24</th>\n",
       "      <td>2515</td>\n",
       "      <td>7185</td>\n",
       "      <td>2343.936929</td>\n",
       "    </tr>\n",
       "    <tr>\n",
       "      <th>25</th>\n",
       "      <td>2395</td>\n",
       "      <td>7483</td>\n",
       "      <td>2432.529554</td>\n",
       "    </tr>\n",
       "    <tr>\n",
       "      <th>26</th>\n",
       "      <td>2292</td>\n",
       "      <td>7640</td>\n",
       "      <td>2479.204193</td>\n",
       "    </tr>\n",
       "    <tr>\n",
       "      <th>27</th>\n",
       "      <td>1000</td>\n",
       "      <td>2100</td>\n",
       "      <td>832.213765</td>\n",
       "    </tr>\n",
       "    <tr>\n",
       "      <th>28</th>\n",
       "      <td>600</td>\n",
       "      <td>2000</td>\n",
       "      <td>802.484696</td>\n",
       "    </tr>\n",
       "    <tr>\n",
       "      <th>29</th>\n",
       "      <td>1864</td>\n",
       "      <td>6012</td>\n",
       "      <td>1995.214948</td>\n",
       "    </tr>\n",
       "    <tr>\n",
       "      <th>30</th>\n",
       "      <td>3027</td>\n",
       "      <td>8902</td>\n",
       "      <td>2854.385045</td>\n",
       "    </tr>\n",
       "    <tr>\n",
       "      <th>31</th>\n",
       "      <td>1978</td>\n",
       "      <td>5345</td>\n",
       "      <td>1796.922057</td>\n",
       "    </tr>\n",
       "    <tr>\n",
       "      <th>32</th>\n",
       "      <td>2791</td>\n",
       "      <td>8210</td>\n",
       "      <td>2648.659887</td>\n",
       "    </tr>\n",
       "    <tr>\n",
       "      <th>33</th>\n",
       "      <td>1982</td>\n",
       "      <td>5662</td>\n",
       "      <td>1891.163206</td>\n",
       "    </tr>\n",
       "    <tr>\n",
       "      <th>34</th>\n",
       "      <td>900</td>\n",
       "      <td>2700</td>\n",
       "      <td>1010.588179</td>\n",
       "    </tr>\n",
       "    <tr>\n",
       "      <th>35</th>\n",
       "      <td>1964</td>\n",
       "      <td>6546</td>\n",
       "      <td>2153.968177</td>\n",
       "    </tr>\n",
       "    <tr>\n",
       "      <th>36</th>\n",
       "      <td>1247</td>\n",
       "      <td>2900</td>\n",
       "      <td>1070.046318</td>\n",
       "    </tr>\n",
       "    <tr>\n",
       "      <th>37</th>\n",
       "      <td>3067</td>\n",
       "      <td>9894</td>\n",
       "      <td>3149.297410</td>\n",
       "    </tr>\n",
       "    <tr>\n",
       "      <th>38</th>\n",
       "      <td>700</td>\n",
       "      <td>1500</td>\n",
       "      <td>653.839350</td>\n",
       "    </tr>\n",
       "    <tr>\n",
       "      <th>39</th>\n",
       "      <td>1500</td>\n",
       "      <td>5000</td>\n",
       "      <td>1694.356769</td>\n",
       "    </tr>\n",
       "    <tr>\n",
       "      <th>40</th>\n",
       "      <td>3110</td>\n",
       "      <td>8885</td>\n",
       "      <td>2849.331103</td>\n",
       "    </tr>\n",
       "    <tr>\n",
       "      <th>41</th>\n",
       "      <td>2644</td>\n",
       "      <td>8813</td>\n",
       "      <td>2827.926174</td>\n",
       "    </tr>\n",
       "    <tr>\n",
       "      <th>42</th>\n",
       "      <td>1378</td>\n",
       "      <td>3446</td>\n",
       "      <td>1232.367035</td>\n",
       "    </tr>\n",
       "    <tr>\n",
       "      <th>43</th>\n",
       "      <td>2601</td>\n",
       "      <td>7881</td>\n",
       "      <td>2550.851249</td>\n",
       "    </tr>\n",
       "    <tr>\n",
       "      <th>44</th>\n",
       "      <td>501</td>\n",
       "      <td>1164</td>\n",
       "      <td>553.949678</td>\n",
       "    </tr>\n",
       "    <tr>\n",
       "      <th>45</th>\n",
       "      <td>1292</td>\n",
       "      <td>3401</td>\n",
       "      <td>1218.988954</td>\n",
       "    </tr>\n",
       "    <tr>\n",
       "      <th>46</th>\n",
       "      <td>2125</td>\n",
       "      <td>6641</td>\n",
       "      <td>2182.210793</td>\n",
       "    </tr>\n",
       "    <tr>\n",
       "      <th>47</th>\n",
       "      <td>1431</td>\n",
       "      <td>3329</td>\n",
       "      <td>1197.584024</td>\n",
       "    </tr>\n",
       "    <tr>\n",
       "      <th>48</th>\n",
       "      <td>2260</td>\n",
       "      <td>6648</td>\n",
       "      <td>2184.291828</td>\n",
       "    </tr>\n",
       "    <tr>\n",
       "      <th>49</th>\n",
       "      <td>1770</td>\n",
       "      <td>4800</td>\n",
       "      <td>1634.898631</td>\n",
       "    </tr>\n",
       "  </tbody>\n",
       "</table>\n",
       "</div>"
      ],
      "text/plain": [
       "       Y     X   Y_previsto\n",
       "0   3011  9714  3095.785086\n",
       "1   1305  3728  1316.203010\n",
       "2   1879  6062  2010.079483\n",
       "3   2654  8845  2837.439476\n",
       "4   2849  8378  2698.604723\n",
       "5   1068  3338  1200.259640\n",
       "6   2892  8507  2736.955222\n",
       "7   2543  7947  2570.472435\n",
       "8   3074  9915  3155.540515\n",
       "9    849  1632   693.081721\n",
       "10  2184  6825  2236.912280\n",
       "11  2943  8918  2859.141696\n",
       "12  1357  4100  1426.795147\n",
       "13  2755  9184  2938.221020\n",
       "14  2163  6180  2045.159784\n",
       "15  3099  9997  3179.918352\n",
       "16  1600  4500  1545.711423\n",
       "17   353  1069   525.707062\n",
       "18  1778  5925  1969.350658\n",
       "19   740  2466   941.022158\n",
       "20  2129  6083  2016.322587\n",
       "21  3302  9712  3095.190505\n",
       "22  2412  7780  2520.824890\n",
       "23  2683  8383  2700.091176\n",
       "24  2515  7185  2343.936929\n",
       "25  2395  7483  2432.529554\n",
       "26  2292  7640  2479.204193\n",
       "27  1000  2100   832.213765\n",
       "28   600  2000   802.484696\n",
       "29  1864  6012  1995.214948\n",
       "30  3027  8902  2854.385045\n",
       "31  1978  5345  1796.922057\n",
       "32  2791  8210  2648.659887\n",
       "33  1982  5662  1891.163206\n",
       "34   900  2700  1010.588179\n",
       "35  1964  6546  2153.968177\n",
       "36  1247  2900  1070.046318\n",
       "37  3067  9894  3149.297410\n",
       "38   700  1500   653.839350\n",
       "39  1500  5000  1694.356769\n",
       "40  3110  8885  2849.331103\n",
       "41  2644  8813  2827.926174\n",
       "42  1378  3446  1232.367035\n",
       "43  2601  7881  2550.851249\n",
       "44   501  1164   553.949678\n",
       "45  1292  3401  1218.988954\n",
       "46  2125  6641  2182.210793\n",
       "47  1431  3329  1197.584024\n",
       "48  2260  6648  2184.291828\n",
       "49  1770  4800  1634.898631"
      ]
     },
     "execution_count": 63,
     "metadata": {},
     "output_type": "execute_result"
    }
   ],
   "source": [
    "dataset.drop(['Y_previsto_statsmodels'], axis = 1, inplace = True)\n",
    "datasett"
   ]
  },
  {
   "cell_type": "markdown",
   "metadata": {
    "colab_type": "text",
    "id": "OZBs0luwcalv"
   },
   "source": [
    "### Estimando o 'Gasto das Famílias' fora da amostra"
   ]
  },
  {
   "cell_type": "code",
   "execution_count": 64,
   "metadata": {
    "colab": {},
    "colab_type": "code",
    "id": "4gXSqx41calv"
   },
   "outputs": [],
   "source": [
    "def prever(x):\n",
    "  return beta_1 + beta_2 * x"
   ]
  },
  {
   "cell_type": "code",
   "execution_count": 65,
   "metadata": {
    "colab": {
     "base_uri": "https://localhost:8080/",
     "height": 35
    },
    "colab_type": "code",
    "id": "RyBwrPlQcalx",
    "outputId": "235af62b-8be5-4cb6-8b65-c3f5b1f5bb7e"
   },
   "outputs": [
    {
     "data": {
      "text/plain": [
       "2440.5564031404338"
      ]
     },
     "execution_count": 65,
     "metadata": {},
     "output_type": "execute_result"
    }
   ],
   "source": [
    "prever(7510)"
   ]
  },
  {
   "cell_type": "markdown",
   "metadata": {
    "colab_type": "text",
    "id": "3P0ZtB-Qcalz"
   },
   "source": [
    "### Estimando o 'Gasto das Famílias' fora da amostra via StatsModels"
   ]
  },
  {
   "cell_type": "code",
   "execution_count": 66,
   "metadata": {
    "colab": {
     "base_uri": "https://localhost:8080/",
     "height": 35
    },
    "colab_type": "code",
    "id": "DpDu_yiecal0",
    "outputId": "85d74e32-cb57-49d8-b582-cfab3d4cf210"
   },
   "outputs": [
    {
     "data": {
      "text/plain": [
       "2440.5564031404338"
      ]
     },
     "execution_count": 66,
     "metadata": {},
     "output_type": "execute_result"
    }
   ],
   "source": [
    "resultado_regressao.predict([1, 7510])[0]"
   ]
  },
  {
   "cell_type": "markdown",
   "metadata": {
    "colab_type": "text",
    "id": "NfEjm65Gcal2"
   },
   "source": [
    "## <font color=green>4.5 Resíduos</font>\n",
    "***"
   ]
  },
  {
   "cell_type": "markdown",
   "metadata": {
    "colab_type": "text",
    "id": "RVAQCkvH75mH"
   },
   "source": [
    "Como vimos anteriormente, o resíduo da i-ésima observação é a diferença entre o valor observado de nossa variável dependente ($Y_i$) e o valor estimado da variável dependente ($\\hat{Y}_i$)."
   ]
  },
  {
   "cell_type": "markdown",
   "metadata": {
    "colab_type": "text",
    "id": "EAGrrY7xcal3"
   },
   "source": [
    "# $$\\hat{u}_i = Y_i - \\hat{Y}_i$$"
   ]
  },
  {
   "cell_type": "markdown",
   "metadata": {
    "colab_type": "text",
    "id": "QVekZtNU75mH"
   },
   "source": [
    "Em outras palavras, $\\hat{u}_i$ é o erro obtido ao se utilizar a equação de regressão estimada para prever o valor da variável dependente."
   ]
  },
  {
   "cell_type": "code",
   "execution_count": 67,
   "metadata": {
    "colab": {
     "base_uri": "https://localhost:8080/",
     "height": 204
    },
    "colab_type": "code",
    "id": "oiB2JiOLcal3",
    "outputId": "64f5f10e-4462-4336-bbbf-8eba676f234d",
    "scrolled": true
   },
   "outputs": [
    {
     "data": {
      "text/html": [
       "<div>\n",
       "<style scoped>\n",
       "    .dataframe tbody tr th:only-of-type {\n",
       "        vertical-align: middle;\n",
       "    }\n",
       "\n",
       "    .dataframe tbody tr th {\n",
       "        vertical-align: top;\n",
       "    }\n",
       "\n",
       "    .dataframe thead th {\n",
       "        text-align: right;\n",
       "    }\n",
       "</style>\n",
       "<table border=\"1\" class=\"dataframe\">\n",
       "  <thead>\n",
       "    <tr style=\"text-align: right;\">\n",
       "      <th></th>\n",
       "      <th>Y</th>\n",
       "      <th>X</th>\n",
       "      <th>Y_previsto</th>\n",
       "      <th>u</th>\n",
       "    </tr>\n",
       "  </thead>\n",
       "  <tbody>\n",
       "    <tr>\n",
       "      <th>0</th>\n",
       "      <td>3011</td>\n",
       "      <td>9714</td>\n",
       "      <td>3095.785086</td>\n",
       "      <td>-84.785086</td>\n",
       "    </tr>\n",
       "    <tr>\n",
       "      <th>1</th>\n",
       "      <td>1305</td>\n",
       "      <td>3728</td>\n",
       "      <td>1316.203010</td>\n",
       "      <td>-11.203010</td>\n",
       "    </tr>\n",
       "    <tr>\n",
       "      <th>2</th>\n",
       "      <td>1879</td>\n",
       "      <td>6062</td>\n",
       "      <td>2010.079483</td>\n",
       "      <td>-131.079483</td>\n",
       "    </tr>\n",
       "    <tr>\n",
       "      <th>3</th>\n",
       "      <td>2654</td>\n",
       "      <td>8845</td>\n",
       "      <td>2837.439476</td>\n",
       "      <td>-183.439476</td>\n",
       "    </tr>\n",
       "    <tr>\n",
       "      <th>4</th>\n",
       "      <td>2849</td>\n",
       "      <td>8378</td>\n",
       "      <td>2698.604723</td>\n",
       "      <td>150.395277</td>\n",
       "    </tr>\n",
       "  </tbody>\n",
       "</table>\n",
       "</div>"
      ],
      "text/plain": [
       "      Y     X   Y_previsto           u\n",
       "0  3011  9714  3095.785086  -84.785086\n",
       "1  1305  3728  1316.203010  -11.203010\n",
       "2  1879  6062  2010.079483 -131.079483\n",
       "3  2654  8845  2837.439476 -183.439476\n",
       "4  2849  8378  2698.604723  150.395277"
      ]
     },
     "execution_count": 67,
     "metadata": {},
     "output_type": "execute_result"
    }
   ],
   "source": [
    "dataset['u'] = dataset.Y - dataset.Y_previsto\n",
    "dataset.head()"
   ]
  },
  {
   "cell_type": "code",
   "execution_count": 68,
   "metadata": {
    "colab": {
     "base_uri": "https://localhost:8080/",
     "height": 204
    },
    "colab_type": "code",
    "id": "_rtZhoU8cal5",
    "outputId": "c608100a-fb45-4765-e581-b37cf315b78e"
   },
   "outputs": [
    {
     "data": {
      "text/html": [
       "<div>\n",
       "<style scoped>\n",
       "    .dataframe tbody tr th:only-of-type {\n",
       "        vertical-align: middle;\n",
       "    }\n",
       "\n",
       "    .dataframe tbody tr th {\n",
       "        vertical-align: top;\n",
       "    }\n",
       "\n",
       "    .dataframe thead th {\n",
       "        text-align: right;\n",
       "    }\n",
       "</style>\n",
       "<table border=\"1\" class=\"dataframe\">\n",
       "  <thead>\n",
       "    <tr style=\"text-align: right;\">\n",
       "      <th></th>\n",
       "      <th>Y</th>\n",
       "      <th>X</th>\n",
       "      <th>Y_previsto</th>\n",
       "      <th>u</th>\n",
       "      <th>Residuos</th>\n",
       "    </tr>\n",
       "  </thead>\n",
       "  <tbody>\n",
       "    <tr>\n",
       "      <th>0</th>\n",
       "      <td>3011</td>\n",
       "      <td>9714</td>\n",
       "      <td>3095.785086</td>\n",
       "      <td>-84.785086</td>\n",
       "      <td>-84.785086</td>\n",
       "    </tr>\n",
       "    <tr>\n",
       "      <th>1</th>\n",
       "      <td>1305</td>\n",
       "      <td>3728</td>\n",
       "      <td>1316.203010</td>\n",
       "      <td>-11.203010</td>\n",
       "      <td>-11.203010</td>\n",
       "    </tr>\n",
       "    <tr>\n",
       "      <th>2</th>\n",
       "      <td>1879</td>\n",
       "      <td>6062</td>\n",
       "      <td>2010.079483</td>\n",
       "      <td>-131.079483</td>\n",
       "      <td>-131.079483</td>\n",
       "    </tr>\n",
       "    <tr>\n",
       "      <th>3</th>\n",
       "      <td>2654</td>\n",
       "      <td>8845</td>\n",
       "      <td>2837.439476</td>\n",
       "      <td>-183.439476</td>\n",
       "      <td>-183.439476</td>\n",
       "    </tr>\n",
       "    <tr>\n",
       "      <th>4</th>\n",
       "      <td>2849</td>\n",
       "      <td>8378</td>\n",
       "      <td>2698.604723</td>\n",
       "      <td>150.395277</td>\n",
       "      <td>150.395277</td>\n",
       "    </tr>\n",
       "  </tbody>\n",
       "</table>\n",
       "</div>"
      ],
      "text/plain": [
       "      Y     X   Y_previsto           u    Residuos\n",
       "0  3011  9714  3095.785086  -84.785086  -84.785086\n",
       "1  1305  3728  1316.203010  -11.203010  -11.203010\n",
       "2  1879  6062  2010.079483 -131.079483 -131.079483\n",
       "3  2654  8845  2837.439476 -183.439476 -183.439476\n",
       "4  2849  8378  2698.604723  150.395277  150.395277"
      ]
     },
     "execution_count": 68,
     "metadata": {},
     "output_type": "execute_result"
    }
   ],
   "source": [
    "dataset['Residuos'] = resultado_regressao.resid\n",
    "dataset.head()"
   ]
  },
  {
   "cell_type": "code",
   "execution_count": 69,
   "metadata": {
    "colab": {
     "base_uri": "https://localhost:8080/",
     "height": 204
    },
    "colab_type": "code",
    "id": "GbnSv-B-cal6",
    "outputId": "d04dd941-1936-443e-fb8d-a050babc1ccd",
    "scrolled": true
   },
   "outputs": [
    {
     "data": {
      "text/html": [
       "<div>\n",
       "<style scoped>\n",
       "    .dataframe tbody tr th:only-of-type {\n",
       "        vertical-align: middle;\n",
       "    }\n",
       "\n",
       "    .dataframe tbody tr th {\n",
       "        vertical-align: top;\n",
       "    }\n",
       "\n",
       "    .dataframe thead th {\n",
       "        text-align: right;\n",
       "    }\n",
       "</style>\n",
       "<table border=\"1\" class=\"dataframe\">\n",
       "  <thead>\n",
       "    <tr style=\"text-align: right;\">\n",
       "      <th></th>\n",
       "      <th>Y</th>\n",
       "      <th>X</th>\n",
       "      <th>Y_previsto</th>\n",
       "      <th>Residuos</th>\n",
       "    </tr>\n",
       "  </thead>\n",
       "  <tbody>\n",
       "    <tr>\n",
       "      <th>0</th>\n",
       "      <td>3011</td>\n",
       "      <td>9714</td>\n",
       "      <td>3095.785086</td>\n",
       "      <td>-84.785086</td>\n",
       "    </tr>\n",
       "    <tr>\n",
       "      <th>1</th>\n",
       "      <td>1305</td>\n",
       "      <td>3728</td>\n",
       "      <td>1316.203010</td>\n",
       "      <td>-11.203010</td>\n",
       "    </tr>\n",
       "    <tr>\n",
       "      <th>2</th>\n",
       "      <td>1879</td>\n",
       "      <td>6062</td>\n",
       "      <td>2010.079483</td>\n",
       "      <td>-131.079483</td>\n",
       "    </tr>\n",
       "    <tr>\n",
       "      <th>3</th>\n",
       "      <td>2654</td>\n",
       "      <td>8845</td>\n",
       "      <td>2837.439476</td>\n",
       "      <td>-183.439476</td>\n",
       "    </tr>\n",
       "    <tr>\n",
       "      <th>4</th>\n",
       "      <td>2849</td>\n",
       "      <td>8378</td>\n",
       "      <td>2698.604723</td>\n",
       "      <td>150.395277</td>\n",
       "    </tr>\n",
       "  </tbody>\n",
       "</table>\n",
       "</div>"
      ],
      "text/plain": [
       "      Y     X   Y_previsto    Residuos\n",
       "0  3011  9714  3095.785086  -84.785086\n",
       "1  1305  3728  1316.203010  -11.203010\n",
       "2  1879  6062  2010.079483 -131.079483\n",
       "3  2654  8845  2837.439476 -183.439476\n",
       "4  2849  8378  2698.604723  150.395277"
      ]
     },
     "execution_count": 69,
     "metadata": {},
     "output_type": "execute_result"
    }
   ],
   "source": [
    "dataset.drop(['u'], axis = 1, inplace = True)\n",
    "dataset.head()"
   ]
  },
  {
   "cell_type": "code",
   "execution_count": 70,
   "metadata": {
    "colab": {
     "base_uri": "https://localhost:8080/",
     "height": 35
    },
    "colab_type": "code",
    "id": "HQZQyrCzmHha",
    "outputId": "3f7b4cdb-9ab8-4a81-9e40-68f9da4675bf"
   },
   "outputs": [
    {
     "data": {
      "text/plain": [
       "5.479705578181893e-13"
      ]
     },
     "execution_count": 70,
     "metadata": {},
     "output_type": "execute_result"
    }
   ],
   "source": [
    "dataset.Residuos.mean()"
   ]
  },
  {
   "cell_type": "markdown",
   "metadata": {
    "colab_type": "text",
    "id": "2FUvXCAW75mL"
   },
   "source": [
    "## <font color=green>4.6 Suposições sobre o termo de erro $u$</font>\n",
    "***\n",
    "\n",
    "### 1. O termo de erro $u$ é uma variável aleatória com média igual a zero: $E(u) = 0$\n",
    "### 2. A variância de $u$ é a mesma para todos os valores de $X$\n",
    "### 3. Os valores de $u$ são independentes\n",
    "### 4. O termo de erro $u$ é uma variável aleatória normalmente distribuída."
   ]
  },
  {
   "cell_type": "markdown",
   "metadata": {
    "colab_type": "text",
    "id": "7mFDWvhFcal7"
   },
   "source": [
    "### Plotando os resíduos do modelo\n",
    "\n",
    "https://seaborn.pydata.org/generated/seaborn.scatterplot.html"
   ]
  },
  {
   "cell_type": "code",
   "execution_count": 71,
   "metadata": {
    "colab": {
     "base_uri": "https://localhost:8080/",
     "height": 431
    },
    "colab_type": "code",
    "id": "r3RhXDBccal8",
    "outputId": "1db64403-88b8-4e89-9eaf-e817184af365"
   },
   "outputs": [
    {
     "data": {
      "text/plain": [
       "<AxesSubplot:title={'center':'Resíduos vs Variável Independente'}, xlabel='X', ylabel='Resíduos'>"
      ]
     },
     "execution_count": 71,
     "metadata": {},
     "output_type": "execute_result"
    },
    {
     "data": {
      "image/png": "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\n",
      "text/plain": [
       "<Figure size 864x432 with 1 Axes>"
      ]
     },
     "metadata": {
      "needs_background": "light"
     },
     "output_type": "display_data"
    }
   ],
   "source": [
    "ax = sns.scatterplot(x=dataset.X, y=dataset.Residuos)\n",
    "ax.figure.set_size_inches(12, 6)\n",
    "ax.set_title('Resíduos vs Variável Independente', fontsize=18)\n",
    "ax.set_xlabel('X', fontsize=14)\n",
    "ax.set_ylabel('Resíduos', fontsize=14)\n",
    "ax"
   ]
  },
  {
   "cell_type": "code",
   "execution_count": 72,
   "metadata": {
    "colab": {
     "base_uri": "https://localhost:8080/",
     "height": 431
    },
    "colab_type": "code",
    "id": "6An7Ir6275mN",
    "outputId": "5218dc56-a6fd-4495-a354-0ba0b44eb2ba"
   },
   "outputs": [
    {
     "data": {
      "text/plain": [
       "<AxesSubplot:title={'center':'Resíduos vs Y_Previsto'}, xlabel='Y_Previsto', ylabel='Resíduos'>"
      ]
     },
     "execution_count": 72,
     "metadata": {},
     "output_type": "execute_result"
    },
    {
     "data": {
      "image/png": "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\n",
      "text/plain": [
       "<Figure size 864x432 with 1 Axes>"
      ]
     },
     "metadata": {
      "needs_background": "light"
     },
     "output_type": "display_data"
    }
   ],
   "source": [
    "ax = sns.scatterplot(x=dataset.Y_previsto, y=dataset.Residuos)\n",
    "ax.figure.set_size_inches(12, 6)\n",
    "ax.set_title('Resíduos vs Y_Previsto', fontsize=18)\n",
    "ax.set_xlabel('Y_Previsto', fontsize=14)\n",
    "ax.set_ylabel('Resíduos', fontsize=14)\n",
    "ax"
   ]
  },
  {
   "cell_type": "markdown",
   "metadata": {
    "colab_type": "text",
    "id": "72hPAKNKcamD"
   },
   "source": [
    "### Hipótese de variância constante"
   ]
  },
  {
   "cell_type": "markdown",
   "metadata": {
    "colab_type": "text",
    "id": "dm_pfD0jcamE"
   },
   "source": [
    "<img src=\"https://caelum-online-public.s3.amazonaws.com/1273-estatistica-parte4/01/img028.jpg\" width=80%>\n",
    "Fonte: Econometria Básica - 5ª edição - Gujarati e Porter"
   ]
  },
  {
   "cell_type": "code",
   "execution_count": 73,
   "metadata": {
    "colab": {
     "base_uri": "https://localhost:8080/",
     "height": 431
    },
    "colab_type": "code",
    "id": "lCys_bu_camE",
    "outputId": "1637649e-41ed-40af-a004-dcfb5c9ee89f"
   },
   "outputs": [
    {
     "data": {
      "text/plain": [
       "<AxesSubplot:title={'center':'Resíduos² vs Y_Previsto'}, xlabel='Y_Previsto', ylabel='Resíduos²'>"
      ]
     },
     "execution_count": 73,
     "metadata": {},
     "output_type": "execute_result"
    },
    {
     "data": {
      "image/png": "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\n",
      "text/plain": [
       "<Figure size 864x432 with 1 Axes>"
      ]
     },
     "metadata": {
      "needs_background": "light"
     },
     "output_type": "display_data"
    }
   ],
   "source": [
    "ax = sns.scatterplot(x=dataset.Y_previsto, y=dataset.Residuos**2)\n",
    "ax.figure.set_size_inches(12, 6)\n",
    "ax.set_title('Resíduos² vs Y_Previsto', fontsize=18)\n",
    "ax.set_xlabel('Y_Previsto', fontsize=14)\n",
    "ax.set_ylabel('Resíduos²', fontsize=14)\n",
    "ax"
   ]
  },
  {
   "cell_type": "markdown",
   "metadata": {
    "colab_type": "text",
    "id": "d3X2NkIicamv"
   },
   "source": [
    "## <font color=green>4.7 O coeficiente de determinação $R^2$</font>\n",
    "***"
   ]
  },
  {
   "cell_type": "markdown",
   "metadata": {
    "colab_type": "text",
    "id": "02AXBeBrcamw"
   },
   "source": [
    "O **coeficiente de determinação R²** é uma medida resumida que diz quanto a linha de regressão amostral se ajusta aos dados. Pode ser obtido a partir da seguinte fórmula:\n",
    "\n",
    "# $$R^2 = \\frac{\\big[\\sum{(Y_i - \\bar{Y})(\\hat{Y}_i - \\bar{Y})}\\big]^2}{\\sum{(Y_i - \\bar{Y}})^2 \\sum{(\\hat{Y}_i - \\bar{Y}})^2}$$\n",
    "\n",
    "Sabemos que o i-ésimo resíduo representa o erro de usarmos $\\hat{Y}_i$ para estimar $Y_i$. A soma dos quadrados desses resíduos é o valor que é minimizado pelo método dos mínimos quadrados. Esse valor pode ser representado da seguinte forma:\n",
    "\n",
    "# $$SQE = \\sum{(Y_i - \\hat{Y}_i)^2}$$\n",
    "\n",
    "O valor da SQE é uma medida do erro de se usar a equação de regressão estimada para estimar os valores da variável dependente na amostra.\n",
    "\n",
    "Outro componente que podemos medir é a soma dos quadrados total (SQT) que representa a medida do erro envolvido no uso da média ($\\bar{Y}$) para fazer as estimativas. A SQT pode ser representada da forma abaixo:\n",
    "\n",
    "# $$SQT = \\sum{(Y_i - \\bar{Y})^2}$$\n",
    "\n",
    "Para quantificar o quanto os valores estimados ($\\hat{Y}_i$) se afastam da média ($\\bar{Y}$) podemos obter mais uma soma de quadrados. Essa soma é chamada de soma dos quadrados da regressão (SQR) e é representada pela seguinte fórmula:\n",
    "\n",
    "# $$SQR = \\sum{(\\hat{Y}_i - \\bar{Y})^2}$$\n"
   ]
  },
  {
   "cell_type": "markdown",
   "metadata": {
    "colab_type": "text",
    "id": "R5QuIfRCoT_W"
   },
   "source": [
    "### Soma do quadrados do erros (SQE)"
   ]
  },
  {
   "cell_type": "code",
   "execution_count": 74,
   "metadata": {
    "colab": {
     "base_uri": "https://localhost:8080/",
     "height": 204
    },
    "colab_type": "code",
    "id": "mjDVczwGcamw",
    "outputId": "52fbebca-5ec6-4b93-f4ce-e15da89ffb0f"
   },
   "outputs": [
    {
     "data": {
      "text/html": [
       "<div>\n",
       "<style scoped>\n",
       "    .dataframe tbody tr th:only-of-type {\n",
       "        vertical-align: middle;\n",
       "    }\n",
       "\n",
       "    .dataframe tbody tr th {\n",
       "        vertical-align: top;\n",
       "    }\n",
       "\n",
       "    .dataframe thead th {\n",
       "        text-align: right;\n",
       "    }\n",
       "</style>\n",
       "<table border=\"1\" class=\"dataframe\">\n",
       "  <thead>\n",
       "    <tr style=\"text-align: right;\">\n",
       "      <th></th>\n",
       "      <th>Y</th>\n",
       "      <th>X</th>\n",
       "      <th>Y_previsto</th>\n",
       "      <th>Residuos</th>\n",
       "    </tr>\n",
       "  </thead>\n",
       "  <tbody>\n",
       "    <tr>\n",
       "      <th>0</th>\n",
       "      <td>3011</td>\n",
       "      <td>9714</td>\n",
       "      <td>3095.785086</td>\n",
       "      <td>-84.785086</td>\n",
       "    </tr>\n",
       "    <tr>\n",
       "      <th>1</th>\n",
       "      <td>1305</td>\n",
       "      <td>3728</td>\n",
       "      <td>1316.203010</td>\n",
       "      <td>-11.203010</td>\n",
       "    </tr>\n",
       "    <tr>\n",
       "      <th>2</th>\n",
       "      <td>1879</td>\n",
       "      <td>6062</td>\n",
       "      <td>2010.079483</td>\n",
       "      <td>-131.079483</td>\n",
       "    </tr>\n",
       "    <tr>\n",
       "      <th>3</th>\n",
       "      <td>2654</td>\n",
       "      <td>8845</td>\n",
       "      <td>2837.439476</td>\n",
       "      <td>-183.439476</td>\n",
       "    </tr>\n",
       "    <tr>\n",
       "      <th>4</th>\n",
       "      <td>2849</td>\n",
       "      <td>8378</td>\n",
       "      <td>2698.604723</td>\n",
       "      <td>150.395277</td>\n",
       "    </tr>\n",
       "  </tbody>\n",
       "</table>\n",
       "</div>"
      ],
      "text/plain": [
       "      Y     X   Y_previsto    Residuos\n",
       "0  3011  9714  3095.785086  -84.785086\n",
       "1  1305  3728  1316.203010  -11.203010\n",
       "2  1879  6062  2010.079483 -131.079483\n",
       "3  2654  8845  2837.439476 -183.439476\n",
       "4  2849  8378  2698.604723  150.395277"
      ]
     },
     "execution_count": 74,
     "metadata": {},
     "output_type": "execute_result"
    }
   ],
   "source": [
    "dataset.head()"
   ]
  },
  {
   "cell_type": "code",
   "execution_count": 75,
   "metadata": {
    "colab": {
     "base_uri": "https://localhost:8080/",
     "height": 35
    },
    "colab_type": "code",
    "id": "fJ9ANPnIcamx",
    "outputId": "6798f1b9-1a61-40ff-e81a-0edeb2fe815c"
   },
   "outputs": [
    {
     "data": {
      "text/plain": [
       "984986.0375191915"
      ]
     },
     "execution_count": 75,
     "metadata": {},
     "output_type": "execute_result"
    }
   ],
   "source": [
    "SQE = dataset.Residuos.apply(lambda u: u**2).sum()\n",
    "SQE"
   ]
  },
  {
   "cell_type": "code",
   "execution_count": 76,
   "metadata": {
    "colab": {
     "base_uri": "https://localhost:8080/",
     "height": 35
    },
    "colab_type": "code",
    "id": "EzaZHZas75mT",
    "outputId": "924dfc13-8cea-446a-9e92-845a557e92e7"
   },
   "outputs": [
    {
     "data": {
      "text/plain": [
       "984986.0375191915"
      ]
     },
     "execution_count": 76,
     "metadata": {},
     "output_type": "execute_result"
    }
   ],
   "source": [
    "# Utilizando o ssr (sum of squared residuals) do statsmodels\n",
    "resultado_regressao.ssr"
   ]
  },
  {
   "cell_type": "markdown",
   "metadata": {
    "colab_type": "text",
    "id": "ciYucebH75mU"
   },
   "source": [
    "### Soma do quadrados total (SQT)"
   ]
  },
  {
   "cell_type": "code",
   "execution_count": 77,
   "metadata": {
    "colab": {
     "base_uri": "https://localhost:8080/",
     "height": 35
    },
    "colab_type": "code",
    "id": "8nBBr4HE75mV",
    "outputId": "97502af2-b60f-4f4e-c3a4-9b8f91c09435"
   },
   "outputs": [
    {
     "data": {
      "text/plain": [
       "32724149.279999997"
      ]
     },
     "execution_count": 77,
     "metadata": {},
     "output_type": "execute_result"
    }
   ],
   "source": [
    "SQT = dataset.Y.apply(lambda y: (y - dataset.Y.mean())**2).sum()\n",
    "SQT"
   ]
  },
  {
   "cell_type": "markdown",
   "metadata": {
    "colab_type": "text",
    "id": "2faHnARf75mW"
   },
   "source": [
    "### Soma do quadrados da regressão (SQR)"
   ]
  },
  {
   "cell_type": "code",
   "execution_count": 78,
   "metadata": {
    "colab": {
     "base_uri": "https://localhost:8080/",
     "height": 35
    },
    "colab_type": "code",
    "id": "sOIQrg2q75mW",
    "outputId": "fbd02601-bece-4e2b-91b1-fbea1a505d69"
   },
   "outputs": [
    {
     "data": {
      "text/plain": [
       "31739163.242480762"
      ]
     },
     "execution_count": 78,
     "metadata": {},
     "output_type": "execute_result"
    }
   ],
   "source": [
    "SQR = dataset.Y_previsto.apply(lambda y: (y - dataset.Y.mean())**2).sum()\n",
    "SQR"
   ]
  },
  {
   "cell_type": "code",
   "execution_count": 79,
   "metadata": {
    "colab": {
     "base_uri": "https://localhost:8080/",
     "height": 35
    },
    "colab_type": "code",
    "id": "6Z_ZWswM75mX",
    "outputId": "641dbb9f-76c9-4bca-b137-6352d3ae9a99"
   },
   "outputs": [
    {
     "data": {
      "text/plain": [
       "31739163.242480807"
      ]
     },
     "execution_count": 79,
     "metadata": {},
     "output_type": "execute_result"
    }
   ],
   "source": [
    "# Utilizando o ess (explained sum of squares) do statsmodels\n",
    "resultado_regressao.ess"
   ]
  },
  {
   "cell_type": "markdown",
   "metadata": {
    "colab_type": "text",
    "id": "qzIqboEg75mY"
   },
   "source": [
    "### Relação entre as somas de quadrados\n",
    "\n",
    "# $$SQT = SQR + SQE$$\n",
    "\n",
    "Onde,\n",
    "\n",
    "\n",
    "### $SQE = \\sum{(Y_i - \\hat{Y}_i)^2}$\n",
    "\n",
    "### $SQT = \\sum{(Y_i - \\bar{Y})^2}$\n",
    "\n",
    "### $SQR = \\sum{(\\hat{Y}_i - \\bar{Y})^2}$\n",
    "\n",
    "\n",
    "<img src=\"https://caelum-online-public.s3.amazonaws.com/1273-estatistica-parte4/01/img029.png\" width=50%>"
   ]
  },
  {
   "cell_type": "markdown",
   "metadata": {
    "colab_type": "text",
    "id": "OMz_pGr375ma"
   },
   "source": [
    "### Coeficiente de determinação (R²)\n",
    "\n",
    "A regressão estimada teria um ajuste perfeito se todos os valores da variável dependente ($Y_i$) estiverem sobre a reta de regressão estimada. Quando isso ocorre temos $Y_i - \\hat{Y}_i = 0$ para todas as observações, o que resulta em uma $SQE = 0$. Como $SQT=SQR+SQE$, é possível deduzir que para termos um ajuste perfeito $SQT$ deve ser igual a $SQR$ e a razão entre estas medidas ($\\frac{SQR}{SQT}$) deve ser igual a 1.\n",
    "\n",
    "Quando o ajuste não é tão perfeito nota-se que a $SQE$ apresenta valores maiores o que faz a razão $\\frac{SQR}{SQT}$ diminuir, e em uma situação de total imperfeição do ajuste teríamos uma $SQR=0$ e $SQE=SQT$ levando a $\\frac{SQR}{SQT}=0$.\n",
    "\n",
    "A razão $\\frac{SQR}{SQT}$, que assume valores entre 0 e 1, é utilizada como medida de eficiência do ajuste da equação de regressão estimada. Essa medida é conhecida como coeficiente de determinação (R²).\n",
    "\n",
    "# $$R^2 = \\frac{SQR}{SQT}$$\n",
    "\n",
    "## <font color='red'>Observação</font>\n",
    "> Somente com a utilização do R² não é possível tirar conclusões sobre a relação entre $Y$ e $X$ ser ou não ser estatisticamente\n",
    "significativa. Este tipo de afirmação deve basear-se em considerações que envolvem o tamanho da amostra e as propriedades da distribuição amostral dos estimadores mínimos quadrados."
   ]
  },
  {
   "cell_type": "code",
   "execution_count": 80,
   "metadata": {
    "colab": {
     "base_uri": "https://localhost:8080/",
     "height": 35
    },
    "colab_type": "code",
    "id": "dKUngOqP75ma",
    "outputId": "3c4ac69b-310a-4393-fbe5-dc39476c5f5f"
   },
   "outputs": [
    {
     "data": {
      "text/plain": [
       "0.9699003317369284"
      ]
     },
     "execution_count": 80,
     "metadata": {},
     "output_type": "execute_result"
    }
   ],
   "source": [
    "R2 = SQR / SQT\n",
    "R2"
   ]
  },
  {
   "cell_type": "code",
   "execution_count": 81,
   "metadata": {
    "colab": {
     "base_uri": "https://localhost:8080/",
     "height": 35
    },
    "colab_type": "code",
    "id": "oFowDxPB75mb",
    "outputId": "6019f00c-818b-4f1f-ba9e-8267ff394c4d"
   },
   "outputs": [
    {
     "data": {
      "text/plain": [
       "0.9699003317369297"
      ]
     },
     "execution_count": 81,
     "metadata": {},
     "output_type": "execute_result"
    }
   ],
   "source": [
    "resultado_regressao.rsquared"
   ]
  },
  {
   "cell_type": "markdown",
   "metadata": {
    "colab_type": "text",
    "id": "BwQR3YxTcam0"
   },
   "source": [
    "## <font color=green>4.8 Testes aplicados a modelos de regressão</font>\n",
    "***"
   ]
  },
  {
   "cell_type": "markdown",
   "metadata": {
    "colab_type": "text",
    "id": "eGZZaMp4td9Y"
   },
   "source": [
    "Como vimos, em uma regressão linear simples, a média da variável dependente ($Y$) é uma função linear da variável independente ($X$):\n",
    "\n",
    "# $$Y_i = \\beta_1 + \\beta_2X_i$$\n",
    "\n",
    "Se o valor de $\\beta_2$ for zero podemos verificar que o valor médio de $Y$ não depende do valor de $X$ e, portanto, concluímos que $X$ e $Y$ não estão linearmente relacionados. De forma alternativa, se o valor de $\\beta_2$ não for igual a zero, concluímos que as duas variáveis estão relacionadas.\n",
    "\n",
    "Para testar se a relação de regressão é significativa, é preciso realizar um **teste de hipóteses** para determinar se o valor de $\\beta_2$ é zero. Antes de realizar este tipo de teste precisamos obter uma estimativa para $\\sigma^2$ (variância do erro)."
   ]
  },
  {
   "cell_type": "markdown",
   "metadata": {
    "colab_type": "text",
    "id": "ePVflM9mtd9Z"
   },
   "source": [
    "### Output do modelo de regressão estimado"
   ]
  },
  {
   "cell_type": "code",
   "execution_count": 82,
   "metadata": {
    "colab": {
     "base_uri": "https://localhost:8080/",
     "height": 503
    },
    "colab_type": "code",
    "id": "xZu92Yaztd9Z",
    "outputId": "26c0e659-1a7a-49ce-aa2b-de49009b7c69"
   },
   "outputs": [
    {
     "name": "stdout",
     "output_type": "stream",
     "text": [
      "                            OLS Regression Results                            \n",
      "==============================================================================\n",
      "Dep. Variable:                      Y   R-squared:                       0.970\n",
      "Model:                            OLS   Adj. R-squared:                  0.969\n",
      "Method:                 Least Squares   F-statistic:                     1547.\n",
      "Date:                Tue, 17 Aug 2021   Prob (F-statistic):           3.56e-38\n",
      "Time:                        09:14:42   Log-Likelihood:                -318.16\n",
      "No. Observations:                  50   AIC:                             640.3\n",
      "Df Residuals:                      48   BIC:                             644.1\n",
      "Df Model:                           1                                         \n",
      "Covariance Type:            nonrobust                                         \n",
      "==============================================================================\n",
      "                 coef    std err          t      P>|t|      [0.025      0.975]\n",
      "------------------------------------------------------------------------------\n",
      "const        207.9033     50.127      4.148      0.000     107.117     308.690\n",
      "X              0.2973      0.008     39.328      0.000       0.282       0.312\n",
      "==============================================================================\n",
      "Omnibus:                       22.833   Durbin-Watson:                   2.408\n",
      "Prob(Omnibus):                  0.000   Jarque-Bera (JB):                3.915\n",
      "Skew:                           0.073   Prob(JB):                        0.141\n",
      "Kurtosis:                       1.637   Cond. No.                     1.64e+04\n",
      "==============================================================================\n",
      "\n",
      "Notes:\n",
      "[1] Standard Errors assume that the covariance matrix of the errors is correctly specified.\n",
      "[2] The condition number is large, 1.64e+04. This might indicate that there are\n",
      "strong multicollinearity or other numerical problems.\n"
     ]
    }
   ],
   "source": [
    "print(resultado_regressao.summary())"
   ]
  },
  {
   "cell_type": "markdown",
   "metadata": {
    "colab_type": "text",
    "id": "imBNBULStd9a"
   },
   "source": [
    "### Erro quadrático médio - estimativa de $\\sigma^2$\n",
    "\n",
    "Lembre-se que a **soma dos quadrados do erros (SQE)** é uma medida numérica da variabilidade dos dados observados em torno da reta de regressão estimada. Todas as somas de quadrados, estudadas anteriormente, estão associadas a um determinado número de graus de liberdade. No caso da SQE, como devem ser estimados dois parâmetros, temos $n-2$ graus de liberdade.\n",
    "\n",
    "O **erro quadrático médio**, representado pela equação abaixo, pode ser obtido dividindo-se a SQE por $n-2$ graus de liberdade.\n",
    "\n",
    "# $$EQM = \\frac{SQE}{n-2}$$"
   ]
  },
  {
   "cell_type": "code",
   "execution_count": 83,
   "metadata": {
    "colab": {
     "base_uri": "https://localhost:8080/",
     "height": 35
    },
    "colab_type": "code",
    "id": "aDxRwFWJtd9a",
    "outputId": "8fa2a4ab-defc-494b-942a-6bf8dab1d41a"
   },
   "outputs": [
    {
     "data": {
      "text/plain": [
       "984986.0375191915"
      ]
     },
     "execution_count": 83,
     "metadata": {},
     "output_type": "execute_result"
    }
   ],
   "source": [
    "SQE"
   ]
  },
  {
   "cell_type": "code",
   "execution_count": 84,
   "metadata": {
    "colab": {
     "base_uri": "https://localhost:8080/",
     "height": 35
    },
    "colab_type": "code",
    "id": "qg5nZub3CEFx",
    "outputId": "54ad264b-c919-4c12-9928-b4c1d7d49def"
   },
   "outputs": [
    {
     "data": {
      "text/plain": [
       "50"
      ]
     },
     "execution_count": 84,
     "metadata": {},
     "output_type": "execute_result"
    }
   ],
   "source": [
    "n"
   ]
  },
  {
   "cell_type": "code",
   "execution_count": 85,
   "metadata": {
    "colab": {
     "base_uri": "https://localhost:8080/",
     "height": 35
    },
    "colab_type": "code",
    "id": "TXfeyZwvtd9b",
    "outputId": "7c2245e2-a436-4b9b-9e5f-0a19bb4baf3d"
   },
   "outputs": [
    {
     "data": {
      "text/plain": [
       "20520.54244831649"
      ]
     },
     "execution_count": 85,
     "metadata": {},
     "output_type": "execute_result"
    }
   ],
   "source": [
    "EQM = SQE / (n - 2)\n",
    "EQM"
   ]
  },
  {
   "cell_type": "code",
   "execution_count": 86,
   "metadata": {
    "colab": {
     "base_uri": "https://localhost:8080/",
     "height": 35
    },
    "colab_type": "code",
    "id": "CF28rNuKtd9d",
    "outputId": "ba2d0b4e-65cd-46ae-be25-e5add14e3508"
   },
   "outputs": [
    {
     "data": {
      "text/plain": [
       "20520.54244831649"
      ]
     },
     "execution_count": 86,
     "metadata": {},
     "output_type": "execute_result"
    }
   ],
   "source": [
    "EQM = resultado_regressao.mse_resid\n",
    "EQM"
   ]
  },
  {
   "cell_type": "markdown",
   "metadata": {
    "colab_type": "text",
    "id": "3xHqA9Gicam0"
   },
   "source": [
    "### Teste de hipótese para nulidade do coeficiente angular"
   ]
  },
  {
   "cell_type": "markdown",
   "metadata": {
    "colab_type": "text",
    "id": "QpUUlnKw9Ac_"
   },
   "source": [
    "Considere o seguinte modelo de regressão linear simples:\n",
    "\n",
    "# $$Y_i = \\beta_1 + \\beta_2X_i + u_i$$\n",
    "\n",
    "Se as variáveis $Y$ e $X$ são linearmente relacionadas, espera-se que $\\beta_2$ seja diferente de zero. Para testar esta hipótese formulamos um teste de hipótese com a seguinte especificação de hipóteses nula e alternativa:\n",
    "\n",
    "## $H_0: \\beta_2 = 0$\n",
    "## $H_1: \\beta_2 \\neq 0$\n",
    "\n",
    "Caso $H_0$ seja rejeitada, concluiremos que existe uma relação linear estatisticamente significativa entre as duas variáveis.\n",
    "\n",
    "Considere agora que $b_1$ e $b_2$ são nossos estimadores de mínimos quadrados. Considere que a distribuição amostral de $b_2$ segue uma normal e também as seguintes propriedades:\n",
    "\n",
    "# $$E(b_2) = \\beta_2$$\n",
    "# $$\\sigma_{b_2} = \\frac{\\sigma}{\\sqrt{\\sum{(X_i - \\bar{X})^2}}}$$\n",
    "\n",
    "Como não conhecemos o valor de $\\sigma$, utilizamos $s$ como estimativa:\n",
    "\n",
    "# $$s_{b_2} = \\frac{s}{\\sqrt{\\sum{(X_i - \\bar{X})^2}}}$$\n",
    "\n",
    "Note que o valor esperado de $b_2$ é $\\beta_2$, logo, $b_2$ é um estimador não viesado de $\\beta_2$. Abaixo temos a estatística de teste (t) que segue uma distribuição t de Student com $n-2$ graus de liberdade.\n",
    "\n",
    "# $$t = \\frac{b_2 - \\beta_2}{s_{b_2}}$$"
   ]
  },
  {
   "cell_type": "markdown",
   "metadata": {
    "colab_type": "text",
    "id": "hupnxGgFtd9g"
   },
   "source": [
    "### Calculando $s$"
   ]
  },
  {
   "cell_type": "code",
   "execution_count": 87,
   "metadata": {
    "colab": {
     "base_uri": "https://localhost:8080/",
     "height": 35
    },
    "colab_type": "code",
    "id": "9r87ZchPcam2",
    "outputId": "fdf0b518-98c1-43b4-db6f-fb54d90dd4b1"
   },
   "outputs": [
    {
     "data": {
      "text/plain": [
       "143.24993001155877"
      ]
     },
     "execution_count": 87,
     "metadata": {},
     "output_type": "execute_result"
    }
   ],
   "source": [
    "s = np.sqrt(resultado_regressao.mse_resid)\n",
    "s"
   ]
  },
  {
   "cell_type": "markdown",
   "metadata": {
    "colab_type": "text",
    "id": "mr85iUdatd9q"
   },
   "source": [
    "### Calculando $\\sum{(X_i - \\bar{X})^2}$"
   ]
  },
  {
   "cell_type": "code",
   "execution_count": 88,
   "metadata": {
    "colab": {
     "base_uri": "https://localhost:8080/",
     "height": 35
    },
    "colab_type": "code",
    "id": "exNBEriWtd9q",
    "outputId": "b3a86e81-7724-46fa-d3f0-d61d14492042"
   },
   "outputs": [
    {
     "data": {
      "text/plain": [
       "359114426.5"
      ]
     },
     "execution_count": 88,
     "metadata": {},
     "output_type": "execute_result"
    }
   ],
   "source": [
    "SOMA_DESVIO2 = dataset.X.apply(lambda x: (x - dataset.X.mean())**2).sum()\n",
    "SOMA_DESVIO2"
   ]
  },
  {
   "cell_type": "markdown",
   "metadata": {
    "colab_type": "text",
    "id": "mEuMAudxtd9u"
   },
   "source": [
    "### Calculando $s_{b_2}$"
   ]
  },
  {
   "cell_type": "code",
   "execution_count": 89,
   "metadata": {
    "colab": {
     "base_uri": "https://localhost:8080/",
     "height": 35
    },
    "colab_type": "code",
    "id": "uwr9JWN_td9u",
    "outputId": "87a6cb7e-33a9-43f8-9e60-c9dcc0cc3bfb"
   },
   "outputs": [
    {
     "data": {
      "text/plain": [
       "0.00755923753376846"
      ]
     },
     "execution_count": 89,
     "metadata": {},
     "output_type": "execute_result"
    }
   ],
   "source": [
    "s_beta_2 = s / np.sqrt(SOMA_DESVIO2)\n",
    "s_beta_2"
   ]
  },
  {
   "cell_type": "markdown",
   "metadata": {
    "colab_type": "text",
    "id": "ZXe59tB-td9w"
   },
   "source": [
    "### Determinando as áreas de aceitação e rejeição de $H_0$"
   ]
  },
  {
   "cell_type": "code",
   "execution_count": 90,
   "metadata": {
    "colab": {},
    "colab_type": "code",
    "id": "sYjgmVgUtd9w"
   },
   "outputs": [],
   "source": [
    "from scipy.stats import t as t_student"
   ]
  },
  {
   "cell_type": "markdown",
   "metadata": {
    "colab_type": "text",
    "id": "cuvV9yC-td9x"
   },
   "source": [
    "![Região de Aceitação](https://caelum-online-public.s3.amazonaws.com/1273-estatistica-parte4/01/img031.png)"
   ]
  },
  {
   "cell_type": "markdown",
   "metadata": {
    "colab_type": "text",
    "id": "z9tmldlUtd9y"
   },
   "source": [
    "### Níveis de confiança e significância"
   ]
  },
  {
   "cell_type": "code",
   "execution_count": 91,
   "metadata": {
    "colab": {},
    "colab_type": "code",
    "id": "x6imEPp0td9y"
   },
   "outputs": [],
   "source": [
    "confianca = 0.95\n",
    "significancia = 1 - confianca"
   ]
  },
  {
   "cell_type": "code",
   "execution_count": 92,
   "metadata": {
    "colab": {
     "base_uri": "https://localhost:8080/",
     "height": 35
    },
    "colab_type": "code",
    "id": "VFJGcIRGD-ai",
    "outputId": "ad270885-02cd-43ef-ed3a-8100832af959"
   },
   "outputs": [
    {
     "data": {
      "text/plain": [
       "48.0"
      ]
     },
     "execution_count": 92,
     "metadata": {},
     "output_type": "execute_result"
    }
   ],
   "source": [
    "graus_de_liberdade = resultado_regressao.df_resid\n",
    "graus_de_liberdade"
   ]
  },
  {
   "cell_type": "markdown",
   "metadata": {
    "colab_type": "text",
    "id": "Xb6DWLiTtd9z"
   },
   "source": [
    "### Obtendo $t_{\\alpha/2}$"
   ]
  },
  {
   "cell_type": "code",
   "execution_count": 93,
   "metadata": {
    "colab": {
     "base_uri": "https://localhost:8080/",
     "height": 35
    },
    "colab_type": "code",
    "id": "yVEsPYPitd9z",
    "outputId": "afef1285-e590-472e-c64e-bdeeaea2c19b"
   },
   "outputs": [
    {
     "data": {
      "text/plain": [
       "0.975"
      ]
     },
     "execution_count": 93,
     "metadata": {},
     "output_type": "execute_result"
    }
   ],
   "source": [
    "probabilidade = (0.5 + (confianca / 2))\n",
    "probabilidade"
   ]
  },
  {
   "cell_type": "code",
   "execution_count": 94,
   "metadata": {
    "colab": {
     "base_uri": "https://localhost:8080/",
     "height": 35
    },
    "colab_type": "code",
    "id": "_Cfvwj7Ktd91",
    "outputId": "f8a33b6a-2364-4492-fbeb-23c17498fa84"
   },
   "outputs": [
    {
     "data": {
      "text/plain": [
       "2.0106347546964454"
      ]
     },
     "execution_count": 94,
     "metadata": {},
     "output_type": "execute_result"
    }
   ],
   "source": [
    "t_alpha_2 = t_student.ppf(probabilidade, graus_de_liberdade)\n",
    "t_alpha_2"
   ]
  },
  {
   "cell_type": "markdown",
   "metadata": {
    "colab_type": "text",
    "id": "oW11PFl4td94"
   },
   "source": [
    "![Região de Aceitação](https://caelum-online-public.s3.amazonaws.com/1273-estatistica-parte4/01/img032.png)"
   ]
  },
  {
   "cell_type": "markdown",
   "metadata": {
    "colab_type": "text",
    "id": "Sjj0cgC7td94"
   },
   "source": [
    "### Obtendo $t = \\frac{b_2 - \\beta_2}{s_{b_2}}$"
   ]
  },
  {
   "cell_type": "code",
   "execution_count": 95,
   "metadata": {
    "colab": {
     "base_uri": "https://localhost:8080/",
     "height": 35
    },
    "colab_type": "code",
    "id": "Db8oVrEWtd94",
    "outputId": "711431b8-c1a8-4d27-d697-427096dee61c"
   },
   "outputs": [
    {
     "data": {
      "text/plain": [
       "39.328131926755"
      ]
     },
     "execution_count": 95,
     "metadata": {},
     "output_type": "execute_result"
    }
   ],
   "source": [
    "t = (beta_2 - 0) / s_beta_2\n",
    "t"
   ]
  },
  {
   "cell_type": "code",
   "execution_count": 96,
   "metadata": {
    "colab": {
     "base_uri": "https://localhost:8080/",
     "height": 35
    },
    "colab_type": "code",
    "id": "h-Tm7-Qstd95",
    "outputId": "cc627fdf-8c48-4da1-9a3a-ab8b9ceb38e6"
   },
   "outputs": [
    {
     "data": {
      "text/plain": [
       "39.328131926755"
      ]
     },
     "execution_count": 96,
     "metadata": {},
     "output_type": "execute_result"
    }
   ],
   "source": [
    "resultado_regressao.tvalues[1]"
   ]
  },
  {
   "cell_type": "markdown",
   "metadata": {
    "colab_type": "text",
    "id": "jOvLKfvitd97"
   },
   "source": [
    "![Região de Aceitação](https://caelum-online-public.s3.amazonaws.com/1273-estatistica-parte4/01/img033.png)"
   ]
  },
  {
   "cell_type": "markdown",
   "metadata": {
    "colab_type": "text",
    "id": "lU747h33td97"
   },
   "source": [
    "### Etapas e regras de decisão do teste t de significância dos parâmetros"
   ]
  },
  {
   "cell_type": "markdown",
   "metadata": {
    "colab_type": "text",
    "id": "kDHBbSAitd97"
   },
   "source": [
    "<img src=\"https://caelum-online-public.s3.amazonaws.com/1273-estatistica-parte4/01/img030.png\" width=90%>"
   ]
  },
  {
   "cell_type": "markdown",
   "metadata": {
    "colab_type": "text",
    "id": "-Il6O2H6td98"
   },
   "source": [
    "### <font color='red'>Critério do valor crítico</font>\n",
    "\n",
    "> ### Teste Bicaudal\n",
    "> ### Rejeitar $H_0$ se $t \\leq -t_{\\alpha / 2}$ ou se $t \\geq t_{\\alpha / 2}$"
   ]
  },
  {
   "cell_type": "code",
   "execution_count": 97,
   "metadata": {
    "colab": {
     "base_uri": "https://localhost:8080/",
     "height": 35
    },
    "colab_type": "code",
    "id": "24_4-073td99",
    "outputId": "df923628-eed0-4efe-a23c-2ff9c14d7151"
   },
   "outputs": [
    {
     "data": {
      "text/plain": [
       "False"
      ]
     },
     "execution_count": 97,
     "metadata": {},
     "output_type": "execute_result"
    }
   ],
   "source": [
    "t <= -t_alpha_2"
   ]
  },
  {
   "cell_type": "code",
   "execution_count": 98,
   "metadata": {
    "colab": {
     "base_uri": "https://localhost:8080/",
     "height": 35
    },
    "colab_type": "code",
    "id": "jya2Bqvktd9-",
    "outputId": "afb1e753-5f48-477c-939b-5b52bcbe1fb5"
   },
   "outputs": [
    {
     "data": {
      "text/plain": [
       "True"
      ]
     },
     "execution_count": 98,
     "metadata": {},
     "output_type": "execute_result"
    }
   ],
   "source": [
    "t >= t_alpha_2"
   ]
  },
  {
   "cell_type": "markdown",
   "metadata": {
    "colab_type": "text",
    "id": "dW7cJcnQtd9_"
   },
   "source": [
    "### <font color='red'>Critério do $p-valor$</font>\n",
    "\n",
    "> ### Teste Bicaudal\n",
    "> ### Rejeitar $H_0$ se o valor $p\\leq\\alpha$"
   ]
  },
  {
   "cell_type": "code",
   "execution_count": 99,
   "metadata": {
    "colab": {
     "base_uri": "https://localhost:8080/",
     "height": 35
    },
    "colab_type": "code",
    "id": "LJQ3BBpBtd9_",
    "outputId": "1e76d3a4-34c7-4920-87b7-8155d6156922"
   },
   "outputs": [
    {
     "data": {
      "text/plain": [
       "3.555543228586039e-38"
      ]
     },
     "execution_count": 99,
     "metadata": {},
     "output_type": "execute_result"
    }
   ],
   "source": [
    "p_valor = 2 * (t_student.sf(t, graus_de_liberdade))\n",
    "p_valor"
   ]
  },
  {
   "cell_type": "code",
   "execution_count": 100,
   "metadata": {
    "colab": {
     "base_uri": "https://localhost:8080/",
     "height": 35
    },
    "colab_type": "code",
    "id": "gpVuM3Gvtd-B",
    "outputId": "e6fcf48b-3839-49ee-bef3-2b2fb52ab9f9"
   },
   "outputs": [
    {
     "data": {
      "text/plain": [
       "3.555543228586039e-38"
      ]
     },
     "execution_count": 100,
     "metadata": {},
     "output_type": "execute_result"
    }
   ],
   "source": [
    "p_valor = resultado_regressao.pvalues[1]\n",
    "p_valor"
   ]
  },
  {
   "cell_type": "code",
   "execution_count": 101,
   "metadata": {
    "colab": {
     "base_uri": "https://localhost:8080/",
     "height": 35
    },
    "colab_type": "code",
    "id": "Qtmjl1oBtd-C",
    "outputId": "4157f6d5-c16d-4c30-952c-82817a25a422"
   },
   "outputs": [
    {
     "data": {
      "text/plain": [
       "True"
      ]
     },
     "execution_count": 101,
     "metadata": {},
     "output_type": "execute_result"
    }
   ],
   "source": [
    "p_valor <= significancia"
   ]
  },
  {
   "cell_type": "markdown",
   "metadata": {
    "colab_type": "text",
    "id": "EP5tgnmttd-D"
   },
   "source": [
    "### <font color='green'>Conclusão: Rejeitamos $H_0$ e concluímos que existe uma relação significativa entre as duas variáveis.</font>"
   ]
  },
  {
   "cell_type": "code",
   "execution_count": 102,
   "metadata": {
    "colab": {
     "base_uri": "https://localhost:8080/",
     "height": 503
    },
    "colab_type": "code",
    "id": "HMaewwFXtd-D",
    "outputId": "8d4bb708-00ea-4d92-aaa7-d8d754a0e73a"
   },
   "outputs": [
    {
     "name": "stdout",
     "output_type": "stream",
     "text": [
      "                            OLS Regression Results                            \n",
      "==============================================================================\n",
      "Dep. Variable:                      Y   R-squared:                       0.970\n",
      "Model:                            OLS   Adj. R-squared:                  0.969\n",
      "Method:                 Least Squares   F-statistic:                     1547.\n",
      "Date:                Tue, 17 Aug 2021   Prob (F-statistic):           3.56e-38\n",
      "Time:                        09:14:42   Log-Likelihood:                -318.16\n",
      "No. Observations:                  50   AIC:                             640.3\n",
      "Df Residuals:                      48   BIC:                             644.1\n",
      "Df Model:                           1                                         \n",
      "Covariance Type:            nonrobust                                         \n",
      "==============================================================================\n",
      "                 coef    std err          t      P>|t|      [0.025      0.975]\n",
      "------------------------------------------------------------------------------\n",
      "const        207.9033     50.127      4.148      0.000     107.117     308.690\n",
      "X              0.2973      0.008     39.328      0.000       0.282       0.312\n",
      "==============================================================================\n",
      "Omnibus:                       22.833   Durbin-Watson:                   2.408\n",
      "Prob(Omnibus):                  0.000   Jarque-Bera (JB):                3.915\n",
      "Skew:                           0.073   Prob(JB):                        0.141\n",
      "Kurtosis:                       1.637   Cond. No.                     1.64e+04\n",
      "==============================================================================\n",
      "\n",
      "Notes:\n",
      "[1] Standard Errors assume that the covariance matrix of the errors is correctly specified.\n",
      "[2] The condition number is large, 1.64e+04. This might indicate that there are\n",
      "strong multicollinearity or other numerical problems.\n"
     ]
    }
   ],
   "source": [
    "print(resultado_regressao.summary())"
   ]
  },
  {
   "cell_type": "markdown",
   "metadata": {
    "colab_type": "text",
    "id": "HTW4vH03td-E"
   },
   "source": [
    "---"
   ]
  },
  {
   "cell_type": "markdown",
   "metadata": {
    "colab_type": "text",
    "id": "fEAeu55gtd-E"
   },
   "source": [
    "### Teste F"
   ]
  },
  {
   "cell_type": "markdown",
   "metadata": {
    "colab_type": "text",
    "id": "boZIhWUmtd-E"
   },
   "source": [
    "O teste F também é uma ferramenta para testar a significância na regressão. Baseado na distribuição F de probabilidade, o teste F é utilizado para verificar a significância global na regressão, isto é, em uma regressão múltipla, onde existe mais de uma variável independente, o teste F verifica a nulidade de todos os parâmetros do modelo conjuntamente.\n",
    "\n",
    "Em nosso caso (regressão linear simples) ele fornece a mesma conclusão obtida com o teste t.\n",
    "\n",
    "**Hipóteses:**\n",
    "\n",
    "## $H_0: \\beta_2 = 0$\n",
    "## $H_1: \\beta_2 \\neq 0$\n",
    "\n",
    "**Estatística de teste:**\n",
    "\n",
    "# $$F = \\frac{\\frac{SQR}{k}}{\\frac{SQE}{n-k-1}}$$\n",
    "\n",
    "Onde,\n",
    "\n",
    "$SQR$ - soma dos quadrados da regressão\n",
    "\n",
    "$SQE$ - soma dos quadrados dos erros\n",
    "\n",
    "$k$ - total de variáveis independentes ($X$)\n",
    "\n",
    "**Regras de rejeição de $H_0$:**\n",
    "\n",
    "**Critério do valor crítico** $\\rightarrow$ Rejeitar se $F \\geq F_{\\alpha}$\n",
    "\n",
    "Onde,\n",
    "\n",
    "$F_{\\alpha}$ - baseia-se na distribuição F com $k$ graus de liberdade no numerador e $n-k-1$ no denominador.\n",
    "\n",
    "**Critério do p-valor** $\\rightarrow$ Rejeitar se $p-valor \\leq \\alpha$"
   ]
  },
  {
   "cell_type": "markdown",
   "metadata": {
    "colab_type": "text",
    "id": "gT3WGPkNtd-E"
   },
   "source": [
    "### Calculando a estatística de teste ($F$)"
   ]
  },
  {
   "cell_type": "code",
   "execution_count": 103,
   "metadata": {
    "colab": {
     "base_uri": "https://localhost:8080/",
     "height": 35
    },
    "colab_type": "code",
    "id": "kGfJb7gVtd-E",
    "outputId": "9b34f5b1-7d78-4517-8312-f3d15e03d495"
   },
   "outputs": [
    {
     "data": {
      "text/plain": [
       "31739163.242480807"
      ]
     },
     "execution_count": 103,
     "metadata": {},
     "output_type": "execute_result"
    }
   ],
   "source": [
    "resultado_regressao.mse_model"
   ]
  },
  {
   "cell_type": "code",
   "execution_count": 104,
   "metadata": {
    "colab": {
     "base_uri": "https://localhost:8080/",
     "height": 35
    },
    "colab_type": "code",
    "id": "v-ano9jmtd-H",
    "outputId": "6862bb3b-9d90-4c4d-c1d1-cfbed8ca3f67"
   },
   "outputs": [
    {
     "data": {
      "text/plain": [
       "20520.54244831649"
      ]
     },
     "execution_count": 104,
     "metadata": {},
     "output_type": "execute_result"
    }
   ],
   "source": [
    "resultado_regressao.mse_resid"
   ]
  },
  {
   "cell_type": "code",
   "execution_count": 105,
   "metadata": {
    "colab": {
     "base_uri": "https://localhost:8080/",
     "height": 35
    },
    "colab_type": "code",
    "id": "9vtS-VQ2td-I",
    "outputId": "499ecc2b-55b5-4bac-e7e7-8c96cd5ad8c4"
   },
   "outputs": [
    {
     "data": {
      "text/plain": [
       "1546.7019608482472"
      ]
     },
     "execution_count": 105,
     "metadata": {},
     "output_type": "execute_result"
    }
   ],
   "source": [
    "F = resultado_regressao.mse_model / resultado_regressao.mse_resid\n",
    "F"
   ]
  },
  {
   "cell_type": "code",
   "execution_count": 106,
   "metadata": {
    "colab": {
     "base_uri": "https://localhost:8080/",
     "height": 35
    },
    "colab_type": "code",
    "id": "w8yfK5k1td-K",
    "outputId": "1db698d3-dc70-42a0-f5bc-2018f01e9d10"
   },
   "outputs": [
    {
     "data": {
      "text/plain": [
       "1546.7019608482472"
      ]
     },
     "execution_count": 106,
     "metadata": {},
     "output_type": "execute_result"
    }
   ],
   "source": [
    "resultado_regressao.fvalue"
   ]
  },
  {
   "cell_type": "markdown",
   "metadata": {
    "colab_type": "text",
    "id": "OEzKwQYztd-K"
   },
   "source": [
    "### Obtendo o p-valor"
   ]
  },
  {
   "cell_type": "code",
   "execution_count": 107,
   "metadata": {
    "colab": {
     "base_uri": "https://localhost:8080/",
     "height": 35
    },
    "colab_type": "code",
    "id": "XTl2Y4u5td-K",
    "outputId": "15bac85a-aca4-45e9-dedd-fb6b1f700c1d"
   },
   "outputs": [
    {
     "data": {
      "text/plain": [
       "3.5555432285860227e-38"
      ]
     },
     "execution_count": 107,
     "metadata": {},
     "output_type": "execute_result"
    }
   ],
   "source": [
    "resultado_regressao.f_pvalue"
   ]
  },
  {
   "cell_type": "code",
   "execution_count": 108,
   "metadata": {
    "colab": {},
    "colab_type": "code",
    "id": "OWswoJrHtd-M"
   },
   "outputs": [],
   "source": [
    "from scipy.stats import f"
   ]
  },
  {
   "cell_type": "code",
   "execution_count": 109,
   "metadata": {
    "colab": {
     "base_uri": "https://localhost:8080/",
     "height": 35
    },
    "colab_type": "code",
    "id": "GH127n5atd-O",
    "outputId": "b20fd8f7-f9a7-4c1a-891c-770b722080ed"
   },
   "outputs": [
    {
     "data": {
      "text/plain": [
       "3.5555432285860227e-38"
      ]
     },
     "execution_count": 109,
     "metadata": {},
     "output_type": "execute_result"
    }
   ],
   "source": [
    "p_valor = f.sf(F, 1, 48)\n",
    "p_valor"
   ]
  },
  {
   "cell_type": "code",
   "execution_count": 110,
   "metadata": {
    "colab": {
     "base_uri": "https://localhost:8080/",
     "height": 35
    },
    "colab_type": "code",
    "id": "TmkXMaKktd-P",
    "outputId": "ca089d23-7d19-4cd6-ef9e-bd0c721557ae"
   },
   "outputs": [
    {
     "data": {
      "text/plain": [
       "True"
      ]
     },
     "execution_count": 110,
     "metadata": {},
     "output_type": "execute_result"
    }
   ],
   "source": [
    "p_valor <= 0.05"
   ]
  },
  {
   "cell_type": "markdown",
   "metadata": {
    "colab_type": "text",
    "id": "jy32sWqYtd-S"
   },
   "source": [
    "# <font color=green>5 EXTRAS</font>\n",
    "***"
   ]
  },
  {
   "cell_type": "markdown",
   "metadata": {
    "colab_type": "text",
    "id": "MpTZNPXgtd-S"
   },
   "source": [
    "## <font color=green>5.1 Outros testes</font>\n",
    "***"
   ]
  },
  {
   "cell_type": "code",
   "execution_count": 111,
   "metadata": {
    "colab": {
     "base_uri": "https://localhost:8080/",
     "height": 503
    },
    "colab_type": "code",
    "id": "dP3-Wwp9td-S",
    "outputId": "6d9a0a47-fb7d-4ab4-a8e5-05268f95ff0e"
   },
   "outputs": [
    {
     "name": "stdout",
     "output_type": "stream",
     "text": [
      "                            OLS Regression Results                            \n",
      "==============================================================================\n",
      "Dep. Variable:                      Y   R-squared:                       0.970\n",
      "Model:                            OLS   Adj. R-squared:                  0.969\n",
      "Method:                 Least Squares   F-statistic:                     1547.\n",
      "Date:                Tue, 17 Aug 2021   Prob (F-statistic):           3.56e-38\n",
      "Time:                        09:14:43   Log-Likelihood:                -318.16\n",
      "No. Observations:                  50   AIC:                             640.3\n",
      "Df Residuals:                      48   BIC:                             644.1\n",
      "Df Model:                           1                                         \n",
      "Covariance Type:            nonrobust                                         \n",
      "==============================================================================\n",
      "                 coef    std err          t      P>|t|      [0.025      0.975]\n",
      "------------------------------------------------------------------------------\n",
      "const        207.9033     50.127      4.148      0.000     107.117     308.690\n",
      "X              0.2973      0.008     39.328      0.000       0.282       0.312\n",
      "==============================================================================\n",
      "Omnibus:                       22.833   Durbin-Watson:                   2.408\n",
      "Prob(Omnibus):                  0.000   Jarque-Bera (JB):                3.915\n",
      "Skew:                           0.073   Prob(JB):                        0.141\n",
      "Kurtosis:                       1.637   Cond. No.                     1.64e+04\n",
      "==============================================================================\n",
      "\n",
      "Notes:\n",
      "[1] Standard Errors assume that the covariance matrix of the errors is correctly specified.\n",
      "[2] The condition number is large, 1.64e+04. This might indicate that there are\n",
      "strong multicollinearity or other numerical problems.\n"
     ]
    }
   ],
   "source": [
    "print(resultado_regressao.summary())"
   ]
  },
  {
   "cell_type": "markdown",
   "metadata": {
    "colab_type": "text",
    "id": "c60PkV_Std-U"
   },
   "source": [
    "### Normalidade dos resíduos - Omnibus\n",
    "\n",
    "> ### $H_0:$ Os dados se distribuem como uma normal\n",
    "\n",
    "https://docs.scipy.org/doc/scipy/reference/generated/scipy.stats.normaltest.html"
   ]
  },
  {
   "cell_type": "code",
   "execution_count": 112,
   "metadata": {
    "colab": {
     "base_uri": "https://localhost:8080/",
     "height": 35
    },
    "colab_type": "code",
    "id": "-Q6xvpfstd-U",
    "outputId": "6d7bf1c2-7f60-418f-f41d-33de9973092c"
   },
   "outputs": [
    {
     "name": "stdout",
     "output_type": "stream",
     "text": [
      "1.1012451024595026e-05\n"
     ]
    }
   ],
   "source": [
    "from scipy.stats import normaltest\n",
    "\n",
    "statistic, p_valor = normaltest(dataset.Residuos)\n",
    "print(p_valor)"
   ]
  },
  {
   "cell_type": "code",
   "execution_count": 113,
   "metadata": {
    "colab": {
     "base_uri": "https://localhost:8080/",
     "height": 35
    },
    "colab_type": "code",
    "id": "zrxNEHpstd-W",
    "outputId": "ed990421-f93a-42cb-ea41-f753e0c3b313"
   },
   "outputs": [
    {
     "data": {
      "text/plain": [
       "True"
      ]
     },
     "execution_count": 113,
     "metadata": {},
     "output_type": "execute_result"
    }
   ],
   "source": [
    "p_valor <= 0.05"
   ]
  },
  {
   "cell_type": "markdown",
   "metadata": {
    "colab_type": "text",
    "id": "trrfvTbQtd-X"
   },
   "source": [
    "https://docs.scipy.org/doc/scipy/reference/generated/scipy.stats.probplot.html"
   ]
  },
  {
   "cell_type": "code",
   "execution_count": 114,
   "metadata": {
    "colab": {
     "base_uri": "https://localhost:8080/",
     "height": 295
    },
    "colab_type": "code",
    "id": "Rv_9YHwutd-Z",
    "outputId": "0e8ce5bc-edac-4789-fc60-6c3fc711cfc4"
   },
   "outputs": [
    {
     "data": {
      "image/png": "iVBORw0KGgoAAAANSUhEUgAAAY0AAAEWCAYAAACaBstRAAAAOXRFWHRTb2Z0d2FyZQBNYXRwbG90bGliIHZlcnNpb24zLjMuNCwgaHR0cHM6Ly9tYXRwbG90bGliLm9yZy8QVMy6AAAACXBIWXMAAAsTAAALEwEAmpwYAAAyAUlEQVR4nO3de5zWc/7/8cerJCWnkl06TK1tIyGaEtZah99mLYplFyHHHHJap0W+DmudF4sVEoqytE4daJNQDilTKh20tTSVLClRotO8fn+8P1NXM9d1zTXNXNfnmpnn/Xa7btd1va/P4dW19nrN+2zujoiISCbqxR2AiIjUHEoaIiKSMSUNERHJmJKGiIhkTElDREQypqQhIiIZU9IQScLM3Mx+voXnLjCzI1N8doiZzU12rJldb2YDtyziSsX3azNbnO37SO2kpCG1RvQD/IOZrTKzL83sKTNrEndcidz9HXdvn+Kz2939XAAzaxMlrq225D5mdqaZbYi+i+/MbJqZHbMF1xlkZn/dkhikdlLSkNrmWHdvAuwPdAFuKHvAlv4Q10ATo+9iR+AJYJiZNY03JKnplDSkVnL3z4HRQEfY2NzU18zmAfOisvPMbL6ZLTezEWa2W5nLHG1mn5rZ12Z2j5nVi87b3czeNLNl0WdDzWzHMud2MbPZZvZNVOPZJjo3ZdOQmd1sZkOitxOi5xVRbeHQKM69E47fJapZNa/guygBngQaAT9Lct89zextM1thZrPM7LiovA/QC7gmimFkuvtI3aCkIbWSmbUCjgY+SijuCRwAdDCzw4E7gD8AuwLFwHNlLnM8UEiotfQAzi69fHTubsCeQCvg5jLn9gK6A7sDvyBJjacCv4qed3T3Ju4+PorvtIRjTgHecPel6S4U1azOBVYRJcyEzxoAI4HXgV2AS4ChZtbe3QcAQ4G7oxiOreS/QWohJQ2pbV4xsxXAu8B44PaEz+5w9+Xu/gPhR/1Jd5/q7muA64ADzaxNwvF3RccvBP5O+JHG3ee7+1h3XxP9YN8HHFomjn+4+yJ3Xw7cVnpuFQ0GTi2t8QCnA8+kOb5b9F38L7r/8e7+bdljgCbAne6+1t3fBEZVU7xSC9WVtl2pO3q6+xspPluU8Ho3YGrpG3dfZWbLgBbAgiTHF0fnYGa7AA8ChwDbEf74+ibNvTaeWxXuPsnMvgcONbMvgJ8DI9Kc8oG7/7KCy+4GLIqasEoVE74HkXJU05C6JHFJ5yVAQekbM9sWaAZ8nnBMq4TXraNzIDRNObCPu29PaDKyMvdKde6WxJpocHS/04EX3P3HSl63rCVAq4TaC4R4S78HLYMtm1HSkLrqWeAsM+tkZg0JzViT3H1BwjFXm9lOUf/IZcDzUfl2hP6BFWbWArg6yfX7mlnLaLTS9QnnZmopUEL5jutnCH0tpwFPV/KayUwCvid0djcws18Dx7Kpf+fLJDFIHaakIXWSu48D/g94EfiC0GF9cpnDhgNTgGnAq4RhqwC3EDrHv43KX0pyi2cJncufRo9KzXVw99WEvpD3olFN3aLyxYRmNQfeqcw1U9xnLXAc8Fvga6A/cIa7fxId8gRh4MAKM3ulqveTms+0CZNIzWJmTwJL3L2yI7JEqkwd4SI1SDS66wRgv5hDkTpKzVMiNYSZ3QrMBO5x98/ijkfqJjVPiYhIxlTTEBGRjNX6Po2dd97Z27RpE3cYIiI1ypQpU75293LrmtX6pNGmTRuKioriDkNEpEYxs+Jk5WqeEhGRjClpiIhIxpQ0REQkY0oaIiKSMSUNERHJmJKGiIhkTElDREQypqQhIlLbzJwJ118PWVgmSklDRKS2WLsWbrkF9t8fHn8cFi+u9lvEljTMbBszm2xm081slpndEpU3NbOxZjYvet4p4ZzrzGy+mc01s+5xxS4iknc+/BA6d4abb4aTToLZs6FVqwpPq6w4axprgMPdfV+gE3BUtDvZtcA4d28HjIveY2YdCDur7QUcBfQ3s/pxBC4ikjdWr4arroJu3eCbb2DkSBg6FJqXWzaqWsSWNDxYFb1tED0c6AEMjsoHAz2j1z2A59x9TbSXwHyga+4iFhHJM2+9BXvvDffeC+edB7NmwTHHZPWWsfZpmFl9M5sGfAWMdfdJwE/c/QuA6HmX6PAWwKKE0xdHZcmu28fMisysaOnSpVmLX0QkFt9+C+efD4cfDmYheTz6KOywQ9ZvHWvScPcN7t4JaAl0NbOOaQ63ZJdIcd0B7l7o7oXNs1RFExGJxciR0KEDDBwYmqVmzIBf/zpnt8+L0VPuvgJ4m9BX8aWZ7QoQPX8VHbYYSOzVaQksyV2UIiIxWroUTj0VjjsOmjWDDz6Ae+6Bxo1zGkaco6eam9mO0etGwJHAJ8AIoHd0WG9gePR6BHCymTU0s7ZAO2ByToMWEck1d3j2WdhzT3jhBfjLX6CoCLp0iSWcODdh2hUYHI2AqgcMc/dRZjYRGGZm5wALgZMA3H2WmQ0DZgPrgb7uviGm2EVEsm/RIrjwQnj1VTjgAHjiCdhrr1hDii1puPsMYL8k5cuAI1KccxtwW5ZDExGJV0lJmJx39dWwYQPcfz9ccgnUj3+WQa3f7lVEpEaZNy8Mnx0/Ho44AgYMgJ/9LO6oNsqLjnARkTpv/Xr4299gn31g2rQwOmrs2LxKGKCahohI/GbMgHPOCR3cPXpA//6w225xR5WUahoiInFZswZuvDGsGbVwIQwbBi+/XKWEMXQotGkD9eqF56FDqy1aQDUNEZF4fPBBqF3Mng2nnx46u5s1q9Ilhw6FPn3CclQAxcXhPUCvXlWMN6KahohILn3/PfzpT3DQQbByJbz2Gjz9dJUTBkC/fpsSRqnVq0N5dVFNQ0QkV8aNCyOjPvsMLroI7rgDtt++2i6/cGHlyreEahoiItm2YgWcey4ceSRstVUYTvvww9WaMABat65c+ZZQ0hARyaZXXgkLDA4aBNdeC9Onw69+lZVb3XZb+aWoGjcO5dVFSUNEJBu+/BL+8Ac4/njYZReYNCk0RzVqlLVb9uoV5gIWFIQV0wsKwvvq6gQH9WmIiFQvdxgyBC6/HFatCn/mX301NGiQk9v36lW9SaIsJQ0RkeqycCFccAGMHg0HHhgWGNxzz7ijqlZqnhIRqaqSkjCLe6+9YMIEePBBeOedcgkj2xPvckE1DRGRqpg7N4yMevdd+H//L3QitGlT7rBcTLzLBdU0RES2xPr1cOedsO++MHMmPPUUjBmTNGFAbibe5YJqGiIilTVtWlgCZOpUOOGEMOfipz9Ne0ouJt7lgmoaIiKZ+vHHUDUoLITPPw/br774YoUJA3Iz8S4XlDRERDLx3nvQqRPcfjucdlpYaPD3v8/49FxMvMsFJQ0RkXRWrYJLL4VDDgk1jTFjwuzupk0rdZlcTLzLBfVpiIik8vrrYYjTwoVw8cWhltGkyRZfLtsT73JBNQ0RkbKWL4ezzoLu3WGbbcKciwcfhCZNasVci6pQTUNEJNGLL0LfvvD116HT+4YbQuKg9sy1qIrYahpm1srM3jKzOWY2y8wui8qbmtlYM5sXPe+UcM51ZjbfzOaaWfe4YheRWuh//4MTTwyP3XYL+3X/9a8bEwbUnrkWVRFn89R64Ep33xPoBvQ1sw7AtcA4d28HjIveE312MrAXcBTQ38zqxxK5iNQe7qFju0MHGDUqTNibPDmMlCqjtsy1qIrYkoa7f+HuU6PXK4E5QAugBzA4Omww0DN63QN4zt3XuPtnwHyga06DFpHaZcGC0G9x1llh3ajp0+HPfw4bJSVRW+ZaVEVedISbWRtgP2AS8BN3/wJCYgF2iQ5rASxKOG1xVJbsen3MrMjMipYuXZq1uEWkhiopgYcego4dYeLEMKN7/Hho3z7tabVlrkVVxJ40zKwJ8CJwubt/l+7QJGWe7EB3H+Duhe5e2Lx58+oIU0RqizlzwpyL0rkXM2eG/brrVfxzWFvmWlRFrKOnzKwBIWEMdfeXouIvzWxXd//CzHYFvorKFwOtEk5vCSzJXbQiUqOtWwf33AO33BLmWjz9dJjZbcn+Hk2tNsy1qIo4R08Z8AQwx93vS/hoBNA7et0bGJ5QfrKZNTSztkA7YHKu4hWRGmzqVOjaNQxz6tEjLAFy+ulgVufnXVRWnDWNg4HTgY/NbFpUdj1wJzDMzM4BFgInAbj7LDMbBswmjLzq6+4bch61iNQcP/wAf/lLqGE0bw4vvRT27I5o3kXlmXvSboFao7Cw0IuKiuIOQ0Ry7d13+e6kc9j+f//hSc7m7y3/xp/v3GmzZNCmTUgUZRUUhIFVdZmZTXH3wrLlsXeEi4hURdnmpecHrgzrRB1yCMu/XMuRjOUcnuDjxTvRp8/mzU+ad1F5ShoikvdS9TuUNi8VF4c5ensWj+agPnvh/fvzxHaXs5fPZBxHbrxO2dnbmndReUoaIpI3kiWHsomhtN9h6NBNy3o0ZRmDOYPRHM1Kb8Lvf/Ie5626n9VsW+4eibUIzbvYAu5eqx+dO3d2Ecl/Q4a4N27sHlJDeDRu7N6s2eZlpY+CAnejxE9kmP+PXXwtW/kt/J9vzY9uFj5PdV7Z+xYU+MZzhgzJ+T89LwFFnuQ3VavcikheSLUYYNmyUmuLv2B0o4vo/sMrFNGZ3/A6M9gXgILWobaQODIKktci6vq8i8pS85SI5FyyZqjMO5+ds3iST2xPjlj/b/o1uJtufLAxYZQmBs3ezg4lDRHJqrIJ4qKLkvdRpNo9tVmzTf0ObfmU1/kNT3IOP7Tfl61mzaDDU1fTsmCrpImhV68wdLakJDwrYVSd5mmISLUp7ZxeuDCMQDr6aBg8ePMmIrOQLMpq1izMxSvbnDRgAFjJBuZf9hBXftOPEqvPnDPvpuvAPhmtFyVbJtU8DfVpiEi1SDa7+tFHyyeIVH+nLl8OzzyzedK57Tbotd9sOOcc+OYD+N3v4JFH6NqqVfKLSNYpTYvIFktseurdu3yndWUaMlq3LtOc9J+19Pr0VthvP5g3L9xs5EhQwoiVkoaIZKSivokNlVgJruzCsuVGNRUVQZcucOONcMIJYTnzU0+t9Iq0Uv2UNESkQskm2D36aOrhsImSJYgLLkgxqmn1arjmGjjgAPj6axg+HP75z7DYoOQF9WmISFKJndr16pWvSWTS9NS4cWi2eu21Mv0UyUYxjR8P554L8+fDeeeFlWl32KFa/i1SfZQ0RKScsp3alWl6ql8/9EmkTRCJvvsu7Mv96KPws5/BuHFw+OFbHLtkl5KGiJSTbHZ2MmWHz5YOkc14PsSrr4a2qiVL4Ior4NZbyy8GJXlFfRoiUk4ms7PT9k1U5Ouvw1arxxwTmqDefx/uvVcJowZQTUNEymndOvnmRJVueirLHZ5/Hi65BL79Fm66Ca6/HrbeulriluxTTUNEykm1ZPjgwVVYkuPzz8P+3KecEvoupk6Fm29WwqhhlDREBNh8Hka/fmHUU7Us9ucOjz8OHTrAG2+EZqj334eOHav7nyA5oOYpkToqcUht06awciWsXRs+Ky4OtYoqrwr73/+G4bNvvQWHHRaSx+67V0v8Eg/VNETqoLKT9ZYt25QwSpXdGrVSNmyA++6DvfeGKVNCshg3TgmjFqhUTcPM6gFN3P27LMUjIjmQ6ZDazPe4SDBzZlhgcPJkOPZYeOQRaNFiCy4k+ajCmoaZPWtm25vZtsBsYK6ZXZ390EQkWzJNBq1bV+Kia9fCLbfA/vvDp5+G5T+GD1fCqGUyaZ7qENUsegKvAa2B06vj5mb2pJl9ZWYzE8qamtlYM5sXPe+U8Nl1ZjbfzOaaWffqiEGkLsokGSTbGjWlyZOhc+cwGuoPfwgLDJ58shYYrIUySRoNzKwBIWkMd/d1QHXt3DQIOKpM2bXAOHdvB4yL3mNmHYCTgb2ic/qbWf1qikOkTkk2pLZBg7ARUqVGS61eDVdeCQceCCtWwKhRMGQI7LxztkKXmGWSNB4DFgDbAhPMrAColj4Nd58ALC9T3AMYHL0eTEhWpeXPufsad/8MmA90rY44ROqaZPtnP/VUmKid8TyMt94KHd333RdGSM2aFTZJklqtwqTh7g+6ewt3P9qDYuCwLMb0E3f/Irr3F8AuUXkLYFHCcYujsnLMrI+ZFZlZ0dKlS7MYqkjNUXY/DNjC/bO//TYMvTr88HCxt98Oiw1uv302wpY8k0lH+E/M7AkzGx297wD0znpkSUJJUpa0mczdB7h7obsXNtc6/CJJ98Po0yeUV8qIEWGS3hNPhH0vZsyAQw/NSsySnzJpnhoEjAF2i97/B7g8S/EAfGlmuwJEz19F5YuBxH0eWwJLshiHSI1XWrs47bTyQ2wrNQ/jq69Cx3aPHqHjY9IkuOsuaNSoukOWPJdJ0tjZ3YcBJQDuvh6oxOr6lTaCTTWZ3sDwhPKTzayhmbUF2gGTsxiHSI2WWLtIpcKht+7hQh06wMsvh6XLi4qgsLBaY5WaI5PJfd+bWTOipiAz6wZ8Wx03N7N/Ar8GdjazxcBNwJ3AMDM7B1gInATg7rPMbBhhrsh6oK+7ZzN5idRomUzgSzv0dtEiuPDCsOdFt26hSapDh2qNUWqeTJLGFYS/8nc3s/eA5sCJ1XFzdz8lxUdHpDj+NiDTkeMidU7ielIVbceach5GSUkYWnXNNWE5kPvvD0uZ19cId8kgabj7VDM7FGhP6IyeG83VEJGYpVt0MJ2CghT7YcybF4bPjh8PRx4ZkkfbtlmJXWqmCpOGmZ1Rpmh/M8Pdn85STCKSgbL7eC9bVvE5KbdjXb8+1ChuvBEaNgxNUWedpRndUk4mzVNdEl5vQ2g6mgooaYjEKNNFByH89qfcbW/69LDA4JQp0LMnPPww7LZbssuIZNQ8dUniezPbAXgmaxGJSEYyXXSwoCBM3itnzZowGuquu0Lb1rBhcOKJql1IWluyn8ZqwnBXEYlRlRYdnDgR9tsvfHjKKTB7Npx0khKGVCiTGeEjzWxE9BgFzGXT3AkRickWLTr4/fdw+eVw8MGwahW89ho8/XQ4SSQDmfRp/C3h9Xqg2N0XZykeEalA2RFTjRrB8uVp+ixKjR0bes4XLIC+feGOO2C77XIZutQCmfRpjM9FICKSXLphtcuWhdrGM8+kSRbffANXXQVPPgm/+AVMmACHHJKz+KV2Sdk8ZWYrzey7JI+VZqbtXkWyqHTNKDM4/fQq7OX9yiuw114weDBce20YKaWEIVWQsqbh7qq3isSg7PyLimZ2Q5KRVF9+GWZx/+tfsO++YXOk/fev9lil7smkTwMAM9uFME8DAHffki3nRaQClZl/UWrjSCr30FZ1+eXhIrffHpqmGjSo7jCljspk9NRxZjYP+AwYT9jFb3SW4xKpszKdf1Fq47Da4mL47W+hd2/Yc0+YNg2uu04JQ6pVJvM0bgW6Af9x97aEGeHvZTUqkTqsovkX5YbVPlpCrxUPQ8eO8O678NBD8M47sMceuQlY6pRMksY6d18G1DOzeu7+FtApu2GJ1F3J5l+Uzrkrt5f3mLn0GnAoXHwxHHggzJwZXtfbknm7IhXL5L+sFWbWBJgADDWzBwjzNUQkC3r1CpPyCgo21SaeeSZ0V2zcy3vdOrjzztDJPXNmGE47Zsymzb9FssQ8xdAMMzsRGAXUB34gJJhewA7A0Kj2kfcKCwu9qKgo7jBEqs9HH4UFBj/6CH7/e/jHP+CnP407KqllzGyKu5fbojFdTaMXYee8R4DugLv7YHd/sKYkDJFa5ccf4frroUsXWLIEXnghPJQwJIdSJg13Px74OTAOuBRYZGaPmNmvchWciETeew86dQpLf5xxBsyZE2oZIjmWtk/D3b+Lahe/BfYGpgEPmdmiXAQnUuetXBkm6R1ySKhpjBkT+i922inuyKSOymiIhZntBJwA/BFoCryYzaBEhJAgOnYMmyJdckno8P7Nb+KOSuq4lDPCzWw7oCdwCrA/MAL4K/CWp+o9F5GqW74crrgirBe1xx5h7sVBB8UdlQiQfhmRz4AxhI7wf7v7utyEJFKHvfhiWLb866/DeiI33ADbbFPxeSI5ki5ptHb3Sq6AIyJb5H//C5PyXnwx7Kj373+Hjm+RPJNu9FReJgwzO8rM5prZfDO7Nu54RKrEHQYNCmtFjRoVRkdNnqyEIXmrRq01YGb1gYeB3wIdgFPMrEO8UYlsoQULoHt3OOus0OE9fXrY82KrjBefFsm5GpU0gK7AfHf/1N3XAs8BPWKOSaRyNmyABx8MmyNNnBhGR40fD+3bxx2ZSIXSjZ4aCaQcJeXux2UlovRaAIlzRBYDB5Q9yMz6AH0AWle0ZKhILs2ZE5YAmTgRjjoKHn00LC4lUkOkq2n8DbiXMIrqB+Dx6LEKmJn90JKyJGXlEpu7D3D3QncvbN68eQ7CEqnAunVh+dpOnWDu3DCc9rXXNiaM0u1d69ULz0OHxhmsSGrptnsdD2Bmt7p74tIhI81sQtYjS24x0CrhfUtgSUyxiGRmyhQ4+2yYMQP+8IfQNPWTn2z8uOz2rsXF4T1EK9qK5JFM+jSam9nPSt+YWVsgrj/fPwTamVlbM9saOJkw6VAk//zwQ+jYPuAAWLoUXn4Znn9+Y8IorV2cdlr57V1Xrw7TNETyTSbDNP4EvG1mn0bv2wDnZy2iNNx9vZldTJh0WB940t1nxRGLSFoTJsC558K8eeH5nntgxx03fly2dpFMZbd9FcmFCpOGu//bzNoBpXtHfuLua7IbVtp4XgNei+v+Iml9913Yl7t/f2jbFt54A444otxh/fqlTxhQ8bavInGosHnKzBoDVwMXu/t0oLWZHZP1yERqmtGjw3yLRx6BP/0JPv54s4SR2NldXJz+Uo0bh35zkXyTSZ/GU8Ba4MDo/WLCwoUiArBsWdjj4uijYbvt4P334b77YNttNx5S2hxVXBwmgadTUBC2e1UnuOSjTJLG7u5+N7AOwN1/IPnQV5G6xR2GDQtLgPzzn3DjjTB1KnTrVu7QTJqjGjeGIUMS9gEXyUOZJI21ZtaIaD6Eme0OxNanIZIXliyBE06AP/4xVA2mTIFbboGGDTc7rLRJKl1zlJlqF1JzZDJ66ibg30ArMxsKHAycmc2gRPKWe9g578orYc0auPvu0H+RZL2oTEZIFRSEmoVITZE2aZhZPaB0175uhGapy9z96xzEJpJfPv0UzjsP3nwTDj0UHn8c2rVLeXhFTVLq7JaaqKI9wksIo6aWufur7j5KCUPqnA0b4P77Ye+94cMPw3pRb76ZNmFA+nkWao6SmiqT5qmxZnYV8DzwfWmhuy/PWlQi+WLWrLDA4KRJ8LvfheG0rVpVfB5hnkWyvgw1SUlNlklH+NlAX2ACMCV6FGUzKJHYrV0Lt94adtH7739DB8XIkUkTRuL8i513Do969WDVKth6682PVZOU1HSZzAhvm4tARPJGUVFYYPDjj+GUU+CBB6DMaslDh4Y+i+LiMPqpdO7FsmWbjlm2DBo0gGbNYPnyUPO47TY1SUnNVmHSiGaEX0HYM7xPtKRIe3cflfXoRHJp9Wq4+Wa4917YdVcYMQKOPbbcYWVHRaWbrLduHTRpAl+rJ1BqicrMCD8oeq8Z4VL7jB8P++4bFhY899zQl5EkYUBmE/USaeFBqU00I1zqtm+/hQsugF//GkpKwqioxx6DHXZIeUplk4AWHpTaRDPCpe569dWwT/fjj4fJeh9/DIcdlvTQxM7uepn8vyaijm+pbTQjXOqepUvh8svh2WfDqrQvvQRdu6Y8vGwfxoYN5Y8p7Qxv1iy8V8e31FaZjJ4aa2ZT0Yxwqenc4bnn4NJLQ7PUTTfB9deXHxdbRqo+jPr1Q4uWkoPUJSmThpntX6boi+i5tZm1dvep2QtLpJotXgwXXgijRkGXLmH9qI4dMzo1VR9GSUl4iNQl6Woa90bP2wCFwHRCTWMfYBLwy+yGJlINSkpg4EC4+uow/vXee+Gyy6B+/Y1zLRYuDLWFo4+G114L75s2DacvXx76MJI1SamDW+qilEnD3Q8DMLPngD7u/nH0viNwVW7CE6mC+fPDAoNvvw2HHcbwYx7nsgd3Z+FVISmsXBkmfkOYpPfII5tOTZyklyxhqINb6qpMOsL3KE0YAO4+08w6ZS8kkSrasAH+/nf4v/8LU7IHDGBoo3Ppc75t7JtITAqZUh+GSGZJ4xMzGwgMIQy7PQ2Yk9WoRLbUxx+HBQY//BCOOw7694cWLejXpnIT8pJRH4ZIZvM0zgRmAZcBlwOzgbOyF5LIFlizJoyG2n//sITsc8/BK69AixZA9czKVh+GSMWbMNUHRrn7kcD9uQlJpJImTQq1i1mz4LTTwt4XO++82SGplinPlPowRIKKNmHaAKw2s9RrKmwBMzvJzGaZWYmZFZb57Dozm29mc82se0J5ZzP7OPrsQTPTUiZ13fffwxVXwIEHhnkXo0bBM8+USxgQfvAbN968rHQF2tI9ui+8MDybhfLEz7RhkkiQSZ/Gj8DHZjaWzTdhurQK951J2EL2scRCM+sAnAzsBewGvGFmv4iS1yNAH+AD4DXgKGB0FWKQmuzNN8PIqE8/Db/2d94J22+f8vDSH/zEIbbqzBapvEySxqvRo9q4+xyAJJWFHsBz7r4G+MzM5gNdzWwBsL27T4zOexroiZJG3bNiRZhzMXAg/PznYTjtoYdmdGqvXkoSIlWVSUf482zare95dx/s7oOzFE8LYFHC+8VRWYvoddnypMysj5kVmVnR0qVLsxKoxGDEiLDA4JNPwjXXwIwZmyWMxEUF27SBiy7a/P3QoTHFLVKLpFtGZCvgdsJ2r8WEBNPSzJ4C+rn7unQXNrM3gJ8m+aifuw9PdVqSMk9TnpS7DwAGABQWFqbZIkdqhK++CutFPf887LMPDB8OhZt1hZVbVLDsZL3i4vA5qLYhUhXpahr3AE2Btu7e2d33A3YHdgT+VtGF3f1Id++Y5JEqYUCoQSRuwtwSWBKVt0xSLrWZOwwZAnvuCS+/HPbsLioqlzAgs42RVq8Ox4nIlkuXNI4BznP3laUF7v4dcCFwdJbiGQGcbGYNzawt0A6Y7O5fACvNrFs0auoMIF3ykZpu0SI45hg4/XRo3x4++ghuuCEMeUoi03kY2kVPpGrSJQ13L7/7cTSSqUpNPmZ2vJktBg4EXjWzMdG1ZwHDCBMI/w30je4HIVkNBOYD/0Wd4LVTSUloV9prr9DJ/fe/wzvvQIcOaU/LdOKdJuiJVE26pDHbzM4oW2hmpwGfVOWm7v6yu7d094bu/hN3757w2W3uvru7t3f30QnlRVHz1u7ufnGyhCY13Lx5Yee8iy6CAw6AmTM3rkhbkWTzMMrSBD2Rqks35LYv8JKZnU0YPeVAF6ARcHwOYpO6Yv36MIv7xhthm23C6Kgzzwwz6zKUbB5G4lLnmpchUj3SLY3+OXCAmR1OmGxnwGh3H5er4KQOmD49LAEyZQr07BkWGNx113J7XZTWECpKCgsWxPmPEan9rLa38hQWFnpRUVHcYUhZa9bAX/8aZnI3bQoPPwy//z2YlRs+C6H/22zT/hfJNG6s5T5EqouZTXH3ckMVM5ncJ1K9Jk6E/fYLSePUU2H2bDjxxI3NUcmGz65blz5hgIbUiuSCkobkzqpVcPnlcPDBYbHB0aNh8OCwMmCCqgyL1ZBakexS0pDcGDsW9t4bHngA+vYNI6OOOirpoVUZFqshtSLZpaQh2fXNN6Gj+ze/gYYNw5yLhx6C7bZLeUqqZcy33jr9rTSkViT7lDQke15+OUzKGzwYrrsOpk2DX/6ywtN69Qod2qV7WxQUwFNPhZG4iWWJ+19ozwuR3NDoKal+X34Jl1wC//oXdOoUfu332y/uqESkEjR6SrLPHZ5+OiwwOGIE3H47TJ6shCFSi2SyCZNIxYqL4fzzYcyYMDpq4EDYY4+4oxKRaqaahlRNSUmYmNexI7z7bujknjBBCUOkllJNQ7bc3LlhZNR770H37vDYY6FHWkRqLdU0pPLWrYM77oB99w2zuQcNChP1lDBEaj0lDamcjz4Ky5Zffz0ce2xIGr17V2pF2rLK7u2tvbxF8peShmTmxx9DoujSBZYsgRdfDENqf5psG/jMlS5OWFwcBl+V7uWtxCGSn5Q0pGLvvhvmW9xxB5xxRqhdnHBCtVw62eKEWnhQJH8paUhqK1fCxRfDIYeEmsaYMWGiXtOmFZ6aqsmpbHlxcfLztfCgSH7S6ClJbsyY0E60aBFcemlY1KlJk3KHpdosKXE/jNImp/feCyuKJJabhWapsrTwoEh+Uk1DgE01gGa2nBeb9A4r0DZuDO+8w9CuD9CmY5OktYZk/RGXXZa8yWnAgPLl7uX70LXwoEj+UtKoAyoanVT6419Y/AKz2ZPjvn+Wu7bqxz+v+YihCw5O2VGdqj9i2bLkcWzYkLzcXQsPitQY7l6rH507d/baaMgQ94ICd7PwPGRI6uMaN3YPP83h0bjx5scXtljiL3CCO3gR+/u+fOQQrltQsPm5pY/Seyf7LNWjfv3U1xKR/AIUeZLfVNU0aqDKDFNNOzrJHZ56itc/78DveJU/cycHMInpdAJCP0WqDunSPoxkmjUrvx9G48YhxmTlaooSqTliSRpmdo+ZfWJmM8zsZTPbMeGz68xsvpnNNbPuCeWdzezj6LMHzaowm6wCuZpstqX3qcww1VQ/+vWKPwtLf5x9Nv9puDf7MIO7+TMbEsZGtG6dOjGUdnonSwIPPFB+P4wBA6B//+TlaooSqUGSVT+y/QB+A2wVvb4LuCt63QGYDjQE2gL/BepHn00GDgQMGA38NpN7VbZ5KpPmnOpQlfukahYyK39s2ealeqz3S3jAv7fG7k2auPfv70Oe3pAylorizLSZTERqFlI0T8Xe5wAcDwyNXl8HXJfw2ZgoUewKfJJQfgrwWCbXr2zSSNeGX52qcp/KnJv4o78Hs/09DnQHX7zvb92Lizc7LtWPvxKDSN2TKmnkwzyNs4Hno9ctgA8SPlscla2LXpctT8rM+gB9AFpXcsB/ujb86lSV+9x22+bzICB130CvXmDr1/H55Xdz6Yq/sLpeE97r8wwH9++12VjXXr1SNxOl+0xE6pas9WmY2RtmNjPJo0fCMf2A9UBpa36yfgpPU56Uuw9w90J3L2zevHml4k7Xhl+dqnKfZHtop+wbmDKFU+8r5OoVN9DwDz3Z6Ys5HPzIaVVaYFBE6q6sJQ13P9LdOyZ5DAcws97AMUCvqCoEoQbRKuEyLYElUXnLJOXVLlXnbnWP8KnqfXr1ggULwh5ICxYkSRg//ADXXhtWpF26FF5+GZ5/HnbZpRqiF5G6Kq7RU0cBfwaOc/fEcUAjgJPNrKGZtQXaAZPd/QtgpZl1i0ZNnQEMz0ZslforPl/vM2FC2OvirrvgrLPCAoM9e1bDhUWkrrNNf+Tn8KZm8wkjpErnDn/g7hdEn/Uj9HOsBy5399FReSEwCGhEGD11iWcQfGFhoRcVFVX7vyEvffddqF088gi0bQuPPw5HHBF3VCJSA5nZFHcvLFseS0e4u/88zWe3AeUaady9COiYzbhqtNdegwsugMWL4U9/gltvhW23jTsqEall8mH0lFTF11+HJDFkCHToAO+/D926xR2ViNRSWkakpnKHYcNConjuObjxRpg6VQlDRLJKNY2aaMkSuOgiGD4cCgvhjTdgn33ijkpE6gDVNGoSdxg4MNQuxoyBe+6BiROVMEQkZ1TTqCk+/RTOOw/efBMOPTQkj5+nHE8gIpIVqmnkuw0b4P77oWNH+PBDeOyxkDiUMEQkBqpp5LNZs+Ccc2DSJPjd7+DRR6Fly4rPExHJEtU08tHatfCXv8B++8F//wvPPgsjRyphiEjsVNPINx9+CGefDTNnwimnhB2NKrnooohItqimkS9Wr4arrgrzLL75BkaMCDUMJQwRySOqaeSDt9+Gc88NTVHnnx8WGtxhh7ijEhEpRzWNOH37bUgShx0W3r/5ZujsVsIQkTylpBGXkSPDJL2BA+HKK2HGjE3JQ0QkTylp5NrSpXDqqXDccdC0aZjR/be/ld+RSUQkDylp5Ip76Njec0944QW45RaYMgW6do07MhGRjKkjPBcWL4YLL4RRo0KSeOKJMMNbRKSGUU0jm0pKwrIfHTrAuHFw331hvwslDBGpoVTTyJb588MCg2+/DYcfHrZe/dnP4o5KRKRKVNOobuvXh47tvfcOmyI9/njY70IJQ0RqAdU0qtOMGWGBwaKiMDqqf39o0SLuqEREqo1qGtVhzRq46Sbo3BmKi8P2q6+8ooQhIrWOahpV9cEHoXYxezacdlrY+2LnneOOSkQkK2KpaZjZrWY2w8ymmdnrZrZbwmfXmdl8M5trZt0Tyjub2cfRZw+amcUR+0bffw9XXAEHHQTffQevvgrPPKOEISK1WlzNU/e4+z7u3gkYBdwIYGYdgJOBvYCjgP5mVj865xGgD9AuehyV66A3GjcudHTffz9ccEHYLOnoo2MLR0QkV2JJGu7+XcLbbQGPXvcAnnP3Ne7+GTAf6GpmuwLbu/tEd3fgaaBnLmMGYMWKsBrtkUfCVlvB+PGhs3v77XMeiohIHGLr0zCz24AzgG+B0pX6WgAfJBy2OCpbF70uW57q2n0ItRJat25dPQEPHx5mdX/5JVxzDdx8MzRqVD3XFhGpIbJW0zCzN8xsZpJHDwB37+furYChwMWlpyW5lKcpT8rdB7h7obsXNq/qJkZffgl//CP07Bk2RJo0Kex3oYQhInVQ1moa7n5khoc+C7wK3ESoQbRK+KwlsCQqb5mkPHvcYehQuOwyWLUK/vrXUMNo0CCrtxURyWdxjZ5ql/D2OOCT6PUI4GQza2hmbQkd3pPd/QtgpZl1i0ZNnQEMz1qA69bBMcfA6adD+/YwbRr066eEISJ1Xlx9GneaWXugBCgGLgBw91lmNgyYDawH+rr7huicC4FBQCNgdPTIjgYNQrLo3h369oX69Ss+R0SkDrAwGKn2Kiws9KKiorjDEBGpUcxsirsXli3XMiIiIpIxJQ0REcmYkoaIiGRMSUNERDKmpCEiIhlT0hARkYwpaYiISMaUNEREJGO1fnKfmS0lzDrPpZ2Br3N8z3yn76Q8fSfl6TspL67vpMDdy634WuuTRhzMrCjZTMq6TN9JefpOytN3Ul6+fSdqnhIRkYwpaYiISMaUNLJjQNwB5CF9J+XpOylP30l5efWdqE9DREQyppqGiIhkTElDREQypqSRJWZ2j5l9YmYzzOxlM9sx7pjiZmYnmdksMysxs7wZQhgHMzvKzOaa2XwzuzbueOJmZk+a2VdmNjPuWPKFmbUys7fMbE70/5vL4o4JlDSyaSzQ0d33Af4DXBdzPPlgJnACMCHuQOJkZvWBh4HfAh2AU8ysQ7xRxW4QcFTcQeSZ9cCV7r4n0A3omw//nShpZIm7v+7u66O3HwAt44wnH7j7HHefG3cceaArMN/dP3X3tcBzQI+YY4qVu08AlscdRz5x9y/cfWr0eiUwB2gRb1RKGrlyNjA67iAkb7QAFiW8X0we/BhI/jKzNsB+wKSYQ2GruAOoyczsDeCnST7q5+7Do2P6EaqZQ3MZW1wy+U4ES1Kmse+SlJk1AV4ELnf37+KOR0mjCtz9yHSfm1lv4BjgCK8jE2Iq+k4ECDWLVgnvWwJLYopF8piZNSAkjKHu/lLc8YCap7LGzI4C/gwc5+6r445H8sqHQDsza2tmWwMnAyNijknyjJkZ8AQwx93vizueUkoa2fMPYDtgrJlNM7NH4w4obmZ2vJktBg4EXjWzMXHHFIdogMTFwBhC5+Ywd58Vb1TxMrN/AhOB9ma22MzOiTumPHAwcDpwePQbMs3Mjo47KC0jIiIiGVNNQ0REMqakISIiGVPSEBGRjClpiIhIxpQ0REQkY0oaUiOYWbOEYYf/M7PPo9crzGx2jmPpmbhwnJn9xcwqPanRzNrEuaqrmV1f5v370XOscUl+U9KQGsHdl7l7J3fvBDwK3B+97gSUVPf9zCzdagk9CavTlsZ2o7u/Ud0x5MBmScPdD4orEKk5lDSkNqhvZo9Hew68bmaNAMxsdzP7t5lNMbN3zGyPqLzAzMZFe52MM7PWUfkgM7vPzN4C7kp2vpkdBBwH3BPVdHaPzjsxukYXM3vfzKab2WQz2y76y/0dM5saPdL+OFvwDzObbWavmtlrCddfYGY7R68Lzezt6HXX6L4fRc/to/Izzeyl6N8xz8zujsrvBBpF/4ahUdmqJLHUt7A3zIfR93V+VL6rmU2Izp9pZodU8X9DqSncXQ89atQDuBm4KnrdhrAgZKfo/TDgtOj1OKBd9PoA4M3o9Uigd/T6bOCV6PUgYBRQv4LzBwEnJsQzCDgR2Br4FOgSlW9PWN+tMbBNVNYOKEqIfWaSf98JhP1Y6gO7AStK7wcsAHaOXhcCbyfeK3p9JPBi9PrMKKYdgG2AYqBV9NmqMvddVTYuoA9wQ/S6IVAEtAWuJCxCSRTndnH/d6FHbh5asFBqg8/cfVr0egrQJloZ9CDgX2EJHyD86EFYxuSE6PUzwN0J1/qXu2+o4PxU2gNfuPuHAB6tSGpm2wL/MLNOwAbgFxVc51fAP919A7DEzN6s4HgISWGwmbUjrJjbIOGzce7+bRTLbKCAzZdmT+c3wD6lNZ3oPu0I62c9GS2o90rC9y+1nJKG1AZrEl5vABoRml5XeOj3qEjiWjrfR8+VOb+UkXyJ8z8BXwL7Rtf9sZIxJVrPpmblbRLKbwXecvfjLey98HbCZ2W/n8r8/96AS9y93DphZvYr4HfAM2Z2j7s/XYnrSg2lPg2plaK/8j8zs5NgYz/BvtHH7xNWlgXoBbxbyfNXEhajLOsTYDcz6xKds13Uob4DoQZSQliArn4F4U8ATo76E3YFDkv4bAHQOXr9+4TyHYDPo9dnVnD9UuuimkI6Y4ALS48zs1+Y2bZmVgB85e6PE1Zi3T/De0oNp6QhtVkv4Bwzmw7MYtOWqpcCZ5nZDMKP+GWVPP854Oqo03n30oM9bN36R+Ch6JyxhNpAf6C3mX1AaJr6nvReBuYBHwOPAOMTPrsFeMDM3iHUGkrdDdxhZu9RcVIqNQCYUdoRnsJAYDYwNRqG+xihpvJrYJqZfURIXg9keE+p4bTKrUieM7NBwCh3fyHuWERU0xARkYyppiEiIhlTTUNERDKmpCEiIhlT0hARkYwpaYiISMaUNEREJGP/H8M/GxGugJnvAAAAAElFTkSuQmCC\n",
      "text/plain": [
       "<Figure size 432x288 with 1 Axes>"
      ]
     },
     "metadata": {
      "needs_background": "light"
     },
     "output_type": "display_data"
    }
   ],
   "source": [
    "from scipy.stats import probplot\n",
    "import matplotlib.pyplot as plt\n",
    "\n",
    "(_, (_, _, _)) = probplot(dataset.Residuos, plot = plt)"
   ]
  },
  {
   "cell_type": "code",
   "execution_count": 115,
   "metadata": {
    "colab": {
     "base_uri": "https://localhost:8080/",
     "height": 287
    },
    "colab_type": "code",
    "id": "dYwjwYdMtd-b",
    "outputId": "3802f308-d173-468f-dce6-6b12b1206848"
   },
   "outputs": [
    {
     "data": {
      "text/plain": [
       "<AxesSubplot:>"
      ]
     },
     "execution_count": 115,
     "metadata": {},
     "output_type": "execute_result"
    },
    {
     "data": {
      "image/png": "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\n",
      "text/plain": [
       "<Figure size 432x288 with 1 Axes>"
      ]
     },
     "metadata": {
      "needs_background": "light"
     },
     "output_type": "display_data"
    }
   ],
   "source": [
    "dados.Altura.hist(bins=50)"
   ]
  },
  {
   "cell_type": "code",
   "execution_count": 116,
   "metadata": {
    "colab": {
     "base_uri": "https://localhost:8080/",
     "height": 295
    },
    "colab_type": "code",
    "id": "I5AOPc2vtd-c",
    "outputId": "c3beb4db-147a-4eb9-8cf3-c12bb07625a8"
   },
   "outputs": [
    {
     "data": {
      "image/png": "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\n",
      "text/plain": [
       "<Figure size 432x288 with 1 Axes>"
      ]
     },
     "metadata": {
      "needs_background": "light"
     },
     "output_type": "display_data"
    }
   ],
   "source": [
    "(_, (_, _, _)) = probplot(dados.Altura, plot = plt)"
   ]
  },
  {
   "cell_type": "markdown",
   "metadata": {
    "colab_type": "text",
    "id": "5ilwY6HQtd-d"
   },
   "source": [
    "### Verificando a simetria\n",
    "\n",
    "https://docs.scipy.org/doc/scipy/reference/generated/scipy.stats.skew.html"
   ]
  },
  {
   "cell_type": "code",
   "execution_count": 117,
   "metadata": {
    "colab": {
     "base_uri": "https://localhost:8080/",
     "height": 35
    },
    "colab_type": "code",
    "id": "6EuSXLHZtd-d",
    "outputId": "515fb460-7cfb-4fe8-838d-ddf00ce08842"
   },
   "outputs": [
    {
     "data": {
      "text/plain": [
       "0.07306920116444167"
      ]
     },
     "execution_count": 117,
     "metadata": {},
     "output_type": "execute_result"
    }
   ],
   "source": [
    "from scipy.stats import skew\n",
    "\n",
    "S = skew(dataset.Residuos)\n",
    "S"
   ]
  },
  {
   "cell_type": "markdown",
   "metadata": {
    "colab_type": "text",
    "id": "D52bUcYStd-g"
   },
   "source": [
    "### Verificando a curtose\n",
    "\n",
    "https://docs.scipy.org/doc/scipy/reference/generated/scipy.stats.kurtosis.html"
   ]
  },
  {
   "cell_type": "code",
   "execution_count": 118,
   "metadata": {
    "colab": {
     "base_uri": "https://localhost:8080/",
     "height": 35
    },
    "colab_type": "code",
    "id": "B_Zcx_cNtd-h",
    "outputId": "b8895129-bb7f-4c8c-d2ea-a634dc322a0c"
   },
   "outputs": [
    {
     "data": {
      "text/plain": [
       "1.6369621580686464"
      ]
     },
     "execution_count": 118,
     "metadata": {},
     "output_type": "execute_result"
    }
   ],
   "source": [
    "from scipy.stats import kurtosis\n",
    "\n",
    "C = 3 + kurtosis(dataset.Residuos)\n",
    "C"
   ]
  },
  {
   "cell_type": "markdown",
   "metadata": {
    "colab_type": "text",
    "id": "19Z7h_Jhtd-h"
   },
   "source": [
    "### Normalidade dos resíduos - Jarque-Bera (statsmodels)\n",
    "\n",
    "> ### $H_0:$ Os dados se distribuem como uma normal\n",
    "\n",
    "> ### Estatística de teste\n",
    "> ### $$JB = \\frac{n}{6}(S^2 + \\frac{1}{4}(C - 3)^2)$$\n",
    "> #### Onde,\n",
    "> #### $n$ - número de observações\n",
    "> #### $S$ - Coeficiente de assimetria\n",
    "> #### $C$ - Coeficiente de curtose"
   ]
  },
  {
   "cell_type": "code",
   "execution_count": 119,
   "metadata": {
    "colab": {
     "base_uri": "https://localhost:8080/",
     "height": 35
    },
    "colab_type": "code",
    "id": "r356qjpOtd-h",
    "outputId": "d0ebbba7-7a33-4bfb-99c7-5211f2f93315"
   },
   "outputs": [
    {
     "data": {
      "text/plain": [
       "3.9150595649419175"
      ]
     },
     "execution_count": 119,
     "metadata": {},
     "output_type": "execute_result"
    }
   ],
   "source": [
    "JB = (n / 6.) * (S ** 2 + (1 / 4.) * (C - 3) ** 2)\n",
    "JB"
   ]
  },
  {
   "cell_type": "code",
   "execution_count": 120,
   "metadata": {
    "colab": {
     "base_uri": "https://localhost:8080/",
     "height": 35
    },
    "colab_type": "code",
    "id": "aK8Lvwvbtd-i",
    "outputId": "9e31cdd7-d4e3-43ee-b441-7162d6ad37a8"
   },
   "outputs": [
    {
     "data": {
      "text/plain": [
       "0.1412068019728567"
      ]
     },
     "execution_count": 120,
     "metadata": {},
     "output_type": "execute_result"
    }
   ],
   "source": [
    "from scipy.stats import chi2\n",
    "\n",
    "p_valor = chi2.sf(JB, 2)\n",
    "p_valor"
   ]
  },
  {
   "cell_type": "code",
   "execution_count": 121,
   "metadata": {
    "colab": {
     "base_uri": "https://localhost:8080/",
     "height": 35
    },
    "colab_type": "code",
    "id": "4vvZL2V5td-j",
    "outputId": "a27ae907-9f42-423d-9384-2822a2603b09"
   },
   "outputs": [
    {
     "data": {
      "text/plain": [
       "False"
      ]
     },
     "execution_count": 121,
     "metadata": {},
     "output_type": "execute_result"
    }
   ],
   "source": [
    "p_valor <= 0.05"
   ]
  },
  {
   "cell_type": "markdown",
   "metadata": {
    "colab_type": "text",
    "id": "C7GvNaJztd-j"
   },
   "source": [
    "### Normalidade dos resíduos - Jarque-Bera (Correção)\n",
    "\n",
    "> ### $H_0:$ Os dados se distribuem como uma normal\n",
    "\n",
    "> ### Estatística de teste\n",
    "> ### $$JB = \\frac{n-k}{6}(S^2 + \\frac{1}{4}(C - 3)^2)$$\n",
    "> #### Onde,\n",
    "> #### $n$ - número de observações\n",
    "> #### $k$ - número de parâmetros do modelo\n",
    "> #### $S$ - Coeficiente de assimetria\n",
    "> #### $C$ - Coeficiente de curtose"
   ]
  },
  {
   "cell_type": "code",
   "execution_count": 125,
   "metadata": {
    "colab": {},
    "colab_type": "code",
    "id": "Bspj3u5vtd-n"
   },
   "outputs": [
    {
     "data": {
      "text/plain": [
       "3.836758373643079"
      ]
     },
     "execution_count": 125,
     "metadata": {},
     "output_type": "execute_result"
    }
   ],
   "source": [
    "JB = ((n - 1) / 6.) * (S ** 2 + (1 / 4.) * (C - 3) ** 2)\n",
    "JB"
   ]
  },
  {
   "cell_type": "code",
   "execution_count": 127,
   "metadata": {},
   "outputs": [
    {
     "data": {
      "text/plain": [
       "0.14684477730154444"
      ]
     },
     "execution_count": 127,
     "metadata": {},
     "output_type": "execute_result"
    }
   ],
   "source": [
    "from scipy.stats import chi2\n",
    "\n",
    "p_valor = chi2.sf(JB, 2)\n",
    "p_valor"
   ]
  },
  {
   "cell_type": "code",
   "execution_count": 128,
   "metadata": {},
   "outputs": [
    {
     "data": {
      "text/plain": [
       "False"
      ]
     },
     "execution_count": 128,
     "metadata": {},
     "output_type": "execute_result"
    }
   ],
   "source": [
    "p_valor <= 0.05"
   ]
  },
  {
   "cell_type": "code",
   "execution_count": null,
   "metadata": {},
   "outputs": [],
   "source": []
  }
 ],
 "metadata": {
  "colab": {
   "name": "Curso_de_Estatística_Parte_4.ipynb",
   "provenance": [],
   "version": "0.3.2"
  },
  "kernelspec": {
   "display_name": "Python 3",
   "language": "python",
   "name": "python3"
  },
  "language_info": {
   "codemirror_mode": {
    "name": "ipython",
    "version": 3
   },
   "file_extension": ".py",
   "mimetype": "text/x-python",
   "name": "python",
   "nbconvert_exporter": "python",
   "pygments_lexer": "ipython3",
   "version": "3.9.10"
  },
  "latex_envs": {
   "LaTeX_envs_menu_pr