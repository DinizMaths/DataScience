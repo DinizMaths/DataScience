{
 "cells": [
  {
   "cell_type": "markdown",
   "id": "375821e1",
   "metadata": {},
   "source": [
    "# Funcionamento da rede"
   ]
  },
  {
   "cell_type": "markdown",
   "id": "9b47be48",
   "metadata": {},
   "source": [
    "<img src=\"rede_neural.jpg\" />"
   ]
  },
  {
   "cell_type": "code",
   "execution_count": 1,
   "id": "ed9d6446",
   "metadata": {},
   "outputs": [],
   "source": [
    "import tensorflow\n",
    "from tensorflow import keras\n",
    "\n",
    "import numpy             as np\n",
    "import pandas            as pd\n",
    "import matplotlib.pyplot as plt\n",
    "import seaborn           as sns"
   ]
  },
  {
   "cell_type": "code",
   "execution_count": 2,
   "id": "930369e6",
   "metadata": {},
   "outputs": [],
   "source": [
    "dataset = keras.datasets.fashion_mnist\n",
    "\n",
    "((imagens_treino, identificacoes_treino), (imagens_teste, identificacoes_teste)) = dataset.load_data()\n",
    "\n",
    "imagens_treino = imagens_treino / float(255)"
   ]
  },
  {
   "cell_type": "code",
   "execution_count": 3,
   "id": "f0983134",
   "metadata": {},
   "outputs": [
    {
     "name": "stdout",
     "output_type": "stream",
     "text": [
      "Epoch 1/10\n",
      "1500/1500 [==============================] - 7s 4ms/step - loss: 0.5337 - accuracy: 0.8074 - val_loss: 0.3930 - val_accuracy: 0.8550\n",
      "Epoch 2/10\n",
      "1500/1500 [==============================] - 6s 4ms/step - loss: 0.3999 - accuracy: 0.8528 - val_loss: 0.3929 - val_accuracy: 0.8483\n",
      "Epoch 3/10\n",
      "1500/1500 [==============================] - 6s 4ms/step - loss: 0.3675 - accuracy: 0.8643 - val_loss: 0.3414 - val_accuracy: 0.8776\n",
      "Epoch 4/10\n",
      "1500/1500 [==============================] - 6s 4ms/step - loss: 0.3451 - accuracy: 0.8732 - val_loss: 0.3608 - val_accuracy: 0.8702\n",
      "Epoch 5/10\n",
      "1500/1500 [==============================] - 6s 4ms/step - loss: 0.3278 - accuracy: 0.8779 - val_loss: 0.3347 - val_accuracy: 0.8802\n",
      "Epoch 6/10\n",
      "1500/1500 [==============================] - 6s 4ms/step - loss: 0.3147 - accuracy: 0.8827 - val_loss: 0.3387 - val_accuracy: 0.8758\n",
      "Epoch 7/10\n",
      "1500/1500 [==============================] - 6s 4ms/step - loss: 0.3037 - accuracy: 0.8861 - val_loss: 0.3368 - val_accuracy: 0.8783\n",
      "Epoch 8/10\n",
      "1500/1500 [==============================] - 6s 4ms/step - loss: 0.2945 - accuracy: 0.8897 - val_loss: 0.3647 - val_accuracy: 0.8682\n",
      "Epoch 9/10\n",
      "1500/1500 [==============================] - 6s 4ms/step - loss: 0.2861 - accuracy: 0.8913 - val_loss: 0.3392 - val_accuracy: 0.8774\n",
      "Epoch 10/10\n",
      "1500/1500 [==============================] - 6s 4ms/step - loss: 0.2760 - accuracy: 0.8959 - val_loss: 0.3151 - val_accuracy: 0.8863\n"
     ]
    },
    {
     "data": {
      "text/plain": [
       "<keras.callbacks.History at 0x17110491a90>"
      ]
     },
     "execution_count": 3,
     "metadata": {},
     "output_type": "execute_result"
    }
   ],
   "source": [
    "modelo = keras.Sequential([\n",
    "    keras.layers.Flatten(input_shape=(28, 28)),\n",
    "    \n",
    "    keras.layers.Dense(256, activation=tensorflow.nn.relu),\n",
    "    keras.layers.Dropout(0.2),\n",
    "    keras.layers.Dense(128, activation=tensorflow.nn.relu),\n",
    "    \n",
    "    keras.layers.Dense(10, activation=tensorflow.nn.softmax)\n",
    "])\n",
    "\n",
    "modelo.compile(optimizer='adam', loss='sparse_categorical_crossentropy', metrics=['accuracy'])\n",
    "\n",
    "modelo.fit(imagens_treino, identificacoes_treino, epochs=10, validation_split=0.2)"
   ]
  },
  {
   "cell_type": "markdown",
   "id": "6a04e385",
   "metadata": {},
   "source": [
    "# Resumo do modelo"
   ]
  },
  {
   "cell_type": "code",
   "execution_count": 4,
   "id": "c6100930",
   "metadata": {},
   "outputs": [
    {
     "name": "stdout",
     "output_type": "stream",
     "text": [
      "Model: \"sequential\"\n",
      "_________________________________________________________________\n",
      " Layer (type)                Output Shape              Param #   \n",
      "=================================================================\n",
      " flatten (Flatten)           (None, 784)               0         \n",
      "                                                                 \n",
      " dense (Dense)               (None, 256)               200960    \n",
      "                                                                 \n",
      " dropout (Dropout)           (None, 256)               0         \n",
      "                                                                 \n",
      " dense_1 (Dense)             (None, 128)               32896     \n",
      "                                                                 \n",
      " dense_2 (Dense)             (None, 10)                1290      \n",
      "                                                                 \n",
      "=================================================================\n",
      "Total params: 235,146\n",
      "Trainable params: 235,146\n",
      "Non-trainable params: 0\n",
      "_________________________________________________________________\n"
     ]
    }
   ],
   "source": [
    "sumario_do_modelo = modelo.summary()\n",
    "\n",
    "sumario_do_modelo"
   ]
  },
  {
   "cell_type": "markdown",
   "id": "b6a898c4",
   "metadata": {},
   "source": [
    "É possível observar que no primeiro dense temos 200960 parâmetros. Se multiplicarmos 784 da camada flatten por 256 da primeira dense temos 200.704... de onde vem os outros 256 parâmetros dessa camada?\n",
    "\n",
    "Esses outros 256 seriam como pesos nessa camada que são moldados a medida que treinamos."
   ]
  },
  {
   "cell_type": "markdown",
   "id": "52a4f3e8",
   "metadata": {},
   "source": [
    "# Pesos"
   ]
  },
  {
   "cell_type": "code",
   "execution_count": 5,
   "id": "91e2752c",
   "metadata": {
    "scrolled": true
   },
   "outputs": [
    {
     "data": {
      "text/plain": [
       "[array([[ 0.03015021, -0.01972636,  0.04369548, ...,  0.05521436,\n",
       "         -0.05089135, -0.07780948],\n",
       "        [ 0.02797533, -0.0114601 ,  0.08139125, ..., -0.0382046 ,\n",
       "         -0.01839068, -0.04651351],\n",
       "        [-0.06990895, -0.02395104,  0.01039242, ..., -0.03589765,\n",
       "          0.03796642, -0.11130533],\n",
       "        ...,\n",
       "        [ 0.06531568, -0.08033355, -0.1480844 , ..., -0.0336173 ,\n",
       "         -0.03399583, -0.02859576],\n",
       "        [ 0.00619973, -0.19480087, -0.13396753, ...,  0.01001712,\n",
       "         -0.01103124, -0.20683572],\n",
       "        [ 0.0906656 , -0.13873813,  0.02214294, ...,  0.01764898,\n",
       "         -0.06763382, -0.21789575]], dtype=float32),\n",
       " array([ 0.1358173 ,  0.2849851 ,  0.17133908, -0.01037397,  0.18014938,\n",
       "         0.06608928,  0.35319948, -0.03716317, -0.13207467,  0.38412374,\n",
       "        -0.02050947,  0.6289852 , -0.19564202,  0.22110362,  0.01158471,\n",
       "        -0.08169031,  0.19123362,  0.25836053, -0.14206211, -0.23628311,\n",
       "        -0.03636708, -0.01215509,  0.32875144,  0.3921574 ,  0.15606043,\n",
       "        -0.00515226,  0.34249264,  0.08948664, -0.00668161, -0.3297207 ,\n",
       "         0.35169592, -0.15332672,  0.14609906,  0.0033304 , -0.26818493,\n",
       "         0.2773301 , -0.3742712 , -0.05973265,  0.04680966,  0.10237408,\n",
       "         0.15409662,  0.06138068, -0.02184693,  0.20517252, -0.25359327,\n",
       "        -0.01464982, -0.26086777, -0.09717863, -0.01966419,  0.02069554,\n",
       "         0.0975821 ,  0.05068081, -0.28618968,  0.13284463, -0.18598317,\n",
       "         0.23463985,  0.10439906,  0.02961439,  0.06525001, -0.28794616,\n",
       "         0.03652802,  0.07239613, -0.01596973, -0.13872564,  0.34460703,\n",
       "         0.13200387,  0.10301881, -0.01197574,  0.08664816, -0.27902135,\n",
       "         0.00838354,  0.31951484, -0.18913613, -0.03320871,  0.1758458 ,\n",
       "         0.12554938,  0.3942384 ,  0.1359375 , -0.4656348 ,  0.3172966 ,\n",
       "         0.13235833,  0.03753015,  0.08588509,  0.28490937,  0.5350858 ,\n",
       "        -0.06181139,  0.0619521 ,  0.08324922, -0.05248237,  0.13397644,\n",
       "         0.45981678,  0.25683308,  0.20992248,  0.0981326 ,  0.34143156,\n",
       "         0.2336112 , -0.06331725, -0.06610329,  0.0110864 ,  0.11332946,\n",
       "        -0.15688385,  0.30872566, -0.04202878, -0.38236028,  0.46014577,\n",
       "        -0.02701477, -0.00825471,  0.0852641 ,  0.28410935, -0.05590915,\n",
       "        -0.05095187, -0.02902113, -0.24119316,  0.07325112,  0.20552023,\n",
       "        -0.00984149, -0.01096013,  0.31989452,  0.11517449,  0.18750772,\n",
       "         0.01894075,  0.14239714, -0.4942316 ,  0.06686988,  0.15468422,\n",
       "         0.2615602 ,  0.1878581 ,  0.23348205,  0.0080857 ,  0.22689795,\n",
       "         0.08539318,  0.36658296,  0.33154988,  0.283154  , -0.23664226,\n",
       "        -0.00241768, -0.02151939, -0.1941764 , -0.37633353,  0.3509893 ,\n",
       "         0.02503055,  0.11652143, -0.01015583,  0.18357332,  0.1325866 ,\n",
       "         0.15326506,  0.05486582,  0.32889935,  0.05509219,  0.19183688,\n",
       "        -0.0438062 ,  0.14591663, -0.35817775,  0.35380813,  0.330673  ,\n",
       "        -0.02017323, -0.20039587,  0.00385685, -0.1457633 , -0.27156425,\n",
       "         0.3127475 ,  0.00330984,  0.2896627 ,  0.02869537, -0.02663317,\n",
       "         0.3404685 ,  0.4739104 ,  0.24558406,  0.03626069, -0.03579038,\n",
       "         0.03720993, -0.29645476,  0.14925691,  0.18667422,  0.2786863 ,\n",
       "         0.45607808, -0.0466027 , -0.01811638,  0.06140621, -0.12470396,\n",
       "         0.3303736 ,  0.20450965,  0.05704647,  0.36112824,  0.35177425,\n",
       "         0.06831031,  0.02292369, -0.44930324,  0.2390813 ,  0.01946608,\n",
       "        -0.01757527,  0.19590105,  0.1377341 , -0.03248116,  0.10208836,\n",
       "         0.11195809, -0.01198943,  0.32457972,  0.33968538,  0.15017043,\n",
       "        -0.05890482, -0.01714086,  0.42862684, -0.01457772, -0.00850362,\n",
       "         0.33949894, -0.22186567,  0.20077659,  0.11566647,  0.10345485,\n",
       "        -0.25205332,  0.15400195,  0.02067776,  0.263594  ,  0.24170855,\n",
       "        -0.08572304, -0.00838543,  0.1846292 ,  0.20357257,  0.23687817,\n",
       "        -0.07489958,  0.35257563,  0.05207769,  0.37289912,  0.02977175,\n",
       "         0.27724278,  0.30688873, -0.19173716,  0.08662293,  0.43421033,\n",
       "         0.07444361,  0.3920239 ,  0.1014928 , -0.13181433,  0.30962193,\n",
       "         0.1368849 ,  0.39006615,  0.1808605 ,  0.07892366,  0.10663809,\n",
       "         0.44713527, -0.1341733 , -0.11475077,  0.24862885,  0.22313757,\n",
       "         0.20123458,  0.19946657, -0.02805068,  0.2865625 ,  0.13205048,\n",
       "         0.15893061,  0.08575816, -0.43104425, -0.03234468, -0.02780379,\n",
       "         0.37253538], dtype=float32)]"
      ]
     },
     "execution_count": 5,
     "metadata": {},
     "output_type": "execute_result"
    }
   ],
   "source": [
    "pesos_camada_1 = modelo.layers[1].get_weights()\n",
    "\n",
    "pesos_camada_1"
   ]
  },
  {
   "cell_type": "code",
   "execution_count": 6,
   "id": "87255305",
   "metadata": {},
   "outputs": [
    {
     "data": {
      "text/plain": [
       "784"
      ]
     },
     "execution_count": 6,
     "metadata": {},
     "output_type": "execute_result"
    }
   ],
   "source": [
    "len(modelo.layers[1].get_weights()[0])"
   ]
  },
  {
   "cell_type": "markdown",
   "id": "6b7190ea",
   "metadata": {},
   "source": [
    "## Viés\n",
    "\n",
    "E o que há na coordenada 1 do array retornado? na coordenada 1 se encontram os vieses."
   ]
  },
  {
   "cell_type": "code",
   "execution_count": 7,
   "id": "df56f648",
   "metadata": {
    "scrolled": true
   },
   "outputs": [
    {
     "data": {
      "text/plain": [
       "array([ 0.1358173 ,  0.2849851 ,  0.17133908, -0.01037397,  0.18014938,\n",
       "        0.06608928,  0.35319948, -0.03716317, -0.13207467,  0.38412374,\n",
       "       -0.02050947,  0.6289852 , -0.19564202,  0.22110362,  0.01158471,\n",
       "       -0.08169031,  0.19123362,  0.25836053, -0.14206211, -0.23628311,\n",
       "       -0.03636708, -0.01215509,  0.32875144,  0.3921574 ,  0.15606043,\n",
       "       -0.00515226,  0.34249264,  0.08948664, -0.00668161, -0.3297207 ,\n",
       "        0.35169592, -0.15332672,  0.14609906,  0.0033304 , -0.26818493,\n",
       "        0.2773301 , -0.3742712 , -0.05973265,  0.04680966,  0.10237408,\n",
       "        0.15409662,  0.06138068, -0.02184693,  0.20517252, -0.25359327,\n",
       "       -0.01464982, -0.26086777, -0.09717863, -0.01966419,  0.02069554,\n",
       "        0.0975821 ,  0.05068081, -0.28618968,  0.13284463, -0.18598317,\n",
       "        0.23463985,  0.10439906,  0.02961439,  0.06525001, -0.28794616,\n",
       "        0.03652802,  0.07239613, -0.01596973, -0.13872564,  0.34460703,\n",
       "        0.13200387,  0.10301881, -0.01197574,  0.08664816, -0.27902135,\n",
       "        0.00838354,  0.31951484, -0.18913613, -0.03320871,  0.1758458 ,\n",
       "        0.12554938,  0.3942384 ,  0.1359375 , -0.4656348 ,  0.3172966 ,\n",
       "        0.13235833,  0.03753015,  0.08588509,  0.28490937,  0.5350858 ,\n",
       "       -0.06181139,  0.0619521 ,  0.08324922, -0.05248237,  0.13397644,\n",
       "        0.45981678,  0.25683308,  0.20992248,  0.0981326 ,  0.34143156,\n",
       "        0.2336112 , -0.06331725, -0.06610329,  0.0110864 ,  0.11332946,\n",
       "       -0.15688385,  0.30872566, -0.04202878, -0.38236028,  0.46014577,\n",
       "       -0.02701477, -0.00825471,  0.0852641 ,  0.28410935, -0.05590915,\n",
       "       -0.05095187, -0.02902113, -0.24119316,  0.07325112,  0.20552023,\n",
       "       -0.00984149, -0.01096013,  0.31989452,  0.11517449,  0.18750772,\n",
       "        0.01894075,  0.14239714, -0.4942316 ,  0.06686988,  0.15468422,\n",
       "        0.2615602 ,  0.1878581 ,  0.23348205,  0.0080857 ,  0.22689795,\n",
       "        0.08539318,  0.36658296,  0.33154988,  0.283154  , -0.23664226,\n",
       "       -0.00241768, -0.02151939, -0.1941764 , -0.37633353,  0.3509893 ,\n",
       "        0.02503055,  0.11652143, -0.01015583,  0.18357332,  0.1325866 ,\n",
       "        0.15326506,  0.05486582,  0.32889935,  0.05509219,  0.19183688,\n",
       "       -0.0438062 ,  0.14591663, -0.35817775,  0.35380813,  0.330673  ,\n",
       "       -0.02017323, -0.20039587,  0.00385685, -0.1457633 , -0.27156425,\n",
       "        0.3127475 ,  0.00330984,  0.2896627 ,  0.02869537, -0.02663317,\n",
       "        0.3404685 ,  0.4739104 ,  0.24558406,  0.03626069, -0.03579038,\n",
       "        0.03720993, -0.29645476,  0.14925691,  0.18667422,  0.2786863 ,\n",
       "        0.45607808, -0.0466027 , -0.01811638,  0.06140621, -0.12470396,\n",
       "        0.3303736 ,  0.20450965,  0.05704647,  0.36112824,  0.35177425,\n",
       "        0.06831031,  0.02292369, -0.44930324,  0.2390813 ,  0.01946608,\n",
       "       -0.01757527,  0.19590105,  0.1377341 , -0.03248116,  0.10208836,\n",
       "        0.11195809, -0.01198943,  0.32457972,  0.33968538,  0.15017043,\n",
       "       -0.05890482, -0.01714086,  0.42862684, -0.01457772, -0.00850362,\n",
       "        0.33949894, -0.22186567,  0.20077659,  0.11566647,  0.10345485,\n",
       "       -0.25205332,  0.15400195,  0.02067776,  0.263594  ,  0.24170855,\n",
       "       -0.08572304, -0.00838543,  0.1846292 ,  0.20357257,  0.23687817,\n",
       "       -0.07489958,  0.35257563,  0.05207769,  0.37289912,  0.02977175,\n",
       "        0.27724278,  0.30688873, -0.19173716,  0.08662293,  0.43421033,\n",
       "        0.07444361,  0.3920239 ,  0.1014928 , -0.13181433,  0.30962193,\n",
       "        0.1368849 ,  0.39006615,  0.1808605 ,  0.07892366,  0.10663809,\n",
       "        0.44713527, -0.1341733 , -0.11475077,  0.24862885,  0.22313757,\n",
       "        0.20123458,  0.19946657, -0.02805068,  0.2865625 ,  0.13205048,\n",
       "        0.15893061,  0.08575816, -0.43104425, -0.03234468, -0.02780379,\n",
       "        0.37253538], dtype=float32)"
      ]
     },
     "execution_count": 7,
     "metadata": {},
     "output_type": "execute_result"
    }
   ],
   "source": [
    "vieses_camada_1 = modelo.layers[1].get_weights()[1]\n",
    "\n",
    "vieses_camada_1"
   ]
  },
  {
   "cell_type": "code",
   "execution_count": 8,
   "id": "39e646f9",
   "metadata": {},
   "outputs": [
    {
     "data": {
      "text/plain": [
       "256"
      ]
     },
     "execution_count": 8,
     "metadata": {},
     "output_type": "execute_result"
    }
   ],
   "source": [
    "len(modelo.layers[1].get_weights()[1])"
   ]
  },
  {
   "cell_type": "markdown",
   "id": "f7ad99f7",
   "metadata": {},
   "source": [
    "Aqueles outros 256 pesos adicionados a nossa conta gerando 200960 eram vieses\n",
    "\n",
    "Os vieses mostram ao modelo o quão próximo chegou da resposta"
   ]
  },
  {
   "cell_type": "markdown",
   "id": "a2228b77",
   "metadata": {},
   "source": [
    "## Zerando os pesos"
   ]
  },
  {
   "cell_type": "code",
   "execution_count": 9,
   "id": "dcf8cfe6",
   "metadata": {},
   "outputs": [
    {
     "data": {
      "text/plain": [
       "(784, 256)"
      ]
     },
     "execution_count": 9,
     "metadata": {},
     "output_type": "execute_result"
    }
   ],
   "source": [
    "pesos_camada_1[0].shape"
   ]
  },
  {
   "cell_type": "code",
   "execution_count": 10,
   "id": "e64b714f",
   "metadata": {},
   "outputs": [],
   "source": [
    "pesos_camada_1_zerados = np.zeros(pesos_camada_1[0].shape)"
   ]
  },
  {
   "cell_type": "code",
   "execution_count": 11,
   "id": "3cf84439",
   "metadata": {},
   "outputs": [],
   "source": [
    "modelo.layers[1].set_weights([pesos_camada_1_zerados, vieses_camada_1])"
   ]
  },
  {
   "cell_type": "code",
   "execution_count": 12,
   "id": "c16a66c1",
   "metadata": {
    "scrolled": true
   },
   "outputs": [
    {
     "data": {
      "text/plain": [
       "[array([[0., 0., 0., ..., 0., 0., 0.],\n",
       "        [0., 0., 0., ..., 0., 0., 0.],\n",
       "        [0., 0., 0., ..., 0., 0., 0.],\n",
       "        ...,\n",
       "        [0., 0., 0., ..., 0., 0., 0.],\n",
       "        [0., 0., 0., ..., 0., 0., 0.],\n",
       "        [0., 0., 0., ..., 0., 0., 0.]], dtype=float32),\n",
       " array([ 0.1358173 ,  0.2849851 ,  0.17133908, -0.01037397,  0.18014938,\n",
       "         0.06608928,  0.35319948, -0.03716317, -0.13207467,  0.38412374,\n",
       "        -0.02050947,  0.6289852 , -0.19564202,  0.22110362,  0.01158471,\n",
       "        -0.08169031,  0.19123362,  0.25836053, -0.14206211, -0.23628311,\n",
       "        -0.03636708, -0.01215509,  0.32875144,  0.3921574 ,  0.15606043,\n",
       "        -0.00515226,  0.34249264,  0.08948664, -0.00668161, -0.3297207 ,\n",
       "         0.35169592, -0.15332672,  0.14609906,  0.0033304 , -0.26818493,\n",
       "         0.2773301 , -0.3742712 , -0.05973265,  0.04680966,  0.10237408,\n",
       "         0.15409662,  0.06138068, -0.02184693,  0.20517252, -0.25359327,\n",
       "        -0.01464982, -0.26086777, -0.09717863, -0.01966419,  0.02069554,\n",
       "         0.0975821 ,  0.05068081, -0.28618968,  0.13284463, -0.18598317,\n",
       "         0.23463985,  0.10439906,  0.02961439,  0.06525001, -0.28794616,\n",
       "         0.03652802,  0.07239613, -0.01596973, -0.13872564,  0.34460703,\n",
       "         0.13200387,  0.10301881, -0.01197574,  0.08664816, -0.27902135,\n",
       "         0.00838354,  0.31951484, -0.18913613, -0.03320871,  0.1758458 ,\n",
       "         0.12554938,  0.3942384 ,  0.1359375 , -0.4656348 ,  0.3172966 ,\n",
       "         0.13235833,  0.03753015,  0.08588509,  0.28490937,  0.5350858 ,\n",
       "        -0.06181139,  0.0619521 ,  0.08324922, -0.05248237,  0.13397644,\n",
       "         0.45981678,  0.25683308,  0.20992248,  0.0981326 ,  0.34143156,\n",
       "         0.2336112 , -0.06331725, -0.06610329,  0.0110864 ,  0.11332946,\n",
       "        -0.15688385,  0.30872566, -0.04202878, -0.38236028,  0.46014577,\n",
       "        -0.02701477, -0.00825471,  0.0852641 ,  0.28410935, -0.05590915,\n",
       "        -0.05095187, -0.02902113, -0.24119316,  0.07325112,  0.20552023,\n",
       "        -0.00984149, -0.01096013,  0.31989452,  0.11517449,  0.18750772,\n",
       "         0.01894075,  0.14239714, -0.4942316 ,  0.06686988,  0.15468422,\n",
       "         0.2615602 ,  0.1878581 ,  0.23348205,  0.0080857 ,  0.22689795,\n",
       "         0.08539318,  0.36658296,  0.33154988,  0.283154  , -0.23664226,\n",
       "        -0.00241768, -0.02151939, -0.1941764 , -0.37633353,  0.3509893 ,\n",
       "         0.02503055,  0.11652143, -0.01015583,  0.18357332,  0.1325866 ,\n",
       "         0.15326506,  0.05486582,  0.32889935,  0.05509219,  0.19183688,\n",
       "        -0.0438062 ,  0.14591663, -0.35817775,  0.35380813,  0.330673  ,\n",
       "        -0.02017323, -0.20039587,  0.00385685, -0.1457633 , -0.27156425,\n",
       "         0.3127475 ,  0.00330984,  0.2896627 ,  0.02869537, -0.02663317,\n",
       "         0.3404685 ,  0.4739104 ,  0.24558406,  0.03626069, -0.03579038,\n",
       "         0.03720993, -0.29645476,  0.14925691,  0.18667422,  0.2786863 ,\n",
       "         0.45607808, -0.0466027 , -0.01811638,  0.06140621, -0.12470396,\n",
       "         0.3303736 ,  0.20450965,  0.05704647,  0.36112824,  0.35177425,\n",
       "         0.06831031,  0.02292369, -0.44930324,  0.2390813 ,  0.01946608,\n",
       "        -0.01757527,  0.19590105,  0.1377341 , -0.03248116,  0.10208836,\n",
       "         0.11195809, -0.01198943,  0.32457972,  0.33968538,  0.15017043,\n",
       "        -0.05890482, -0.01714086,  0.42862684, -0.01457772, -0.00850362,\n",
       "         0.33949894, -0.22186567,  0.20077659,  0.11566647,  0.10345485,\n",
       "        -0.25205332,  0.15400195,  0.02067776,  0.263594  ,  0.24170855,\n",
       "        -0.08572304, -0.00838543,  0.1846292 ,  0.20357257,  0.23687817,\n",
       "        -0.07489958,  0.35257563,  0.05207769,  0.37289912,  0.02977175,\n",
       "         0.27724278,  0.30688873, -0.19173716,  0.08662293,  0.43421033,\n",
       "         0.07444361,  0.3920239 ,  0.1014928 , -0.13181433,  0.30962193,\n",
       "         0.1368849 ,  0.39006615,  0.1808605 ,  0.07892366,  0.10663809,\n",
       "         0.44713527, -0.1341733 , -0.11475077,  0.24862885,  0.22313757,\n",
       "         0.20123458,  0.19946657, -0.02805068,  0.2865625 ,  0.13205048,\n",
       "         0.15893061,  0.08575816, -0.43104425, -0.03234468, -0.02780379,\n",
       "         0.37253538], dtype=float32)]"
      ]
     },
     "execution_count": 12,
     "metadata": {},
     "output_type": "execute_result"
    }
   ],
   "source": [
    "modelo.layers[1].get_weights()"
   ]
  },
  {
   "cell_type": "code",
   "execution_count": 13,
   "id": "32397e37",
   "metadata": {
    "scrolled": false
   },
   "outputs": [
    {
     "name": "stdout",
     "output_type": "stream",
     "text": [
      "Epoch 1/10\n",
      "1500/1500 [==============================] - 7s 4ms/step - loss: 0.5444 - accuracy: 0.8003 - val_loss: 0.4402 - val_accuracy: 0.8298\n",
      "Epoch 2/10\n",
      "1500/1500 [==============================] - 6s 4ms/step - loss: 0.4069 - accuracy: 0.8496 - val_loss: 0.3714 - val_accuracy: 0.8649\n",
      "Epoch 3/10\n",
      "1500/1500 [==============================] - 6s 4ms/step - loss: 0.3775 - accuracy: 0.8597 - val_loss: 0.3474 - val_accuracy: 0.8705\n",
      "Epoch 4/10\n",
      "1500/1500 [==============================] - 6s 4ms/step - loss: 0.3533 - accuracy: 0.8698 - val_loss: 0.3577 - val_accuracy: 0.8690\n",
      "Epoch 5/10\n",
      "1500/1500 [==============================] - 6s 4ms/step - loss: 0.3415 - accuracy: 0.8725 - val_loss: 0.3265 - val_accuracy: 0.8839\n",
      "Epoch 6/10\n",
      "1500/1500 [==============================] - 6s 4ms/step - loss: 0.3237 - accuracy: 0.8790 - val_loss: 0.3334 - val_accuracy: 0.8802\n",
      "Epoch 7/10\n",
      "1500/1500 [==============================] - 6s 4ms/step - loss: 0.3139 - accuracy: 0.8816 - val_loss: 0.3184 - val_accuracy: 0.8832\n",
      "Epoch 8/10\n",
      "1500/1500 [==============================] - 6s 4ms/step - loss: 0.3071 - accuracy: 0.8853 - val_loss: 0.3156 - val_accuracy: 0.8849\n",
      "Epoch 9/10\n",
      "1500/1500 [==============================] - 6s 4ms/step - loss: 0.2955 - accuracy: 0.8881 - val_loss: 0.3189 - val_accuracy: 0.8841\n",
      "Epoch 10/10\n",
      "1500/1500 [==============================] - 6s 4ms/step - loss: 0.2899 - accuracy: 0.8917 - val_loss: 0.3115 - val_accuracy: 0.8859\n"
     ]
    }
   ],
   "source": [
    "modelo.compile(optimizer='adam', loss='sparse_categorical_crossentropy', metrics=['accuracy'])\n",
    "\n",
    "historico = modelo.fit(imagens_treino, identificacoes_treino, epochs=10, validation_split=0.2)"
   ]
  },
  {
   "cell_type": "code",
   "execution_count": 14,
   "id": "02da91a5",
   "metadata": {},
   "outputs": [
    {
     "data": {
      "text/html": [
       "<div>\n",
       "<style scoped>\n",
       "    .dataframe tbody tr th:only-of-type {\n",
       "        vertical-align: middle;\n",
       "    }\n",
       "\n",
       "    .dataframe tbody tr th {\n",
       "        vertical-align: top;\n",
       "    }\n",
       "\n",
       "    .dataframe thead th {\n",
       "        text-align: right;\n",
       "    }\n",
       "</style>\n",
       "<table border=\"1\" class=\"dataframe\">\n",
       "  <thead>\n",
       "    <tr style=\"text-align: right;\">\n",
       "      <th></th>\n",
       "      <th>loss</th>\n",
       "      <th>accuracy</th>\n",
       "      <th>val_loss</th>\n",
       "      <th>val_accuracy</th>\n",
       "    </tr>\n",
       "  </thead>\n",
       "  <tbody>\n",
       "    <tr>\n",
       "      <th>0</th>\n",
       "      <td>0.544430</td>\n",
       "      <td>0.800313</td>\n",
       "      <td>0.440205</td>\n",
       "      <td>0.829833</td>\n",
       "    </tr>\n",
       "    <tr>\n",
       "      <th>1</th>\n",
       "      <td>0.406934</td>\n",
       "      <td>0.849646</td>\n",
       "      <td>0.371431</td>\n",
       "      <td>0.864917</td>\n",
       "    </tr>\n",
       "    <tr>\n",
       "      <th>2</th>\n",
       "      <td>0.377521</td>\n",
       "      <td>0.859688</td>\n",
       "      <td>0.347357</td>\n",
       "      <td>0.870500</td>\n",
       "    </tr>\n",
       "    <tr>\n",
       "      <th>3</th>\n",
       "      <td>0.353294</td>\n",
       "      <td>0.869750</td>\n",
       "      <td>0.357661</td>\n",
       "      <td>0.869000</td>\n",
       "    </tr>\n",
       "    <tr>\n",
       "      <th>4</th>\n",
       "      <td>0.341492</td>\n",
       "      <td>0.872458</td>\n",
       "      <td>0.326542</td>\n",
       "      <td>0.883917</td>\n",
       "    </tr>\n",
       "    <tr>\n",
       "      <th>5</th>\n",
       "      <td>0.323694</td>\n",
       "      <td>0.879000</td>\n",
       "      <td>0.333366</td>\n",
       "      <td>0.880250</td>\n",
       "    </tr>\n",
       "    <tr>\n",
       "      <th>6</th>\n",
       "      <td>0.313854</td>\n",
       "      <td>0.881562</td>\n",
       "      <td>0.318354</td>\n",
       "      <td>0.883167</td>\n",
       "    </tr>\n",
       "    <tr>\n",
       "      <th>7</th>\n",
       "      <td>0.307115</td>\n",
       "      <td>0.885271</td>\n",
       "      <td>0.315572</td>\n",
       "      <td>0.884917</td>\n",
       "    </tr>\n",
       "    <tr>\n",
       "      <th>8</th>\n",
       "      <td>0.295455</td>\n",
       "      <td>0.888083</td>\n",
       "      <td>0.318893</td>\n",
       "      <td>0.884083</td>\n",
       "    </tr>\n",
       "    <tr>\n",
       "      <th>9</th>\n",
       "      <td>0.289916</td>\n",
       "      <td>0.891708</td>\n",
       "      <td>0.311514</td>\n",
       "      <td>0.885917</td>\n",
       "    </tr>\n",
       "  </tbody>\n",
       "</table>\n",
       "</div>"
      ],
      "text/plain": [
       "       loss  accuracy  val_loss  val_accuracy\n",
       "0  0.544430  0.800313  0.440205      0.829833\n",
       "1  0.406934  0.849646  0.371431      0.864917\n",
       "2  0.377521  0.859688  0.347357      0.870500\n",
       "3  0.353294  0.869750  0.357661      0.869000\n",
       "4  0.341492  0.872458  0.326542      0.883917\n",
       "5  0.323694  0.879000  0.333366      0.880250\n",
       "6  0.313854  0.881562  0.318354      0.883167\n",
       "7  0.307115  0.885271  0.315572      0.884917\n",
       "8  0.295455  0.888083  0.318893      0.884083\n",
       "9  0.289916  0.891708  0.311514      0.885917"
      ]
     },
     "execution_count": 14,
     "metadata": {},
     "output_type": "execute_result"
    }
   ],
   "source": [
    "historico = pd.DataFrame(historico.history)\n",
    "\n",
    "historico"
   ]
  },
  {
   "cell_type": "code",
   "execution_count": 15,
   "id": "626738f9",
   "metadata": {},
   "outputs": [
    {
     "data": {
      "text/plain": [
       "<matplotlib.legend.Legend at 0x17112ebb6a0>"
      ]
     },
     "execution_count": 15,
     "metadata": {},
     "output_type": "execute_result"
    },
    {
     "data": {
      "image/png": "[encoded data removed]",
      "text/plain": [
       "<Figure size 1008x576 with 1 Axes>"
      ]
     },
     "metadata": {},
     "output_type": "display_data"
    }
   ],
   "source": [
    "sns.set_theme()\n",
    "plt.figure(figsize=(14, 8))\n",
    "\n",
    "sns.lineplot(data=historico, x=historico.index.values, y='accuracy')\n",
    "sns.lineplot(data=historico, x=historico.index.values, y='val_accuracy')\n",
    "\n",
    "plt.legend(['Treino', 'Validação'])"
   ]
  },
  {
   "cell_type": "code",
   "execution_count": 16,
   "id": "46a5d728",
   "metadata": {},
   "outputs": [
    {
     "data": {
      "text/plain": [
       "<matplotlib.legend.Legend at 0x1713dd965b0>"
      ]
     },
     "execution_count": 16,
     "metadata": {},
     "output_type": "execute_result"
    },
    {
     "data": {
      "image/png": "[encoded data removed]",
      "text/plain": [
       "<Figure size 1008x576 with 1 Axes>"
      ]
     },
     "metadata": {},
     "output_type": "display_data"
    }
   ],
   "source": [
    "sns.set_theme()\n",
    "plt.figure(figsize=(14, 8))\n",
    "\n",
    "sns.lineplot(data=historico, x=historico.index.values, y='loss')\n",
    "sns.lineplot(data=historico, x=historico.index.values, y='val_loss')\n",
    "\n",
    "plt.legend(['Treino', 'Validação'])"
   ]
  },
  {
   "cell_type": "markdown",
   "id": "b4d56b13",
   "metadata": {},
   "source": [
    "A ideia de inicializar os pesos com 0 é de manter a simetria da rede. Mas iniciar com 0 não é muito adequado pois sinaliza os mesmos pesos, o que nem sempre é verdade"
   ]
  },
  {
   "cell_type": "markdown",
   "id": "d160aae5",
   "metadata": {},
   "source": [
    "## Gerando pesos aleatórios"
   ]
  },
  {
   "cell_type": "code",
   "execution_count": 17,
   "id": "2717bb89",
   "metadata": {},
   "outputs": [
    {
     "data": {
      "text/plain": [
       "(784, 256)"
      ]
     },
     "execution_count": 17,
     "metadata": {},
     "output_type": "execute_result"
    }
   ],
   "source": [
    "pesos_camada_1[0].shape"
   ]
  },
  {
   "cell_type": "code",
   "execution_count": 18,
   "id": "0452c950",
   "metadata": {},
   "outputs": [],
   "source": [
    "pesos_camada_1_aleatorios = np.random.rand(784, 256)"
   ]
  },
  {
   "cell_type": "code",
   "execution_count": 19,
   "id": "4ba6bc94",
   "metadata": {},
   "outputs": [
    {
     "data": {
      "text/plain": [
       "array([[0.4412272 , 0.2113277 , 0.95589591, ..., 0.76929414, 0.45031216,\n",
       "        0.85650276],\n",
       "       [0.07063943, 0.44883434, 0.34129695, ..., 0.51083495, 0.00585149,\n",
       "        0.75757342],\n",
       "       [0.06734533, 0.34905064, 0.83917448, ..., 0.16052622, 0.56692395,\n",
       "        0.31412481],\n",
       "       ...,\n",
       "       [0.20447238, 0.82253685, 0.47190001, ..., 0.44232291, 0.14690866,\n",
       "        0.46711449],\n",
       "       [0.6527777 , 0.39533942, 0.43907968, ..., 0.98079095, 0.31579119,\n",
       "        0.30685193],\n",
       "       [0.05239333, 0.78098867, 0.85238901, ..., 0.50260889, 0.767264  ,\n",
       "        0.5247028 ]])"
      ]
     },
     "execution_count": 19,
     "metadata": {},
     "output_type": "execute_result"
    }
   ],
   "source": [
    "pesos_camada_1_aleatorios"
   ]
  },
  {
   "cell_type": "code",
   "execution_count": 20,
   "id": "5ec388a4",
   "metadata": {},
   "outputs": [],
   "source": [
    "modelo.layers[1].set_weights([pesos_camada_1_aleatorios, vieses_camada_1])"
   ]
  },
  {
   "cell_type": "code",
   "execution_count": 21,
   "id": "e93c865d",
   "metadata": {},
   "outputs": [
    {
     "name": "stdout",
     "output_type": "stream",
     "text": [
      "Epoch 1/10\n",
      "1500/1500 [==============================] - 6s 4ms/step - loss: 22.0227 - accuracy: 0.0997 - val_loss: 2.3038 - val_accuracy: 0.0983\n",
      "Epoch 2/10\n",
      "1500/1500 [==============================] - 6s 4ms/step - loss: 2.3188 - accuracy: 0.0976 - val_loss: 2.3028 - val_accuracy: 0.0957\n",
      "Epoch 3/10\n",
      "1500/1500 [==============================] - 6s 4ms/step - loss: 2.3046 - accuracy: 0.0985 - val_loss: 2.3028 - val_accuracy: 0.0983\n",
      "Epoch 4/10\n",
      "1500/1500 [==============================] - 7s 4ms/step - loss: 2.3058 - accuracy: 0.0982 - val_loss: 2.3027 - val_accuracy: 0.1013\n",
      "Epoch 5/10\n",
      "1500/1500 [==============================] - 7s 4ms/step - loss: 2.3046 - accuracy: 0.1014 - val_loss: 2.3029 - val_accuracy: 0.0957\n",
      "Epoch 6/10\n",
      "1500/1500 [==============================] - 7s 4ms/step - loss: 2.3034 - accuracy: 0.0988 - val_loss: 2.3027 - val_accuracy: 0.0957\n",
      "Epoch 7/10\n",
      "1500/1500 [==============================] - 7s 5ms/step - loss: 2.3027 - accuracy: 0.1004 - val_loss: 2.3027 - val_accuracy: 0.1005\n",
      "Epoch 8/10\n",
      "1500/1500 [==============================] - 8s 6ms/step - loss: 2.3046 - accuracy: 0.1001 - val_loss: 2.3027 - val_accuracy: 0.0983\n",
      "Epoch 9/10\n",
      "1500/1500 [==============================] - 9s 6ms/step - loss: 2.3027 - accuracy: 0.0992 - val_loss: 2.3028 - val_accuracy: 0.0957\n",
      "Epoch 10/10\n",
      "1500/1500 [==============================] - 8s 6ms/step - loss: 2.3029 - accuracy: 0.0985 - val_loss: 2.3027 - val_accuracy: 0.0957\n"
     ]
    }
   ],
   "source": [
    "modelo.compile(optimizer='adam', loss='sparse_categorical_crossentropy', metrics=['accuracy'])\n",
    "\n",
    "historico = modelo.fit(imagens_treino, identificacoes_treino, epochs=10, validation_split=0.2)"
   ]
  },
  {
   "cell_type": "code",
   "execution_count": 22,
   "id": "25a42017",
   "metadata": {},
   "outputs": [
    {
     "data": {
      "text/html": [
       "<div>\n",
       "<style scoped>\n",
       "    .dataframe tbody tr th:only-of-type {\n",
       "        vertical-align: middle;\n",
       "    }\n",
       "\n",
       "    .dataframe tbody tr th {\n",
       "        vertical-align: top;\n",
       "    }\n",
       "\n",
       "    .dataframe thead th {\n",
       "        text-align: right;\n",
       "    }\n",
       "</style>\n",
       "<table border=\"1\" class=\"dataframe\">\n",
       "  <thead>\n",
       "    <tr style=\"text-align: right;\">\n",
       "      <th></th>\n",
       "      <th>loss</th>\n",
       "      <th>accuracy</th>\n",
       "      <th>val_loss</th>\n",
       "      <th>val_accuracy</th>\n",
       "    </tr>\n",
       "  </thead>\n",
       "  <tbody>\n",
       "    <tr>\n",
       "      <th>0</th>\n",
       "      <td>22.022734</td>\n",
       "      <td>0.099688</td>\n",
       "      <td>2.303839</td>\n",
       "      <td>0.098333</td>\n",
       "    </tr>\n",
       "    <tr>\n",
       "      <th>1</th>\n",
       "      <td>2.318751</td>\n",
       "      <td>0.097625</td>\n",
       "      <td>2.302764</td>\n",
       "      <td>0.095750</td>\n",
       "    </tr>\n",
       "    <tr>\n",
       "      <th>2</th>\n",
       "      <td>2.304626</td>\n",
       "      <td>0.098458</td>\n",
       "      <td>2.302758</td>\n",
       "      <td>0.098333</td>\n",
       "    </tr>\n",
       "    <tr>\n",
       "      <th>3</th>\n",
       "      <td>2.305777</td>\n",
       "      <td>0.098187</td>\n",
       "      <td>2.302684</td>\n",
       "      <td>0.101250</td>\n",
       "    </tr>\n",
       "    <tr>\n",
       "      <th>4</th>\n",
       "      <td>2.304564</td>\n",
       "      <td>0.101438</td>\n",
       "      <td>2.302894</td>\n",
       "      <td>0.095750</td>\n",
       "    </tr>\n",
       "    <tr>\n",
       "      <th>5</th>\n",
       "      <td>2.303398</td>\n",
       "      <td>0.098750</td>\n",
       "      <td>2.302680</td>\n",
       "      <td>0.095750</td>\n",
       "    </tr>\n",
       "    <tr>\n",
       "      <th>6</th>\n",
       "      <td>2.302727</td>\n",
       "      <td>0.100396</td>\n",
       "      <td>2.302747</td>\n",
       "      <td>0.100500</td>\n",
       "    </tr>\n",
       "    <tr>\n",
       "      <th>7</th>\n",
       "      <td>2.304618</td>\n",
       "      <td>0.100104</td>\n",
       "      <td>2.302665</td>\n",
       "      <td>0.098333</td>\n",
       "    </tr>\n",
       "    <tr>\n",
       "      <th>8</th>\n",
       "      <td>2.302693</td>\n",
       "      <td>0.099188</td>\n",
       "      <td>2.302752</td>\n",
       "      <td>0.095750</td>\n",
       "    </tr>\n",
       "    <tr>\n",
       "      <th>9</th>\n",
       "      <td>2.302864</td>\n",
       "      <td>0.098521</td>\n",
       "      <td>2.302691</td>\n",
       "      <td>0.095750</td>\n",
       "    </tr>\n",
       "  </tbody>\n",
       "</table>\n",
       "</div>"
      ],
      "text/plain": [
       "        loss  accuracy  val_loss  val_accuracy\n",
       "0  22.022734  0.099688  2.303839      0.098333\n",
       "1   2.318751  0.097625  2.302764      0.095750\n",
       "2   2.304626  0.098458  2.302758      0.098333\n",
       "3   2.305777  0.098187  2.302684      0.101250\n",
       "4   2.304564  0.101438  2.302894      0.095750\n",
       "5   2.303398  0.098750  2.302680      0.095750\n",
       "6   2.302727  0.100396  2.302747      0.100500\n",
       "7   2.304618  0.100104  2.302665      0.098333\n",
       "8   2.302693  0.099188  2.302752      0.095750\n",
       "9   2.302864  0.098521  2.302691      0.095750"
      ]
     },
     "execution_count": 22,
     "metadata": {},
     "output_type": "execute_result"
    }
   ],
   "source": [
    "historico = pd.DataFrame(historico.history)\n",
    "\n",
    "historico"
   ]
  },
  {
   "cell_type": "code",
   "execution_count": 23,
   "id": "273a3267",
   "metadata": {},
   "outputs": [
    {
     "data": {
      "text/plain": [
       "<matplotlib.legend.Legend at 0x1710d25c490>"
      ]
     },
     "execution_count": 23,
     "metadata": {},
     "output_type": "execute_result"
    },
    {
     "data": {
      "image/png": "[encoded data removed]",
      "text/plain": [
       "<Figure size 1008x576 with 1 Axes>"
      ]
     },
     "metadata": {},
     "output_type": "display_data"
    }
   ],
   "source": [
    "sns.set_theme()\n",
    "plt.figure(figsize=(14, 8))\n",
    "\n",
    "sns.lineplot(data=historico, x=historico.index.values, y='accuracy')\n",
    "sns.lineplot(data=historico, x=historico.index.values, y='val_accuracy')\n",
    "\n",
    "plt.legend(['Treino', 'Validação'])"
   ]
  },
  {
   "cell_type": "code",
   "execution_count": 24,
   "id": "0117fd1c",
   "metadata": {},
   "outputs": [
    {
     "data": {
      "text/plain": [
       "<matplotlib.legend.Legend at 0x17112ddaf10>"
      ]
     },
     "execution_count": 24,
     "metadata": {},
     "output_type": "execute_result"
    },
    {
     "data": {
      "image/png": "[encoded data removed]",
      "text/plain": [
       "<Figure size 1008x576 with 1 Axes>"
      ]
     },
     "metadata": {},
     "output_type": "display_data"
    }
   ],
   "source": [
    "sns.set_theme()\n",
    "plt.figure(figsize=(14, 8))\n",
    "\n",
    "sns.lineplot(data=historico, x=historico.index.values, y='loss')\n",
    "sns.lineplot(data=historico, x=historico.index.values, y='val_loss')\n",
    "\n",
    "plt.legend(['Treino', 'Validação'])"
   ]
  },
  {
   "cell_type": "markdown",
   "id": "1293990a",
   "metadata": {},
   "source": [
    "O que acontece é que quando pegamos valores randomicos eles podem ficar tão pequenos nos movimentos de fowardpropagation e de backpropagation que pode fazer os valores sumirem, podendo matar as redes.\n",
    "\n",
    "Outra posibilidade é dos valores ficarem tão grandes a ponto de não ativarem a Relu ded maneira que o modelo aprenda"
   ]
  },
  {
   "cell_type": "markdown",
   "id": "270b2c09",
   "metadata": {},
   "source": [
    "# Entendendo configuração"
   ]
  },
  {
   "cell_type": "code",
   "execution_count": 25,
   "id": "56a7c5b8",
   "metadata": {},
   "outputs": [
    {
     "data": {
      "text/plain": [
       "{'name': 'sequential',\n",
       " 'layers': [{'class_name': 'InputLayer',\n",
       "   'config': {'batch_input_shape': (None, 28, 28),\n",
       "    'dtype': 'float32',\n",
       "    'sparse': False,\n",
       "    'ragged': False,\n",
       "    'name': 'flatten_input'}},\n",
       "  {'class_name': 'Flatten',\n",
       "   'config': {'name': 'flatten',\n",
       "    'trainable': True,\n",
       "    'batch_input_shape': (None, 28, 28),\n",
       "    'dtype': 'float32',\n",
       "    'data_format': 'channels_last'}},\n",
       "  {'class_name': 'Dense',\n",
       "   'config': {'name': 'dense',\n",
       "    'trainable': True,\n",
       "    'dtype': 'float32',\n",
       "    'units': 256,\n",
       "    'activation': 'relu',\n",
       "    'use_bias': True,\n",
       "    'kernel_initializer': {'class_name': 'GlorotUniform',\n",
       "     'config': {'seed': None}},\n",
       "    'bias_initializer': {'class_name': 'Zeros', 'config': {}},\n",
       "    'kernel_regularizer': None,\n",
       "    'bias_regularizer': None,\n",
       "    'activity_regularizer': None,\n",
       "    'kernel_constraint': None,\n",
       "    'bias_constraint': None}},\n",
       "  {'class_name': 'Dropout',\n",
       "   'config': {'name': 'dropout',\n",
       "    'trainable': True,\n",
       "    'dtype': 'float32',\n",
       "    'rate': 0.2,\n",
       "    'noise_shape': None,\n",
       "    'seed': None}},\n",
       "  {'class_name': 'Dense',\n",
       "   'config': {'name': 'dense_1',\n",
       "    'trainable': True,\n",
       "    'dtype': 'float32',\n",
       "    'units': 128,\n",
       "    'activation': 'relu',\n",
       "    'use_bias': True,\n",
       "    'kernel_initializer': {'class_name': 'GlorotUniform',\n",
       "     'config': {'seed': None}},\n",
       "    'bias_initializer': {'class_name': 'Zeros', 'config': {}},\n",
       "    'kernel_regularizer': None,\n",
       "    'bias_regularizer': None,\n",
       "    'activity_regularizer': None,\n",
       "    'kernel_constraint': None,\n",
       "    'bias_constraint': None}},\n",
       "  {'class_name': 'Dense',\n",
       "   'config': {'name': 'dense_2',\n",
       "    'trainable': True,\n",
       "    'dtype': 'float32',\n",
       "    'units': 10,\n",
       "    'activation': 'softmax',\n",
       "    'use_bias': True,\n",
       "    'kernel_initializer': {'class_name': 'GlorotUniform',\n",
       "     'config': {'seed': None}},\n",
       "    'bias_initializer': {'class_name': 'Zeros', 'config': {}},\n",
       "    'kernel_regularizer': None,\n",
       "    'bias_regularizer': None,\n",
       "    'activity_regularizer': None,\n",
       "    'kernel_constraint': None,\n",
       "    'bias_constraint': None}}]}"
      ]
     },
     "execution_count": 25,
     "metadata": {},
     "output_type": "execute_result"
    }
   ],
   "source": [
    "modelo.get_config()"
   ]
  },
  {
   "cell_type": "code",
   "execution_count": 26,
   "id": "ac79132c",
   "metadata": {},
   "outputs": [
    {
     "data": {
      "text/html": [
       "<div>\n",
       "<style scoped>\n",
       "    .dataframe tbody tr th:only-of-type {\n",
       "        vertical-align: middle;\n",
       "    }\n",
       "\n",
       "    .dataframe tbody tr th {\n",
       "        vertical-align: top;\n",
       "    }\n",
       "\n",
       "    .dataframe thead th {\n",
       "        text-align: right;\n",
       "    }\n",
       "</style>\n",
       "<table border=\"1\" class=\"dataframe\">\n",
       "  <thead>\n",
       "    <tr style=\"text-align: right;\">\n",
       "      <th></th>\n",
       "      <th>name</th>\n",
       "      <th>layers</th>\n",
       "    </tr>\n",
       "  </thead>\n",
       "  <tbody>\n",
       "    <tr>\n",
       "      <th>0</th>\n",
       "      <td>sequential</td>\n",
       "      <td>{'class_name': 'InputLayer', 'config': {'batch...</td>\n",
       "    </tr>\n",
       "    <tr>\n",
       "      <th>1</th>\n",
       "      <td>sequential</td>\n",
       "      <td>{'class_name': 'Flatten', 'config': {'name': '...</td>\n",
       "    </tr>\n",
       "    <tr>\n",
       "      <th>2</th>\n",
       "      <td>sequential</td>\n",
       "      <td>{'class_name': 'Dense', 'config': {'name': 'de...</td>\n",
       "    </tr>\n",
       "    <tr>\n",
       "      <th>3</th>\n",
       "      <td>sequential</td>\n",
       "      <td>{'class_name': 'Dropout', 'config': {'name': '...</td>\n",
       "    </tr>\n",
       "    <tr>\n",
       "      <th>4</th>\n",
       "      <td>sequential</td>\n",
       "      <td>{'class_name': 'Dense', 'config': {'name': 'de...</td>\n",
       "    </tr>\n",
       "    <tr>\n",
       "      <th>5</th>\n",
       "      <td>sequential</td>\n",
       "      <td>{'class_name': 'Dense', 'config': {'name': 'de...</td>\n",
       "    </tr>\n",
       "  </tbody>\n",
       "</table>\n",
       "</div>"
      ],
      "text/plain": [
       "         name                                             layers\n",
       "0  sequential  {'class_name': 'InputLayer', 'config': {'batch...\n",
       "1  sequential  {'class_name': 'Flatten', 'config': {'name': '...\n",
       "2  sequential  {'class_name': 'Dense', 'config': {'name': 'de...\n",
       "3  sequential  {'class_name': 'Dropout', 'config': {'name': '...\n",
       "4  sequential  {'class_name': 'Dense', 'config': {'name': 'de...\n",
       "5  sequential  {'class_name': 'Dense', 'config': {'name': 'de..."
      ]
     },
     "execution_count": 26,
     "metadata": {},
     "output_type": "execute_result"
    }
   ],
   "source": [
    "pd.DataFrame(modelo.get_config())"
   ]
  },
  {
   "cell_type": "markdown",
   "id": "95a9bf7a",
   "metadata": {},
   "source": [
    "O que inicializa nossos pesos é o GlorotUniform e outra coisa que ajuda ao não desbalancear tantos os pesos é a Relu"
   ]
  },
  {
   "cell_type": "markdown",
   "id": "031663c8",
   "metadata": {},
   "source": [
    "## Zerando vieses"
   ]
  },
  {
   "cell_type": "code",
   "execution_count": 27,
   "id": "80f54f22",
   "metadata": {},
   "outputs": [
    {
     "data": {
      "text/plain": [
       "(256,)"
      ]
     },
     "execution_count": 27,
     "metadata": {},
     "output_type": "execute_result"
    }
   ],
   "source": [
    "vieses_camada_1.shape"
   ]
  },
  {
   "cell_type": "code",
   "execution_count": 28,
   "id": "c477bf89",
   "metadata": {},
   "outputs": [],
   "source": [
    "vieses_camada_1_zerados = np.zeros(vieses_camada_1.shape)"
   ]
  },
  {
   "cell_type": "code",
   "execution_count": 29,
   "id": "d5ec4407",
   "metadata": {},
   "outputs": [],
   "source": [
    "modelo.layers[1].set_weights([pesos_camada_1[0], vieses_camada_1_zerados])"
   ]
  },
  {
   "cell_type": "code",
   "execution_count": 30,
   "id": "bb9f5f32",
   "metadata": {
    "scrolled": false
   },
   "outputs": [
    {
     "name": "stdout",
     "output_type": "stream",
     "text": [
      "Epoch 1/10\n",
      "1500/1500 [==============================] - 9s 5ms/step - loss: 0.2869 - accuracy: 0.8937 - val_loss: 0.3390 - val_accuracy: 0.8808\n",
      "Epoch 2/10\n",
      "1500/1500 [==============================] - 9s 6ms/step - loss: 0.2690 - accuracy: 0.8984 - val_loss: 0.3275 - val_accuracy: 0.8800\n",
      "Epoch 3/10\n",
      "1500/1500 [==============================] - 7s 5ms/step - loss: 0.2629 - accuracy: 0.9001 - val_loss: 0.3027 - val_accuracy: 0.8884\n",
      "Epoch 4/10\n",
      "1500/1500 [==============================] - 6s 4ms/step - loss: 0.2548 - accuracy: 0.9041 - val_loss: 0.3035 - val_accuracy: 0.8945\n",
      "Epoch 5/10\n",
      "1500/1500 [==============================] - 7s 5ms/step - loss: 0.2475 - accuracy: 0.9059 - val_loss: 0.3150 - val_accuracy: 0.8934\n",
      "Epoch 6/10\n",
      "1500/1500 [==============================] - 6s 4ms/step - loss: 0.2417 - accuracy: 0.9064 - val_loss: 0.3349 - val_accuracy: 0.8848\n",
      "Epoch 7/10\n",
      "1500/1500 [==============================] - 7s 5ms/step - loss: 0.2403 - accuracy: 0.9085 - val_loss: 0.3098 - val_accuracy: 0.8893\n",
      "Epoch 8/10\n",
      "1500/1500 [==============================] - 10s 7ms/step - loss: 0.2367 - accuracy: 0.9099 - val_loss: 0.3123 - val_accuracy: 0.8916\n",
      "Epoch 9/10\n",
      "1500/1500 [==============================] - 7s 5ms/step - loss: 0.2314 - accuracy: 0.9129 - val_loss: 0.3146 - val_accuracy: 0.8904\n",
      "Epoch 10/10\n",
      "1500/1500 [==============================] - 12s 8ms/step - loss: 0.2276 - accuracy: 0.9142 - val_loss: 0.3147 - val_accuracy: 0.8912\n"
     ]
    }
   ],
   "source": [
    "modelo.compile(optimizer='adam', loss='sparse_categorical_crossentropy', metrics=['accuracy'])\n",
    "\n",
    "historico = modelo.fit(imagens_treino, identificacoes_treino, epochs=10, validation_split=0.2)"
   ]
  },
  {
   "cell_type": "code",
   "execution_count": 31,
   "id": "fd119235",
   "metadata": {},
   "outputs": [
    {
     "data": {
      "text/html": [
       "<div>\n",
       "<style scoped>\n",
       "    .dataframe tbody tr th:only-of-type {\n",
       "        vertical-align: middle;\n",
       "    }\n",
       "\n",
       "    .dataframe tbody tr th {\n",
       "        vertical-align: top;\n",
       "    }\n",
       "\n",
       "    .dataframe thead th {\n",
       "        text-align: right;\n",
       "    }\n",
       "</style>\n",
       "<table border=\"1\" class=\"dataframe\">\n",
       "  <thead>\n",
       "    <tr style=\"text-align: right;\">\n",
       "      <th></th>\n",
       "      <th>loss</th>\n",
       "      <th>accuracy</th>\n",
       "      <th>val_loss</th>\n",
       "      <th>val_accuracy</th>\n",
       "    </tr>\n",
       "  </thead>\n",
       "  <tbody>\n",
       "    <tr>\n",
       "      <th>0</th>\n",
       "      <td>0.286925</td>\n",
       "      <td>0.893687</td>\n",
       "      <td>0.339030</td>\n",
       "      <td>0.880750</td>\n",
       "    </tr>\n",
       "    <tr>\n",
       "      <th>1</th>\n",
       "      <td>0.268974</td>\n",
       "      <td>0.898354</td>\n",
       "      <td>0.327458</td>\n",
       "      <td>0.880000</td>\n",
       "    </tr>\n",
       "    <tr>\n",
       "      <th>2</th>\n",
       "      <td>0.262912</td>\n",
       "      <td>0.900125</td>\n",
       "      <td>0.302664</td>\n",
       "      <td>0.888417</td>\n",
       "    </tr>\n",
       "    <tr>\n",
       "      <th>3</th>\n",
       "      <td>0.254780</td>\n",
       "      <td>0.904104</td>\n",
       "      <td>0.303514</td>\n",
       "      <td>0.894500</td>\n",
       "    </tr>\n",
       "    <tr>\n",
       "      <th>4</th>\n",
       "      <td>0.247455</td>\n",
       "      <td>0.905896</td>\n",
       "      <td>0.315032</td>\n",
       "      <td>0.893417</td>\n",
       "    </tr>\n",
       "    <tr>\n",
       "      <th>5</th>\n",
       "      <td>0.241680</td>\n",
       "      <td>0.906396</td>\n",
       "      <td>0.334948</td>\n",
       "      <td>0.884750</td>\n",
       "    </tr>\n",
       "    <tr>\n",
       "      <th>6</th>\n",
       "      <td>0.240281</td>\n",
       "      <td>0.908521</td>\n",
       "      <td>0.309810</td>\n",
       "      <td>0.889333</td>\n",
       "    </tr>\n",
       "    <tr>\n",
       "      <th>7</th>\n",
       "      <td>0.236743</td>\n",
       "      <td>0.909875</td>\n",
       "      <td>0.312306</td>\n",
       "      <td>0.891583</td>\n",
       "    </tr>\n",
       "    <tr>\n",
       "      <th>8</th>\n",
       "      <td>0.231362</td>\n",
       "      <td>0.912917</td>\n",
       "      <td>0.314618</td>\n",
       "      <td>0.890417</td>\n",
       "    </tr>\n",
       "    <tr>\n",
       "      <th>9</th>\n",
       "      <td>0.227635</td>\n",
       "      <td>0.914208</td>\n",
       "      <td>0.314659</td>\n",
       "      <td>0.891167</td>\n",
       "    </tr>\n",
       "  </tbody>\n",
       "</table>\n",
       "</div>"
      ],
      "text/plain": [
       "       loss  accuracy  val_loss  val_accuracy\n",
       "0  0.286925  0.893687  0.339030      0.880750\n",
       "1  0.268974  0.898354  0.327458      0.880000\n",
       "2  0.262912  0.900125  0.302664      0.888417\n",
       "3  0.254780  0.904104  0.303514      0.894500\n",
       "4  0.247455  0.905896  0.315032      0.893417\n",
       "5  0.241680  0.906396  0.334948      0.884750\n",
       "6  0.240281  0.908521  0.309810      0.889333\n",
       "7  0.236743  0.909875  0.312306      0.891583\n",
       "8  0.231362  0.912917  0.314618      0.890417\n",
       "9  0.227635  0.914208  0.314659      0.891167"
      ]
     },
     "execution_count": 31,
     "metadata": {},
     "output_type": "execute_result"
    }
   ],
   "source": [
    "historico = pd.DataFrame(historico.history)\n",
    "\n",
    "historico"
   ]
  },
  {
   "cell_type": "code",
   "execution_count": 32,
   "id": "8b5e39e8",
   "metadata": {},
   "outputs": [
    {
     "data": {
      "text/plain": [
       "<matplotlib.legend.Legend at 0x171550add30>"
      ]
     },
     "execution_count": 32,
     "metadata": {},
     "output_type": "execute_result"
    },
    {
     "data": {
      "image/png": "[encoded data removed]",
      "text/plain": [
       "<Figure size 1008x576 with 1 Axes>"
      ]
     },
     "metadata": {},
     "output_type": "display_data"
    }
   ],
   "source": [
    "sns.set_theme()\n",
    "plt.figure(figsize=(14, 8))\n",
    "\n",
    "sns.lineplot(data=historico, x=historico.index.values, y='accuracy')\n",
    "sns.lineplot(data=historico, x=historico.index.values, y='val_accuracy')\n",
    "\n",
    "plt.legend(['Treino', 'Validação'])"
   ]
  },
  {
   "cell_type": "code",
   "execution_count": 33,
   "id": "de386431",
   "metadata": {},
   "outputs": [
    {
     "data": {
      "text/plain": [
       "<matplotlib.legend.Legend at 0x171560d7040>"
      ]
     },
     "execution_count": 33,
     "metadata": {},
     "output_type": "execute_result"
    },
    {
     "data": {
      "image/png": "[encoded data removed]",
      "text/plain": [
       "<Figure size 1008x576 with 1 Axes>"
      ]
     },
     "metadata": {},
     "output_type": "display_data"
    }
   ],
   "source": [
    "sns.set_theme()\n",
    "plt.figure(figsize=(14, 8))\n",
    "\n",
    "sns.lineplot(data=historico, x=historico.index.values, y='loss')\n",
    "sns.lineplot(data=historico, x=historico.index.values, y='val_loss')\n",
    "\n",
    "plt.legend(['Treino', 'Validação'])"
   ]
  },
  {
   "cell_type": "markdown",
   "id": "ad2b55ca",
   "metadata": {},
   "source": [
    "Trocar os valores dos pesos, no geral, impacta mais\n",
    "\n",
    "Ainda assim, é possível que a rede venha a \"morrer\" por conta dos vieses\n",
    "\n",
    "O keras zera os vieses no fundo dos panos\n",
    "\n",
    "- Os vieses seriam as diantâncias entre os objetos e a curva que os divide\n",
    "- Os pesos serviriam para cada vez mais ir ajustando a curva\n",
    "\n",
    "Saída = ReLU((entrada * peso) + viés)\n",
    "\n",
    "Output = activation((input * kernel) + bias)"
   ]
  },
  {
   "cell_type": "markdown",
   "id": "73fe4079",
   "metadata": {},
   "source": [
    "## Gradiente descendente\n",
    "\n",
    "Tem como objetivo encontrar a menor perda para a rede\n",
    "\n",
    "Ás vezes quando um algoritmo não evolui, pode ser por conta de um mínimo local. Quando estamos buscando a menor perda, queremos encontrar o mínimo global.\n",
    "\n",
    "O gradiente descendente é calculado após o algoritmo passar por todos os exemplos de treino, o que demora bastante. O que pode facilitar encontrar o mínimo global é aleatorizar o processo.\n",
    "\n",
    "Como chegar no mínimo global? GRADIENTE DESCENDENTE ESTOCÁSTICO"
   ]
  },
  {
   "cell_type": "markdown",
   "id": "bd023f34",
   "metadata": {},
   "source": [
    " ### Gradiente Descendente Estocástico\n",
    " \n",
    " - É um otimizador conhecido como SGD\n",
    " \n",
    " Qual a diferença do ADAM ara o SGD?\n",
    " - ADAM: adaptative moment estimation\n",
    " - SGD: stocastic gradient descendent\n",
    " \n",
    " Quando o modelo está indo para o melhor resultado é chamado de convergência\n",
    " \n",
    " há ajustes que podemos fazer para chegarmos ainda mais rápido na convergência\n",
    " \n",
    " Tudo o que passamos de parâmetro antes do treinamento do modelo é chamado de hiperparâmetro"
   ]
  },
  {
   "cell_type": "code",
   "execution_count": 36,
   "id": "360b9f0c",
   "metadata": {},
   "outputs": [
    {
     "name": "stdout",
     "output_type": "stream",
     "text": [
      "Epoch 1/10\n",
      "1500/1500 [==============================] - 7s 5ms/step - loss: 1.4417 - accuracy: 0.5642 - val_loss: 0.8891 - val_accuracy: 0.7189\n",
      "Epoch 2/10\n",
      "1500/1500 [==============================] - 7s 4ms/step - loss: 0.8374 - accuracy: 0.7279 - val_loss: 0.6878 - val_accuracy: 0.7722\n",
      "Epoch 3/10\n",
      "1500/1500 [==============================] - 7s 4ms/step - loss: 0.7023 - accuracy: 0.7691 - val_loss: 0.6114 - val_accuracy: 0.7916\n",
      "Epoch 4/10\n",
      "1500/1500 [==============================] - 7s 4ms/step - loss: 0.6323 - accuracy: 0.7887 - val_loss: 0.5641 - val_accuracy: 0.8100\n",
      "Epoch 5/10\n",
      "1500/1500 [==============================] - 7s 4ms/step - loss: 0.5882 - accuracy: 0.8019 - val_loss: 0.5330 - val_accuracy: 0.8192\n",
      "Epoch 6/10\n",
      "1500/1500 [==============================] - 7s 4ms/step - loss: 0.5565 - accuracy: 0.8132 - val_loss: 0.5093 - val_accuracy: 0.8276\n",
      "Epoch 7/10\n",
      "1500/1500 [==============================] - 7s 5ms/step - loss: 0.5341 - accuracy: 0.8199 - val_loss: 0.4938 - val_accuracy: 0.8305\n",
      "Epoch 8/10\n",
      "1500/1500 [==============================] - 6s 4ms/step - loss: 0.5178 - accuracy: 0.8228 - val_loss: 0.4811 - val_accuracy: 0.8340\n",
      "Epoch 9/10\n",
      "1500/1500 [==============================] - 6s 4ms/step - loss: 0.5010 - accuracy: 0.8288 - val_loss: 0.4699 - val_accuracy: 0.8374\n",
      "Epoch 10/10\n",
      "1500/1500 [==============================] - 8s 5ms/step - loss: 0.4870 - accuracy: 0.8341 - val_loss: 0.4598 - val_accuracy: 0.8393\n"
     ]
    },
    {
     "data": {
      "text/plain": [
       "<keras.callbacks.History at 0x1711118c1c0>"
      ]
     },
     "execution_count": 36,
     "metadata": {},
     "output_type": "execute_result"
    }
   ],
   "source": [
    "modelo = keras.Sequential([\n",
    "    keras.layers.Flatten(input_shape=(28, 28)),\n",
    "    \n",
    "    keras.layers.Dense(256, activation=tensorflow.nn.relu),\n",
    "    keras.layers.Dropout(0.2),\n",
    "    keras.layers.Dense(128, activation=tensorflow.nn.relu),\n",
    "    \n",
    "    keras.layers.Dense(10, activation=tensorflow.nn.softmax)\n",
    "])\n",
    "\n",
    "#learning_rate: aumentar a taxa faz ele ir rápido demais e perder informação\n",
    "\n",
    "adam = keras.optimizers.Adam(learning_rate=0.001)\n",
    "\n",
    "modelo.compile(optimizer=adam, loss='sparse_categorical_crossentropy', metrics=['accuracy'])\n",
    "\n",
    "modelo.fit(imagens_treino, identificacoes_treino, epochs=10, validation_split=0.2)"
   ]
  },
  {
   "cell_type": "code",
   "execution_count": 41,
   "id": "cdf94d46",
   "metadata": {},
   "outputs": [
    {
     "name": "stdout",
     "output_type": "stream",
     "text": [
      "Epoch 1/10\n",
      "100/100 [==============================] - 3s 22ms/step - loss: 0.6661 - accuracy: 0.7644 - val_loss: 0.4495 - val_accuracy: 0.8402\n",
      "Epoch 2/10\n",
      "100/100 [==============================] - 2s 18ms/step - loss: 0.4208 - accuracy: 0.8497 - val_loss: 0.3892 - val_accuracy: 0.8556\n",
      "Epoch 3/10\n",
      "100/100 [==============================] - 2s 19ms/step - loss: 0.3739 - accuracy: 0.8653 - val_loss: 0.3813 - val_accuracy: 0.8589\n",
      "Epoch 4/10\n",
      "100/100 [==============================] - 2s 19ms/step - loss: 0.3550 - accuracy: 0.8702 - val_loss: 0.3456 - val_accuracy: 0.8763\n",
      "Epoch 5/10\n",
      "100/100 [==============================] - 2s 18ms/step - loss: 0.3301 - accuracy: 0.8781 - val_loss: 0.3434 - val_accuracy: 0.8756\n",
      "Epoch 6/10\n",
      "100/100 [==============================] - 2s 18ms/step - loss: 0.3161 - accuracy: 0.8836 - val_loss: 0.3325 - val_accuracy: 0.8783\n",
      "Epoch 7/10\n",
      "100/100 [==============================] - 2s 19ms/step - loss: 0.3044 - accuracy: 0.8889 - val_loss: 0.3130 - val_accuracy: 0.8884\n",
      "Epoch 8/10\n",
      "100/100 [==============================] - 2s 20ms/step - loss: 0.2932 - accuracy: 0.8913 - val_loss: 0.3179 - val_accuracy: 0.8818\n",
      "Epoch 9/10\n",
      "100/100 [==============================] - 2s 21ms/step - loss: 0.2874 - accuracy: 0.8935 - val_loss: 0.3186 - val_accuracy: 0.8824\n",
      "Epoch 10/10\n",
      "100/100 [==============================] - 2s 23ms/step - loss: 0.2786 - accuracy: 0.8969 - val_loss: 0.3234 - val_accuracy: 0.8844\n"
     ]
    }
   ],
   "source": [
    "modelo = keras.Sequential([\n",
    "    keras.layers.Flatten(input_shape=(28, 28)),\n",
    "    \n",
    "    keras.layers.Dense(256, activation=tensorflow.nn.relu),\n",
    "    keras.layers.Dropout(0.2),\n",
    "    keras.layers.Dense(128, activation=tensorflow.nn.relu),\n",
    "    \n",
    "    keras.layers.Dense(10, activation=tensorflow.nn.softmax)\n",
    "])\n",
    "\n",
    "#learning_rate: aumentar a taxa faz ele ir rápido demais e perder informação\n",
    "\n",
    "adam = keras.optimizers.Adam(learning_rate=0.002)\n",
    "\n",
    "modelo.compile(optimizer=adam, loss='sparse_categorical_crossentropy', metrics=['accuracy'])\n",
    "\n",
    "#batch_size = diminui o número de imagens para treino por vez\n",
    "\n",
    "historico = modelo.fit(imagens_treino, identificacoes_treino, epochs=10, validation_split=0.2, batch_size=480)"
   ]
  },
  {
   "cell_type": "code",
   "execution_count": 42,
   "id": "a9c35319",
   "metadata": {},
   "outputs": [
    {
     "data": {
      "text/html": [
       "<div>\n",
       "<style scoped>\n",
       "    .dataframe tbody tr th:only-of-type {\n",
       "        vertical-align: middle;\n",
       "    }\n",
       "\n",
       "    .dataframe tbody tr th {\n",
       "        vertical-align: top;\n",
       "    }\n",
       "\n",
       "    .dataframe thead th {\n",
       "        text-align: right;\n",
       "    }\n",
       "</style>\n",
       "<table border=\"1\" class=\"dataframe\">\n",
       "  <thead>\n",
       "    <tr style=\"text-align: right;\">\n",
       "      <th></th>\n",
       "      <th>loss</th>\n",
       "      <th>accuracy</th>\n",
       "      <th>val_loss</th>\n",
       "      <th>val_accuracy</th>\n",
       "    </tr>\n",
       "  </thead>\n",
       "  <tbody>\n",
       "    <tr>\n",
       "      <th>0</th>\n",
       "      <td>0.666121</td>\n",
       "      <td>0.764375</td>\n",
       "      <td>0.449467</td>\n",
       "      <td>0.840167</td>\n",
       "    </tr>\n",
       "    <tr>\n",
       "      <th>1</th>\n",
       "      <td>0.420840</td>\n",
       "      <td>0.849667</td>\n",
       "      <td>0.389231</td>\n",
       "      <td>0.855583</td>\n",
       "    </tr>\n",
       "    <tr>\n",
       "      <th>2</th>\n",
       "      <td>0.373885</td>\n",
       "      <td>0.865333</td>\n",
       "      <td>0.381325</td>\n",
       "      <td>0.858917</td>\n",
       "    </tr>\n",
       "    <tr>\n",
       "      <th>3</th>\n",
       "      <td>0.355035</td>\n",
       "      <td>0.870229</td>\n",
       "      <td>0.345578</td>\n",
       "      <td>0.876333</td>\n",
       "    </tr>\n",
       "    <tr>\n",
       "      <th>4</th>\n",
       "      <td>0.330097</td>\n",
       "      <td>0.878083</td>\n",
       "      <td>0.343372</td>\n",
       "      <td>0.875583</td>\n",
       "    </tr>\n",
       "    <tr>\n",
       "      <th>5</th>\n",
       "      <td>0.316124</td>\n",
       "      <td>0.883583</td>\n",
       "      <td>0.332508</td>\n",
       "      <td>0.878333</td>\n",
       "    </tr>\n",
       "    <tr>\n",
       "      <th>6</th>\n",
       "      <td>0.304355</td>\n",
       "      <td>0.888937</td>\n",
       "      <td>0.313031</td>\n",
       "      <td>0.888417</td>\n",
       "    </tr>\n",
       "    <tr>\n",
       "      <th>7</th>\n",
       "      <td>0.293209</td>\n",
       "      <td>0.891292</td>\n",
       "      <td>0.317901</td>\n",
       "      <td>0.881833</td>\n",
       "    </tr>\n",
       "    <tr>\n",
       "      <th>8</th>\n",
       "      <td>0.287427</td>\n",
       "      <td>0.893458</td>\n",
       "      <td>0.318618</td>\n",
       "      <td>0.882417</td>\n",
       "    </tr>\n",
       "    <tr>\n",
       "      <th>9</th>\n",
       "      <td>0.278582</td>\n",
       "      <td>0.896937</td>\n",
       "      <td>0.323432</td>\n",
       "      <td>0.884417</td>\n",
       "    </tr>\n",
       "  </tbody>\n",
       "</table>\n",
       "</div>"
      ],
      "text/plain": [
       "       loss  accuracy  val_loss  val_accuracy\n",
       "0  0.666121  0.764375  0.449467      0.840167\n",
       "1  0.420840  0.849667  0.389231      0.855583\n",
       "2  0.373885  0.865333  0.381325      0.858917\n",
       "3  0.355035  0.870229  0.345578      0.876333\n",
       "4  0.330097  0.878083  0.343372      0.875583\n",
       "5  0.316124  0.883583  0.332508      0.878333\n",
       "6  0.304355  0.888937  0.313031      0.888417\n",
       "7  0.293209  0.891292  0.317901      0.881833\n",
       "8  0.287427  0.893458  0.318618      0.882417\n",
       "9  0.278582  0.896937  0.323432      0.884417"
      ]
     },
     "execution_count": 42,
     "metadata": {},
     "output_type": "execute_result"
    }
   ],
   "source": [
    "historico = pd.DataFrame(historico.history)\n",
    "\n",
    "historico"
   ]
  },
  {
   "cell_type": "code",
   "execution_count": 51,
   "id": "fa61adce",
   "metadata": {},
   "outputs": [],
   "source": [
    "callbacks = [keras.callbacks.EarlyStopping(monitor='val_loss'),\n",
    "             keras.callbacks.ModelCheckpoint(filepath='melhor_modelo.hdf5', monitor='val_loss', save_best_only=True)]"
   ]
  },
  {
   "cell_type": "code",
   "execution_count": 55,
   "id": "103cca62",
   "metadata": {},
   "outputs": [
    {
     "name": "stdout",
     "output_type": "stream",
     "text": [
      "Epoch 1/10\n",
      "100/100 [==============================] - 3s 21ms/step - loss: 0.6371 - accuracy: 0.7735 - val_loss: 0.4324 - val_accuracy: 0.8440\n",
      "Epoch 2/10\n",
      "100/100 [==============================] - 2s 18ms/step - loss: 0.4205 - accuracy: 0.8506 - val_loss: 0.3766 - val_accuracy: 0.8630\n"
     ]
    }
   ],
   "source": [
    "modelo = keras.Sequential([\n",
    "    keras.layers.Flatten(input_shape=(28, 28)),\n",
    "    \n",
    "    keras.layers.Dense(256, activation=tensorflow.nn.relu),\n",
    "    keras.layers.Dropout(0.2),\n",
    "    keras.layers.Dense(128, activation=tensorflow.nn.relu),\n",
    "    \n",
    "    keras.layers.Dense(10, activation=tensorflow.nn.softmax)\n",
    "])\n",
    "\n",
    "adam = keras.optimizers.Adam(learning_rate=0.002)\n",
    "\n",
    "modelo.compile(optimizer=adam, loss='sparse_categorical_crossentropy', metrics=['accuracy'])\n",
    "\n",
    "historico = modelo.fit(imagens_treino, identificacoes_treino, \n",
    "                       epochs=10, validation_split=0.2, batch_size=480, \n",
    "                       callbacks=callbacks)"
   ]
  },
  {
   "cell_type": "code",
   "execution_count": null,
   "id": "d22ae451",
   "metadata": {},
   "outputs": [],
   "source": []
  }
 ],
 "metadata": {
  "kernelspec": {
   "display_name": "Python 3",
   "language": "python",
   "name": "python3"
  },
  "language_info": {
   "codemirror_mode": {
    "name": "ipython",
    "version": 3
   },
   "file_extension": ".py",
   "mimetype": "text/x-python",
   "name": "python",
   "nbconvert_exporter": "python",
   "pygments_lexer": "ipython3",
   "version": "3.9.5"
  },
  "latex_envs": {
   "LaTeX_envs_menu_present": true,
   "autoclose": false,
   "autocomplete": true,
   "bibliofile": "biblio.bib",
   "cite_by": "apalike",
   "current_citInitial": 1,
   "eqLabelWithNumbers": true,
   "eqNumInitial": 1,
   "hotkeys": {
    "equation": "Ctrl-E",
    "itemize": "Ctrl-I"
   },
   "labels_anchors": false,
   "latex_user_defs": false,
   "report_style_numbering": false,
   "user_envs_cfg": false
  }
 },
 "nbformat": 4,
 "nbformat_minor": 5
}
