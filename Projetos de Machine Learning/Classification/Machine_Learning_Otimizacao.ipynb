{
 "cells": [
  {
   "cell_type": "code",
   "execution_count": 54,
   "metadata": {},
   "outputs": [],
   "source": [
    "import pandas as pd\n",
    "import numpy  as np"
   ]
  },
  {
   "cell_type": "code",
   "execution_count": 55,
   "metadata": {
    "colab": {},
    "colab_type": "code",
    "id": "y7ik04NlDZMA"
   },
   "outputs": [],
   "source": [
    "uri = \"https://gist.githubusercontent.com/guilhermesilveira/e99a526b2e7ccc6c3b70f53db43a87d2/raw/1605fc74aa778066bf2e6695e24d53cf65f2f447/machine-learning-carros-simulacao.csv\""
   ]
  },
  {
   "cell_type": "code",
   "execution_count": 56,
   "metadata": {},
   "outputs": [
    {
     "data": {
      "text/html": [
       "<div>\n",
       "<style scoped>\n",
       "    .dataframe tbody tr th:only-of-type {\n",
       "        vertical-align: middle;\n",
       "    }\n",
       "\n",
       "    .dataframe tbody tr th {\n",
       "        vertical-align: top;\n",
       "    }\n",
       "\n",
       "    .dataframe thead th {\n",
       "        text-align: right;\n",
       "    }\n",
       "</style>\n",
       "<table border=\"1\" class=\"dataframe\">\n",
       "  <thead>\n",
       "    <tr style=\"text-align: right;\">\n",
       "      <th></th>\n",
       "      <th>preco</th>\n",
       "      <th>vendido</th>\n",
       "      <th>idade_do_modelo</th>\n",
       "      <th>km_por_ano</th>\n",
       "    </tr>\n",
       "  </thead>\n",
       "  <tbody>\n",
       "    <tr>\n",
       "      <th>0</th>\n",
       "      <td>30941.02</td>\n",
       "      <td>1</td>\n",
       "      <td>18</td>\n",
       "      <td>35085.22134</td>\n",
       "    </tr>\n",
       "    <tr>\n",
       "      <th>1</th>\n",
       "      <td>40557.96</td>\n",
       "      <td>1</td>\n",
       "      <td>20</td>\n",
       "      <td>12622.05362</td>\n",
       "    </tr>\n",
       "    <tr>\n",
       "      <th>2</th>\n",
       "      <td>89627.50</td>\n",
       "      <td>0</td>\n",
       "      <td>12</td>\n",
       "      <td>11440.79806</td>\n",
       "    </tr>\n",
       "    <tr>\n",
       "      <th>3</th>\n",
       "      <td>95276.14</td>\n",
       "      <td>0</td>\n",
       "      <td>3</td>\n",
       "      <td>43167.32682</td>\n",
       "    </tr>\n",
       "    <tr>\n",
       "      <th>4</th>\n",
       "      <td>117384.68</td>\n",
       "      <td>1</td>\n",
       "      <td>4</td>\n",
       "      <td>12770.11290</td>\n",
       "    </tr>\n",
       "  </tbody>\n",
       "</table>\n",
       "</div>"
      ],
      "text/plain": [
       "       preco  vendido  idade_do_modelo   km_por_ano\n",
       "0   30941.02        1               18  35085.22134\n",
       "1   40557.96        1               20  12622.05362\n",
       "2   89627.50        0               12  11440.79806\n",
       "3   95276.14        0                3  43167.32682\n",
       "4  117384.68        1                4  12770.11290"
      ]
     },
     "execution_count": 56,
     "metadata": {},
     "output_type": "execute_result"
    }
   ],
   "source": [
    "dados = pd.read_csv(uri).drop(columns=[\"Unnamed: 0\"], axis=1)\n",
    "\n",
    "dados.head()"
   ]
  },
  {
   "cell_type": "code",
   "execution_count": 57,
   "metadata": {},
   "outputs": [
    {
     "data": {
      "text/html": [
       "<div>\n",
       "<style scoped>\n",
       "    .dataframe tbody tr th:only-of-type {\n",
       "        vertical-align: middle;\n",
       "    }\n",
       "\n",
       "    .dataframe tbody tr th {\n",
       "        vertical-align: top;\n",
       "    }\n",
       "\n",
       "    .dataframe thead th {\n",
       "        text-align: right;\n",
       "    }\n",
       "</style>\n",
       "<table border=\"1\" class=\"dataframe\">\n",
       "  <thead>\n",
       "    <tr style=\"text-align: right;\">\n",
       "      <th></th>\n",
       "      <th>preco</th>\n",
       "      <th>vendido</th>\n",
       "      <th>idade_do_modelo</th>\n",
       "      <th>km_por_ano</th>\n",
       "    </tr>\n",
       "  </thead>\n",
       "  <tbody>\n",
       "    <tr>\n",
       "      <th>4999</th>\n",
       "      <td>74023.29</td>\n",
       "      <td>0</td>\n",
       "      <td>12</td>\n",
       "      <td>24812.80412</td>\n",
       "    </tr>\n",
       "    <tr>\n",
       "      <th>5322</th>\n",
       "      <td>84843.49</td>\n",
       "      <td>0</td>\n",
       "      <td>13</td>\n",
       "      <td>23095.63834</td>\n",
       "    </tr>\n",
       "    <tr>\n",
       "      <th>5319</th>\n",
       "      <td>83100.27</td>\n",
       "      <td>0</td>\n",
       "      <td>19</td>\n",
       "      <td>36240.72746</td>\n",
       "    </tr>\n",
       "    <tr>\n",
       "      <th>5316</th>\n",
       "      <td>87932.13</td>\n",
       "      <td>0</td>\n",
       "      <td>16</td>\n",
       "      <td>32249.56426</td>\n",
       "    </tr>\n",
       "    <tr>\n",
       "      <th>5315</th>\n",
       "      <td>77937.01</td>\n",
       "      <td>0</td>\n",
       "      <td>15</td>\n",
       "      <td>28414.50704</td>\n",
       "    </tr>\n",
       "  </tbody>\n",
       "</table>\n",
       "</div>"
      ],
      "text/plain": [
       "         preco  vendido  idade_do_modelo   km_por_ano\n",
       "4999  74023.29        0               12  24812.80412\n",
       "5322  84843.49        0               13  23095.63834\n",
       "5319  83100.27        0               19  36240.72746\n",
       "5316  87932.13        0               16  32249.56426\n",
       "5315  77937.01        0               15  28414.50704"
      ]
     },
     "execution_count": 57,
     "metadata": {},
     "output_type": "execute_result"
    }
   ],
   "source": [
    "dados_azar = dados.sort_values(\"vendido\", ascending=True)\n",
    "x_azar     = dados_azar[[\"preco\", \"idade_do_modelo\",\"km_por_ano\"]]\n",
    "y_azar     = dados_azar[\"vendido\"]\n",
    "\n",
    "dados_azar.head()"
   ]
  },
  {
   "cell_type": "code",
   "execution_count": 58,
   "metadata": {},
   "outputs": [],
   "source": [
    "from sklearn.tree            import DecisionTreeClassifier\n",
    "from sklearn.model_selection import GridSearchCV\n",
    "from sklearn.model_selection import cross_val_score\n",
    "from sklearn.model_selection import KFold\n",
    "\n",
    "SEED = 301\n",
    "np.random.seed(SEED)"
   ]
  },
  {
   "cell_type": "code",
   "execution_count": 59,
   "metadata": {},
   "outputs": [],
   "source": [
    "espaco_parametros = {\n",
    "  'max_depth':         [3, 4],\n",
    "  'min_samples_leaf':  [32, 64, 128],\n",
    "  'min_samples_split': [32, 64, 128],\n",
    "  'criterion':         ['gini', 'entropy']\n",
    "}"
   ]
  },
  {
   "cell_type": "code",
   "execution_count": 60,
   "metadata": {},
   "outputs": [
    {
     "data": {
      "text/html": [
       "<style>#sk-container-id-5 {color: black;background-color: white;}#sk-container-id-5 pre{padding: 0;}#sk-container-id-5 div.sk-toggleable {background-color: white;}#sk-container-id-5 label.sk-toggleable__label {cursor: pointer;display: block;width: 100%;margin-bottom: 0;padding: 0.3em;box-sizing: border-box;text-align: center;}#sk-container-id-5 label.sk-toggleable__label-arrow:before {content: \"▸\";float: left;margin-right: 0.25em;color: #696969;}#sk-container-id-5 label.sk-toggleable__label-arrow:hover:before {color: black;}#sk-container-id-5 div.sk-estimator:hover label.sk-toggleable__label-arrow:before {color: black;}#sk-container-id-5 div.sk-toggleable__content {max-height: 0;max-width: 0;overflow: hidden;text-align: left;background-color: #f0f8ff;}#sk-container-id-5 div.sk-toggleable__content pre {margin: 0.2em;color: black;border-radius: 0.25em;background-color: #f0f8ff;}#sk-container-id-5 input.sk-toggleable__control:checked~div.sk-toggleable__content {max-height: 200px;max-width: 100%;overflow: auto;}#sk-container-id-5 input.sk-toggleable__control:checked~label.sk-toggleable__label-arrow:before {content: \"▾\";}#sk-container-id-5 div.sk-estimator input.sk-toggleable__control:checked~label.sk-toggleable__label {background-color: #d4ebff;}#sk-container-id-5 div.sk-label input.sk-toggleable__control:checked~label.sk-toggleable__label {background-color: #d4ebff;}#sk-container-id-5 input.sk-hidden--visually {border: 0;clip: rect(1px 1px 1px 1px);clip: rect(1px, 1px, 1px, 1px);height: 1px;margin: -1px;overflow: hidden;padding: 0;position: absolute;width: 1px;}#sk-container-id-5 div.sk-estimator {font-family: monospace;background-color: #f0f8ff;border: 1px dotted black;border-radius: 0.25em;box-sizing: border-box;margin-bottom: 0.5em;}#sk-container-id-5 div.sk-estimator:hover {background-color: #d4ebff;}#sk-container-id-5 div.sk-parallel-item::after {content: \"\";width: 100%;border-bottom: 1px solid gray;flex-grow: 1;}#sk-container-id-5 div.sk-label:hover label.sk-toggleable__label {background-color: #d4ebff;}#sk-container-id-5 div.sk-serial::before {content: \"\";position: absolute;border-left: 1px solid gray;box-sizing: border-box;top: 0;bottom: 0;left: 50%;z-index: 0;}#sk-container-id-5 div.sk-serial {display: flex;flex-direction: column;align-items: center;background-color: white;padding-right: 0.2em;padding-left: 0.2em;position: relative;}#sk-container-id-5 div.sk-item {position: relative;z-index: 1;}#sk-container-id-5 div.sk-parallel {display: flex;align-items: stretch;justify-content: center;background-color: white;position: relative;}#sk-container-id-5 div.sk-item::before, #sk-container-id-5 div.sk-parallel-item::before {content: \"\";position: absolute;border-left: 1px solid gray;box-sizing: border-box;top: 0;bottom: 0;left: 50%;z-index: -1;}#sk-container-id-5 div.sk-parallel-item {display: flex;flex-direction: column;z-index: 1;position: relative;background-color: white;}#sk-container-id-5 div.sk-parallel-item:first-child::after {align-self: flex-end;width: 50%;}#sk-container-id-5 div.sk-parallel-item:last-child::after {align-self: flex-start;width: 50%;}#sk-container-id-5 div.sk-parallel-item:only-child::after {width: 0;}#sk-container-id-5 div.sk-dashed-wrapped {border: 1px dashed gray;margin: 0 0.4em 0.5em 0.4em;box-sizing: border-box;padding-bottom: 0.4em;background-color: white;}#sk-container-id-5 div.sk-label label {font-family: monospace;font-weight: bold;display: inline-block;line-height: 1.2em;}#sk-container-id-5 div.sk-label-container {text-align: center;}#sk-container-id-5 div.sk-container {/* jupyter's `normalize.less` sets `[hidden] { display: none; }` but bootstrap.min.css set `[hidden] { display: none !important; }` so we also need the `!important` here to be able to override the default hidden behavior on the sphinx rendered scikit-learn.org. See: https://github.com/scikit-learn/scikit-learn/issues/21755 */display: inline-block !important;position: relative;}#sk-container-id-5 div.sk-text-repr-fallback {display: none;}</style><div id=\"sk-container-id-5\" class=\"sk-top-container\"><div class=\"sk-text-repr-fallback\"><pre>GridSearchCV(cv=KFold(n_splits=10, random_state=None, shuffle=True),\n",
       "             estimator=DecisionTreeClassifier(),\n",
       "             param_grid={&#x27;criterion&#x27;: [&#x27;gini&#x27;, &#x27;entropy&#x27;], &#x27;max_depth&#x27;: [3, 4],\n",
       "                         &#x27;min_samples_leaf&#x27;: [32, 64, 128],\n",
       "                         &#x27;min_samples_split&#x27;: [32, 64, 128]})</pre><b>In a Jupyter environment, please rerun this cell to show the HTML representation or trust the notebook. <br />On GitHub, the HTML representation is unable to render, please try loading this page with nbviewer.org.</b></div><div class=\"sk-container\" hidden><div class=\"sk-item sk-dashed-wrapped\"><div class=\"sk-label-container\"><div class=\"sk-label sk-toggleable\"><input class=\"sk-toggleable__control sk-hidden--visually\" id=\"sk-estimator-id-11\" type=\"checkbox\" ><label for=\"sk-estimator-id-11\" class=\"sk-toggleable__label sk-toggleable__label-arrow\">GridSearchCV</label><div class=\"sk-toggleable__content\"><pre>GridSearchCV(cv=KFold(n_splits=10, random_state=None, shuffle=True),\n",
       "             estimator=DecisionTreeClassifier(),\n",
       "             param_grid={&#x27;criterion&#x27;: [&#x27;gini&#x27;, &#x27;entropy&#x27;], &#x27;max_depth&#x27;: [3, 4],\n",
       "                         &#x27;min_samples_leaf&#x27;: [32, 64, 128],\n",
       "                         &#x27;min_samples_split&#x27;: [32, 64, 128]})</pre></div></div></div><div class=\"sk-parallel\"><div class=\"sk-parallel-item\"><div class=\"sk-item\"><div class=\"sk-label-container\"><div class=\"sk-label sk-toggleable\"><input class=\"sk-toggleable__control sk-hidden--visually\" id=\"sk-estimator-id-12\" type=\"checkbox\" ><label for=\"sk-estimator-id-12\" class=\"sk-toggleable__label sk-toggleable__label-arrow\">estimator: DecisionTreeClassifier</label><div class=\"sk-toggleable__content\"><pre>DecisionTreeClassifier()</pre></div></div></div><div class=\"sk-serial\"><div class=\"sk-item\"><div class=\"sk-estimator sk-toggleable\"><input class=\"sk-toggleable__control sk-hidden--visually\" id=\"sk-estimator-id-13\" type=\"checkbox\" ><label for=\"sk-estimator-id-13\" class=\"sk-toggleable__label sk-toggleable__label-arrow\">DecisionTreeClassifier</label><div class=\"sk-toggleable__content\"><pre>DecisionTreeClassifier()</pre></div></div></div></div></div></div></div></div></div></div>"
      ],
      "text/plain": [
       "GridSearchCV(cv=KFold(n_splits=10, random_state=None, shuffle=True),\n",
       "             estimator=DecisionTreeClassifier(),\n",
       "             param_grid={'criterion': ['gini', 'entropy'], 'max_depth': [3, 4],\n",
       "                         'min_samples_leaf': [32, 64, 128],\n",
       "                         'min_samples_split': [32, 64, 128]})"
      ]
     },
     "execution_count": 60,
     "metadata": {},
     "output_type": "execute_result"
    }
   ],
   "source": [
    "busca = GridSearchCV(\n",
    "  estimator=DecisionTreeClassifier(),\n",
    "  param_grid=espaco_parametros,\n",
    "  cv=KFold(n_splits=10, shuffle=True)\n",
    ")\n",
    "\n",
    "busca.fit(x_azar, y_azar)"
   ]
  },
  {
   "cell_type": "code",
   "execution_count": 61,
   "metadata": {},
   "outputs": [],
   "source": [
    "scores = cross_val_score(\n",
    "  estimator=busca,\n",
    "  X=x_azar,\n",
    "  y=y_azar,\n",
    "  cv=KFold(n_splits=10, shuffle=True)\n",
    ")"
   ]
  },
  {
   "cell_type": "code",
   "execution_count": 62,
   "metadata": {},
   "outputs": [
    {
     "name": "stdout",
     "output_type": "stream",
     "text": [
      "Acc média 78.69, Intervalo [76.13, 81.25], "
     ]
    }
   ],
   "source": [
    "def imprime_scores(scores):\n",
    "  media  = scores.mean() * 100\n",
    "  desvio = scores.std()  * 100\n",
    "\n",
    "  print(\"Acc média %.2f\" % media, end=\", \")\n",
    "  print(\"Intervalo [%.2f, %.2f]\" % (media - 2 * desvio, media + 2 * desvio), end=\", \")\n",
    "\n",
    "imprime_scores(scores)"
   ]
  },
  {
   "cell_type": "code",
   "execution_count": 63,
   "metadata": {},
   "outputs": [
    {
     "data": {
      "text/html": [
       "<style>#sk-container-id-6 {color: black;background-color: white;}#sk-container-id-6 pre{padding: 0;}#sk-container-id-6 div.sk-toggleable {background-color: white;}#sk-container-id-6 label.sk-toggleable__label {cursor: pointer;display: block;width: 100%;margin-bottom: 0;padding: 0.3em;box-sizing: border-box;text-align: center;}#sk-container-id-6 label.sk-toggleable__label-arrow:before {content: \"▸\";float: left;margin-right: 0.25em;color: #696969;}#sk-container-id-6 label.sk-toggleable__label-arrow:hover:before {color: black;}#sk-container-id-6 div.sk-estimator:hover label.sk-toggleable__label-arrow:before {color: black;}#sk-container-id-6 div.sk-toggleable__content {max-height: 0;max-width: 0;overflow: hidden;text-align: left;background-color: #f0f8ff;}#sk-container-id-6 div.sk-toggleable__content pre {margin: 0.2em;color: black;border-radius: 0.25em;background-color: #f0f8ff;}#sk-container-id-6 input.sk-toggleable__control:checked~div.sk-toggleable__content {max-height: 200px;max-width: 100%;overflow: auto;}#sk-container-id-6 input.sk-toggleable__control:checked~label.sk-toggleable__label-arrow:before {content: \"▾\";}#sk-container-id-6 div.sk-estimator input.sk-toggleable__control:checked~label.sk-toggleable__label {background-color: #d4ebff;}#sk-container-id-6 div.sk-label input.sk-toggleable__control:checked~label.sk-toggleable__label {background-color: #d4ebff;}#sk-container-id-6 input.sk-hidden--visually {border: 0;clip: rect(1px 1px 1px 1px);clip: rect(1px, 1px, 1px, 1px);height: 1px;margin: -1px;overflow: hidden;padding: 0;position: absolute;width: 1px;}#sk-container-id-6 div.sk-estimator {font-family: monospace;background-color: #f0f8ff;border: 1px dotted black;border-radius: 0.25em;box-sizing: border-box;margin-bottom: 0.5em;}#sk-container-id-6 div.sk-estimator:hover {background-color: #d4ebff;}#sk-container-id-6 div.sk-parallel-item::after {content: \"\";width: 100%;border-bottom: 1px solid gray;flex-grow: 1;}#sk-container-id-6 div.sk-label:hover label.sk-toggleable__label {background-color: #d4ebff;}#sk-container-id-6 div.sk-serial::before {content: \"\";position: absolute;border-left: 1px solid gray;box-sizing: border-box;top: 0;bottom: 0;left: 50%;z-index: 0;}#sk-container-id-6 div.sk-serial {display: flex;flex-direction: column;align-items: center;background-color: white;padding-right: 0.2em;padding-left: 0.2em;position: relative;}#sk-container-id-6 div.sk-item {position: relative;z-index: 1;}#sk-container-id-6 div.sk-parallel {display: flex;align-items: stretch;justify-content: center;background-color: white;position: relative;}#sk-container-id-6 div.sk-item::before, #sk-container-id-6 div.sk-parallel-item::before {content: \"\";position: absolute;border-left: 1px solid gray;box-sizing: border-box;top: 0;bottom: 0;left: 50%;z-index: -1;}#sk-container-id-6 div.sk-parallel-item {display: flex;flex-direction: column;z-index: 1;position: relative;background-color: white;}#sk-container-id-6 div.sk-parallel-item:first-child::after {align-self: flex-end;width: 50%;}#sk-container-id-6 div.sk-parallel-item:last-child::after {align-self: flex-start;width: 50%;}#sk-container-id-6 div.sk-parallel-item:only-child::after {width: 0;}#sk-container-id-6 div.sk-dashed-wrapped {border: 1px dashed gray;margin: 0 0.4em 0.5em 0.4em;box-sizing: border-box;padding-bottom: 0.4em;background-color: white;}#sk-container-id-6 div.sk-label label {font-family: monospace;font-weight: bold;display: inline-block;line-height: 1.2em;}#sk-container-id-6 div.sk-label-container {text-align: center;}#sk-container-id-6 div.sk-container {/* jupyter's `normalize.less` sets `[hidden] { display: none; }` but bootstrap.min.css set `[hidden] { display: none !important; }` so we also need the `!important` here to be able to override the default hidden behavior on the sphinx rendered scikit-learn.org. See: https://github.com/scikit-learn/scikit-learn/issues/21755 */display: inline-block !important;position: relative;}#sk-container-id-6 div.sk-text-repr-fallback {display: none;}</style><div id=\"sk-container-id-6\" class=\"sk-top-container\"><div class=\"sk-text-repr-fallback\"><pre>DecisionTreeClassifier(max_depth=3, min_samples_leaf=32, min_samples_split=32)</pre><b>In a Jupyter environment, please rerun this cell to show the HTML representation or trust the notebook. <br />On GitHub, the HTML representation is unable to render, please try loading this page with nbviewer.org.</b></div><div class=\"sk-container\" hidden><div class=\"sk-item\"><div class=\"sk-estimator sk-toggleable\"><input class=\"sk-toggleable__control sk-hidden--visually\" id=\"sk-estimator-id-14\" type=\"checkbox\" checked><label for=\"sk-estimator-id-14\" class=\"sk-toggleable__label sk-toggleable__label-arrow\">DecisionTreeClassifier</label><div class=\"sk-toggleable__content\"><pre>DecisionTreeClassifier(max_depth=3, min_samples_leaf=32, min_samples_split=32)</pre></div></div></div></div></div>"
      ],
      "text/plain": [
       "DecisionTreeClassifier(max_depth=3, min_samples_leaf=32, min_samples_split=32)"
      ]
     },
     "execution_count": 63,
     "metadata": {},
     "output_type": "execute_result"
    }
   ],
   "source": [
    "melhor_modelo = busca.best_estimator_\n",
    "\n",
    "melhor_modelo"
   ]
  },
  {
   "cell_type": "code",
   "execution_count": 64,
   "metadata": {},
   "outputs": [],
   "source": [
    "import graphviz\n",
    "\n",
    "from sklearn.tree import export_graphviz"
   ]
  },
  {
   "cell_type": "code",
   "execution_count": 65,
   "metadata": {},
   "outputs": [
    {
     "data": {
      "image/svg+xml": "<?xml version=\"1.0\" encoding=\"UTF-8\" standalone=\"no\"?>\n<!DOCTYPE svg PUBLIC \"-//W3C//DTD SVG 1.1//EN\"\n \"http://www.w3.org/Graphics/SVG/1.1/DTD/svg11.dtd\">\n<!-- Generated by graphviz version 2.43.0 (0)\n -->\n<!-- Title: Tree Pages: 1 -->\n<svg width=\"866pt\" height=\"433pt\"\n viewBox=\"0.00 0.00 866.00 433.00\" xmlns=\"http://www.w3.org/2000/svg\" xmlns:xlink=\"http://www.w3.org/1999/xlink\">\n<g id=\"graph0\" class=\"graph\" transform=\"scale(1 1) rotate(0) translate(4 429)\">\n<title>Tree</title>\n<polygon fill=\"white\" stroke=\"transparent\" points=\"-4,4 -4,-429 862,-429 862,4 -4,4\"/>\n<!-- 0 -->\n<g id=\"node1\" class=\"node\">\n<title>0</title>\n<path fill=\"#c8e4f8\" stroke=\"black\" d=\"M350.5,-425C350.5,-425 234.5,-425 234.5,-425 228.5,-425 222.5,-419 222.5,-413 222.5,-413 222.5,-354 222.5,-354 222.5,-348 228.5,-342 234.5,-342 234.5,-342 350.5,-342 350.5,-342 356.5,-342 362.5,-348 362.5,-354 362.5,-354 362.5,-413 362.5,-413 362.5,-419 356.5,-425 350.5,-425\"/>\n<text text-anchor=\"middle\" x=\"292.5\" y=\"-409.8\" font-family=\"Helvetica,sans-Serif\" font-size=\"14.00\">preco &lt;= 59982.246</text>\n<text text-anchor=\"middle\" x=\"292.5\" y=\"-394.8\" font-family=\"Helvetica,sans-Serif\" font-size=\"14.00\">gini = 0.487</text>\n<text text-anchor=\"middle\" x=\"292.5\" y=\"-379.8\" font-family=\"Helvetica,sans-Serif\" font-size=\"14.00\">samples = 10000</text>\n<text text-anchor=\"middle\" x=\"292.5\" y=\"-364.8\" font-family=\"Helvetica,sans-Serif\" font-size=\"14.00\">value = [4200, 5800]</text>\n<text text-anchor=\"middle\" x=\"292.5\" y=\"-349.8\" font-family=\"Helvetica,sans-Serif\" font-size=\"14.00\">class = Sim</text>\n</g>\n<!-- 1 -->\n<g id=\"node2\" class=\"node\">\n<title>1</title>\n<path fill=\"#52a9e8\" stroke=\"black\" d=\"M261.5,-306C261.5,-306 147.5,-306 147.5,-306 141.5,-306 135.5,-300 135.5,-294 135.5,-294 135.5,-235 135.5,-235 135.5,-229 141.5,-223 147.5,-223 147.5,-223 261.5,-223 261.5,-223 267.5,-223 273.5,-229 273.5,-235 273.5,-235 273.5,-294 273.5,-294 273.5,-300 267.5,-306 261.5,-306\"/>\n<text text-anchor=\"middle\" x=\"204.5\" y=\"-290.8\" font-family=\"Helvetica,sans-Serif\" font-size=\"14.00\">preco &lt;= 40083.385</text>\n<text text-anchor=\"middle\" x=\"204.5\" y=\"-275.8\" font-family=\"Helvetica,sans-Serif\" font-size=\"14.00\">gini = 0.198</text>\n<text text-anchor=\"middle\" x=\"204.5\" y=\"-260.8\" font-family=\"Helvetica,sans-Serif\" font-size=\"14.00\">samples = 4347</text>\n<text text-anchor=\"middle\" x=\"204.5\" y=\"-245.8\" font-family=\"Helvetica,sans-Serif\" font-size=\"14.00\">value = [484, 3863]</text>\n<text text-anchor=\"middle\" x=\"204.5\" y=\"-230.8\" font-family=\"Helvetica,sans-Serif\" font-size=\"14.00\">class = Sim</text>\n</g>\n<!-- 0&#45;&gt;1 -->\n<g id=\"edge1\" class=\"edge\">\n<title>0&#45;&gt;1</title>\n<path fill=\"none\" stroke=\"black\" d=\"M261.97,-341.91C255.21,-332.92 247.98,-323.32 241.02,-314.05\"/>\n<polygon fill=\"black\" stroke=\"black\" points=\"243.79,-311.91 234.98,-306.02 238.19,-316.12 243.79,-311.91\"/>\n<text text-anchor=\"middle\" x=\"231.48\" y=\"-327.07\" font-family=\"Helvetica,sans-Serif\" font-size=\"14.00\">True</text>\n</g>\n<!-- 6 -->\n<g id=\"node7\" class=\"node\">\n<title>6</title>\n<path fill=\"#f3c3a0\" stroke=\"black\" d=\"M514.5,-306C514.5,-306 358.5,-306 358.5,-306 352.5,-306 346.5,-300 346.5,-294 346.5,-294 346.5,-235 346.5,-235 346.5,-229 352.5,-223 358.5,-223 358.5,-223 514.5,-223 514.5,-223 520.5,-223 526.5,-229 526.5,-235 526.5,-235 526.5,-294 526.5,-294 526.5,-300 520.5,-306 514.5,-306\"/>\n<text text-anchor=\"middle\" x=\"436.5\" y=\"-290.8\" font-family=\"Helvetica,sans-Serif\" font-size=\"14.00\">km_por_ano &lt;= 24124.006</text>\n<text text-anchor=\"middle\" x=\"436.5\" y=\"-275.8\" font-family=\"Helvetica,sans-Serif\" font-size=\"14.00\">gini = 0.45</text>\n<text text-anchor=\"middle\" x=\"436.5\" y=\"-260.8\" font-family=\"Helvetica,sans-Serif\" font-size=\"14.00\">samples = 5653</text>\n<text text-anchor=\"middle\" x=\"436.5\" y=\"-245.8\" font-family=\"Helvetica,sans-Serif\" font-size=\"14.00\">value = [3716, 1937]</text>\n<text text-anchor=\"middle\" x=\"436.5\" y=\"-230.8\" font-family=\"Helvetica,sans-Serif\" font-size=\"14.00\">class = Não</text>\n</g>\n<!-- 0&#45;&gt;6 -->\n<g id=\"edge6\" class=\"edge\">\n<title>0&#45;&gt;6</title>\n<path fill=\"none\" stroke=\"black\" d=\"M342.46,-341.91C354.19,-332.38 366.78,-322.15 378.81,-312.37\"/>\n<polygon fill=\"black\" stroke=\"black\" points=\"381.07,-315.04 386.63,-306.02 376.66,-309.61 381.07,-315.04\"/>\n<text text-anchor=\"middle\" x=\"384.06\" y=\"-327.19\" font-family=\"Helvetica,sans-Serif\" font-size=\"14.00\">False</text>\n</g>\n<!-- 2 -->\n<g id=\"node3\" class=\"node\">\n<title>2</title>\n<path fill=\"#399de5\" stroke=\"black\" d=\"M105,-179.5C105,-179.5 12,-179.5 12,-179.5 6,-179.5 0,-173.5 0,-167.5 0,-167.5 0,-123.5 0,-123.5 0,-117.5 6,-111.5 12,-111.5 12,-111.5 105,-111.5 105,-111.5 111,-111.5 117,-117.5 117,-123.5 117,-123.5 117,-167.5 117,-167.5 117,-173.5 111,-179.5 105,-179.5\"/>\n<text text-anchor=\"middle\" x=\"58.5\" y=\"-164.3\" font-family=\"Helvetica,sans-Serif\" font-size=\"14.00\">gini = 0.0</text>\n<text text-anchor=\"middle\" x=\"58.5\" y=\"-149.3\" font-family=\"Helvetica,sans-Serif\" font-size=\"14.00\">samples = 1935</text>\n<text text-anchor=\"middle\" x=\"58.5\" y=\"-134.3\" font-family=\"Helvetica,sans-Serif\" font-size=\"14.00\">value = [0, 1935]</text>\n<text text-anchor=\"middle\" x=\"58.5\" y=\"-119.3\" font-family=\"Helvetica,sans-Serif\" font-size=\"14.00\">class = Sim</text>\n</g>\n<!-- 1&#45;&gt;2 -->\n<g id=\"edge2\" class=\"edge\">\n<title>1&#45;&gt;2</title>\n<path fill=\"none\" stroke=\"black\" d=\"M153.85,-222.91C138.97,-210.99 122.73,-197.98 107.94,-186.12\"/>\n<polygon fill=\"black\" stroke=\"black\" points=\"109.88,-183.19 99.89,-179.67 105.5,-188.65 109.88,-183.19\"/>\n</g>\n<!-- 3 -->\n<g id=\"node4\" class=\"node\">\n<title>3</title>\n<path fill=\"#6bb6ec\" stroke=\"black\" d=\"M261.5,-187C261.5,-187 147.5,-187 147.5,-187 141.5,-187 135.5,-181 135.5,-175 135.5,-175 135.5,-116 135.5,-116 135.5,-110 141.5,-104 147.5,-104 147.5,-104 261.5,-104 261.5,-104 267.5,-104 273.5,-110 273.5,-116 273.5,-116 273.5,-175 273.5,-175 273.5,-181 267.5,-187 261.5,-187\"/>\n<text text-anchor=\"middle\" x=\"204.5\" y=\"-171.8\" font-family=\"Helvetica,sans-Serif\" font-size=\"14.00\">preco &lt;= 41083.029</text>\n<text text-anchor=\"middle\" x=\"204.5\" y=\"-156.8\" font-family=\"Helvetica,sans-Serif\" font-size=\"14.00\">gini = 0.321</text>\n<text text-anchor=\"middle\" x=\"204.5\" y=\"-141.8\" font-family=\"Helvetica,sans-Serif\" font-size=\"14.00\">samples = 2412</text>\n<text text-anchor=\"middle\" x=\"204.5\" y=\"-126.8\" font-family=\"Helvetica,sans-Serif\" font-size=\"14.00\">value = [484, 1928]</text>\n<text text-anchor=\"middle\" x=\"204.5\" y=\"-111.8\" font-family=\"Helvetica,sans-Serif\" font-size=\"14.00\">class = Sim</text>\n</g>\n<!-- 1&#45;&gt;3 -->\n<g id=\"edge3\" class=\"edge\">\n<title>1&#45;&gt;3</title>\n<path fill=\"none\" stroke=\"black\" d=\"M204.5,-222.91C204.5,-214.65 204.5,-205.86 204.5,-197.3\"/>\n<polygon fill=\"black\" stroke=\"black\" points=\"208,-197.02 204.5,-187.02 201,-197.02 208,-197.02\"/>\n</g>\n<!-- 4 -->\n<g id=\"node5\" class=\"node\">\n<title>4</title>\n<path fill=\"#95cbf1\" stroke=\"black\" d=\"M108.5,-68C108.5,-68 22.5,-68 22.5,-68 16.5,-68 10.5,-62 10.5,-56 10.5,-56 10.5,-12 10.5,-12 10.5,-6 16.5,0 22.5,0 22.5,0 108.5,0 108.5,0 114.5,0 120.5,-6 120.5,-12 120.5,-12 120.5,-56 120.5,-56 120.5,-62 114.5,-68 108.5,-68\"/>\n<text text-anchor=\"middle\" x=\"65.5\" y=\"-52.8\" font-family=\"Helvetica,sans-Serif\" font-size=\"14.00\">gini = 0.434</text>\n<text text-anchor=\"middle\" x=\"65.5\" y=\"-37.8\" font-family=\"Helvetica,sans-Serif\" font-size=\"14.00\">samples = 110</text>\n<text text-anchor=\"middle\" x=\"65.5\" y=\"-22.8\" font-family=\"Helvetica,sans-Serif\" font-size=\"14.00\">value = [35, 75]</text>\n<text text-anchor=\"middle\" x=\"65.5\" y=\"-7.8\" font-family=\"Helvetica,sans-Serif\" font-size=\"14.00\">class = Sim</text>\n</g>\n<!-- 3&#45;&gt;4 -->\n<g id=\"edge4\" class=\"edge\">\n<title>3&#45;&gt;4</title>\n<path fill=\"none\" stroke=\"black\" d=\"M152.74,-103.73C140.7,-94.24 127.9,-84.16 115.92,-74.72\"/>\n<polygon fill=\"black\" stroke=\"black\" points=\"117.79,-71.74 107.77,-68.3 113.46,-77.24 117.79,-71.74\"/>\n</g>\n<!-- 5 -->\n<g id=\"node6\" class=\"node\">\n<title>5</title>\n<path fill=\"#69b5eb\" stroke=\"black\" d=\"M258.5,-68C258.5,-68 150.5,-68 150.5,-68 144.5,-68 138.5,-62 138.5,-56 138.5,-56 138.5,-12 138.5,-12 138.5,-6 144.5,0 150.5,0 150.5,0 258.5,0 258.5,0 264.5,0 270.5,-6 270.5,-12 270.5,-12 270.5,-56 270.5,-56 270.5,-62 264.5,-68 258.5,-68\"/>\n<text text-anchor=\"middle\" x=\"204.5\" y=\"-52.8\" font-family=\"Helvetica,sans-Serif\" font-size=\"14.00\">gini = 0.314</text>\n<text text-anchor=\"middle\" x=\"204.5\" y=\"-37.8\" font-family=\"Helvetica,sans-Serif\" font-size=\"14.00\">samples = 2302</text>\n<text text-anchor=\"middle\" x=\"204.5\" y=\"-22.8\" font-family=\"Helvetica,sans-Serif\" font-size=\"14.00\">value = [449, 1853]</text>\n<text text-anchor=\"middle\" x=\"204.5\" y=\"-7.8\" font-family=\"Helvetica,sans-Serif\" font-size=\"14.00\">class = Sim</text>\n</g>\n<!-- 3&#45;&gt;5 -->\n<g id=\"edge5\" class=\"edge\">\n<title>3&#45;&gt;5</title>\n<path fill=\"none\" stroke=\"black\" d=\"M204.5,-103.73C204.5,-95.52 204.5,-86.86 204.5,-78.56\"/>\n<polygon fill=\"black\" stroke=\"black\" points=\"208,-78.3 204.5,-68.3 201,-78.3 208,-78.3\"/>\n</g>\n<!-- 7 -->\n<g id=\"node8\" class=\"node\">\n<title>7</title>\n<path fill=\"#fcefe5\" stroke=\"black\" d=\"M494.5,-187C494.5,-187 378.5,-187 378.5,-187 372.5,-187 366.5,-181 366.5,-175 366.5,-175 366.5,-116 366.5,-116 366.5,-110 372.5,-104 378.5,-104 378.5,-104 494.5,-104 494.5,-104 500.5,-104 506.5,-110 506.5,-116 506.5,-116 506.5,-175 506.5,-175 506.5,-181 500.5,-187 494.5,-187\"/>\n<text text-anchor=\"middle\" x=\"436.5\" y=\"-171.8\" font-family=\"Helvetica,sans-Serif\" font-size=\"14.00\">preco &lt;= 99974.41</text>\n<text text-anchor=\"middle\" x=\"436.5\" y=\"-156.8\" font-family=\"Helvetica,sans-Serif\" font-size=\"14.00\">gini = 0.498</text>\n<text text-anchor=\"middle\" x=\"436.5\" y=\"-141.8\" font-family=\"Helvetica,sans-Serif\" font-size=\"14.00\">samples = 3513</text>\n<text text-anchor=\"middle\" x=\"436.5\" y=\"-126.8\" font-family=\"Helvetica,sans-Serif\" font-size=\"14.00\">value = [1879, 1634]</text>\n<text text-anchor=\"middle\" x=\"436.5\" y=\"-111.8\" font-family=\"Helvetica,sans-Serif\" font-size=\"14.00\">class = Não</text>\n</g>\n<!-- 6&#45;&gt;7 -->\n<g id=\"edge7\" class=\"edge\">\n<title>6&#45;&gt;7</title>\n<path fill=\"none\" stroke=\"black\" d=\"M436.5,-222.91C436.5,-214.65 436.5,-205.86 436.5,-197.3\"/>\n<polygon fill=\"black\" stroke=\"black\" points=\"440,-197.02 436.5,-187.02 433,-197.02 440,-197.02\"/>\n</g>\n<!-- 10 -->\n<g id=\"node11\" class=\"node\">\n<title>10</title>\n<path fill=\"#e9965a\" stroke=\"black\" d=\"M713.5,-187C713.5,-187 591.5,-187 591.5,-187 585.5,-187 579.5,-181 579.5,-175 579.5,-175 579.5,-116 579.5,-116 579.5,-110 585.5,-104 591.5,-104 591.5,-104 713.5,-104 713.5,-104 719.5,-104 725.5,-110 725.5,-116 725.5,-116 725.5,-175 725.5,-175 725.5,-181 719.5,-187 713.5,-187\"/>\n<text text-anchor=\"middle\" x=\"652.5\" y=\"-171.8\" font-family=\"Helvetica,sans-Serif\" font-size=\"14.00\">preco &lt;= 100076.957</text>\n<text text-anchor=\"middle\" x=\"652.5\" y=\"-156.8\" font-family=\"Helvetica,sans-Serif\" font-size=\"14.00\">gini = 0.243</text>\n<text text-anchor=\"middle\" x=\"652.5\" y=\"-141.8\" font-family=\"Helvetica,sans-Serif\" font-size=\"14.00\">samples = 2140</text>\n<text text-anchor=\"middle\" x=\"652.5\" y=\"-126.8\" font-family=\"Helvetica,sans-Serif\" font-size=\"14.00\">value = [1837, 303]</text>\n<text text-anchor=\"middle\" x=\"652.5\" y=\"-111.8\" font-family=\"Helvetica,sans-Serif\" font-size=\"14.00\">class = Não</text>\n</g>\n<!-- 6&#45;&gt;10 -->\n<g id=\"edge10\" class=\"edge\">\n<title>6&#45;&gt;10</title>\n<path fill=\"none\" stroke=\"black\" d=\"M511.44,-222.91C530.46,-212.61 550.99,-201.48 570.35,-191\"/>\n<polygon fill=\"black\" stroke=\"black\" points=\"572.03,-194.07 579.15,-186.23 568.69,-187.92 572.03,-194.07\"/>\n</g>\n<!-- 8 -->\n<g id=\"node9\" class=\"node\">\n<title>8</title>\n<path fill=\"#f9e0ce\" stroke=\"black\" d=\"M416.5,-68C416.5,-68 300.5,-68 300.5,-68 294.5,-68 288.5,-62 288.5,-56 288.5,-56 288.5,-12 288.5,-12 288.5,-6 294.5,0 300.5,0 300.5,0 416.5,0 416.5,0 422.5,0 428.5,-6 428.5,-12 428.5,-12 428.5,-56 428.5,-56 428.5,-62 422.5,-68 416.5,-68\"/>\n<text text-anchor=\"middle\" x=\"358.5\" y=\"-52.8\" font-family=\"Helvetica,sans-Serif\" font-size=\"14.00\">gini = 0.49</text>\n<text text-anchor=\"middle\" x=\"358.5\" y=\"-37.8\" font-family=\"Helvetica,sans-Serif\" font-size=\"14.00\">samples = 2944</text>\n<text text-anchor=\"middle\" x=\"358.5\" y=\"-22.8\" font-family=\"Helvetica,sans-Serif\" font-size=\"14.00\">value = [1682, 1262]</text>\n<text text-anchor=\"middle\" x=\"358.5\" y=\"-7.8\" font-family=\"Helvetica,sans-Serif\" font-size=\"14.00\">class = Não</text>\n</g>\n<!-- 7&#45;&gt;8 -->\n<g id=\"edge8\" class=\"edge\">\n<title>7&#45;&gt;8</title>\n<path fill=\"none\" stroke=\"black\" d=\"M407.46,-103.73C401.15,-94.88 394.48,-85.51 388.15,-76.63\"/>\n<polygon fill=\"black\" stroke=\"black\" points=\"390.87,-74.41 382.22,-68.3 385.17,-78.48 390.87,-74.41\"/>\n</g>\n<!-- 9 -->\n<g id=\"node10\" class=\"node\">\n<title>9</title>\n<path fill=\"#a2d1f3\" stroke=\"black\" d=\"M560,-68C560,-68 459,-68 459,-68 453,-68 447,-62 447,-56 447,-56 447,-12 447,-12 447,-6 453,0 459,0 459,0 560,0 560,0 566,0 572,-6 572,-12 572,-12 572,-56 572,-56 572,-62 566,-68 560,-68\"/>\n<text text-anchor=\"middle\" x=\"509.5\" y=\"-52.8\" font-family=\"Helvetica,sans-Serif\" font-size=\"14.00\">gini = 0.453</text>\n<text text-anchor=\"middle\" x=\"509.5\" y=\"-37.8\" font-family=\"Helvetica,sans-Serif\" font-size=\"14.00\">samples = 569</text>\n<text text-anchor=\"middle\" x=\"509.5\" y=\"-22.8\" font-family=\"Helvetica,sans-Serif\" font-size=\"14.00\">value = [197, 372]</text>\n<text text-anchor=\"middle\" x=\"509.5\" y=\"-7.8\" font-family=\"Helvetica,sans-Serif\" font-size=\"14.00\">class = Sim</text>\n</g>\n<!-- 7&#45;&gt;9 -->\n<g id=\"edge9\" class=\"edge\">\n<title>7&#45;&gt;9</title>\n<path fill=\"none\" stroke=\"black\" d=\"M463.68,-103.73C469.58,-94.88 475.83,-85.51 481.75,-76.63\"/>\n<polygon fill=\"black\" stroke=\"black\" points=\"484.67,-78.56 487.3,-68.3 478.84,-74.68 484.67,-78.56\"/>\n</g>\n<!-- 11 -->\n<g id=\"node12\" class=\"node\">\n<title>11</title>\n<path fill=\"#e68742\" stroke=\"black\" d=\"M703,-68C703,-68 602,-68 602,-68 596,-68 590,-62 590,-56 590,-56 590,-12 590,-12 590,-6 596,0 602,0 602,0 703,0 703,0 709,0 715,-6 715,-12 715,-12 715,-56 715,-56 715,-62 709,-68 703,-68\"/>\n<text text-anchor=\"middle\" x=\"652.5\" y=\"-52.8\" font-family=\"Helvetica,sans-Serif\" font-size=\"14.00\">gini = 0.082</text>\n<text text-anchor=\"middle\" x=\"652.5\" y=\"-37.8\" font-family=\"Helvetica,sans-Serif\" font-size=\"14.00\">samples = 1809</text>\n<text text-anchor=\"middle\" x=\"652.5\" y=\"-22.8\" font-family=\"Helvetica,sans-Serif\" font-size=\"14.00\">value = [1732, 77]</text>\n<text text-anchor=\"middle\" x=\"652.5\" y=\"-7.8\" font-family=\"Helvetica,sans-Serif\" font-size=\"14.00\">class = Não</text>\n</g>\n<!-- 10&#45;&gt;11 -->\n<g id=\"edge11\" class=\"edge\">\n<title>10&#45;&gt;11</title>\n<path fill=\"none\" stroke=\"black\" d=\"M652.5,-103.73C652.5,-95.52 652.5,-86.86 652.5,-78.56\"/>\n<polygon fill=\"black\" stroke=\"black\" points=\"656,-78.3 652.5,-68.3 649,-78.3 656,-78.3\"/>\n</g>\n<!-- 12 -->\n<g id=\"node13\" class=\"node\">\n<title>12</title>\n<path fill=\"#95cbf1\" stroke=\"black\" d=\"M846,-68C846,-68 745,-68 745,-68 739,-68 733,-62 733,-56 733,-56 733,-12 733,-12 733,-6 739,0 745,0 745,0 846,0 846,0 852,0 858,-6 858,-12 858,-12 858,-56 858,-56 858,-62 852,-68 846,-68\"/>\n<text text-anchor=\"middle\" x=\"795.5\" y=\"-52.8\" font-family=\"Helvetica,sans-Serif\" font-size=\"14.00\">gini = 0.433</text>\n<text text-anchor=\"middle\" x=\"795.5\" y=\"-37.8\" font-family=\"Helvetica,sans-Serif\" font-size=\"14.00\">samples = 331</text>\n<text text-anchor=\"middle\" x=\"795.5\" y=\"-22.8\" font-family=\"Helvetica,sans-Serif\" font-size=\"14.00\">value = [105, 226]</text>\n<text text-anchor=\"middle\" x=\"795.5\" y=\"-7.8\" font-family=\"Helvetica,sans-Serif\" font-size=\"14.00\">class = Sim</text>\n</g>\n<!-- 10&#45;&gt;12 -->\n<g id=\"edge12\" class=\"edge\">\n<title>10&#45;&gt;12</title>\n<path fill=\"none\" stroke=\"black\" d=\"M705.75,-103.73C718.25,-94.15 731.56,-83.96 743.99,-74.44\"/>\n<polygon fill=\"black\" stroke=\"black\" points=\"746.2,-77.16 752.01,-68.3 741.95,-71.6 746.2,-77.16\"/>\n</g>\n</g>\n</svg>\n",
      "text/plain": [
       "<graphviz.sources.Source at 0x7f5c6741afb0>"
      ]
     },
     "execution_count": 65,
     "metadata": {},
     "output_type": "execute_result"
    }
   ],
   "source": [
    "features = x_azar.columns\n",
    "\n",
    "dot_data = export_graphviz(\n",
    "  melhor_modelo,\n",
    "  out_file=None,\n",
    "  filled=True,\n",
    "  rounded=True,\n",
    "  class_names=['Não', 'Sim'],\n",
    "  feature_names=features\n",
    ")\n",
    "\n",
    "graph = graphviz.Source(dot_data)\n",
    "\n",
    "graph"
   ]
  },
  {
   "cell_type": "markdown",
   "metadata": {},
   "source": [
    "# Busca Aleatória"
   ]
  },
  {
   "cell_type": "code",
   "execution_count": 66,
   "metadata": {},
   "outputs": [],
   "source": [
    "from sklearn.model_selection import RandomizedSearchCV\n",
    "\n",
    "SEED = 301\n",
    "np.random.seed(SEED)"
   ]
  },
  {
   "cell_type": "code",
   "execution_count": 67,
   "metadata": {},
   "outputs": [],
   "source": [
    "espaco_parametros = {\n",
    "  'max_depth'        : [3, 4],\n",
    "  'min_samples_leaf' : [32, 64, 128],\n",
    "  'min_samples_split': [32, 64, 128],\n",
    "  'criterion'        : ['gini', 'entropy']\n",
    "}"
   ]
  },
  {
   "cell_type": "code",
   "execution_count": 68,
   "metadata": {},
   "outputs": [
    {
     "data": {
      "text/html": [
       "<style>#sk-container-id-7 {color: black;background-color: white;}#sk-container-id-7 pre{padding: 0;}#sk-container-id-7 div.sk-toggleable {background-color: white;}#sk-container-id-7 label.sk-toggleable__label {cursor: pointer;display: block;width: 100%;margin-bottom: 0;padding: 0.3em;box-sizing: border-box;text-align: center;}#sk-container-id-7 label.sk-toggleable__label-arrow:before {content: \"▸\";float: left;margin-right: 0.25em;color: #696969;}#sk-container-id-7 label.sk-toggleable__label-arrow:hover:before {color: black;}#sk-container-id-7 div.sk-estimator:hover label.sk-toggleable__label-arrow:before {color: black;}#sk-container-id-7 div.sk-toggleable__content {max-height: 0;max-width: 0;overflow: hidden;text-align: left;background-color: #f0f8ff;}#sk-container-id-7 div.sk-toggleable__content pre {margin: 0.2em;color: black;border-radius: 0.25em;background-color: #f0f8ff;}#sk-container-id-7 input.sk-toggleable__control:checked~div.sk-toggleable__content {max-height: 200px;max-width: 100%;overflow: auto;}#sk-container-id-7 input.sk-toggleable__control:checked~label.sk-toggleable__label-arrow:before {content: \"▾\";}#sk-container-id-7 div.sk-estimator input.sk-toggleable__control:checked~label.sk-toggleable__label {background-color: #d4ebff;}#sk-container-id-7 div.sk-label input.sk-toggleable__control:checked~label.sk-toggleable__label {background-color: #d4ebff;}#sk-container-id-7 input.sk-hidden--visually {border: 0;clip: rect(1px 1px 1px 1px);clip: rect(1px, 1px, 1px, 1px);height: 1px;margin: -1px;overflow: hidden;padding: 0;position: absolute;width: 1px;}#sk-container-id-7 div.sk-estimator {font-family: monospace;background-color: #f0f8ff;border: 1px dotted black;border-radius: 0.25em;box-sizing: border-box;margin-bottom: 0.5em;}#sk-container-id-7 div.sk-estimator:hover {background-color: #d4ebff;}#sk-container-id-7 div.sk-parallel-item::after {content: \"\";width: 100%;border-bottom: 1px solid gray;flex-grow: 1;}#sk-container-id-7 div.sk-label:hover label.sk-toggleable__label {background-color: #d4ebff;}#sk-container-id-7 div.sk-serial::before {content: \"\";position: absolute;border-left: 1px solid gray;box-sizing: border-box;top: 0;bottom: 0;left: 50%;z-index: 0;}#sk-container-id-7 div.sk-serial {display: flex;flex-direction: column;align-items: center;background-color: white;padding-right: 0.2em;padding-left: 0.2em;position: relative;}#sk-container-id-7 div.sk-item {position: relative;z-index: 1;}#sk-container-id-7 div.sk-parallel {display: flex;align-items: stretch;justify-content: center;background-color: white;position: relative;}#sk-container-id-7 div.sk-item::before, #sk-container-id-7 div.sk-parallel-item::before {content: \"\";position: absolute;border-left: 1px solid gray;box-sizing: border-box;top: 0;bottom: 0;left: 50%;z-index: -1;}#sk-container-id-7 div.sk-parallel-item {display: flex;flex-direction: column;z-index: 1;position: relative;background-color: white;}#sk-container-id-7 div.sk-parallel-item:first-child::after {align-self: flex-end;width: 50%;}#sk-container-id-7 div.sk-parallel-item:last-child::after {align-self: flex-start;width: 50%;}#sk-container-id-7 div.sk-parallel-item:only-child::after {width: 0;}#sk-container-id-7 div.sk-dashed-wrapped {border: 1px dashed gray;margin: 0 0.4em 0.5em 0.4em;box-sizing: border-box;padding-bottom: 0.4em;background-color: white;}#sk-container-id-7 div.sk-label label {font-family: monospace;font-weight: bold;display: inline-block;line-height: 1.2em;}#sk-container-id-7 div.sk-label-container {text-align: center;}#sk-container-id-7 div.sk-container {/* jupyter's `normalize.less` sets `[hidden] { display: none; }` but bootstrap.min.css set `[hidden] { display: none !important; }` so we also need the `!important` here to be able to override the default hidden behavior on the sphinx rendered scikit-learn.org. See: https://github.com/scikit-learn/scikit-learn/issues/21755 */display: inline-block !important;position: relative;}#sk-container-id-7 div.sk-text-repr-fallback {display: none;}</style><div id=\"sk-container-id-7\" class=\"sk-top-container\"><div class=\"sk-text-repr-fallback\"><pre>RandomizedSearchCV(cv=KFold(n_splits=10, random_state=None, shuffle=True),\n",
       "                   estimator=DecisionTreeClassifier(), n_iter=16,\n",
       "                   param_distributions={&#x27;criterion&#x27;: [&#x27;gini&#x27;, &#x27;entropy&#x27;],\n",
       "                                        &#x27;max_depth&#x27;: [3, 4],\n",
       "                                        &#x27;min_samples_leaf&#x27;: [32, 64, 128],\n",
       "                                        &#x27;min_samples_split&#x27;: [32, 64, 128]},\n",
       "                   random_state=301)</pre><b>In a Jupyter environment, please rerun this cell to show the HTML representation or trust the notebook. <br />On GitHub, the HTML representation is unable to render, please try loading this page with nbviewer.org.</b></div><div class=\"sk-container\" hidden><div class=\"sk-item sk-dashed-wrapped\"><div class=\"sk-label-container\"><div class=\"sk-label sk-toggleable\"><input class=\"sk-toggleable__control sk-hidden--visually\" id=\"sk-estimator-id-15\" type=\"checkbox\" ><label for=\"sk-estimator-id-15\" class=\"sk-toggleable__label sk-toggleable__label-arrow\">RandomizedSearchCV</label><div class=\"sk-toggleable__content\"><pre>RandomizedSearchCV(cv=KFold(n_splits=10, random_state=None, shuffle=True),\n",
       "                   estimator=DecisionTreeClassifier(), n_iter=16,\n",
       "                   param_distributions={&#x27;criterion&#x27;: [&#x27;gini&#x27;, &#x27;entropy&#x27;],\n",
       "                                        &#x27;max_depth&#x27;: [3, 4],\n",
       "                                        &#x27;min_samples_leaf&#x27;: [32, 64, 128],\n",
       "                                        &#x27;min_samples_split&#x27;: [32, 64, 128]},\n",
       "                   random_state=301)</pre></div></div></div><div class=\"sk-parallel\"><div class=\"sk-parallel-item\"><div class=\"sk-item\"><div class=\"sk-label-container\"><div class=\"sk-label sk-toggleable\"><input class=\"sk-toggleable__control sk-hidden--visually\" id=\"sk-estimator-id-16\" type=\"checkbox\" ><label for=\"sk-estimator-id-16\" class=\"sk-toggleable__label sk-toggleable__label-arrow\">estimator: DecisionTreeClassifier</label><div class=\"sk-toggleable__content\"><pre>DecisionTreeClassifier()</pre></div></div></div><div class=\"sk-serial\"><div class=\"sk-item\"><div class=\"sk-estimator sk-toggleable\"><input class=\"sk-toggleable__control sk-hidden--visually\" id=\"sk-estimator-id-17\" type=\"checkbox\" ><label for=\"sk-estimator-id-17\" class=\"sk-toggleable__label sk-toggleable__label-arrow\">DecisionTreeClassifier</label><div class=\"sk-toggleable__content\"><pre>DecisionTreeClassifier()</pre></div></div></div></div></div></div></div></div></div></div>"
      ],
      "text/plain": [
       "RandomizedSearchCV(cv=KFold(n_splits=10, random_state=None, shuffle=True),\n",
       "                   estimator=DecisionTreeClassifier(), n_iter=16,\n",
       "                   param_distributions={'criterion': ['gini', 'entropy'],\n",
       "                                        'max_depth': [3, 4],\n",
       "                                        'min_samples_leaf': [32, 64, 128],\n",
       "                                        'min_samples_split': [32, 64, 128]},\n",
       "                   random_state=301)"
      ]
     },
     "execution_count": 68,
     "metadata": {},
     "output_type": "execute_result"
    }
   ],
   "source": [
    "busca = RandomizedSearchCV(\n",
    "  estimator=DecisionTreeClassifier(),\n",
    "  param_distributions=espaco_parametros,\n",
    "  cv=KFold(n_splits=10, shuffle=True),\n",
    "  n_iter=16,\n",
    "  random_state=SEED\n",
    ")\n",
    "\n",
    "busca.fit(x_azar, y_azar)"
   ]
  },
  {
   "cell_type": "code",
   "execution_count": 69,
   "metadata": {},
   "outputs": [
    {
     "data": {
      "text/html": [
       "<div>\n",
       "<style scoped>\n",
       "    .dataframe tbody tr th:only-of-type {\n",
       "        vertical-align: middle;\n",
       "    }\n",
       "\n",
       "    .dataframe tbody tr th {\n",
       "        vertical-align: top;\n",
       "    }\n",
       "\n",
       "    .dataframe thead th {\n",
       "        text-align: right;\n",
       "    }\n",
       "</style>\n",
       "<table border=\"1\" class=\"dataframe\">\n",
       "  <thead>\n",
       "    <tr style=\"text-align: right;\">\n",
       "      <th></th>\n",
       "      <th>mean_fit_time</th>\n",
       "      <th>std_fit_time</th>\n",
       "      <th>mean_score_time</th>\n",
       "      <th>std_score_time</th>\n",
       "      <th>param_min_samples_split</th>\n",
       "      <th>param_min_samples_leaf</th>\n",
       "      <th>param_max_depth</th>\n",
       "      <th>param_criterion</th>\n",
       "      <th>params</th>\n",
       "      <th>split0_test_score</th>\n",
       "      <th>...</th>\n",
       "      <th>split3_test_score</th>\n",
       "      <th>split4_test_score</th>\n",
       "      <th>split5_test_score</th>\n",
       "      <th>split6_test_score</th>\n",
       "      <th>split7_test_score</th>\n",
       "      <th>split8_test_score</th>\n",
       "      <th>split9_test_score</th>\n",
       "      <th>mean_test_score</th>\n",
       "      <th>std_test_score</th>\n",
       "      <th>rank_test_score</th>\n",
       "    </tr>\n",
       "  </thead>\n",
       "  <tbody>\n",
       "    <tr>\n",
       "      <th>0</th>\n",
       "      <td>0.018769</td>\n",
       "      <td>0.002203</td>\n",
       "      <td>0.002599</td>\n",
       "      <td>0.000305</td>\n",
       "      <td>128</td>\n",
       "      <td>128</td>\n",
       "      <td>4</td>\n",
       "      <td>gini</td>\n",
       "      <td>{'min_samples_split': 128, 'min_samples_leaf':...</td>\n",
       "      <td>0.767</td>\n",
       "      <td>...</td>\n",
       "      <td>0.774</td>\n",
       "      <td>0.813</td>\n",
       "      <td>0.792</td>\n",
       "      <td>0.796</td>\n",
       "      <td>0.79</td>\n",
       "      <td>0.78</td>\n",
       "      <td>0.779</td>\n",
       "      <td>0.787</td>\n",
       "      <td>0.013229</td>\n",
       "      <td>1</td>\n",
       "    </tr>\n",
       "    <tr>\n",
       "      <th>1</th>\n",
       "      <td>0.015736</td>\n",
       "      <td>0.000645</td>\n",
       "      <td>0.002437</td>\n",
       "      <td>0.000475</td>\n",
       "      <td>64</td>\n",
       "      <td>32</td>\n",
       "      <td>3</td>\n",
       "      <td>gini</td>\n",
       "      <td>{'min_samples_split': 64, 'min_samples_leaf': ...</td>\n",
       "      <td>0.767</td>\n",
       "      <td>...</td>\n",
       "      <td>0.774</td>\n",
       "      <td>0.813</td>\n",
       "      <td>0.792</td>\n",
       "      <td>0.796</td>\n",
       "      <td>0.79</td>\n",
       "      <td>0.78</td>\n",
       "      <td>0.779</td>\n",
       "      <td>0.787</td>\n",
       "      <td>0.013229</td>\n",
       "      <td>1</td>\n",
       "    </tr>\n",
       "    <tr>\n",
       "      <th>2</th>\n",
       "      <td>0.015665</td>\n",
       "      <td>0.000316</td>\n",
       "      <td>0.002547</td>\n",
       "      <td>0.000670</td>\n",
       "      <td>64</td>\n",
       "      <td>128</td>\n",
       "      <td>3</td>\n",
       "      <td>gini</td>\n",
       "      <td>{'min_samples_split': 64, 'min_samples_leaf': ...</td>\n",
       "      <td>0.767</td>\n",
       "      <td>...</td>\n",
       "      <td>0.774</td>\n",
       "      <td>0.813</td>\n",
       "      <td>0.792</td>\n",
       "      <td>0.796</td>\n",
       "      <td>0.79</td>\n",
       "      <td>0.78</td>\n",
       "      <td>0.779</td>\n",
       "      <td>0.787</td>\n",
       "      <td>0.013229</td>\n",
       "      <td>1</td>\n",
       "    </tr>\n",
       "    <tr>\n",
       "      <th>3</th>\n",
       "      <td>0.023368</td>\n",
       "      <td>0.000931</td>\n",
       "      <td>0.002465</td>\n",
       "      <td>0.000494</td>\n",
       "      <td>32</td>\n",
       "      <td>64</td>\n",
       "      <td>4</td>\n",
       "      <td>entropy</td>\n",
       "      <td>{'min_samples_split': 32, 'min_samples_leaf': ...</td>\n",
       "      <td>0.767</td>\n",
       "      <td>...</td>\n",
       "      <td>0.774</td>\n",
       "      <td>0.813</td>\n",
       "      <td>0.792</td>\n",
       "      <td>0.796</td>\n",
       "      <td>0.79</td>\n",
       "      <td>0.78</td>\n",
       "      <td>0.779</td>\n",
       "      <td>0.787</td>\n",
       "      <td>0.013229</td>\n",
       "      <td>1</td>\n",
       "    </tr>\n",
       "    <tr>\n",
       "      <th>4</th>\n",
       "      <td>0.022607</td>\n",
       "      <td>0.001047</td>\n",
       "      <td>0.002488</td>\n",
       "      <td>0.000494</td>\n",
       "      <td>64</td>\n",
       "      <td>64</td>\n",
       "      <td>4</td>\n",
       "      <td>entropy</td>\n",
       "      <td>{'min_samples_split': 64, 'min_samples_leaf': ...</td>\n",
       "      <td>0.767</td>\n",
       "      <td>...</td>\n",
       "      <td>0.774</td>\n",
       "      <td>0.813</td>\n",
       "      <td>0.792</td>\n",
       "      <td>0.796</td>\n",
       "      <td>0.79</td>\n",
       "      <td>0.78</td>\n",
       "      <td>0.779</td>\n",
       "      <td>0.787</td>\n",
       "      <td>0.013229</td>\n",
       "      <td>1</td>\n",
       "    </tr>\n",
       "  </tbody>\n",
       "</table>\n",
       "<p>5 rows × 22 columns</p>\n",
       "</div>"
      ],
      "text/plain": [
       "   mean_fit_time  std_fit_time  mean_score_time  std_score_time  \\\n",
       "0       0.018769      0.002203         0.002599        0.000305   \n",
       "1       0.015736      0.000645         0.002437        0.000475   \n",
       "2       0.015665      0.000316         0.002547        0.000670   \n",
       "3       0.023368      0.000931         0.002465        0.000494   \n",
       "4       0.022607      0.001047         0.002488        0.000494   \n",
       "\n",
       "  param_min_samples_split param_min_samples_leaf param_max_depth  \\\n",
       "0                     128                    128               4   \n",
       "1                      64                     32               3   \n",
       "2                      64                    128               3   \n",
       "3                      32                     64               4   \n",
       "4                      64                     64               4   \n",
       "\n",
       "  param_criterion                                             params  \\\n",
       "0            gini  {'min_samples_split': 128, 'min_samples_leaf':...   \n",
       "1            gini  {'min_samples_split': 64, 'min_samples_leaf': ...   \n",
       "2            gini  {'min_samples_split': 64, 'min_samples_leaf': ...   \n",
       "3         entropy  {'min_samples_split': 32, 'min_samples_leaf': ...   \n",
       "4         entropy  {'min_samples_split': 64, 'min_samples_leaf': ...   \n",
       "\n",
       "   split0_test_score  ...  split3_test_score  split4_test_score  \\\n",
       "0              0.767  ...              0.774              0.813   \n",
       "1              0.767  ...              0.774              0.813   \n",
       "2              0.767  ...              0.774              0.813   \n",
       "3              0.767  ...              0.774              0.813   \n",
       "4              0.767  ...              0.774              0.813   \n",
       "\n",
       "   split5_test_score  split6_test_score  split7_test_score  split8_test_score  \\\n",
       "0              0.792              0.796               0.79               0.78   \n",
       "1              0.792              0.796               0.79               0.78   \n",
       "2              0.792              0.796               0.79               0.78   \n",
       "3              0.792              0.796               0.79               0.78   \n",
       "4              0.792              0.796               0.79               0.78   \n",
       "\n",
       "   split9_test_score  mean_test_score  std_test_score  rank_test_score  \n",
       "0              0.779            0.787        0.013229                1  \n",
       "1              0.779            0.787        0.013229                1  \n",
       "2              0.779            0.787        0.013229                1  \n",
       "3              0.779            0.787        0.013229                1  \n",
       "4              0.779            0.787        0.013229                1  \n",
       "\n",
       "[5 rows x 22 columns]"
      ]
     },
     "execution_count": 69,
     "metadata": {},
     "output_type": "execute_result"
    }
   ],
   "source": [
    "resultados = pd.DataFrame(busca.cv_results_)\n",
    "\n",
    "resultados.head()"
   ]
  },
  {
   "cell_type": "code",
   "execution_count": 70,
   "metadata": {},
   "outputs": [
    {
     "data": {
      "text/plain": [
       "array([0.775, 0.798, 0.79 , 0.785, 0.785, 0.783, 0.772, 0.778, 0.818,\n",
       "       0.785])"
      ]
     },
     "execution_count": 70,
     "metadata": {},
     "output_type": "execute_result"
    }
   ],
   "source": [
    "scores = cross_val_score(busca, x_azar, y_azar, cv=KFold(n_splits=10, shuffle=True))\n",
    "\n",
    "scores"
   ]
  },
  {
   "cell_type": "code",
   "execution_count": 71,
   "metadata": {},
   "outputs": [
    {
     "name": "stdout",
     "output_type": "stream",
     "text": [
      "Acc média 78.69, Intervalo [76.18, 81.20], "
     ]
    }
   ],
   "source": [
    "imprime_scores(scores)"
   ]
  },
  {
   "cell_type": "code",
   "execution_count": 72,
   "metadata": {},
   "outputs": [
    {
     "name": "stdout",
     "output_type": "stream",
     "text": [
      "DecisionTreeClassifier(max_depth=4, min_samples_leaf=128, min_samples_split=128)\n"
     ]
    }
   ],
   "source": [
    "melhor_modelo = busca.best_estimator_\n",
    "\n",
    "print(melhor_modelo)"
   ]
  },
  {
   "cell_type": "code",
   "execution_count": 73,
   "metadata": {},
   "outputs": [
    {
     "data": {
      "image/svg+xml": "<?xml version=\"1.0\" encoding=\"UTF-8\" standalone=\"no\"?>\n<!DOCTYPE svg PUBLIC \"-//W3C//DTD SVG 1.1//EN\"\n \"http://www.w3.org/Graphics/SVG/1.1/DTD/svg11.dtd\">\n<!-- Generated by graphviz version 2.43.0 (0)\n -->\n<!-- Title: Tree Pages: 1 -->\n<svg width=\"1408pt\" height=\"552pt\"\n viewBox=\"0.00 0.00 1407.50 552.00\" xmlns=\"http://www.w3.org/2000/svg\" xmlns:xlink=\"http://www.w3.org/1999/xlink\">\n<g id=\"graph0\" class=\"graph\" transform=\"scale(1 1) rotate(0) translate(4 548)\">\n<title>Tree</title>\n<polygon fill=\"white\" stroke=\"transparent\" points=\"-4,4 -4,-548 1403.5,-548 1403.5,4 -4,4\"/>\n<!-- 0 -->\n<g id=\"node1\" class=\"node\">\n<title>0</title>\n<path fill=\"#c8e4f8\" stroke=\"black\" d=\"M415.5,-544C415.5,-544 299.5,-544 299.5,-544 293.5,-544 287.5,-538 287.5,-532 287.5,-532 287.5,-473 287.5,-473 287.5,-467 293.5,-461 299.5,-461 299.5,-461 415.5,-461 415.5,-461 421.5,-461 427.5,-467 427.5,-473 427.5,-473 427.5,-532 427.5,-532 427.5,-538 421.5,-544 415.5,-544\"/>\n<text text-anchor=\"middle\" x=\"357.5\" y=\"-528.8\" font-family=\"Helvetica,sans-Serif\" font-size=\"14.00\">preco &lt;= 59982.246</text>\n<text text-anchor=\"middle\" x=\"357.5\" y=\"-513.8\" font-family=\"Helvetica,sans-Serif\" font-size=\"14.00\">gini = 0.487</text>\n<text text-anchor=\"middle\" x=\"357.5\" y=\"-498.8\" font-family=\"Helvetica,sans-Serif\" font-size=\"14.00\">samples = 10000</text>\n<text text-anchor=\"middle\" x=\"357.5\" y=\"-483.8\" font-family=\"Helvetica,sans-Serif\" font-size=\"14.00\">value = [4200, 5800]</text>\n<text text-anchor=\"middle\" x=\"357.5\" y=\"-468.8\" font-family=\"Helvetica,sans-Serif\" font-size=\"14.00\">class = Sim</text>\n</g>\n<!-- 1 -->\n<g id=\"node2\" class=\"node\">\n<title>1</title>\n<path fill=\"#52a9e8\" stroke=\"black\" d=\"M282.5,-425C282.5,-425 168.5,-425 168.5,-425 162.5,-425 156.5,-419 156.5,-413 156.5,-413 156.5,-354 156.5,-354 156.5,-348 162.5,-342 168.5,-342 168.5,-342 282.5,-342 282.5,-342 288.5,-342 294.5,-348 294.5,-354 294.5,-354 294.5,-413 294.5,-413 294.5,-419 288.5,-425 282.5,-425\"/>\n<text text-anchor=\"middle\" x=\"225.5\" y=\"-409.8\" font-family=\"Helvetica,sans-Serif\" font-size=\"14.00\">preco &lt;= 40083.385</text>\n<text text-anchor=\"middle\" x=\"225.5\" y=\"-394.8\" font-family=\"Helvetica,sans-Serif\" font-size=\"14.00\">gini = 0.198</text>\n<text text-anchor=\"middle\" x=\"225.5\" y=\"-379.8\" font-family=\"Helvetica,sans-Serif\" font-size=\"14.00\">samples = 4347</text>\n<text text-anchor=\"middle\" x=\"225.5\" y=\"-364.8\" font-family=\"Helvetica,sans-Serif\" font-size=\"14.00\">value = [484, 3863]</text>\n<text text-anchor=\"middle\" x=\"225.5\" y=\"-349.8\" font-family=\"Helvetica,sans-Serif\" font-size=\"14.00\">class = Sim</text>\n</g>\n<!-- 0&#45;&gt;1 -->\n<g id=\"edge1\" class=\"edge\">\n<title>0&#45;&gt;1</title>\n<path fill=\"none\" stroke=\"black\" d=\"M311.7,-460.91C301.16,-451.56 289.85,-441.54 279.01,-431.93\"/>\n<polygon fill=\"black\" stroke=\"black\" points=\"281.02,-429.03 271.22,-425.02 276.38,-434.27 281.02,-429.03\"/>\n<text text-anchor=\"middle\" x=\"272.72\" y=\"-446.28\" font-family=\"Helvetica,sans-Serif\" font-size=\"14.00\">True</text>\n</g>\n<!-- 8 -->\n<g id=\"node9\" class=\"node\">\n<title>8</title>\n<path fill=\"#f3c3a0\" stroke=\"black\" d=\"M672.5,-425C672.5,-425 516.5,-425 516.5,-425 510.5,-425 504.5,-419 504.5,-413 504.5,-413 504.5,-354 504.5,-354 504.5,-348 510.5,-342 516.5,-342 516.5,-342 672.5,-342 672.5,-342 678.5,-342 684.5,-348 684.5,-354 684.5,-354 684.5,-413 684.5,-413 684.5,-419 678.5,-425 672.5,-425\"/>\n<text text-anchor=\"middle\" x=\"594.5\" y=\"-409.8\" font-family=\"Helvetica,sans-Serif\" font-size=\"14.00\">km_por_ano &lt;= 24124.006</text>\n<text text-anchor=\"middle\" x=\"594.5\" y=\"-394.8\" font-family=\"Helvetica,sans-Serif\" font-size=\"14.00\">gini = 0.45</text>\n<text text-anchor=\"middle\" x=\"594.5\" y=\"-379.8\" font-family=\"Helvetica,sans-Serif\" font-size=\"14.00\">samples = 5653</text>\n<text text-anchor=\"middle\" x=\"594.5\" y=\"-364.8\" font-family=\"Helvetica,sans-Serif\" font-size=\"14.00\">value = [3716, 1937]</text>\n<text text-anchor=\"middle\" x=\"594.5\" y=\"-349.8\" font-family=\"Helvetica,sans-Serif\" font-size=\"14.00\">class = Não</text>\n</g>\n<!-- 0&#45;&gt;8 -->\n<g id=\"edge8\" class=\"edge\">\n<title>0&#45;&gt;8</title>\n<path fill=\"none\" stroke=\"black\" d=\"M427.65,-466.87C451.35,-455.17 478.17,-441.93 503.27,-429.54\"/>\n<polygon fill=\"black\" stroke=\"black\" points=\"505.01,-432.58 512.43,-425.02 501.91,-426.3 505.01,-432.58\"/>\n<text text-anchor=\"middle\" x=\"504.4\" y=\"-444.99\" font-family=\"Helvetica,sans-Serif\" font-size=\"14.00\">False</text>\n</g>\n<!-- 2 -->\n<g id=\"node3\" class=\"node\">\n<title>2</title>\n<path fill=\"#399de5\" stroke=\"black\" d=\"M129,-298.5C129,-298.5 36,-298.5 36,-298.5 30,-298.5 24,-292.5 24,-286.5 24,-286.5 24,-242.5 24,-242.5 24,-236.5 30,-230.5 36,-230.5 36,-230.5 129,-230.5 129,-230.5 135,-230.5 141,-236.5 141,-242.5 141,-242.5 141,-286.5 141,-286.5 141,-292.5 135,-298.5 129,-298.5\"/>\n<text text-anchor=\"middle\" x=\"82.5\" y=\"-283.3\" font-family=\"Helvetica,sans-Serif\" font-size=\"14.00\">gini = 0.0</text>\n<text text-anchor=\"middle\" x=\"82.5\" y=\"-268.3\" font-family=\"Helvetica,sans-Serif\" font-size=\"14.00\">samples = 1935</text>\n<text text-anchor=\"middle\" x=\"82.5\" y=\"-253.3\" font-family=\"Helvetica,sans-Serif\" font-size=\"14.00\">value = [0, 1935]</text>\n<text text-anchor=\"middle\" x=\"82.5\" y=\"-238.3\" font-family=\"Helvetica,sans-Serif\" font-size=\"14.00\">class = Sim</text>\n</g>\n<!-- 1&#45;&gt;2 -->\n<g id=\"edge2\" class=\"edge\">\n<title>1&#45;&gt;2</title>\n<path fill=\"none\" stroke=\"black\" d=\"M175.89,-341.91C161.32,-329.99 145.41,-316.98 130.92,-305.12\"/>\n<polygon fill=\"black\" stroke=\"black\" points=\"132.99,-302.29 123.04,-298.67 128.56,-307.71 132.99,-302.29\"/>\n</g>\n<!-- 3 -->\n<g id=\"node4\" class=\"node\">\n<title>3</title>\n<path fill=\"#6bb6ec\" stroke=\"black\" d=\"M279.5,-306C279.5,-306 171.5,-306 171.5,-306 165.5,-306 159.5,-300 159.5,-294 159.5,-294 159.5,-235 159.5,-235 159.5,-229 165.5,-223 171.5,-223 171.5,-223 279.5,-223 279.5,-223 285.5,-223 291.5,-229 291.5,-235 291.5,-235 291.5,-294 291.5,-294 291.5,-300 285.5,-306 279.5,-306\"/>\n<text text-anchor=\"middle\" x=\"225.5\" y=\"-290.8\" font-family=\"Helvetica,sans-Serif\" font-size=\"14.00\">preco &lt;= 41423.42</text>\n<text text-anchor=\"middle\" x=\"225.5\" y=\"-275.8\" font-family=\"Helvetica,sans-Serif\" font-size=\"14.00\">gini = 0.321</text>\n<text text-anchor=\"middle\" x=\"225.5\" y=\"-260.8\" font-family=\"Helvetica,sans-Serif\" font-size=\"14.00\">samples = 2412</text>\n<text text-anchor=\"middle\" x=\"225.5\" y=\"-245.8\" font-family=\"Helvetica,sans-Serif\" font-size=\"14.00\">value = [484, 1928]</text>\n<text text-anchor=\"middle\" x=\"225.5\" y=\"-230.8\" font-family=\"Helvetica,sans-Serif\" font-size=\"14.00\">class = Sim</text>\n</g>\n<!-- 1&#45;&gt;3 -->\n<g id=\"edge3\" class=\"edge\">\n<title>1&#45;&gt;3</title>\n<path fill=\"none\" stroke=\"black\" d=\"M225.5,-341.91C225.5,-333.65 225.5,-324.86 225.5,-316.3\"/>\n<polygon fill=\"black\" stroke=\"black\" points=\"229,-316.02 225.5,-306.02 222,-316.02 229,-316.02\"/>\n</g>\n<!-- 4 -->\n<g id=\"node5\" class=\"node\">\n<title>4</title>\n<path fill=\"#8dc7f0\" stroke=\"black\" d=\"M105,-179.5C105,-179.5 12,-179.5 12,-179.5 6,-179.5 0,-173.5 0,-167.5 0,-167.5 0,-123.5 0,-123.5 0,-117.5 6,-111.5 12,-111.5 12,-111.5 105,-111.5 105,-111.5 111,-111.5 117,-117.5 117,-123.5 117,-123.5 117,-167.5 117,-167.5 117,-173.5 111,-179.5 105,-179.5\"/>\n<text text-anchor=\"middle\" x=\"58.5\" y=\"-164.3\" font-family=\"Helvetica,sans-Serif\" font-size=\"14.00\">gini = 0.418</text>\n<text text-anchor=\"middle\" x=\"58.5\" y=\"-149.3\" font-family=\"Helvetica,sans-Serif\" font-size=\"14.00\">samples = 151</text>\n<text text-anchor=\"middle\" x=\"58.5\" y=\"-134.3\" font-family=\"Helvetica,sans-Serif\" font-size=\"14.00\">value = [45, 106]</text>\n<text text-anchor=\"middle\" x=\"58.5\" y=\"-119.3\" font-family=\"Helvetica,sans-Serif\" font-size=\"14.00\">class = Sim</text>\n</g>\n<!-- 3&#45;&gt;4 -->\n<g id=\"edge4\" class=\"edge\">\n<title>3&#45;&gt;4</title>\n<path fill=\"none\" stroke=\"black\" d=\"M167.56,-222.91C150.24,-210.77 131.29,-197.49 114.11,-185.46\"/>\n<polygon fill=\"black\" stroke=\"black\" points=\"116.04,-182.54 105.84,-179.67 112.02,-188.27 116.04,-182.54\"/>\n</g>\n<!-- 5 -->\n<g id=\"node6\" class=\"node\">\n<title>5</title>\n<path fill=\"#69b5eb\" stroke=\"black\" d=\"M303.5,-187C303.5,-187 147.5,-187 147.5,-187 141.5,-187 135.5,-181 135.5,-175 135.5,-175 135.5,-116 135.5,-116 135.5,-110 141.5,-104 147.5,-104 147.5,-104 303.5,-104 303.5,-104 309.5,-104 315.5,-110 315.5,-116 315.5,-116 315.5,-175 315.5,-175 315.5,-181 309.5,-187 303.5,-187\"/>\n<text text-anchor=\"middle\" x=\"225.5\" y=\"-171.8\" font-family=\"Helvetica,sans-Serif\" font-size=\"14.00\">km_por_ano &lt;= 35765.973</text>\n<text text-anchor=\"middle\" x=\"225.5\" y=\"-156.8\" font-family=\"Helvetica,sans-Serif\" font-size=\"14.00\">gini = 0.313</text>\n<text text-anchor=\"middle\" x=\"225.5\" y=\"-141.8\" font-family=\"Helvetica,sans-Serif\" font-size=\"14.00\">samples = 2261</text>\n<text text-anchor=\"middle\" x=\"225.5\" y=\"-126.8\" font-family=\"Helvetica,sans-Serif\" font-size=\"14.00\">value = [439, 1822]</text>\n<text text-anchor=\"middle\" x=\"225.5\" y=\"-111.8\" font-family=\"Helvetica,sans-Serif\" font-size=\"14.00\">class = Sim</text>\n</g>\n<!-- 3&#45;&gt;5 -->\n<g id=\"edge5\" class=\"edge\">\n<title>3&#45;&gt;5</title>\n<path fill=\"none\" stroke=\"black\" d=\"M225.5,-222.91C225.5,-214.65 225.5,-205.86 225.5,-197.3\"/>\n<polygon fill=\"black\" stroke=\"black\" points=\"229,-197.02 225.5,-187.02 222,-197.02 229,-197.02\"/>\n</g>\n<!-- 6 -->\n<g id=\"node7\" class=\"node\">\n<title>6</title>\n<path fill=\"#67b4eb\" stroke=\"black\" d=\"M136.5,-68C136.5,-68 28.5,-68 28.5,-68 22.5,-68 16.5,-62 16.5,-56 16.5,-56 16.5,-12 16.5,-12 16.5,-6 22.5,0 28.5,0 28.5,0 136.5,0 136.5,0 142.5,0 148.5,-6 148.5,-12 148.5,-12 148.5,-56 148.5,-56 148.5,-62 142.5,-68 136.5,-68\"/>\n<text text-anchor=\"middle\" x=\"82.5\" y=\"-52.8\" font-family=\"Helvetica,sans-Serif\" font-size=\"14.00\">gini = 0.305</text>\n<text text-anchor=\"middle\" x=\"82.5\" y=\"-37.8\" font-family=\"Helvetica,sans-Serif\" font-size=\"14.00\">samples = 2093</text>\n<text text-anchor=\"middle\" x=\"82.5\" y=\"-22.8\" font-family=\"Helvetica,sans-Serif\" font-size=\"14.00\">value = [393, 1700]</text>\n<text text-anchor=\"middle\" x=\"82.5\" y=\"-7.8\" font-family=\"Helvetica,sans-Serif\" font-size=\"14.00\">class = Sim</text>\n</g>\n<!-- 5&#45;&gt;6 -->\n<g id=\"edge6\" class=\"edge\">\n<title>5&#45;&gt;6</title>\n<path fill=\"none\" stroke=\"black\" d=\"M172.25,-103.73C159.75,-94.15 146.44,-83.96 134.01,-74.44\"/>\n<polygon fill=\"black\" stroke=\"black\" points=\"136.05,-71.6 125.99,-68.3 131.8,-77.16 136.05,-71.6\"/>\n</g>\n<!-- 7 -->\n<g id=\"node8\" class=\"node\">\n<title>7</title>\n<path fill=\"#84c2ef\" stroke=\"black\" d=\"M272,-68C272,-68 179,-68 179,-68 173,-68 167,-62 167,-56 167,-56 167,-12 167,-12 167,-6 173,0 179,0 179,0 272,0 272,0 278,0 284,-6 284,-12 284,-12 284,-56 284,-56 284,-62 278,-68 272,-68\"/>\n<text text-anchor=\"middle\" x=\"225.5\" y=\"-52.8\" font-family=\"Helvetica,sans-Serif\" font-size=\"14.00\">gini = 0.398</text>\n<text text-anchor=\"middle\" x=\"225.5\" y=\"-37.8\" font-family=\"Helvetica,sans-Serif\" font-size=\"14.00\">samples = 168</text>\n<text text-anchor=\"middle\" x=\"225.5\" y=\"-22.8\" font-family=\"Helvetica,sans-Serif\" font-size=\"14.00\">value = [46, 122]</text>\n<text text-anchor=\"middle\" x=\"225.5\" y=\"-7.8\" font-family=\"Helvetica,sans-Serif\" font-size=\"14.00\">class = Sim</text>\n</g>\n<!-- 5&#45;&gt;7 -->\n<g id=\"edge7\" class=\"edge\">\n<title>5&#45;&gt;7</title>\n<path fill=\"none\" stroke=\"black\" d=\"M225.5,-103.73C225.5,-95.52 225.5,-86.86 225.5,-78.56\"/>\n<polygon fill=\"black\" stroke=\"black\" points=\"229,-78.3 225.5,-68.3 222,-78.3 229,-78.3\"/>\n</g>\n<!-- 9 -->\n<g id=\"node10\" class=\"node\">\n<title>9</title>\n<path fill=\"#fcefe5\" stroke=\"black\" d=\"M652.5,-306C652.5,-306 536.5,-306 536.5,-306 530.5,-306 524.5,-300 524.5,-294 524.5,-294 524.5,-235 524.5,-235 524.5,-229 530.5,-223 536.5,-223 536.5,-223 652.5,-223 652.5,-223 658.5,-223 664.5,-229 664.5,-235 664.5,-235 664.5,-294 664.5,-294 664.5,-300 658.5,-306 652.5,-306\"/>\n<text text-anchor=\"middle\" x=\"594.5\" y=\"-290.8\" font-family=\"Helvetica,sans-Serif\" font-size=\"14.00\">preco &lt;= 99974.41</text>\n<text text-anchor=\"middle\" x=\"594.5\" y=\"-275.8\" font-family=\"Helvetica,sans-Serif\" font-size=\"14.00\">gini = 0.498</text>\n<text text-anchor=\"middle\" x=\"594.5\" y=\"-260.8\" font-family=\"Helvetica,sans-Serif\" font-size=\"14.00\">samples = 3513</text>\n<text text-anchor=\"middle\" x=\"594.5\" y=\"-245.8\" font-family=\"Helvetica,sans-Serif\" font-size=\"14.00\">value = [1879, 1634]</text>\n<text text-anchor=\"middle\" x=\"594.5\" y=\"-230.8\" font-family=\"Helvetica,sans-Serif\" font-size=\"14.00\">class = Não</text>\n</g>\n<!-- 8&#45;&gt;9 -->\n<g id=\"edge9\" class=\"edge\">\n<title>8&#45;&gt;9</title>\n<path fill=\"none\" stroke=\"black\" d=\"M594.5,-341.91C594.5,-333.65 594.5,-324.86 594.5,-316.3\"/>\n<polygon fill=\"black\" stroke=\"black\" points=\"598,-316.02 594.5,-306.02 591,-316.02 598,-316.02\"/>\n</g>\n<!-- 16 -->\n<g id=\"node17\" class=\"node\">\n<title>16</title>\n<path fill=\"#e9965a\" stroke=\"black\" d=\"M1047.5,-306C1047.5,-306 925.5,-306 925.5,-306 919.5,-306 913.5,-300 913.5,-294 913.5,-294 913.5,-235 913.5,-235 913.5,-229 919.5,-223 925.5,-223 925.5,-223 1047.5,-223 1047.5,-223 1053.5,-223 1059.5,-229 1059.5,-235 1059.5,-235 1059.5,-294 1059.5,-294 1059.5,-300 1053.5,-306 1047.5,-306\"/>\n<text text-anchor=\"middle\" x=\"986.5\" y=\"-290.8\" font-family=\"Helvetica,sans-Serif\" font-size=\"14.00\">preco &lt;= 100076.957</text>\n<text text-anchor=\"middle\" x=\"986.5\" y=\"-275.8\" font-family=\"Helvetica,sans-Serif\" font-size=\"14.00\">gini = 0.243</text>\n<text text-anchor=\"middle\" x=\"986.5\" y=\"-260.8\" font-family=\"Helvetica,sans-Serif\" font-size=\"14.00\">samples = 2140</text>\n<text text-anchor=\"middle\" x=\"986.5\" y=\"-245.8\" font-family=\"Helvetica,sans-Serif\" font-size=\"14.00\">value = [1837, 303]</text>\n<text text-anchor=\"middle\" x=\"986.5\" y=\"-230.8\" font-family=\"Helvetica,sans-Serif\" font-size=\"14.00\">class = Não</text>\n</g>\n<!-- 8&#45;&gt;16 -->\n<g id=\"edge16\" class=\"edge\">\n<title>8&#45;&gt;16</title>\n<path fill=\"none\" stroke=\"black\" d=\"M684.92,-355.51C750.84,-335.84 839.47,-309.38 903.57,-290.25\"/>\n<polygon fill=\"black\" stroke=\"black\" points=\"904.66,-293.58 913.24,-287.36 902.66,-286.87 904.66,-293.58\"/>\n</g>\n<!-- 10 -->\n<g id=\"node11\" class=\"node\">\n<title>10</title>\n<path fill=\"#f9e0ce\" stroke=\"black\" d=\"M564.5,-187C564.5,-187 448.5,-187 448.5,-187 442.5,-187 436.5,-181 436.5,-175 436.5,-175 436.5,-116 436.5,-116 436.5,-110 442.5,-104 448.5,-104 448.5,-104 564.5,-104 564.5,-104 570.5,-104 576.5,-110 576.5,-116 576.5,-116 576.5,-175 576.5,-175 576.5,-181 570.5,-187 564.5,-187\"/>\n<text text-anchor=\"middle\" x=\"506.5\" y=\"-171.8\" font-family=\"Helvetica,sans-Serif\" font-size=\"14.00\">preco &lt;= 91665.414</text>\n<text text-anchor=\"middle\" x=\"506.5\" y=\"-156.8\" font-family=\"Helvetica,sans-Serif\" font-size=\"14.00\">gini = 0.49</text>\n<text text-anchor=\"middle\" x=\"506.5\" y=\"-141.8\" font-family=\"Helvetica,sans-Serif\" font-size=\"14.00\">samples = 2944</text>\n<text text-anchor=\"middle\" x=\"506.5\" y=\"-126.8\" font-family=\"Helvetica,sans-Serif\" font-size=\"14.00\">value = [1682, 1262]</text>\n<text text-anchor=\"middle\" x=\"506.5\" y=\"-111.8\" font-family=\"Helvetica,sans-Serif\" font-size=\"14.00\">class = Não</text>\n</g>\n<!-- 9&#45;&gt;10 -->\n<g id=\"edge10\" class=\"edge\">\n<title>9&#45;&gt;10</title>\n<path fill=\"none\" stroke=\"black\" d=\"M563.97,-222.91C557.21,-213.92 549.98,-204.32 543.02,-195.05\"/>\n<polygon fill=\"black\" stroke=\"black\" points=\"545.79,-192.91 536.98,-187.02 540.19,-197.12 545.79,-192.91\"/>\n</g>\n<!-- 13 -->\n<g id=\"node14\" class=\"node\">\n<title>13</title>\n<path fill=\"#a2d1f3\" stroke=\"black\" d=\"M758,-187C758,-187 607,-187 607,-187 601,-187 595,-181 595,-175 595,-175 595,-116 595,-116 595,-110 601,-104 607,-104 607,-104 758,-104 758,-104 764,-104 770,-110 770,-116 770,-116 770,-175 770,-175 770,-181 764,-187 758,-187\"/>\n<text text-anchor=\"middle\" x=\"682.5\" y=\"-171.8\" font-family=\"Helvetica,sans-Serif\" font-size=\"14.00\">idade_do_modelo &lt;= 11.5</text>\n<text text-anchor=\"middle\" x=\"682.5\" y=\"-156.8\" font-family=\"Helvetica,sans-Serif\" font-size=\"14.00\">gini = 0.453</text>\n<text text-anchor=\"middle\" x=\"682.5\" y=\"-141.8\" font-family=\"Helvetica,sans-Serif\" font-size=\"14.00\">samples = 569</text>\n<text text-anchor=\"middle\" x=\"682.5\" y=\"-126.8\" font-family=\"Helvetica,sans-Serif\" font-size=\"14.00\">value = [197, 372]</text>\n<text text-anchor=\"middle\" x=\"682.5\" y=\"-111.8\" font-family=\"Helvetica,sans-Serif\" font-size=\"14.00\">class = Sim</text>\n</g>\n<!-- 9&#45;&gt;13 -->\n<g id=\"edge13\" class=\"edge\">\n<title>9&#45;&gt;13</title>\n<path fill=\"none\" stroke=\"black\" d=\"M625.03,-222.91C631.79,-213.92 639.02,-204.32 645.98,-195.05\"/>\n<polygon fill=\"black\" stroke=\"black\" points=\"648.81,-197.12 652.02,-187.02 643.21,-192.91 648.81,-197.12\"/>\n</g>\n<!-- 11 -->\n<g id=\"node12\" class=\"node\">\n<title>11</title>\n<path fill=\"#f9e4d4\" stroke=\"black\" d=\"M430.5,-68C430.5,-68 314.5,-68 314.5,-68 308.5,-68 302.5,-62 302.5,-56 302.5,-56 302.5,-12 302.5,-12 302.5,-6 308.5,0 314.5,0 314.5,0 430.5,0 430.5,0 436.5,0 442.5,-6 442.5,-12 442.5,-12 442.5,-56 442.5,-56 442.5,-62 436.5,-68 430.5,-68\"/>\n<text text-anchor=\"middle\" x=\"372.5\" y=\"-52.8\" font-family=\"Helvetica,sans-Serif\" font-size=\"14.00\">gini = 0.493</text>\n<text text-anchor=\"middle\" x=\"372.5\" y=\"-37.8\" font-family=\"Helvetica,sans-Serif\" font-size=\"14.00\">samples = 2436</text>\n<text text-anchor=\"middle\" x=\"372.5\" y=\"-22.8\" font-family=\"Helvetica,sans-Serif\" font-size=\"14.00\">value = [1367, 1069]</text>\n<text text-anchor=\"middle\" x=\"372.5\" y=\"-7.8\" font-family=\"Helvetica,sans-Serif\" font-size=\"14.00\">class = Não</text>\n</g>\n<!-- 10&#45;&gt;11 -->\n<g id=\"edge11\" class=\"edge\">\n<title>10&#45;&gt;11</title>\n<path fill=\"none\" stroke=\"black\" d=\"M456.6,-103.73C445,-94.24 432.65,-84.16 421.1,-74.72\"/>\n<polygon fill=\"black\" stroke=\"black\" points=\"423.21,-71.92 413.25,-68.3 418.78,-77.34 423.21,-71.92\"/>\n</g>\n<!-- 12 -->\n<g id=\"node13\" class=\"node\">\n<title>12</title>\n<path fill=\"#f5ceb2\" stroke=\"black\" d=\"M574,-68C574,-68 473,-68 473,-68 467,-68 461,-62 461,-56 461,-56 461,-12 461,-12 461,-6 467,0 473,0 473,0 574,0 574,0 580,0 586,-6 586,-12 586,-12 586,-56 586,-56 586,-62 580,-68 574,-68\"/>\n<text text-anchor=\"middle\" x=\"523.5\" y=\"-52.8\" font-family=\"Helvetica,sans-Serif\" font-size=\"14.00\">gini = 0.471</text>\n<text text-anchor=\"middle\" x=\"523.5\" y=\"-37.8\" font-family=\"Helvetica,sans-Serif\" font-size=\"14.00\">samples = 508</text>\n<text text-anchor=\"middle\" x=\"523.5\" y=\"-22.8\" font-family=\"Helvetica,sans-Serif\" font-size=\"14.00\">value = [315, 193]</text>\n<text text-anchor=\"middle\" x=\"523.5\" y=\"-7.8\" font-family=\"Helvetica,sans-Serif\" font-size=\"14.00\">class = Não</text>\n</g>\n<!-- 10&#45;&gt;12 -->\n<g id=\"edge12\" class=\"edge\">\n<title>10&#45;&gt;12</title>\n<path fill=\"none\" stroke=\"black\" d=\"M512.83,-103.73C514.12,-95.43 515.48,-86.67 516.78,-78.28\"/>\n<polygon fill=\"black\" stroke=\"black\" points=\"520.25,-78.72 518.33,-68.3 513.34,-77.64 520.25,-78.72\"/>\n</g>\n<!-- 14 -->\n<g id=\"node15\" class=\"node\">\n<title>14</title>\n<path fill=\"#b4daf5\" stroke=\"black\" d=\"M717,-68C717,-68 616,-68 616,-68 610,-68 604,-62 604,-56 604,-56 604,-12 604,-12 604,-6 610,0 616,0 616,0 717,0 717,0 723,0 729,-6 729,-12 729,-12 729,-56 729,-56 729,-62 723,-68 717,-68\"/>\n<text text-anchor=\"middle\" x=\"666.5\" y=\"-52.8\" font-family=\"Helvetica,sans-Serif\" font-size=\"14.00\">gini = 0.473</text>\n<text text-anchor=\"middle\" x=\"666.5\" y=\"-37.8\" font-family=\"Helvetica,sans-Serif\" font-size=\"14.00\">samples = 276</text>\n<text text-anchor=\"middle\" x=\"666.5\" y=\"-22.8\" font-family=\"Helvetica,sans-Serif\" font-size=\"14.00\">value = [106, 170]</text>\n<text text-anchor=\"middle\" x=\"666.5\" y=\"-7.8\" font-family=\"Helvetica,sans-Serif\" font-size=\"14.00\">class = Sim</text>\n</g>\n<!-- 13&#45;&gt;14 -->\n<g id=\"edge14\" class=\"edge\">\n<title>13&#45;&gt;14</title>\n<path fill=\"none\" stroke=\"black\" d=\"M676.54,-103.73C675.33,-95.43 674.05,-86.67 672.82,-78.28\"/>\n<polygon fill=\"black\" stroke=\"black\" points=\"676.27,-77.69 671.37,-68.3 669.35,-78.7 676.27,-77.69\"/>\n</g>\n<!-- 15 -->\n<g id=\"node16\" class=\"node\">\n<title>15</title>\n<path fill=\"#92c9f1\" stroke=\"black\" d=\"M852,-68C852,-68 759,-68 759,-68 753,-68 747,-62 747,-56 747,-56 747,-12 747,-12 747,-6 753,0 759,0 759,0 852,0 852,0 858,0 864,-6 864,-12 864,-12 864,-56 864,-56 864,-62 858,-68 852,-68\"/>\n<text text-anchor=\"middle\" x=\"805.5\" y=\"-52.8\" font-family=\"Helvetica,sans-Serif\" font-size=\"14.00\">gini = 0.428</text>\n<text text-anchor=\"middle\" x=\"805.5\" y=\"-37.8\" font-family=\"Helvetica,sans-Serif\" font-size=\"14.00\">samples = 293</text>\n<text text-anchor=\"middle\" x=\"805.5\" y=\"-22.8\" font-family=\"Helvetica,sans-Serif\" font-size=\"14.00\">value = [91, 202]</text>\n<text text-anchor=\"middle\" x=\"805.5\" y=\"-7.8\" font-family=\"Helvetica,sans-Serif\" font-size=\"14.00\">class = Sim</text>\n</g>\n<!-- 13&#45;&gt;15 -->\n<g id=\"edge15\" class=\"edge\">\n<title>13&#45;&gt;15</title>\n<path fill=\"none\" stroke=\"black\" d=\"M728.3,-103.73C738.85,-94.33 750.07,-84.35 760.58,-74.99\"/>\n<polygon fill=\"black\" stroke=\"black\" points=\"762.95,-77.56 768.09,-68.3 758.3,-72.33 762.95,-77.56\"/>\n</g>\n<!-- 17 -->\n<g id=\"node18\" class=\"node\">\n<title>17</title>\n<path fill=\"#e68742\" stroke=\"black\" d=\"M1043.5,-187C1043.5,-187 929.5,-187 929.5,-187 923.5,-187 917.5,-181 917.5,-175 917.5,-175 917.5,-116 917.5,-116 917.5,-110 923.5,-104 929.5,-104 929.5,-104 1043.5,-104 1043.5,-104 1049.5,-104 1055.5,-110 1055.5,-116 1055.5,-116 1055.5,-175 1055.5,-175 1055.5,-181 1049.5,-187 1043.5,-187\"/>\n<text text-anchor=\"middle\" x=\"986.5\" y=\"-171.8\" font-family=\"Helvetica,sans-Serif\" font-size=\"14.00\">preco &lt;= 64403.439</text>\n<text text-anchor=\"middle\" x=\"986.5\" y=\"-156.8\" font-family=\"Helvetica,sans-Serif\" font-size=\"14.00\">gini = 0.082</text>\n<text text-anchor=\"middle\" x=\"986.5\" y=\"-141.8\" font-family=\"Helvetica,sans-Serif\" font-size=\"14.00\">samples = 1809</text>\n<text text-anchor=\"middle\" x=\"986.5\" y=\"-126.8\" font-family=\"Helvetica,sans-Serif\" font-size=\"14.00\">value = [1732, 77]</text>\n<text text-anchor=\"middle\" x=\"986.5\" y=\"-111.8\" font-family=\"Helvetica,sans-Serif\" font-size=\"14.00\">class = Não</text>\n</g>\n<!-- 16&#45;&gt;17 -->\n<g id=\"edge17\" class=\"edge\">\n<title>16&#45;&gt;17</title>\n<path fill=\"none\" stroke=\"black\" d=\"M986.5,-222.91C986.5,-214.65 986.5,-205.86 986.5,-197.3\"/>\n<polygon fill=\"black\" stroke=\"black\" points=\"990,-197.02 986.5,-187.02 983,-197.02 990,-197.02\"/>\n</g>\n<!-- 20 -->\n<g id=\"node21\" class=\"node\">\n<title>20</title>\n<path fill=\"#95cbf1\" stroke=\"black\" d=\"M1290.5,-187C1290.5,-187 1134.5,-187 1134.5,-187 1128.5,-187 1122.5,-181 1122.5,-175 1122.5,-175 1122.5,-116 1122.5,-116 1122.5,-110 1128.5,-104 1134.5,-104 1134.5,-104 1290.5,-104 1290.5,-104 1296.5,-104 1302.5,-110 1302.5,-116 1302.5,-116 1302.5,-175 1302.5,-175 1302.5,-181 1296.5,-187 1290.5,-187\"/>\n<text text-anchor=\"middle\" x=\"1212.5\" y=\"-171.8\" font-family=\"Helvetica,sans-Serif\" font-size=\"14.00\">km_por_ano &lt;= 31028.075</text>\n<text text-anchor=\"middle\" x=\"1212.5\" y=\"-156.8\" font-family=\"Helvetica,sans-Serif\" font-size=\"14.00\">gini = 0.433</text>\n<text text-anchor=\"middle\" x=\"1212.5\" y=\"-141.8\" font-family=\"Helvetica,sans-Serif\" font-size=\"14.00\">samples = 331</text>\n<text text-anchor=\"middle\" x=\"1212.5\" y=\"-126.8\" font-family=\"Helvetica,sans-Serif\" font-size=\"14.00\">value = [105, 226]</text>\n<text text-anchor=\"middle\" x=\"1212.5\" y=\"-111.8\" font-family=\"Helvetica,sans-Serif\" font-size=\"14.00\">class = Sim</text>\n</g>\n<!-- 16&#45;&gt;20 -->\n<g id=\"edge20\" class=\"edge\">\n<title>16&#45;&gt;20</title>\n<path fill=\"none\" stroke=\"black\" d=\"M1059.56,-225.68C1080.53,-214.82 1103.61,-202.87 1125.34,-191.62\"/>\n<polygon fill=\"black\" stroke=\"black\" points=\"1126.96,-194.73 1134.23,-187.02 1123.74,-188.51 1126.96,-194.73\"/>\n</g>\n<!-- 18 -->\n<g id=\"node19\" class=\"node\">\n<title>18</title>\n<path fill=\"#e5833d\" stroke=\"black\" d=\"M980.5,-68C980.5,-68 894.5,-68 894.5,-68 888.5,-68 882.5,-62 882.5,-56 882.5,-56 882.5,-12 882.5,-12 882.5,-6 888.5,0 894.5,0 894.5,0 980.5,0 980.5,0 986.5,0 992.5,-6 992.5,-12 992.5,-12 992.5,-56 992.5,-56 992.5,-62 986.5,-68 980.5,-68\"/>\n<text text-anchor=\"middle\" x=\"937.5\" y=\"-52.8\" font-family=\"Helvetica,sans-Serif\" font-size=\"14.00\">gini = 0.036</text>\n<text text-anchor=\"middle\" x=\"937.5\" y=\"-37.8\" font-family=\"Helvetica,sans-Serif\" font-size=\"14.00\">samples = 221</text>\n<text text-anchor=\"middle\" x=\"937.5\" y=\"-22.8\" font-family=\"Helvetica,sans-Serif\" font-size=\"14.00\">value = [217, 4]</text>\n<text text-anchor=\"middle\" x=\"937.5\" y=\"-7.8\" font-family=\"Helvetica,sans-Serif\" font-size=\"14.00\">class = Não</text>\n</g>\n<!-- 17&#45;&gt;18 -->\n<g id=\"edge18\" class=\"edge\">\n<title>17&#45;&gt;18</title>\n<path fill=\"none\" stroke=\"black\" d=\"M968.25,-103.73C964.42,-95.15 960.36,-86.09 956.5,-77.46\"/>\n<polygon fill=\"black\" stroke=\"black\" points=\"959.68,-76 952.4,-68.3 953.29,-78.86 959.68,-76\"/>\n</g>\n<!-- 19 -->\n<g id=\"node20\" class=\"node\">\n<title>19</title>\n<path fill=\"#e68743\" stroke=\"black\" d=\"M1124,-68C1124,-68 1023,-68 1023,-68 1017,-68 1011,-62 1011,-56 1011,-56 1011,-12 1011,-12 1011,-6 1017,0 1023,0 1023,0 1124,0 1124,0 1130,0 1136,-6 1136,-12 1136,-12 1136,-56 1136,-56 1136,-62 1130,-68 1124,-68\"/>\n<text text-anchor=\"middle\" x=\"1073.5\" y=\"-52.8\" font-family=\"Helvetica,sans-Serif\" font-size=\"14.00\">gini = 0.088</text>\n<text text-anchor=\"middle\" x=\"1073.5\" y=\"-37.8\" font-family=\"Helvetica,sans-Serif\" font-size=\"14.00\">samples = 1588</text>\n<text text-anchor=\"middle\" x=\"1073.5\" y=\"-22.8\" font-family=\"Helvetica,sans-Serif\" font-size=\"14.00\">value = [1515, 73]</text>\n<text text-anchor=\"middle\" x=\"1073.5\" y=\"-7.8\" font-family=\"Helvetica,sans-Serif\" font-size=\"14.00\">class = Não</text>\n</g>\n<!-- 17&#45;&gt;19 -->\n<g id=\"edge19\" class=\"edge\">\n<title>17&#45;&gt;19</title>\n<path fill=\"none\" stroke=\"black\" d=\"M1018.9,-103.73C1026,-94.79 1033.52,-85.32 1040.64,-76.36\"/>\n<polygon fill=\"black\" stroke=\"black\" points=\"1043.56,-78.31 1047.04,-68.3 1038.08,-73.95 1043.56,-78.31\"/>\n</g>\n<!-- 21 -->\n<g id=\"node22\" class=\"node\">\n<title>21</title>\n<path fill=\"#a0d0f2\" stroke=\"black\" d=\"M1259,-68C1259,-68 1166,-68 1166,-68 1160,-68 1154,-62 1154,-56 1154,-56 1154,-12 1154,-12 1154,-6 1160,0 1166,0 1166,0 1259,0 1259,0 1265,0 1271,-6 1271,-12 1271,-12 1271,-56 1271,-56 1271,-62 1265,-68 1259,-68\"/>\n<text text-anchor=\"middle\" x=\"1212.5\" y=\"-52.8\" font-family=\"Helvetica,sans-Serif\" font-size=\"14.00\">gini = 0.45</text>\n<text text-anchor=\"middle\" x=\"1212.5\" y=\"-37.8\" font-family=\"Helvetica,sans-Serif\" font-size=\"14.00\">samples = 202</text>\n<text text-anchor=\"middle\" x=\"1212.5\" y=\"-22.8\" font-family=\"Helvetica,sans-Serif\" font-size=\"14.00\">value = [69, 133]</text>\n<text text-anchor=\"middle\" x=\"1212.5\" y=\"-7.8\" font-family=\"Helvetica,sans-Serif\" font-size=\"14.00\">class = Sim</text>\n</g>\n<!-- 20&#45;&gt;21 -->\n<g id=\"edge21\" class=\"edge\">\n<title>20&#45;&gt;21</title>\n<path fill=\"none\" stroke=\"black\" d=\"M1212.5,-103.73C1212.5,-95.52 1212.5,-86.86 1212.5,-78.56\"/>\n<polygon fill=\"black\" stroke=\"black\" points=\"1216,-78.3 1212.5,-68.3 1209,-78.3 1216,-78.3\"/>\n</g>\n<!-- 22 -->\n<g id=\"node23\" class=\"node\">\n<title>22</title>\n<path fill=\"#86c3ef\" stroke=\"black\" d=\"M1387.5,-68C1387.5,-68 1301.5,-68 1301.5,-68 1295.5,-68 1289.5,-62 1289.5,-56 1289.5,-56 1289.5,-12 1289.5,-12 1289.5,-6 1295.5,0 1301.5,0 1301.5,0 1387.5,0 1387.5,0 1393.5,0 1399.5,-6 1399.5,-12 1399.5,-12 1399.5,-56 1399.5,-56 1399.5,-62 1393.5,-68 1387.5,-68\"/>\n<text text-anchor=\"middle\" x=\"1344.5\" y=\"-52.8\" font-family=\"Helvetica,sans-Serif\" font-size=\"14.00\">gini = 0.402</text>\n<text text-anchor=\"middle\" x=\"1344.5\" y=\"-37.8\" font-family=\"Helvetica,sans-Serif\" font-size=\"14.00\">samples = 129</text>\n<text text-anchor=\"middle\" x=\"1344.5\" y=\"-22.8\" font-family=\"Helvetica,sans-Serif\" font-size=\"14.00\">value = [36, 93]</text>\n<text text-anchor=\"middle\" x=\"1344.5\" y=\"-7.8\" font-family=\"Helvetica,sans-Serif\" font-size=\"14.00\">class = Sim</text>\n</g>\n<!-- 20&#45;&gt;22 -->\n<g id=\"edge22\" class=\"edge\">\n<title>20&#45;&gt;22</title>\n<path fill=\"none\" stroke=\"black\" d=\"M1261.65,-103.73C1273.09,-94.24 1285.24,-84.16 1296.62,-74.72\"/>\n<polygon fill=\"black\" stroke=\"black\" points=\"1298.9,-77.38 1304.36,-68.3 1294.43,-71.99 1298.9,-77.38\"/>\n</g>\n</g>\n</svg>\n",
      "text/plain": [
       "<graphviz.sources.Source at 0x7f5c6741a470>"
      ]
     },
     "execution_count": 73,
     "metadata": {},
     "output_type": "execute_result"
    }
   ],
   "source": [
    "features = x_azar.columns\n",
    "\n",
    "dot_data = export_graphviz(\n",
    "  melhor_modelo,\n",
    "  out_file=None,\n",
    "  filled=True,\n",
    "  rounded=True,\n",
    "  class_names=['Não', 'Sim'],\n",
    "  feature_names=features\n",
    ")\n",
    "\n",
    "graph = graphviz.Source(dot_data)\n",
    "\n",
    "graph"
   ]
  },
  {
   "cell_type": "markdown",
   "metadata": {},
   "source": [
    "# Customizando espaço de hiperparâmetros"
   ]
  },
  {
   "cell_type": "code",
   "execution_count": 74,
   "metadata": {},
   "outputs": [],
   "source": [
    "from sklearn.model_selection import RandomizedSearchCV\n",
    "\n",
    "SEED = 301\n",
    "np.random.seed(SEED)"
   ]
  },
  {
   "cell_type": "code",
   "execution_count": 75,
   "metadata": {},
   "outputs": [],
   "source": [
    "from scipy.stats import randint\n",
    "\n",
    "espaco_parametros = {\n",
    "  'max_depth'        : [3, 4, 5, 10, 15, 20, 30, None],\n",
    "  'min_samples_leaf' : randint(32, 128),\n",
    "  'min_samples_split': randint(32, 128),\n",
    "  'criterion'        : ['gini', 'entropy']\n",
    "}"
   ]
  },
  {
   "cell_type": "code",
   "execution_count": 76,
   "metadata": {},
   "outputs": [
    {
     "data": {
      "text/html": [
       "<style>#sk-container-id-8 {color: black;background-color: white;}#sk-container-id-8 pre{padding: 0;}#sk-container-id-8 div.sk-toggleable {background-color: white;}#sk-container-id-8 label.sk-toggleable__label {cursor: pointer;display: block;width: 100%;margin-bottom: 0;padding: 0.3em;box-sizing: border-box;text-align: center;}#sk-container-id-8 label.sk-toggleable__label-arrow:before {content: \"▸\";float: left;margin-right: 0.25em;color: #696969;}#sk-container-id-8 label.sk-toggleable__label-arrow:hover:before {color: black;}#sk-container-id-8 div.sk-estimator:hover label.sk-toggleable__label-arrow:before {color: black;}#sk-container-id-8 div.sk-toggleable__content {max-height: 0;max-width: 0;overflow: hidden;text-align: left;background-color: #f0f8ff;}#sk-container-id-8 div.sk-toggleable__content pre {margin: 0.2em;color: black;border-radius: 0.25em;background-color: #f0f8ff;}#sk-container-id-8 input.sk-toggleable__control:checked~div.sk-toggleable__content {max-height: 200px;max-width: 100%;overflow: auto;}#sk-container-id-8 input.sk-toggleable__control:checked~label.sk-toggleable__label-arrow:before {content: \"▾\";}#sk-container-id-8 div.sk-estimator input.sk-toggleable__control:checked~label.sk-toggleable__label {background-color: #d4ebff;}#sk-container-id-8 div.sk-label input.sk-toggleable__control:checked~label.sk-toggleable__label {background-color: #d4ebff;}#sk-container-id-8 input.sk-hidden--visually {border: 0;clip: rect(1px 1px 1px 1px);clip: rect(1px, 1px, 1px, 1px);height: 1px;margin: -1px;overflow: hidden;padding: 0;position: absolute;width: 1px;}#sk-container-id-8 div.sk-estimator {font-family: monospace;background-color: #f0f8ff;border: 1px dotted black;border-radius: 0.25em;box-sizing: border-box;margin-bottom: 0.5em;}#sk-container-id-8 div.sk-estimator:hover {background-color: #d4ebff;}#sk-container-id-8 div.sk-parallel-item::after {content: \"\";width: 100%;border-bottom: 1px solid gray;flex-grow: 1;}#sk-container-id-8 div.sk-label:hover label.sk-toggleable__label {background-color: #d4ebff;}#sk-container-id-8 div.sk-serial::before {content: \"\";position: absolute;border-left: 1px solid gray;box-sizing: border-box;top: 0;bottom: 0;left: 50%;z-index: 0;}#sk-container-id-8 div.sk-serial {display: flex;flex-direction: column;align-items: center;background-color: white;padding-right: 0.2em;padding-left: 0.2em;position: relative;}#sk-container-id-8 div.sk-item {position: relative;z-index: 1;}#sk-container-id-8 div.sk-parallel {display: flex;align-items: stretch;justify-content: center;background-color: white;position: relative;}#sk-container-id-8 div.sk-item::before, #sk-container-id-8 div.sk-parallel-item::before {content: \"\";position: absolute;border-left: 1px solid gray;box-sizing: border-box;top: 0;bottom: 0;left: 50%;z-index: -1;}#sk-container-id-8 div.sk-parallel-item {display: flex;flex-direction: column;z-index: 1;position: relative;background-color: white;}#sk-container-id-8 div.sk-parallel-item:first-child::after {align-self: flex-end;width: 50%;}#sk-container-id-8 div.sk-parallel-item:last-child::after {align-self: flex-start;width: 50%;}#sk-container-id-8 div.sk-parallel-item:only-child::after {width: 0;}#sk-container-id-8 div.sk-dashed-wrapped {border: 1px dashed gray;margin: 0 0.4em 0.5em 0.4em;box-sizing: border-box;padding-bottom: 0.4em;background-color: white;}#sk-container-id-8 div.sk-label label {font-family: monospace;font-weight: bold;display: inline-block;line-height: 1.2em;}#sk-container-id-8 div.sk-label-container {text-align: center;}#sk-container-id-8 div.sk-container {/* jupyter's `normalize.less` sets `[hidden] { display: none; }` but bootstrap.min.css set `[hidden] { display: none !important; }` so we also need the `!important` here to be able to override the default hidden behavior on the sphinx rendered scikit-learn.org. See: https://github.com/scikit-learn/scikit-learn/issues/21755 */display: inline-block !important;position: relative;}#sk-container-id-8 div.sk-text-repr-fallback {display: none;}</style><div id=\"sk-container-id-8\" class=\"sk-top-container\"><div class=\"sk-text-repr-fallback\"><pre>RandomizedSearchCV(cv=KFold(n_splits=10, random_state=None, shuffle=True),\n",
       "                   estimator=DecisionTreeClassifier(), n_iter=16,\n",
       "                   param_distributions={&#x27;criterion&#x27;: [&#x27;gini&#x27;, &#x27;entropy&#x27;],\n",
       "                                        &#x27;max_depth&#x27;: [3, 4, 5, 10, 15, 20, 30,\n",
       "                                                      None],\n",
       "                                        &#x27;min_samples_leaf&#x27;: &lt;scipy.stats._distn_infrastructure.rv_discrete_frozen object at 0x7f5c6741bfd0&gt;,\n",
       "                                        &#x27;min_samples_split&#x27;: &lt;scipy.stats._distn_infrastructure.rv_discrete_frozen object at 0x7f5c68cf7430&gt;},\n",
       "                   random_state=301)</pre><b>In a Jupyter environment, please rerun this cell to show the HTML representation or trust the notebook. <br />On GitHub, the HTML representation is unable to render, please try loading this page with nbviewer.org.</b></div><div class=\"sk-container\" hidden><div class=\"sk-item sk-dashed-wrapped\"><div class=\"sk-label-container\"><div class=\"sk-label sk-toggleable\"><input class=\"sk-toggleable__control sk-hidden--visually\" id=\"sk-estimator-id-18\" type=\"checkbox\" ><label for=\"sk-estimator-id-18\" class=\"sk-toggleable__label sk-toggleable__label-arrow\">RandomizedSearchCV</label><div class=\"sk-toggleable__content\"><pre>RandomizedSearchCV(cv=KFold(n_splits=10, random_state=None, shuffle=True),\n",
       "                   estimator=DecisionTreeClassifier(), n_iter=16,\n",
       "                   param_distributions={&#x27;criterion&#x27;: [&#x27;gini&#x27;, &#x27;entropy&#x27;],\n",
       "                                        &#x27;max_depth&#x27;: [3, 4, 5, 10, 15, 20, 30,\n",
       "                                                      None],\n",
       "                                        &#x27;min_samples_leaf&#x27;: &lt;scipy.stats._distn_infrastructure.rv_discrete_frozen object at 0x7f5c6741bfd0&gt;,\n",
       "                                        &#x27;min_samples_split&#x27;: &lt;scipy.stats._distn_infrastructure.rv_discrete_frozen object at 0x7f5c68cf7430&gt;},\n",
       "                   random_state=301)</pre></div></div></div><div class=\"sk-parallel\"><div class=\"sk-parallel-item\"><div class=\"sk-item\"><div class=\"sk-label-container\"><div class=\"sk-label sk-toggleable\"><input class=\"sk-toggleable__control sk-hidden--visually\" id=\"sk-estimator-id-19\" type=\"checkbox\" ><label for=\"sk-estimator-id-19\" class=\"sk-toggleable__label sk-toggleable__label-arrow\">estimator: DecisionTreeClassifier</label><div class=\"sk-toggleable__content\"><pre>DecisionTreeClassifier()</pre></div></div></div><div class=\"sk-serial\"><div class=\"sk-item\"><div class=\"sk-estimator sk-toggleable\"><input class=\"sk-toggleable__control sk-hidden--visually\" id=\"sk-estimator-id-20\" type=\"checkbox\" ><label for=\"sk-estimator-id-20\" class=\"sk-toggleable__label sk-toggleable__label-arrow\">DecisionTreeClassifier</label><div class=\"sk-toggleable__content\"><pre>DecisionTreeClassifier()</pre></div></div></div></div></div></div></div></div></div></div>"
      ],
      "text/plain": [
       "RandomizedSearchCV(cv=KFold(n_splits=10, random_state=None, shuffle=True),\n",
       "                   estimator=DecisionTreeClassifier(), n_iter=16,\n",
       "                   param_distributions={'criterion': ['gini', 'entropy'],\n",
       "                                        'max_depth': [3, 4, 5, 10, 15, 20, 30,\n",
       "                                                      None],\n",
       "                                        'min_samples_leaf': <scipy.stats._distn_infrastructure.rv_discrete_frozen object at 0x7f5c6741bfd0>,\n",
       "                                        'min_samples_split': <scipy.stats._distn_infrastructure.rv_discrete_frozen object at 0x7f5c68cf7430>},\n",
       "                   random_state=301)"
      ]
     },
     "execution_count": 76,
     "metadata": {},
     "output_type": "execute_result"
    }
   ],
   "source": [
    "busca = RandomizedSearchCV(\n",
    "  estimator=DecisionTreeClassifier(),\n",
    "  param_distributions=espaco_parametros,\n",
    "  cv=KFold(n_splits=10, shuffle=True),\n",
    "  n_iter=16,\n",
    "  random_state=SEED\n",
    ")\n",
    "\n",
    "busca.fit(x_azar, y_azar)"
   ]
  },
  {
   "cell_type": "code",
   "execution_count": 77,
   "metadata": {},
   "outputs": [
    {
     "name": "stdout",
     "output_type": "stream",
     "text": [
      "Acc média 78.69, Intervalo [76.18, 81.20], "
     ]
    }
   ],
   "source": [
    "scores = cross_val_score(busca, x_azar, y_azar, cv=KFold(n_splits=10, shuffle=True))\n",
    "\n",
    "imprime_scores(scores)"
   ]
  },
  {
   "cell_type": "code",
   "execution_count": 78,
   "metadata": {},
   "outputs": [],
   "source": [
    "resultados = pd.DataFrame(busca.cv_results_)\n",
    "\n",
    "resultados_ordenados_pela_media = resultados.sort_values('mean_test_score', ascending=False)"
   ]
  },
  {
   "cell_type": "code",
   "execution_count": 79,
   "metadata": {},
   "outputs": [
    {
     "name": "stdout",
     "output_type": "stream",
     "text": [
      "0.7870 {'criterion': 'entropy', 'max_depth': 3, 'min_samples_leaf': 71, 'min_samples_split': 100}\n",
      "0.7870 {'criterion': 'entropy', 'max_depth': 4, 'min_samples_leaf': 73, 'min_samples_split': 72}\n",
      "0.7870 {'criterion': 'gini', 'max_depth': 4, 'min_samples_leaf': 64, 'min_samples_split': 67}\n",
      "0.7855 {'criterion': 'gini', 'max_depth': 5, 'min_samples_leaf': 125, 'min_samples_split': 59}\n",
      "0.7852 {'criterion': 'gini', 'max_depth': 5, 'min_samples_leaf': 108, 'min_samples_split': 110}\n",
      "0.7832 {'criterion': 'gini', 'max_depth': 10, 'min_samples_leaf': 126, 'min_samples_split': 84}\n",
      "0.7826 {'criterion': 'gini', 'max_depth': 15, 'min_samples_leaf': 124, 'min_samples_split': 88}\n",
      "0.7807 {'criterion': 'entropy', 'max_depth': 20, 'min_samples_leaf': 74, 'min_samples_split': 58}\n",
      "0.7804 {'criterion': 'entropy', 'max_depth': 10, 'min_samples_leaf': 104, 'min_samples_split': 88}\n",
      "0.7802 {'criterion': 'gini', 'max_depth': 20, 'min_samples_leaf': 88, 'min_samples_split': 78}\n",
      "0.7796 {'criterion': 'gini', 'max_depth': 10, 'min_samples_leaf': 93, 'min_samples_split': 111}\n",
      "0.7787 {'criterion': 'gini', 'max_depth': None, 'min_samples_leaf': 103, 'min_samples_split': 96}\n",
      "0.7786 {'criterion': 'gini', 'max_depth': 30, 'min_samples_leaf': 101, 'min_samples_split': 52}\n",
      "0.7784 {'criterion': 'gini', 'max_depth': 20, 'min_samples_leaf': 100, 'min_samples_split': 84}\n",
      "0.7775 {'criterion': 'entropy', 'max_depth': 15, 'min_samples_leaf': 52, 'min_samples_split': 80}\n",
      "0.7745 {'criterion': 'gini', 'max_depth': 30, 'min_samples_leaf': 46, 'min_samples_split': 62}\n"
     ]
    }
   ],
   "source": [
    "for idx, row in resultados_ordenados_pela_media.iterrows():\n",
    "  print(f\"{row['mean_test_score']:.4f}\", row['params'])"
   ]
  },
  {
   "cell_type": "code",
   "execution_count": 80,
   "metadata": {},
   "outputs": [
    {
     "name": "stdout",
     "output_type": "stream",
     "text": [
      "Acc média 78.69, Intervalo [76.91, 80.47], "
     ]
    }
   ],
   "source": [
    "espaco_parametros = {\n",
    "  'max_depth'        : [3, 4, 5, 10, 15, 20, 30, None],\n",
    "  'min_samples_leaf' : randint(32, 128),\n",
    "  'min_samples_split': randint(32, 128),\n",
    "  'criterion'        : ['gini', 'entropy']\n",
    "}\n",
    "\n",
    "busca = RandomizedSearchCV(\n",
    "  estimator=DecisionTreeClassifier(),\n",
    "  param_distributions=espaco_parametros,\n",
    "  cv=KFold(n_splits=10, shuffle=True),\n",
    "  n_iter=64,\n",
    "  random_state=SEED\n",
    ")\n",
    "\n",
    "busca.fit(x_azar, y_azar)\n",
    "\n",
    "scores = cross_val_score(busca, x_azar, y_azar, cv=KFold(n_splits=10, shuffle=True))\n",
    "\n",
    "imprime_scores(scores)"
   ]
  },
  {
   "cell_type": "code",
   "execution_count": 81,
   "metadata": {},
   "outputs": [
    {
     "name": "stdout",
     "output_type": "stream",
     "text": [
      "0.7870 {'criterion': 'entropy', 'max_depth': 3, 'min_samples_leaf': 71, 'min_samples_split': 100}\n",
      "0.7870 {'criterion': 'gini', 'max_depth': 4, 'min_samples_leaf': 64, 'min_samples_split': 67}\n",
      "0.7870 {'criterion': 'gini', 'max_depth': 4, 'min_samples_leaf': 56, 'min_samples_split': 54}\n",
      "0.7870 {'criterion': 'gini', 'max_depth': 4, 'min_samples_leaf': 45, 'min_samples_split': 103}\n",
      "0.7870 {'criterion': 'gini', 'max_depth': 3, 'min_samples_leaf': 69, 'min_samples_split': 124}\n",
      "0.7870 {'criterion': 'gini', 'max_depth': 3, 'min_samples_leaf': 63, 'min_samples_split': 88}\n",
      "0.7870 {'criterion': 'gini', 'max_depth': 3, 'min_samples_leaf': 67, 'min_samples_split': 76}\n",
      "0.7870 {'criterion': 'entropy', 'max_depth': 4, 'min_samples_leaf': 74, 'min_samples_split': 55}\n",
      "0.7870 {'criterion': 'entropy', 'max_depth': 4, 'min_samples_leaf': 88, 'min_samples_split': 96}\n",
      "0.7870 {'criterion': 'entropy', 'max_depth': 4, 'min_samples_leaf': 101, 'min_samples_split': 95}\n",
      "0.7870 {'criterion': 'gini', 'max_depth': 4, 'min_samples_leaf': 111, 'min_samples_split': 94}\n",
      "0.7870 {'criterion': 'entropy', 'max_depth': 4, 'min_samples_leaf': 79, 'min_samples_split': 117}\n",
      "0.7870 {'criterion': 'entropy', 'max_depth': 4, 'min_samples_leaf': 73, 'min_samples_split': 72}\n",
      "0.7866 {'criterion': 'gini', 'max_depth': 5, 'min_samples_leaf': 64, 'min_samples_split': 72}\n",
      "0.7864 {'criterion': 'gini', 'max_depth': 5, 'min_samples_leaf': 51, 'min_samples_split': 121}\n",
      "0.7862 {'criterion': 'gini', 'max_depth': 5, 'min_samples_leaf': 42, 'min_samples_split': 92}\n",
      "0.7862 {'criterion': 'entropy', 'max_depth': 5, 'min_samples_leaf': 125, 'min_samples_split': 124}\n",
      "0.7862 {'criterion': 'gini', 'max_depth': 5, 'min_samples_leaf': 104, 'min_samples_split': 62}\n",
      "0.7862 {'criterion': 'gini', 'max_depth': 5, 'min_samples_leaf': 125, 'min_samples_split': 59}\n",
      "0.7862 {'criterion': 'gini', 'max_depth': 5, 'min_samples_leaf': 120, 'min_samples_split': 68}\n",
      "0.7862 {'criterion': 'gini', 'max_depth': 5, 'min_samples_leaf': 107, 'min_samples_split': 88}\n",
      "0.7862 {'criterion': 'gini', 'max_depth': 5, 'min_samples_leaf': 108, 'min_samples_split': 110}\n",
      "0.7861 {'criterion': 'gini', 'max_depth': 5, 'min_samples_leaf': 39, 'min_samples_split': 68}\n",
      "0.7807 {'criterion': 'gini', 'max_depth': 10, 'min_samples_leaf': 65, 'min_samples_split': 50}\n",
      "0.7801 {'criterion': 'gini', 'max_depth': 10, 'min_samples_leaf': 93, 'min_samples_split': 111}\n",
      "0.7798 {'criterion': 'entropy', 'max_depth': 10, 'min_samples_leaf': 92, 'min_samples_split': 91}\n",
      "0.7787 {'criterion': 'gini', 'max_depth': 10, 'min_samples_leaf': 126, 'min_samples_split': 84}\n",
      "0.7783 {'criterion': 'gini', 'max_depth': 10, 'min_samples_leaf': 58, 'min_samples_split': 49}\n",
      "0.7782 {'criterion': 'entropy', 'max_depth': 10, 'min_samples_leaf': 104, 'min_samples_split': 88}\n",
      "0.7780 {'criterion': 'gini', 'max_depth': 20, 'min_samples_leaf': 88, 'min_samples_split': 78}\n",
      "0.7778 {'criterion': 'gini', 'max_depth': 10, 'min_samples_leaf': 120, 'min_samples_split': 106}\n",
      "0.7776 {'criterion': 'gini', 'max_depth': 10, 'min_samples_leaf': 121, 'min_samples_split': 84}\n",
      "0.7776 {'criterion': 'gini', 'max_depth': 10, 'min_samples_leaf': 123, 'min_samples_split': 91}\n",
      "0.7773 {'criterion': 'entropy', 'max_depth': None, 'min_samples_leaf': 93, 'min_samples_split': 117}\n",
      "0.7773 {'criterion': 'gini', 'max_depth': 20, 'min_samples_leaf': 63, 'min_samples_split': 121}\n",
      "0.7772 {'criterion': 'gini', 'max_depth': 30, 'min_samples_leaf': 70, 'min_samples_split': 86}\n",
      "0.7769 {'criterion': 'entropy', 'max_depth': 15, 'min_samples_leaf': 92, 'min_samples_split': 54}\n",
      "0.7764 {'criterion': 'entropy', 'max_depth': 15, 'min_samples_leaf': 95, 'min_samples_split': 112}\n",
      "0.7764 {'criterion': 'gini', 'max_depth': None, 'min_samples_leaf': 126, 'min_samples_split': 106}\n",
      "0.7760 {'criterion': 'entropy', 'max_depth': 20, 'min_samples_leaf': 100, 'min_samples_split': 51}\n",
      "0.7759 {'criterion': 'entropy', 'max_depth': None, 'min_samples_leaf': 102, 'min_samples_split': 59}\n",
      "0.7755 {'criterion': 'gini', 'max_depth': None, 'min_samples_leaf': 103, 'min_samples_split': 96}\n",
      "0.7755 {'criterion': 'gini', 'max_depth': 20, 'min_samples_leaf': 100, 'min_samples_split': 84}\n",
      "0.7754 {'criterion': 'gini', 'max_depth': 15, 'min_samples_leaf': 124, 'min_samples_split': 88}\n",
      "0.7753 {'criterion': 'gini', 'max_depth': 15, 'min_samples_leaf': 107, 'min_samples_split': 77}\n",
      "0.7752 {'criterion': 'entropy', 'max_depth': 10, 'min_samples_leaf': 32, 'min_samples_split': 120}\n",
      "0.7751 {'criterion': 'gini', 'max_depth': 30, 'min_samples_leaf': 101, 'min_samples_split': 52}\n",
      "0.7750 {'criterion': 'gini', 'max_depth': 20, 'min_samples_leaf': 111, 'min_samples_split': 46}\n",
      "0.7749 {'criterion': 'gini', 'max_depth': 15, 'min_samples_leaf': 76, 'min_samples_split': 102}\n",
      "0.7749 {'criterion': 'gini', 'max_depth': 20, 'min_samples_leaf': 76, 'min_samples_split': 124}\n",
      "0.7745 {'criterion': 'gini', 'max_depth': 15, 'min_samples_leaf': 116, 'min_samples_split': 94}\n",
      "0.7739 {'criterion': 'gini', 'max_depth': 10, 'min_samples_leaf': 38, 'min_samples_split': 106}\n",
      "0.7735 {'criterion': 'gini', 'max_depth': 10, 'min_samples_leaf': 33, 'min_samples_split': 72}\n",
      "0.7727 {'criterion': 'entropy', 'max_depth': 15, 'min_samples_leaf': 52, 'min_samples_split': 80}\n",
      "0.7726 {'criterion': 'entropy', 'max_depth': 30, 'min_samples_leaf': 52, 'min_samples_split': 77}\n",
      "0.7718 {'criterion': 'entropy', 'max_depth': 20, 'min_samples_leaf': 74, 'min_samples_split': 58}\n",
      "0.7714 {'criterion': 'entropy', 'max_depth': 15, 'min_samples_leaf': 47, 'min_samples_split': 43}\n",
      "0.7703 {'criterion': 'entropy', 'max_depth': 30, 'min_samples_leaf': 51, 'min_samples_split': 100}\n",
      "0.7697 {'criterion': 'gini', 'max_depth': 30, 'min_samples_leaf': 46, 'min_samples_split': 62}\n",
      "0.7690 {'criterion': 'entropy', 'max_depth': None, 'min_samples_leaf': 46, 'min_samples_split': 37}\n",
      "0.7685 {'criterion': 'entropy', 'max_depth': 20, 'min_samples_leaf': 42, 'min_samples_split': 70}\n",
      "0.7681 {'criterion': 'gini', 'max_depth': 15, 'min_samples_leaf': 37, 'min_samples_split': 35}\n",
      "0.7674 {'criterion': 'entropy', 'max_depth': 15, 'min_samples_leaf': 43, 'min_samples_split': 78}\n",
      "0.7671 {'criterion': 'gini', 'max_depth': None, 'min_samples_leaf': 35, 'min_samples_split': 38}\n"
     ]
    }
   ],
   "source": [
    "resultados = pd.DataFrame(busca.cv_results_)\n",
    "\n",
    "resultados_ordenados_pela_media = resultados.sort_values('mean_test_score', ascending=False)\n",
    "\n",
    "for idx, row in resultados_ordenados_pela_media.iterrows():\n",
    "  print(f\"{row['mean_test_score']:.4f}\", row['params'])"
   ]
  },
  {
   "cell_type": "markdown",
   "metadata": {},
   "source": [
    "# Comparando GridSearchCV com RandomizedSearch"
   ]
  },
  {
   "cell_type": "code",
   "execution_count": 82,
   "metadata": {},
   "outputs": [],
   "source": [
    "from sklearn.ensemble import RandomForestClassifier\n",
    "import time"
   ]
  },
  {
   "cell_type": "code",
   "execution_count": 83,
   "metadata": {},
   "outputs": [
    {
     "name": "stdout",
     "output_type": "stream",
     "text": [
      "Tempo de espera: 10.732621908187866\n",
      "Tempo de espera: 49.13162350654602\n",
      "Acc média 77.10, Intervalo [74.22, 79.98], "
     ]
    }
   ],
   "source": [
    "espaco_parametros = {\n",
    "  'n_estimators'     : [10],\n",
    "  'max_depth'        : [3, 4],\n",
    "  'min_samples_leaf' : [32, 68],\n",
    "  'min_samples_split': [32, 64],\n",
    "  'bootstrap'        : [True, False],\n",
    "  'criterion'        : ['gini', 'entropy']\n",
    "}\n",
    "\n",
    "tic = time.time()\n",
    "\n",
    "busca = GridSearchCV(\n",
    "  estimator=RandomForestClassifier(),\n",
    "  param_grid=espaco_parametros,\n",
    "  cv=KFold(n_splits=5, shuffle=True)\n",
    ")\n",
    "\n",
    "busca.fit(x_azar, y_azar)\n",
    "\n",
    "tac = time.time()\n",
    "\n",
    "print(f\"Tempo de espera: {tac - tic}\")\n",
    "\n",
    "tic = time.time()\n",
    "\n",
    "scores = cross_val_score(busca, x_azar, y_azar, cv=KFold(n_splits=5, shuffle=True))\n",
    "\n",
    "tac = time.time()\n",
    "\n",
    "print(f\"Tempo de espera: {tac - tic}\")\n",
    "\n",
    "imprime_scores(scores)"
   ]
  },
  {
   "cell_type": "code",
   "execution_count": 84,
   "metadata": {},
   "outputs": [
    {
     "name": "stdout",
     "output_type": "stream",
     "text": [
      "0.7821 {'bootstrap': False, 'criterion': 'gini', 'max_depth': 4, 'min_samples_leaf': 32, 'min_samples_split': 32, 'n_estimators': 10}\n",
      "0.7761 {'bootstrap': False, 'criterion': 'entropy', 'max_depth': 4, 'min_samples_leaf': 68, 'min_samples_split': 32, 'n_estimators': 10}\n",
      "0.7752 {'bootstrap': False, 'criterion': 'entropy', 'max_depth': 4, 'min_samples_leaf': 68, 'min_samples_split': 64, 'n_estimators': 10}\n",
      "0.7740 {'bootstrap': True, 'criterion': 'entropy', 'max_depth': 3, 'min_samples_leaf': 68, 'min_samples_split': 32, 'n_estimators': 10}\n",
      "0.7733 {'bootstrap': False, 'criterion': 'entropy', 'max_depth': 4, 'min_samples_leaf': 32, 'min_samples_split': 32, 'n_estimators': 10}\n"
     ]
    }
   ],
   "source": [
    "resultados = pd.DataFrame(busca.cv_results_)\n",
    "\n",
    "resultados_ordenados_pela_media = resultados.sort_values('mean_test_score', ascending=False)\n",
    "\n",
    "for idx, row in resultados_ordenados_pela_media[:5].iterrows():\n",
    "  print(f\"{row['mean_test_score']:.4f}\", row['params'])"
   ]
  },
  {
   "cell_type": "code",
   "execution_count": 85,
   "metadata": {},
   "outputs": [
    {
     "name": "stdout",
     "output_type": "stream",
     "text": [
      "Tempo de espera: 8.060567378997803\n",
      "Tempo de espera: 34.128549098968506\n",
      "Acc média 76.43, Intervalo [73.26, 79.60], "
     ]
    }
   ],
   "source": [
    "espaco_parametros = {\n",
    "  'n_estimators'     : [10],\n",
    "  'max_depth'        : [3, 4],\n",
    "  'min_samples_leaf' : [32, 68],\n",
    "  'min_samples_split': [32, 64],\n",
    "  'bootstrap'        : [True, False],\n",
    "  'criterion'        : ['gini', 'entropy']\n",
    "}\n",
    "\n",
    "tic = time.time()\n",
    "\n",
    "busca = RandomizedSearchCV(\n",
    "  estimator=RandomForestClassifier(),\n",
    "  param_distributions=espaco_parametros,\n",
    "  cv=KFold(n_splits=5, shuffle=True),\n",
    "  n_iter=20,\n",
    "  random_state=SEED\n",
    ")\n",
    "\n",
    "busca.fit(x_azar, y_azar)\n",
    "\n",
    "tac = time.time()\n",
    "\n",
    "print(f\"Tempo de espera: {tac - tic}\")\n",
    "\n",
    "tic = time.time()\n",
    "\n",
    "scores = cross_val_score(busca, x_azar, y_azar, cv=KFold(n_splits=5, shuffle=True))\n",
    "\n",
    "tac = time.time()\n",
    "\n",
    "print(f\"Tempo de espera: {tac - tic}\")\n",
    "\n",
    "imprime_scores(scores)"
   ]
  },
  {
   "cell_type": "code",
   "execution_count": 86,
   "metadata": {},
   "outputs": [
    {
     "name": "stdout",
     "output_type": "stream",
     "text": [
      "0.7770 {'n_estimators': 10, 'min_samples_split': 32, 'min_samples_leaf': 68, 'max_depth': 4, 'criterion': 'gini', 'bootstrap': True}\n",
      "0.7767 {'n_estimators': 10, 'min_samples_split': 64, 'min_samples_leaf': 68, 'max_depth': 4, 'criterion': 'gini', 'bootstrap': False}\n",
      "0.7763 {'n_estimators': 10, 'min_samples_split': 64, 'min_samples_leaf': 32, 'max_depth': 4, 'criterion': 'gini', 'bootstrap': True}\n",
      "0.7762 {'n_estimators': 10, 'min_samples_split': 64, 'min_samples_leaf': 68, 'max_depth': 4, 'criterion': 'entropy', 'bootstrap': False}\n",
      "0.7758 {'n_estimators': 10, 'min_samples_split': 32, 'min_samples_leaf': 68, 'max_depth': 3, 'criterion': 'entropy', 'bootstrap': True}\n"
     ]
    }
   ],
   "source": [
    "resultados = pd.DataFrame(busca.cv_results_)\n",
    "\n",
    "resultados_ordenados_pela_media = resultados.sort_values('mean_test_score', ascending=False)\n",
    "\n",
    "for idx, row in resultados_ordenados_pela_media[:5].iterrows():\n",
    "  print(f\"{row['mean_test_score']:.4f}\", row['params'])"
   ]
  },
  {
   "cell_type": "code",
   "execution_count": 87,
   "metadata": {},
   "outputs": [
    {
     "name": "stdout",
     "output_type": "stream",
     "text": [
      "Tempo de espera: 247.99050402641296\n",
      "Tempo de espera: 943.7228996753693\n",
      "Acc média 77.85, Intervalo [77.33, 78.37], "
     ]
    }
   ],
   "source": [
    "espaco_parametros = {\n",
    "  'n_estimators'     : randint(10, 101),\n",
    "  'max_depth'        : randint(3, 6),\n",
    "  'min_samples_leaf' : randint(32, 129),\n",
    "  'min_samples_split': randint(32, 129),\n",
    "  'bootstrap'        : [True, False],\n",
    "  'criterion'        : ['gini', 'entropy']\n",
    "}\n",
    "\n",
    "tic = time.time()\n",
    "\n",
    "busca = RandomizedSearchCV(\n",
    "  estimator=RandomForestClassifier(),\n",
    "  param_distributions=espaco_parametros,\n",
    "  cv=KFold(n_splits=5, shuffle=True),\n",
    "  n_iter=80,\n",
    "  random_state=SEED\n",
    ")\n",
    "\n",
    "busca.fit(x_azar, y_azar)\n",
    "\n",
    "tac = time.time()\n",
    "\n",
    "print(f\"Tempo de espera: {tac - tic}\")\n",
    "\n",
    "tic = time.time()\n",
    "\n",
    "scores = cross_val_score(busca, x_azar, y_azar, cv=KFold(n_splits=5, shuffle=True))\n",
    "\n",
    "tac = time.time()\n",
    "\n",
    "print(f\"Tempo de espera: {tac - tic}\")\n",
    "\n",
    "imprime_scores(scores)"
   ]
  },
  {
   "cell_type": "code",
   "execution_count": null,
   "metadata": {},
   "outputs": [],
   "source": []
  }
 ],
 "metadata": {
  "kernelspec": {
   "display_name": "Python 3.10.4 ('venv': venv)",
   "language": "python",
   "name": "python3"
  },
  "language_info": {
   "codemirror_mode": {
    "name": "ipython",
    "version": 3
   },
   "file_extension": ".py",
   "mimetype": "text/x-python",
   "name": "python",
   "nbconvert_exporter": "python",
   "pygments_lexer": "ipython3",
   "version": "3.10.4"
  },
  "orig_nbformat": 4,
  "vscode": {
   "interpreter": {
    "hash": "5af5b3f2eec516203976d96a64b37cd5f54350079aef86e1e469fd7fca8cbb9d"
   }
  }
 },
 "nbformat": 4,
 "nbformat_minor": 2
}
