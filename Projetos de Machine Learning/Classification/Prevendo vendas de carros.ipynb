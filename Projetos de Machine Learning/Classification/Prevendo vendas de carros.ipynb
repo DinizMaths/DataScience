{
 "cells": [
  {
   "cell_type": "markdown",
   "id": "fabbc6f8",
   "metadata": {},
   "source": [
    "# Importando bibliotecas"
   ]
  },
  {
   "cell_type": "code",
   "execution_count": 121,
   "id": "ead598f1",
   "metadata": {},
   "outputs": [],
   "source": [
    "import pandas as pd\n",
    "import numpy as np\n",
    "\n",
    "import matplotlib.pyplot as plt\n",
    "\n",
    "from datetime import datetime\n",
    "\n",
    "from sklearn import tree\n",
    "\n",
    "from sklearn.model_selection import train_test_split\n",
    "from sklearn.metrics import accuracy_score\n",
    "from sklearn.preprocessing import StandardScaler\n",
    "\n",
    "from sklearn.svm import LinearSVC, SVC\n",
    "from sklearn.dummy import DummyClassifier\n",
    "from sklearn.tree import DecisionTreeClassifier, export_graphviz"
   ]
  },
  {
   "cell_type": "markdown",
   "id": "1342c970",
   "metadata": {},
   "source": [
    "# Aquisição dos dados"
   ]
  },
  {
   "cell_type": "code",
   "execution_count": 100,
   "id": "3e5244c2",
   "metadata": {},
   "outputs": [],
   "source": [
    "url = 'https://gist.githubusercontent.com/guilhermesilveira/4d1d4a16ccbf6ea4e0a64a38a24ec884/raw/afd05cb0c796d18f3f5a6537053ded308ba94bf7/car-prices.csv'"
   ]
  },
  {
   "cell_type": "code",
   "execution_count": 101,
   "id": "aae66a7a",
   "metadata": {
    "scrolled": true
   },
   "outputs": [
    {
     "data": {
      "text/html": [
       "<div>\n",
       "<style scoped>\n",
       "    .dataframe tbody tr th:only-of-type {\n",
       "        vertical-align: middle;\n",
       "    }\n",
       "\n",
       "    .dataframe tbody tr th {\n",
       "        vertical-align: top;\n",
       "    }\n",
       "\n",
       "    .dataframe thead th {\n",
       "        text-align: right;\n",
       "    }\n",
       "</style>\n",
       "<table border=\"1\" class=\"dataframe\">\n",
       "  <thead>\n",
       "    <tr style=\"text-align: right;\">\n",
       "      <th></th>\n",
       "      <th>Unnamed: 0</th>\n",
       "      <th>mileage_per_year</th>\n",
       "      <th>model_year</th>\n",
       "      <th>price</th>\n",
       "      <th>sold</th>\n",
       "    </tr>\n",
       "  </thead>\n",
       "  <tbody>\n",
       "    <tr>\n",
       "      <th>0</th>\n",
       "      <td>0</td>\n",
       "      <td>21801</td>\n",
       "      <td>2000</td>\n",
       "      <td>30941.02</td>\n",
       "      <td>yes</td>\n",
       "    </tr>\n",
       "    <tr>\n",
       "      <th>1</th>\n",
       "      <td>1</td>\n",
       "      <td>7843</td>\n",
       "      <td>1998</td>\n",
       "      <td>40557.96</td>\n",
       "      <td>yes</td>\n",
       "    </tr>\n",
       "    <tr>\n",
       "      <th>2</th>\n",
       "      <td>2</td>\n",
       "      <td>7109</td>\n",
       "      <td>2006</td>\n",
       "      <td>89627.50</td>\n",
       "      <td>no</td>\n",
       "    </tr>\n",
       "    <tr>\n",
       "      <th>3</th>\n",
       "      <td>3</td>\n",
       "      <td>26823</td>\n",
       "      <td>2015</td>\n",
       "      <td>95276.14</td>\n",
       "      <td>no</td>\n",
       "    </tr>\n",
       "    <tr>\n",
       "      <th>4</th>\n",
       "      <td>4</td>\n",
       "      <td>7935</td>\n",
       "      <td>2014</td>\n",
       "      <td>117384.68</td>\n",
       "      <td>yes</td>\n",
       "    </tr>\n",
       "    <tr>\n",
       "      <th>5</th>\n",
       "      <td>5</td>\n",
       "      <td>14661</td>\n",
       "      <td>2007</td>\n",
       "      <td>55405.26</td>\n",
       "      <td>yes</td>\n",
       "    </tr>\n",
       "    <tr>\n",
       "      <th>6</th>\n",
       "      <td>6</td>\n",
       "      <td>9990</td>\n",
       "      <td>2002</td>\n",
       "      <td>93415.61</td>\n",
       "      <td>yes</td>\n",
       "    </tr>\n",
       "    <tr>\n",
       "      <th>7</th>\n",
       "      <td>7</td>\n",
       "      <td>11599</td>\n",
       "      <td>2008</td>\n",
       "      <td>65265.09</td>\n",
       "      <td>no</td>\n",
       "    </tr>\n",
       "    <tr>\n",
       "      <th>8</th>\n",
       "      <td>8</td>\n",
       "      <td>7834</td>\n",
       "      <td>1999</td>\n",
       "      <td>43917.53</td>\n",
       "      <td>yes</td>\n",
       "    </tr>\n",
       "    <tr>\n",
       "      <th>9</th>\n",
       "      <td>9</td>\n",
       "      <td>14913</td>\n",
       "      <td>2003</td>\n",
       "      <td>107860.41</td>\n",
       "      <td>yes</td>\n",
       "    </tr>\n",
       "  </tbody>\n",
       "</table>\n",
       "</div>"
      ],
      "text/plain": [
       "   Unnamed: 0  mileage_per_year  model_year      price sold\n",
       "0           0             21801        2000   30941.02  yes\n",
       "1           1              7843        1998   40557.96  yes\n",
       "2           2              7109        2006   89627.50   no\n",
       "3           3             26823        2015   95276.14   no\n",
       "4           4              7935        2014  117384.68  yes\n",
       "5           5             14661        2007   55405.26  yes\n",
       "6           6              9990        2002   93415.61  yes\n",
       "7           7             11599        2008   65265.09   no\n",
       "8           8              7834        1999   43917.53  yes\n",
       "9           9             14913        2003  107860.41  yes"
      ]
     },
     "execution_count": 101,
     "metadata": {},
     "output_type": "execute_result"
    }
   ],
   "source": [
    "car_data = pd.read_csv(url)\n",
    "\n",
    "car_data.head(10)"
   ]
  },
  {
   "cell_type": "markdown",
   "id": "17c82610",
   "metadata": {},
   "source": [
    "# Tratamento dos dados"
   ]
  },
  {
   "cell_type": "code",
   "execution_count": 102,
   "id": "5be856e3",
   "metadata": {},
   "outputs": [],
   "source": [
    "current_year = datetime.today().year\n",
    "car_data['model_age'] = current_year - car_data['model_year']\n",
    "car_data['km_per_year'] = car_data['mileage_per_year'] * 1.60934"
   ]
  },
  {
   "cell_type": "code",
   "execution_count": 103,
   "id": "b97bc3d7",
   "metadata": {},
   "outputs": [],
   "source": [
    "car_data.drop(columns=['Unnamed: 0', 'model_year', 'mileage_per_year'], inplace=True)"
   ]
  },
  {
   "cell_type": "code",
   "execution_count": 104,
   "id": "ce8a65a7",
   "metadata": {},
   "outputs": [
    {
     "data": {
      "text/plain": [
       "price          0\n",
       "sold           0\n",
       "model_age      0\n",
       "km_per_year    0\n",
       "dtype: int64"
      ]
     },
     "execution_count": 104,
     "metadata": {},
     "output_type": "execute_result"
    }
   ],
   "source": [
    "car_data.isna().sum()"
   ]
  },
  {
   "cell_type": "code",
   "execution_count": 105,
   "id": "c643b63e",
   "metadata": {},
   "outputs": [],
   "source": [
    "car_data['sold'] = car_data['sold'].map({\n",
    "    'yes': 1,\n",
    "    'no': 0\n",
    "})"
   ]
  },
  {
   "cell_type": "code",
   "execution_count": 106,
   "id": "9676f4db",
   "metadata": {},
   "outputs": [
    {
     "data": {
      "text/html": [
       "<div>\n",
       "<style scoped>\n",
       "    .dataframe tbody tr th:only-of-type {\n",
       "        vertical-align: middle;\n",
       "    }\n",
       "\n",
       "    .dataframe tbody tr th {\n",
       "        vertical-align: top;\n",
       "    }\n",
       "\n",
       "    .dataframe thead th {\n",
       "        text-align: right;\n",
       "    }\n",
       "</style>\n",
       "<table border=\"1\" class=\"dataframe\">\n",
       "  <thead>\n",
       "    <tr style=\"text-align: right;\">\n",
       "      <th></th>\n",
       "      <th>price</th>\n",
       "      <th>sold</th>\n",
       "      <th>model_age</th>\n",
       "      <th>km_per_year</th>\n",
       "    </tr>\n",
       "  </thead>\n",
       "  <tbody>\n",
       "    <tr>\n",
       "      <th>0</th>\n",
       "      <td>30941.02</td>\n",
       "      <td>1</td>\n",
       "      <td>22</td>\n",
       "      <td>35085.22134</td>\n",
       "    </tr>\n",
       "    <tr>\n",
       "      <th>1</th>\n",
       "      <td>40557.96</td>\n",
       "      <td>1</td>\n",
       "      <td>24</td>\n",
       "      <td>12622.05362</td>\n",
       "    </tr>\n",
       "    <tr>\n",
       "      <th>2</th>\n",
       "      <td>89627.50</td>\n",
       "      <td>0</td>\n",
       "      <td>16</td>\n",
       "      <td>11440.79806</td>\n",
       "    </tr>\n",
       "    <tr>\n",
       "      <th>3</th>\n",
       "      <td>95276.14</td>\n",
       "      <td>0</td>\n",
       "      <td>7</td>\n",
       "      <td>43167.32682</td>\n",
       "    </tr>\n",
       "    <tr>\n",
       "      <th>4</th>\n",
       "      <td>117384.68</td>\n",
       "      <td>1</td>\n",
       "      <td>8</td>\n",
       "      <td>12770.11290</td>\n",
       "    </tr>\n",
       "    <tr>\n",
       "      <th>5</th>\n",
       "      <td>55405.26</td>\n",
       "      <td>1</td>\n",
       "      <td>15</td>\n",
       "      <td>23594.53374</td>\n",
       "    </tr>\n",
       "    <tr>\n",
       "      <th>6</th>\n",
       "      <td>93415.61</td>\n",
       "      <td>1</td>\n",
       "      <td>20</td>\n",
       "      <td>16077.30660</td>\n",
       "    </tr>\n",
       "    <tr>\n",
       "      <th>7</th>\n",
       "      <td>65265.09</td>\n",
       "      <td>0</td>\n",
       "      <td>14</td>\n",
       "      <td>18666.73466</td>\n",
       "    </tr>\n",
       "    <tr>\n",
       "      <th>8</th>\n",
       "      <td>43917.53</td>\n",
       "      <td>1</td>\n",
       "      <td>23</td>\n",
       "      <td>12607.56956</td>\n",
       "    </tr>\n",
       "    <tr>\n",
       "      <th>9</th>\n",
       "      <td>107860.41</td>\n",
       "      <td>1</td>\n",
       "      <td>19</td>\n",
       "      <td>24000.08742</td>\n",
       "    </tr>\n",
       "  </tbody>\n",
       "</table>\n",
       "</div>"
      ],
      "text/plain": [
       "       price  sold  model_age  km_per_year\n",
       "0   30941.02     1         22  35085.22134\n",
       "1   40557.96     1         24  12622.05362\n",
       "2   89627.50     0         16  11440.79806\n",
       "3   95276.14     0          7  43167.32682\n",
       "4  117384.68     1          8  12770.11290\n",
       "5   55405.26     1         15  23594.53374\n",
       "6   93415.61     1         20  16077.30660\n",
       "7   65265.09     0         14  18666.73466\n",
       "8   43917.53     1         23  12607.56956\n",
       "9  107860.41     1         19  24000.08742"
      ]
     },
     "execution_count": 106,
     "metadata": {},
     "output_type": "execute_result"
    }
   ],
   "source": [
    "car_data.head(10)"
   ]
  },
  {
   "cell_type": "code",
   "execution_count": 107,
   "id": "3cc00d81",
   "metadata": {},
   "outputs": [],
   "source": [
    "cols = ['price', 'model_age', 'km_per_year', 'sold']\n",
    "\n",
    "car_data = car_data.reindex(columns=cols)"
   ]
  },
  {
   "cell_type": "code",
   "execution_count": 108,
   "id": "b3a44957",
   "metadata": {
    "scrolled": true
   },
   "outputs": [
    {
     "data": {
      "text/html": [
       "<div>\n",
       "<style scoped>\n",
       "    .dataframe tbody tr th:only-of-type {\n",
       "        vertical-align: middle;\n",
       "    }\n",
       "\n",
       "    .dataframe tbody tr th {\n",
       "        vertical-align: top;\n",
       "    }\n",
       "\n",
       "    .dataframe thead th {\n",
       "        text-align: right;\n",
       "    }\n",
       "</style>\n",
       "<table border=\"1\" class=\"dataframe\">\n",
       "  <thead>\n",
       "    <tr style=\"text-align: right;\">\n",
       "      <th></th>\n",
       "      <th>price</th>\n",
       "      <th>model_age</th>\n",
       "      <th>km_per_year</th>\n",
       "      <th>sold</th>\n",
       "    </tr>\n",
       "  </thead>\n",
       "  <tbody>\n",
       "    <tr>\n",
       "      <th>0</th>\n",
       "      <td>30941.02</td>\n",
       "      <td>22</td>\n",
       "      <td>35085.22134</td>\n",
       "      <td>1</td>\n",
       "    </tr>\n",
       "    <tr>\n",
       "      <th>1</th>\n",
       "      <td>40557.96</td>\n",
       "      <td>24</td>\n",
       "      <td>12622.05362</td>\n",
       "      <td>1</td>\n",
       "    </tr>\n",
       "    <tr>\n",
       "      <th>2</th>\n",
       "      <td>89627.50</td>\n",
       "      <td>16</td>\n",
       "      <td>11440.79806</td>\n",
       "      <td>0</td>\n",
       "    </tr>\n",
       "    <tr>\n",
       "      <th>3</th>\n",
       "      <td>95276.14</td>\n",
       "      <td>7</td>\n",
       "      <td>43167.32682</td>\n",
       "      <td>0</td>\n",
       "    </tr>\n",
       "    <tr>\n",
       "      <th>4</th>\n",
       "      <td>117384.68</td>\n",
       "      <td>8</td>\n",
       "      <td>12770.11290</td>\n",
       "      <td>1</td>\n",
       "    </tr>\n",
       "    <tr>\n",
       "      <th>5</th>\n",
       "      <td>55405.26</td>\n",
       "      <td>15</td>\n",
       "      <td>23594.53374</td>\n",
       "      <td>1</td>\n",
       "    </tr>\n",
       "    <tr>\n",
       "      <th>6</th>\n",
       "      <td>93415.61</td>\n",
       "      <td>20</td>\n",
       "      <td>16077.30660</td>\n",
       "      <td>1</td>\n",
       "    </tr>\n",
       "    <tr>\n",
       "      <th>7</th>\n",
       "      <td>65265.09</td>\n",
       "      <td>14</td>\n",
       "      <td>18666.73466</td>\n",
       "      <td>0</td>\n",
       "    </tr>\n",
       "    <tr>\n",
       "      <th>8</th>\n",
       "      <td>43917.53</td>\n",
       "      <td>23</td>\n",
       "      <td>12607.56956</td>\n",
       "      <td>1</td>\n",
       "    </tr>\n",
       "    <tr>\n",
       "      <th>9</th>\n",
       "      <td>107860.41</td>\n",
       "      <td>19</td>\n",
       "      <td>24000.08742</td>\n",
       "      <td>1</td>\n",
       "    </tr>\n",
       "  </tbody>\n",
       "</table>\n",
       "</div>"
      ],
      "text/plain": [
       "       price  model_age  km_per_year  sold\n",
       "0   30941.02         22  35085.22134     1\n",
       "1   40557.96         24  12622.05362     1\n",
       "2   89627.50         16  11440.79806     0\n",
       "3   95276.14          7  43167.32682     0\n",
       "4  117384.68          8  12770.11290     1\n",
       "5   55405.26         15  23594.53374     1\n",
       "6   93415.61         20  16077.30660     1\n",
       "7   65265.09         14  18666.73466     0\n",
       "8   43917.53         23  12607.56956     1\n",
       "9  107860.41         19  24000.08742     1"
      ]
     },
     "execution_count": 108,
     "metadata": {},
     "output_type": "execute_result"
    }
   ],
   "source": [
    "car_data.head(10)"
   ]
  },
  {
   "cell_type": "markdown",
   "id": "7f8971bd",
   "metadata": {},
   "source": [
    "# Separando treino e teste"
   ]
  },
  {
   "cell_type": "code",
   "execution_count": 109,
   "id": "cd706636",
   "metadata": {},
   "outputs": [],
   "source": [
    "SEED = 73\n",
    "np.random.seed(SEED)"
   ]
  },
  {
   "cell_type": "code",
   "execution_count": 110,
   "id": "83c1f1b1",
   "metadata": {},
   "outputs": [],
   "source": [
    "x = car_data[['price', 'model_age', 'km_per_year']]\n",
    "y = car_data['sold']"
   ]
  },
  {
   "cell_type": "code",
   "execution_count": 111,
   "id": "5b794369",
   "metadata": {},
   "outputs": [],
   "source": [
    "train_x, test_x, train_y, test_y = train_test_split(x, y, stratify=y)"
   ]
  },
  {
   "cell_type": "markdown",
   "id": "0ef4ba7b",
   "metadata": {},
   "source": [
    "# Testando modelos"
   ]
  },
  {
   "cell_type": "markdown",
   "id": "346307c2",
   "metadata": {},
   "source": [
    "## - LinearSVC"
   ]
  },
  {
   "cell_type": "code",
   "execution_count": 112,
   "id": "915d30b8",
   "metadata": {},
   "outputs": [
    {
     "name": "stdout",
     "output_type": "stream",
     "text": [
      "A acurácia do LinearSVC foi de 60.64%\n"
     ]
    },
    {
     "name": "stderr",
     "output_type": "stream",
     "text": [
      "c:\\users\\windows 10\\appdata\\local\\programs\\python\\python39\\lib\\site-packages\\sklearn\\svm\\_base.py:985: ConvergenceWarning: Liblinear failed to converge, increase the number of iterations.\n",
      "  warnings.warn(\"Liblinear failed to converge, increase \"\n"
     ]
    }
   ],
   "source": [
    "model = LinearSVC()\n",
    "\n",
    "model.fit(train_x, train_y)\n",
    "\n",
    "pred = model.predict(test_x)\n",
    "\n",
    "accuracy = accuracy_score(test_y, pred)\n",
    "\n",
    "print('A acurácia do LinearSVC foi de {:.2f}%'.format(accuracy * 100))"
   ]
  },
  {
   "cell_type": "markdown",
   "id": "872eb8d8",
   "metadata": {},
   "source": [
    "## - DummyClassifier"
   ]
  },
  {
   "cell_type": "code",
   "execution_count": 113,
   "id": "b446812c",
   "metadata": {},
   "outputs": [
    {
     "name": "stdout",
     "output_type": "stream",
     "text": [
      "A acurácia do DummyClassifier Stratified foi de 58.00%\n"
     ]
    }
   ],
   "source": [
    "model = DummyClassifier()\n",
    "\n",
    "model.fit(train_x, train_y)\n",
    "\n",
    "pred = model.predict(test_x)\n",
    "\n",
    "accuracy = accuracy_score(test_y, pred)\n",
    "\n",
    "print('A acurácia do DummyClassifier Stratified foi de {:.2f}%'.format(accuracy * 100))"
   ]
  },
  {
   "cell_type": "code",
   "execution_count": 114,
   "id": "7c6be9a3",
   "metadata": {},
   "outputs": [
    {
     "name": "stdout",
     "output_type": "stream",
     "text": [
      "A acurácia do DummyClassifier Most Frequent foi de 58.00%\n"
     ]
    }
   ],
   "source": [
    "model = DummyClassifier(strategy='most_frequent')\n",
    "\n",
    "model.fit(train_x, train_y)\n",
    "\n",
    "pred = model.predict(test_x)\n",
    "\n",
    "accuracy = accuracy_score(test_y, pred)\n",
    "\n",
    "print('A acurácia do DummyClassifier Most Frequent foi de {:.2f}%'.format(accuracy * 100))"
   ]
  },
  {
   "cell_type": "markdown",
   "id": "864156b3",
   "metadata": {},
   "source": [
    "## - SVC"
   ]
  },
  {
   "cell_type": "code",
   "execution_count": 115,
   "id": "e661cf12",
   "metadata": {},
   "outputs": [
    {
     "name": "stdout",
     "output_type": "stream",
     "text": [
      "A acurácia do SVC foi de 77.04%\n"
     ]
    }
   ],
   "source": [
    "scaler = StandardScaler()\n",
    "\n",
    "scaler.fit(train_x)\n",
    "train_x_pp = scaler.transform(train_x)\n",
    "test_x_pp = scaler.transform(test_x)\n",
    "\n",
    "model = SVC()\n",
    "model.fit(train_x_pp, train_y)\n",
    "pred = model.predict(test_x_pp)\n",
    "\n",
    "accuracy = accuracy_score(test_y, pred)\n",
    "\n",
    "print('A acurácia do SVC foi de {:.2f}%'.format(accuracy * 100))"
   ]
  },
  {
   "cell_type": "markdown",
   "id": "e616183d",
   "metadata": {},
   "source": [
    "## - DecisionTreeClassifier"
   ]
  },
  {
   "cell_type": "code",
   "execution_count": 123,
   "id": "2a0127c8",
   "metadata": {},
   "outputs": [
    {
     "name": "stdout",
     "output_type": "stream",
     "text": [
      "A acurácia do DecisionTreeClassifier foi de 78.68%\n"
     ]
    }
   ],
   "source": [
    "scaler = StandardScaler()\n",
    "\n",
    "scaler.fit(train_x)\n",
    "train_x_pp = scaler.transform(train_x)\n",
    "test_x_pp = scaler.transform(test_x)\n",
    "\n",
    "model = DecisionTreeClassifier(max_depth=3)\n",
    "model.fit(train_x_pp, train_y)\n",
    "pred = model.predict(test_x_pp)\n",
    "\n",
    "accuracy = accuracy_score(test_y, pred)\n",
    "\n",
    "print('A acurácia do DecisionTreeClassifier foi de {:.2f}%'.format(accuracy * 100))"
   ]
  },
  {
   "cell_type": "code",
   "execution_count": 124,
   "id": "77c205ac",
   "metadata": {},
   "outputs": [
    {
     "data": {
      "image/png": "[encoded data removed]",
      "text/plain": [
       "<Figure size 1080x720 with 1 Axes>"
      ]
     },
     "metadata": {
      "needs_background": "light"
     },
     "output_type": "display_data"
    }
   ],
   "source": [
    "fig, ax = plt.subplots(figsize=(15, 10))\n",
    "\n",
    "tree.plot_tree(\n",
    "    model,\n",
    "    fontsize=10,\n",
    "    rounded=True,\n",
    "    filled=True,\n",
    "    feature_names=train_x.columns,\n",
    "    class_names=['Não Ativado', 'Ativado']\n",
    ");"
   ]
  }
 ],
 "metadata": {
  "kernelspec": {
   "display_name": "Python 3",
   "language": "python",
   "name": "python3"
  },
  "language_info": {
   "codemirror_mode": {
    "name": "ipython",
    "version": 3
   },
   "file_extension": ".py",
   "mimetype": "text/x-python",
   "name": "python",
   "nbconvert_exporter": "python",
   "pygments_lexer": "ipython3",
   "version": "3.9.5"
  },
  "latex_envs": {
   "LaTeX_envs_menu_present": true,
   "autoclose": false,
   "autocomplete": true,
   "bibliofile": "biblio.bib",
   "cite_by": "apalike",
   "current_citInitial": 1,
   "eqLabelWithNumbers": true,
   "eqNumInitial": 1,
   "hotkeys": {
    "equation": "Ctrl-E",
    "itemize": "Ctrl-I"
   },
   "labels_anchors": false,
   "latex_user_defs": false,
   "report_style_numbering": false,
   "user_envs_cfg": false
  }
 },
 "nbformat": 4,
 "nbformat_minor": 5
}
