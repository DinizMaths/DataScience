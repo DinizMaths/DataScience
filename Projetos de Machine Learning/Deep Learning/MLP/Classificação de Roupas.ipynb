{
 "cells": [
  {
   "cell_type": "markdown",
   "id": "1266800a",
   "metadata": {},
   "source": [
    "## Importando bibliotecas"
   ]
  },
  {
   "cell_type": "code",
   "execution_count": 45,
   "id": "cafe5ed1",
   "metadata": {},
   "outputs": [],
   "source": [
    "import tensorflow\n",
    "from tensorflow import keras\n",
    "\n",
    "import numpy             as np\n",
    "import pandas            as pd\n",
    "import matplotlib.pyplot as plt\n",
    "import seaborn           as sns"
   ]
  },
  {
   "cell_type": "markdown",
   "id": "cd6ab160",
   "metadata": {},
   "source": [
    "## Importando dataset <ins>fashion mnist</ins>"
   ]
  },
  {
   "cell_type": "code",
   "execution_count": 2,
   "id": "5ec62c42",
   "metadata": {
    "scrolled": false
   },
   "outputs": [],
   "source": [
    "dataset = keras.datasets.fashion_mnist\n",
    "\n",
    "((imagens_treino, identificacoes_treino), (imagens_teste, identificacoes_teste)) = dataset.load_data()"
   ]
  },
  {
   "cell_type": "code",
   "execution_count": 3,
   "id": "bdea9fcb",
   "metadata": {},
   "outputs": [
    {
     "data": {
      "text/plain": [
       "array([[[0, 0, 0, ..., 0, 0, 0],\n",
       "        [0, 0, 0, ..., 0, 0, 0],\n",
       "        [0, 0, 0, ..., 0, 0, 0],\n",
       "        ...,\n",
       "        [0, 0, 0, ..., 0, 0, 0],\n",
       "        [0, 0, 0, ..., 0, 0, 0],\n",
       "        [0, 0, 0, ..., 0, 0, 0]],\n",
       "\n",
       "       [[0, 0, 0, ..., 0, 0, 0],\n",
       "        [0, 0, 0, ..., 0, 0, 0],\n",
       "        [0, 0, 0, ..., 0, 0, 0],\n",
       "        ...,\n",
       "        [0, 0, 0, ..., 0, 0, 0],\n",
       "        [0, 0, 0, ..., 0, 0, 0],\n",
       "        [0, 0, 0, ..., 0, 0, 0]],\n",
       "\n",
       "       [[0, 0, 0, ..., 0, 0, 0],\n",
       "        [0, 0, 0, ..., 0, 0, 0],\n",
       "        [0, 0, 0, ..., 0, 0, 0],\n",
       "        ...,\n",
       "        [0, 0, 0, ..., 0, 0, 0],\n",
       "        [0, 0, 0, ..., 0, 0, 0],\n",
       "        [0, 0, 0, ..., 0, 0, 0]],\n",
       "\n",
       "       ...,\n",
       "\n",
       "       [[0, 0, 0, ..., 0, 0, 0],\n",
       "        [0, 0, 0, ..., 0, 0, 0],\n",
       "        [0, 0, 0, ..., 0, 0, 0],\n",
       "        ...,\n",
       "        [0, 0, 0, ..., 0, 0, 0],\n",
       "        [0, 0, 0, ..., 0, 0, 0],\n",
       "        [0, 0, 0, ..., 0, 0, 0]],\n",
       "\n",
       "       [[0, 0, 0, ..., 0, 0, 0],\n",
       "        [0, 0, 0, ..., 0, 0, 0],\n",
       "        [0, 0, 0, ..., 0, 0, 0],\n",
       "        ...,\n",
       "        [0, 0, 0, ..., 0, 0, 0],\n",
       "        [0, 0, 0, ..., 0, 0, 0],\n",
       "        [0, 0, 0, ..., 0, 0, 0]],\n",
       "\n",
       "       [[0, 0, 0, ..., 0, 0, 0],\n",
       "        [0, 0, 0, ..., 0, 0, 0],\n",
       "        [0, 0, 0, ..., 0, 0, 0],\n",
       "        ...,\n",
       "        [0, 0, 0, ..., 0, 0, 0],\n",
       "        [0, 0, 0, ..., 0, 0, 0],\n",
       "        [0, 0, 0, ..., 0, 0, 0]]], dtype=uint8)"
      ]
     },
     "execution_count": 3,
     "metadata": {},
     "output_type": "execute_result"
    }
   ],
   "source": [
    "imagens_treino"
   ]
  },
  {
   "cell_type": "markdown",
   "id": "e067c8cf",
   "metadata": {},
   "source": [
    "---"
   ]
  },
  {
   "cell_type": "code",
   "execution_count": 4,
   "id": "f78edf36",
   "metadata": {},
   "outputs": [
    {
     "data": {
      "text/plain": [
       "(60000, 28, 28)"
      ]
     },
     "execution_count": 4,
     "metadata": {},
     "output_type": "execute_result"
    }
   ],
   "source": [
    "imagens_treino.shape"
   ]
  },
  {
   "cell_type": "code",
   "execution_count": 5,
   "id": "dbd7a711",
   "metadata": {},
   "outputs": [
    {
     "data": {
      "text/plain": [
       "(10000, 28, 28)"
      ]
     },
     "execution_count": 5,
     "metadata": {},
     "output_type": "execute_result"
    }
   ],
   "source": [
    "imagens_teste.shape"
   ]
  },
  {
   "cell_type": "markdown",
   "id": "9c095ec4",
   "metadata": {},
   "source": [
    "---"
   ]
  },
  {
   "cell_type": "code",
   "execution_count": 6,
   "id": "63ccb4c1",
   "metadata": {},
   "outputs": [
    {
     "data": {
      "text/plain": [
       "(60000,)"
      ]
     },
     "execution_count": 6,
     "metadata": {},
     "output_type": "execute_result"
    }
   ],
   "source": [
    "identificacoes_treino.shape"
   ]
  },
  {
   "cell_type": "code",
   "execution_count": 7,
   "id": "0096b4b3",
   "metadata": {},
   "outputs": [
    {
     "data": {
      "text/plain": [
       "(10000,)"
      ]
     },
     "execution_count": 7,
     "metadata": {},
     "output_type": "execute_result"
    }
   ],
   "source": [
    "identificacoes_teste.shape"
   ]
  },
  {
   "cell_type": "markdown",
   "id": "cb84de22",
   "metadata": {},
   "source": [
    "---"
   ]
  },
  {
   "cell_type": "markdown",
   "id": "b56af479",
   "metadata": {},
   "source": [
    "## Visualização de imagens"
   ]
  },
  {
   "cell_type": "code",
   "execution_count": 8,
   "id": "3db30efe",
   "metadata": {
    "scrolled": true
   },
   "outputs": [
    {
     "data": {
      "text/plain": [
       "<matplotlib.image.AxesImage at 0x1df907f34f0>"
      ]
     },
     "execution_count": 8,
     "metadata": {},
     "output_type": "execute_result"
    },
    {
     "data": {
      "image/png": "[encoded data removed]",
      "text/plain": [
       "<Figure size 432x288 with 1 Axes>"
      ]
     },
     "metadata": {
      "needs_background": "light"
     },
     "output_type": "display_data"
    }
   ],
   "source": [
    "plt.imshow(imagens_treino[0])"
   ]
  },
  {
   "cell_type": "code",
   "execution_count": 9,
   "id": "b5a82135",
   "metadata": {},
   "outputs": [
    {
     "data": {
      "text/plain": [
       "<matplotlib.image.AxesImage at 0x1df908db9d0>"
      ]
     },
     "execution_count": 9,
     "metadata": {},
     "output_type": "execute_result"
    },
    {
     "data": {
      "image/png": "[encoded data removed]",
      "text/plain": [
       "<Figure size 432x288 with 1 Axes>"
      ]
     },
     "metadata": {
      "needs_background": "light"
     },
     "output_type": "display_data"
    }
   ],
   "source": [
    "plt.imshow(imagens_treino[1])"
   ]
  },
  {
   "cell_type": "code",
   "execution_count": 10,
   "id": "0667a503",
   "metadata": {},
   "outputs": [
    {
     "data": {
      "text/plain": [
       "<matplotlib.image.AxesImage at 0x1df909489a0>"
      ]
     },
     "execution_count": 10,
     "metadata": {},
     "output_type": "execute_result"
    },
    {
     "data": {
      "image/png": "[encoded data removed]",
      "text/plain": [
       "<Figure size 432x288 with 1 Axes>"
      ]
     },
     "metadata": {
      "needs_background": "light"
     },
     "output_type": "display_data"
    }
   ],
   "source": [
    "plt.imshow(imagens_treino[3])"
   ]
  },
  {
   "cell_type": "markdown",
   "id": "303e0675",
   "metadata": {},
   "source": [
    "## Valores de Identificação das imagens"
   ]
  },
  {
   "cell_type": "code",
   "execution_count": 11,
   "id": "9a4fd4ff",
   "metadata": {},
   "outputs": [
    {
     "data": {
      "text/plain": [
       "0"
      ]
     },
     "execution_count": 11,
     "metadata": {},
     "output_type": "execute_result"
    }
   ],
   "source": [
    "identificacoes_treino.min()"
   ]
  },
  {
   "cell_type": "code",
   "execution_count": 12,
   "id": "5f564a69",
   "metadata": {},
   "outputs": [
    {
     "data": {
      "text/plain": [
       "9"
      ]
     },
     "execution_count": 12,
     "metadata": {},
     "output_type": "execute_result"
    }
   ],
   "source": [
    "identificacoes_treino.max()"
   ]
  },
  {
   "cell_type": "code",
   "execution_count": 13,
   "id": "968a140b",
   "metadata": {},
   "outputs": [],
   "source": [
    "total_de_classificacoes = 10"
   ]
  },
  {
   "cell_type": "markdown",
   "id": "4f2f329d",
   "metadata": {},
   "source": [
    "## Criando descrição para cada imagem"
   ]
  },
  {
   "cell_type": "code",
   "execution_count": 14,
   "id": "89a54c46",
   "metadata": {},
   "outputs": [
    {
     "data": {
      "text/plain": [
       "0    T-shirt/top\n",
       "1        Trouser\n",
       "2       Pullover\n",
       "3          Dress\n",
       "4           Coat\n",
       "5         Sandal\n",
       "6          Shirt\n",
       "7        Sneaker\n",
       "8            Bag\n",
       "9     Ankle boot\n",
       "dtype: object"
      ]
     },
     "execution_count": 14,
     "metadata": {},
     "output_type": "execute_result"
    }
   ],
   "source": [
    "identificacoes_description = pd.Series(\n",
    "    {\n",
    "        0: 'T-shirt/top',\n",
    "        1: 'Trouser',\n",
    "        2: 'Pullover',\n",
    "        3: 'Dress',\n",
    "        4: 'Coat',\n",
    "        5: 'Sandal',\n",
    "        6: 'Shirt',\n",
    "        7: 'Sneaker',\n",
    "        8: 'Bag',\n",
    "        9: 'Ankle boot'\n",
    "    }\n",
    ")\n",
    "\n",
    "identificacoes_description"
   ]
  },
  {
   "cell_type": "code",
   "execution_count": 15,
   "id": "c7853990",
   "metadata": {},
   "outputs": [
    {
     "data": {
      "text/html": [
       "<div>\n",
       "<style scoped>\n",
       "    .dataframe tbody tr th:only-of-type {\n",
       "        vertical-align: middle;\n",
       "    }\n",
       "\n",
       "    .dataframe tbody tr th {\n",
       "        vertical-align: top;\n",
       "    }\n",
       "\n",
       "    .dataframe thead th {\n",
       "        text-align: right;\n",
       "    }\n",
       "</style>\n",
       "<table border=\"1\" class=\"dataframe\">\n",
       "  <thead>\n",
       "    <tr style=\"text-align: right;\">\n",
       "      <th></th>\n",
       "      <th>Description</th>\n",
       "    </tr>\n",
       "    <tr>\n",
       "      <th>Label</th>\n",
       "      <th></th>\n",
       "    </tr>\n",
       "  </thead>\n",
       "  <tbody>\n",
       "    <tr>\n",
       "      <th>0</th>\n",
       "      <td>T-shirt/top</td>\n",
       "    </tr>\n",
       "    <tr>\n",
       "      <th>1</th>\n",
       "      <td>Trouser</td>\n",
       "    </tr>\n",
       "    <tr>\n",
       "      <th>2</th>\n",
       "      <td>Pullover</td>\n",
       "    </tr>\n",
       "    <tr>\n",
       "      <th>3</th>\n",
       "      <td>Dress</td>\n",
       "    </tr>\n",
       "    <tr>\n",
       "      <th>4</th>\n",
       "      <td>Coat</td>\n",
       "    </tr>\n",
       "    <tr>\n",
       "      <th>5</th>\n",
       "      <td>Sandal</td>\n",
       "    </tr>\n",
       "    <tr>\n",
       "      <th>6</th>\n",
       "      <td>Shirt</td>\n",
       "    </tr>\n",
       "    <tr>\n",
       "      <th>7</th>\n",
       "      <td>Sneaker</td>\n",
       "    </tr>\n",
       "    <tr>\n",
       "      <th>8</th>\n",
       "      <td>Bag</td>\n",
       "    </tr>\n",
       "    <tr>\n",
       "      <th>9</th>\n",
       "      <td>Ankle boot</td>\n",
       "    </tr>\n",
       "  </tbody>\n",
       "</table>\n",
       "</div>"
      ],
      "text/plain": [
       "       Description\n",
       "Label             \n",
       "0      T-shirt/top\n",
       "1          Trouser\n",
       "2         Pullover\n",
       "3            Dress\n",
       "4             Coat\n",
       "5           Sandal\n",
       "6            Shirt\n",
       "7          Sneaker\n",
       "8              Bag\n",
       "9       Ankle boot"
      ]
     },
     "execution_count": 15,
     "metadata": {},
     "output_type": "execute_result"
    }
   ],
   "source": [
    "identificacoes_description = identificacoes_description.to_frame()\n",
    "identificacoes_description.columns = ['Description']\n",
    "identificacoes_description.index.name = 'Label'\n",
    "\n",
    "identificacoes_description"
   ]
  },
  {
   "cell_type": "code",
   "execution_count": 16,
   "id": "c6c10ba5",
   "metadata": {},
   "outputs": [
    {
     "data": {
      "text/plain": [
       "'Trouser'"
      ]
     },
     "execution_count": 16,
     "metadata": {},
     "output_type": "execute_result"
    }
   ],
   "source": [
    "identificacoes_description.iloc[1]['Description']"
   ]
  },
  {
   "cell_type": "markdown",
   "id": "90235c33",
   "metadata": {},
   "source": [
    "## Visualizando classificações"
   ]
  },
  {
   "cell_type": "code",
   "execution_count": 17,
   "id": "e84278df",
   "metadata": {},
   "outputs": [
    {
     "data": {
      "image/png": "[encoded data removed]",
      "text/plain": [
       "<Figure size 432x288 with 10 Axes>"
      ]
     },
     "metadata": {
      "needs_background": "light"
     },
     "output_type": "display_data"
    }
   ],
   "source": [
    "for imagem in range(total_de_classificacoes):\n",
    "    plt.subplot(2, 5, imagem + 1)\n",
    "    plt.imshow(imagens_treino[imagem])\n",
    "    plt.title(identificacoes_description.iloc[identificacoes_treino[imagem]]['Description'])"
   ]
  },
  {
   "cell_type": "markdown",
   "id": "2e30fd31",
   "metadata": {},
   "source": [
    "## Criando a Camada 0 - (camada de entrada)"
   ]
  },
  {
   "cell_type": "code",
   "execution_count": 18,
   "id": "32b6ee9c",
   "metadata": {},
   "outputs": [],
   "source": [
    "modelo = keras.Sequential([\n",
    "    #Achata as dimensoes de entrada pra ser uma só coluna com alturaXlargura\n",
    "    keras.layers.Flatten(input_shape=(28, 28))\n",
    "])"
   ]
  },
  {
   "cell_type": "markdown",
   "id": "ad5aa08d",
   "metadata": {},
   "source": [
    "## Criando a Camada 1 - (camada Dense)"
   ]
  },
  {
   "cell_type": "code",
   "execution_count": 19,
   "id": "612fa99b",
   "metadata": {},
   "outputs": [],
   "source": [
    "modelo = keras.Sequential([\n",
    "    #Achata as dimensoes de entrada pra ser uma só coluna com alturaXlargura\n",
    "    keras.layers.Flatten(input_shape=(28, 28)),\n",
    "    \n",
    "    #Número de \"bolinhas\" que irão receber os inputs, dica: usar múltiplos de 2 pois o processador trabalha assim\n",
    "    #activation = função de ativação das \"bolinhas\", nn -> neural network, relu -> Rectified Linear Unit\n",
    "    keras.layers.Dense(256, activation=tensorflow.nn.relu)\n",
    "])"
   ]
  },
  {
   "cell_type": "markdown",
   "id": "062ea48b",
   "metadata": {},
   "source": [
    "### Relu"
   ]
  },
  {
   "cell_type": "markdown",
   "id": "e3ef150d",
   "metadata": {},
   "source": [
    "<img \n",
    "    src=\"https://miro.medium.com/max/698/1*4YfNyJEGnNhquOIJwLIzMQ.png\"\n",
    "    width=500\n",
    "/>"
   ]
  },
  {
   "cell_type": "markdown",
   "id": "e04d5f76",
   "metadata": {},
   "source": [
    "- Números negativos na estrada se tornam 0\n",
    "- Números positivos se mantêm positivos nas saídas\n",
    "- Não linear\n",
    "    - As separações das classes acontece por curvas"
   ]
  },
  {
   "cell_type": "markdown",
   "id": "fae408fb",
   "metadata": {},
   "source": [
    "## Criando a camada 2 (Camada de saída)"
   ]
  },
  {
   "cell_type": "code",
   "execution_count": 20,
   "id": "d98a77b6",
   "metadata": {},
   "outputs": [],
   "source": [
    "modelo = keras.Sequential([\n",
    "    #Achata as dimensoes de entrada pra ser uma só coluna com alturaXlargura\n",
    "    keras.layers.Flatten(input_shape=(28, 28)),\n",
    "    \n",
    "    #Número de \"bolinhas\" que irão receber os inputs, dica: usar múltiplos de 2 pois o processador trabalha assim\n",
    "    #activation = função de ativação das \"bolinhas\", nn -> neural network, relu -> Rectified Linear Unit\n",
    "    keras.layers.Dense(256, activation=tensorflow.nn.relu),\n",
    "    \n",
    "    #A camada de saída também é uma camada Dense\n",
    "    #A softmax vai forçar a saída representar a probabilidade dos dados serem de uma das classes definidas, \n",
    "    #sem ela seriam apenas números onde o maior indicaria a classe vencedora\n",
    "    keras.layers.Dense(10, activation=tensorflow.nn.softmax)\n",
    "])"
   ]
  },
  {
   "cell_type": "markdown",
   "id": "a8d62d5b",
   "metadata": {},
   "source": [
    "## Compilando o modelo"
   ]
  },
  {
   "cell_type": "code",
   "execution_count": 21,
   "id": "7e3013f1",
   "metadata": {},
   "outputs": [],
   "source": [
    "modelo.compile(\n",
    "    #Otimizador serve para melhorar o treino\n",
    "    #adam é um otimizador famoso quando se trada de classificar em categorias\n",
    "    optimizer='adam',\n",
    "    \n",
    "    #Usado no caso de varias categorias (não seria recomendado caso fossem 2 categorias)\n",
    "    loss='sparse_categorical_crossentropy'\n",
    ")"
   ]
  },
  {
   "cell_type": "markdown",
   "id": "ccba36dd",
   "metadata": {},
   "source": [
    "## Treinando modelo"
   ]
  },
  {
   "cell_type": "code",
   "execution_count": 22,
   "id": "97cbdf86",
   "metadata": {},
   "outputs": [
    {
     "name": "stdout",
     "output_type": "stream",
     "text": [
      "1875/1875 [==============================] - 7s 3ms/step - loss: 3.8583\n"
     ]
    },
    {
     "data": {
      "text/plain": [
       "<keras.callbacks.History at 0x1df93b47b20>"
      ]
     },
     "execution_count": 22,
     "metadata": {},
     "output_type": "execute_result"
    }
   ],
   "source": [
    "modelo.fit(imagens_treino, identificacoes_treino)"
   ]
  },
  {
   "cell_type": "markdown",
   "id": "4bc29db2",
   "metadata": {},
   "source": [
    "Podiamos, ainda, ter setado o parâmetro `epochs` para dizer quantas épocas (ciclos) nosso modelo passaria"
   ]
  },
  {
   "cell_type": "markdown",
   "id": "afe07b19",
   "metadata": {},
   "source": [
    "## Diminuindo perdas"
   ]
  },
  {
   "cell_type": "code",
   "execution_count": 23,
   "id": "fe9a69a1",
   "metadata": {
    "scrolled": true
   },
   "outputs": [
    {
     "data": {
      "text/plain": [
       "<matplotlib.colorbar.Colorbar at 0x1df90bd9e50>"
      ]
     },
     "execution_count": 23,
     "metadata": {},
     "output_type": "execute_result"
    },
    {
     "data": {
      "image/png": "[encoded data removed]",
      "text/plain": [
       "<Figure size 432x288 with 2 Axes>"
      ]
     },
     "metadata": {
      "needs_background": "light"
     },
     "output_type": "display_data"
    }
   ],
   "source": [
    "plt.imshow(imagens_treino[0])\n",
    "plt.colorbar()"
   ]
  },
  {
   "cell_type": "markdown",
   "id": "134dfdc5",
   "metadata": {},
   "source": [
    "### Diminuindo a abrangência numérica\n",
    "\n",
    "Inicialmente os valores que indicavam as cores iam de 0 a 255, dividir tudo por 255 nos faz manter a diferença entre os valores, agora descritos como pontos flutuantes, e deixar em um intervalo de 0 à 1 (basicamente uma normalização) "
   ]
  },
  {
   "cell_type": "code",
   "execution_count": 24,
   "id": "9266174f",
   "metadata": {},
   "outputs": [],
   "source": [
    "imagens_treino = imagens_treino / float(255)"
   ]
  },
  {
   "cell_type": "code",
   "execution_count": 25,
   "id": "352bdaa1",
   "metadata": {},
   "outputs": [],
   "source": [
    "modelo = keras.Sequential([\n",
    "    keras.layers.Flatten(input_shape=(28, 28)),\n",
    "    \n",
    "    keras.layers.Dense(256, activation=tensorflow.nn.relu),\n",
    "    \n",
    "    keras.layers.Dense(10, activation=tensorflow.nn.softmax)\n",
    "])"
   ]
  },
  {
   "cell_type": "code",
   "execution_count": 26,
   "id": "c9103097",
   "metadata": {},
   "outputs": [],
   "source": [
    "modelo.compile(optimizer='adam', loss='sparse_categorical_crossentropy')"
   ]
  },
  {
   "cell_type": "code",
   "execution_count": 27,
   "id": "5350bf41",
   "metadata": {},
   "outputs": [
    {
     "name": "stdout",
     "output_type": "stream",
     "text": [
      "1875/1875 [==============================] - 6s 3ms/step - loss: 0.4849\n"
     ]
    },
    {
     "data": {
      "text/plain": [
       "<keras.callbacks.History at 0x1df90a36430>"
      ]
     },
     "execution_count": 27,
     "metadata": {},
     "output_type": "execute_result"
    }
   ],
   "source": [
    "modelo.fit(imagens_treino, identificacoes_treino)"
   ]
  },
  {
   "cell_type": "markdown",
   "id": "d827be91",
   "metadata": {},
   "source": [
    "### Redefinindo número de camadas"
   ]
  },
  {
   "cell_type": "markdown",
   "id": "3eb68126",
   "metadata": {},
   "source": [
    "Até o momento, estávamos usando a seguinte lógica:\\\n",
    "Camada 0 $\\rightarrow$ Camada 1 $\\rightarrow$ Camada 2\\\n",
    "[(28, 28)] $~\\rightarrow~~~$ [256] $~~~\\rightarrow$ [10]"
   ]
  },
  {
   "cell_type": "markdown",
   "id": "b5707f52",
   "metadata": {},
   "source": [
    "Ou seja, temos 256 indo para 10, parece ser muita informação...\n",
    "\n",
    "Uma possível solução pode ser separar a nossa camada intermediária em mais camadas"
   ]
  },
  {
   "cell_type": "code",
   "execution_count": 28,
   "id": "bef021ea",
   "metadata": {},
   "outputs": [
    {
     "name": "stdout",
     "output_type": "stream",
     "text": [
      "1875/1875 [==============================] - 7s 4ms/step - loss: 0.4734\n"
     ]
    },
    {
     "data": {
      "text/plain": [
       "<keras.callbacks.History at 0x1df90b37d30>"
      ]
     },
     "execution_count": 28,
     "metadata": {},
     "output_type": "execute_result"
    }
   ],
   "source": [
    "modelo = keras.Sequential([\n",
    "    keras.layers.Flatten(input_shape=(28, 28)),\n",
    "    \n",
    "    #As camadas intermediárias são chamadas de ocultas\n",
    "    keras.layers.Dense(256, activation=tensorflow.nn.relu),\n",
    "    keras.layers.Dense(128, activation=tensorflow.nn.relu),\n",
    "    \n",
    "    keras.layers.Dense(10, activation=tensorflow.nn.softmax)\n",
    "])\n",
    "\n",
    "modelo.compile(optimizer='adam', loss='sparse_categorical_crossentropy')\n",
    "\n",
    "modelo.fit(imagens_treino, identificacoes_treino)"
   ]
  },
  {
   "cell_type": "markdown",
   "id": "d0709f40",
   "metadata": {},
   "source": [
    "---"
   ]
  },
  {
   "cell_type": "code",
   "execution_count": 29,
   "id": "736163b7",
   "metadata": {},
   "outputs": [
    {
     "name": "stdout",
     "output_type": "stream",
     "text": [
      "1875/1875 [==============================] - 8s 4ms/step - loss: 0.4846\n"
     ]
    },
    {
     "data": {
      "text/plain": [
       "<keras.callbacks.History at 0x1dfaa40d310>"
      ]
     },
     "execution_count": 29,
     "metadata": {},
     "output_type": "execute_result"
    }
   ],
   "source": [
    "modelo = keras.Sequential([\n",
    "    keras.layers.Flatten(input_shape=(28, 28)),\n",
    "    \n",
    "    keras.layers.Dense(256, activation=tensorflow.nn.relu),\n",
    "    keras.layers.Dense(128, activation=tensorflow.nn.relu),\n",
    "    keras.layers.Dense(64, activation=tensorflow.nn.relu),\n",
    "    \n",
    "    keras.layers.Dense(10, activation=tensorflow.nn.softmax)\n",
    "])\n",
    "\n",
    "modelo.compile(optimizer='adam', loss='sparse_categorical_crossentropy')\n",
    "\n",
    "modelo.fit(imagens_treino, identificacoes_treino)"
   ]
  },
  {
   "cell_type": "markdown",
   "id": "ca8f6de2",
   "metadata": {},
   "source": [
    "### Treinando por mais épocas"
   ]
  },
  {
   "cell_type": "code",
   "execution_count": 30,
   "id": "1e723489",
   "metadata": {},
   "outputs": [
    {
     "name": "stdout",
     "output_type": "stream",
     "text": [
      "Epoch 1/5\n",
      "1875/1875 [==============================] - 7s 4ms/step - loss: 0.4781\n",
      "Epoch 2/5\n",
      "1875/1875 [==============================] - 7s 4ms/step - loss: 0.3604\n",
      "Epoch 3/5\n",
      "1875/1875 [==============================] - 7s 4ms/step - loss: 0.3243\n",
      "Epoch 4/5\n",
      "1875/1875 [==============================] - 7s 4ms/step - loss: 0.3007\n",
      "Epoch 5/5\n",
      "1875/1875 [==============================] - 7s 4ms/step - loss: 0.2817\n"
     ]
    },
    {
     "data": {
      "text/plain": [
       "<keras.callbacks.History at 0x1dfaa4dfee0>"
      ]
     },
     "execution_count": 30,
     "metadata": {},
     "output_type": "execute_result"
    }
   ],
   "source": [
    "modelo = keras.Sequential([\n",
    "    keras.layers.Flatten(input_shape=(28, 28)),\n",
    "    \n",
    "    keras.layers.Dense(256, activation=tensorflow.nn.relu),\n",
    "    keras.layers.Dense(128, activation=tensorflow.nn.relu),\n",
    "    \n",
    "    keras.layers.Dense(10, activation=tensorflow.nn.softmax)\n",
    "])\n",
    "\n",
    "modelo.compile(optimizer='adam', loss='sparse_categorical_crossentropy')\n",
    "\n",
    "modelo.fit(imagens_treino, identificacoes_treino, epochs=5)"
   ]
  },
  {
   "cell_type": "markdown",
   "id": "4fae6c74",
   "metadata": {},
   "source": [
    "## Como saber acertos por época?"
   ]
  },
  {
   "cell_type": "code",
   "execution_count": 31,
   "id": "5d5d426d",
   "metadata": {},
   "outputs": [
    {
     "name": "stdout",
     "output_type": "stream",
     "text": [
      "Epoch 1/5\n",
      "1875/1875 [==============================] - 8s 4ms/step - loss: 0.4782 - accuracy: 0.8274\n",
      "Epoch 2/5\n",
      "1875/1875 [==============================] - 6s 3ms/step - loss: 0.3625 - accuracy: 0.8666\n",
      "Epoch 3/5\n",
      "1875/1875 [==============================] - 7s 4ms/step - loss: 0.3240 - accuracy: 0.8801\n",
      "Epoch 4/5\n",
      "1875/1875 [==============================] - 7s 4ms/step - loss: 0.3015 - accuracy: 0.8892\n",
      "Epoch 5/5\n",
      "1875/1875 [==============================] - 7s 4ms/step - loss: 0.2824 - accuracy: 0.8943\n"
     ]
    },
    {
     "data": {
      "text/plain": [
       "<keras.callbacks.History at 0x1dfaa5a8520>"
      ]
     },
     "execution_count": 31,
     "metadata": {},
     "output_type": "execute_result"
    }
   ],
   "source": [
    "modelo = keras.Sequential([\n",
    "    keras.layers.Flatten(input_shape=(28, 28)),\n",
    "    \n",
    "    keras.layers.Dense(256, activation=tensorflow.nn.relu),\n",
    "    keras.layers.Dense(128, activation=tensorflow.nn.relu),\n",
    "    \n",
    "    keras.layers.Dense(10, activation=tensorflow.nn.softmax)\n",
    "])\n",
    "\n",
    "modelo.compile(optimizer='adam', loss='sparse_categorical_crossentropy', metrics=['accuracy'])\n",
    "\n",
    "modelo.fit(imagens_treino, identificacoes_treino, epochs=5)"
   ]
  },
  {
   "cell_type": "markdown",
   "id": "072fa86c",
   "metadata": {},
   "source": [
    "## Fazendo testes"
   ]
  },
  {
   "cell_type": "code",
   "execution_count": 32,
   "id": "9a9cb7f3",
   "metadata": {},
   "outputs": [],
   "source": [
    "testes = modelo.predict(imagens_teste)"
   ]
  },
  {
   "cell_type": "code",
   "execution_count": 33,
   "id": "eb3afeed",
   "metadata": {},
   "outputs": [
    {
     "data": {
      "text/plain": [
       "array([0., 0., 0., 0., 0., 0., 0., 0., 0., 1.], dtype=float32)"
      ]
     },
     "execution_count": 33,
     "metadata": {},
     "output_type": "execute_result"
    }
   ],
   "source": [
    "testes[0]"
   ]
  },
  {
   "cell_type": "code",
   "execution_count": 34,
   "id": "a47ba2bc",
   "metadata": {
    "scrolled": true
   },
   "outputs": [
    {
     "name": "stdout",
     "output_type": "stream",
     "text": [
      "Predição do modelo: 9\n",
      "Label do teste: 9\n",
      "\n",
      "\n",
      "Predição do modelo: 2\n",
      "Label do teste: 2\n",
      "\n",
      "\n",
      "Predição do modelo: 1\n",
      "Label do teste: 1\n",
      "\n",
      "\n",
      "Predição do modelo: 1\n",
      "Label do teste: 1\n",
      "\n",
      "\n",
      "Predição do modelo: 6\n",
      "Label do teste: 6\n",
      "\n",
      "\n",
      "Predição do modelo: 1\n",
      "Label do teste: 1\n",
      "\n",
      "\n",
      "Predição do modelo: 4\n",
      "Label do teste: 4\n",
      "\n",
      "\n",
      "Predição do modelo: 6\n",
      "Label do teste: 6\n",
      "\n",
      "\n",
      "Predição do modelo: 5\n",
      "Label do teste: 5\n",
      "\n",
      "\n",
      "Predição do modelo: 7\n",
      "Label do teste: 7\n",
      "\n",
      "\n"
     ]
    }
   ],
   "source": [
    "for i in range(10):\n",
    "    print(f\"Predição do modelo: {np.argmax(testes[i])}\")\n",
    "    print(f\"Label do teste: {identificacoes_teste[i]}\")\n",
    "    print(\"\\n\")"
   ]
  },
  {
   "cell_type": "code",
   "execution_count": 35,
   "id": "82dbca77",
   "metadata": {},
   "outputs": [],
   "source": [
    "def num_to_description(num):\n",
    "    if num > 10 or num < 0:\n",
    "        return -1\n",
    "    else:\n",
    "        return identificacoes_description.iloc[num]['Description']"
   ]
  },
  {
   "cell_type": "code",
   "execution_count": 36,
   "id": "ce82b704",
   "metadata": {
    "scrolled": true
   },
   "outputs": [
    {
     "name": "stdout",
     "output_type": "stream",
     "text": [
      "Predição do modelo: Ankle boot\n",
      "Label do teste: Ankle boot\n",
      "\n",
      "\n",
      "Predição do modelo: Pullover\n",
      "Label do teste: Pullover\n",
      "\n",
      "\n",
      "Predição do modelo: Trouser\n",
      "Label do teste: Trouser\n",
      "\n",
      "\n",
      "Predição do modelo: Trouser\n",
      "Label do teste: Trouser\n",
      "\n",
      "\n",
      "Predição do modelo: Shirt\n",
      "Label do teste: Shirt\n",
      "\n",
      "\n",
      "Predição do modelo: Trouser\n",
      "Label do teste: Trouser\n",
      "\n",
      "\n",
      "Predição do modelo: Coat\n",
      "Label do teste: Coat\n",
      "\n",
      "\n",
      "Predição do modelo: Shirt\n",
      "Label do teste: Shirt\n",
      "\n",
      "\n",
      "Predição do modelo: Sandal\n",
      "Label do teste: Sandal\n",
      "\n",
      "\n",
      "Predição do modelo: Sneaker\n",
      "Label do teste: Sneaker\n",
      "\n",
      "\n"
     ]
    }
   ],
   "source": [
    "for i in range(10):\n",
    "    print(f\"Predição do modelo: {num_to_description(np.argmax(testes[i]))}\")\n",
    "    print(f\"Label do teste: {num_to_description(identificacoes_teste[i])}\")\n",
    "    print(\"\\n\")"
   ]
  },
  {
   "cell_type": "markdown",
   "id": "a976fba2",
   "metadata": {},
   "source": [
    "## Avaliação do modelo"
   ]
  },
  {
   "cell_type": "code",
   "execution_count": 37,
   "id": "0ab18670",
   "metadata": {},
   "outputs": [
    {
     "name": "stdout",
     "output_type": "stream",
     "text": [
      "313/313 [==============================] - 1s 3ms/step - loss: 47.2737 - accuracy: 0.8656\n"
     ]
    }
   ],
   "source": [
    "perda_teste, acuracia_teste = modelo.evaluate(imagens_teste, identificacoes_teste)"
   ]
  },
  {
   "cell_type": "code",
   "execution_count": 38,
   "id": "d4fdda97",
   "metadata": {},
   "outputs": [
    {
     "name": "stdout",
     "output_type": "stream",
     "text": [
      "Perdas do teste: 47.27368927001953\n",
      "Acurácia do teste: 0.8655999898910522\n"
     ]
    }
   ],
   "source": [
    "print(f\"Perdas do teste: {perda_teste}\")\n",
    "print(f\"Acurácia do teste: {acuracia_teste}\")"
   ]
  },
  {
   "cell_type": "markdown",
   "id": "ef89bbc9",
   "metadata": {},
   "source": [
    "## Validação"
   ]
  },
  {
   "cell_type": "code",
   "execution_count": 39,
   "id": "b4825d29",
   "metadata": {},
   "outputs": [
    {
     "name": "stdout",
     "output_type": "stream",
     "text": [
      "Epoch 1/5\n",
      "1500/1500 [==============================] - 7s 4ms/step - loss: 0.4936 - accuracy: 0.8232 - val_loss: 0.4196 - val_accuracy: 0.8454\n",
      "Epoch 2/5\n",
      "1500/1500 [==============================] - 6s 4ms/step - loss: 0.3702 - accuracy: 0.8650 - val_loss: 0.3654 - val_accuracy: 0.8672\n",
      "Epoch 3/5\n",
      "1500/1500 [==============================] - 6s 4ms/step - loss: 0.3321 - accuracy: 0.8779 - val_loss: 0.3641 - val_accuracy: 0.8702\n",
      "Epoch 4/5\n",
      "1500/1500 [==============================] - 6s 4ms/step - loss: 0.3071 - accuracy: 0.8850 - val_loss: 0.3452 - val_accuracy: 0.8781\n",
      "Epoch 5/5\n",
      "1500/1500 [==============================] - 6s 4ms/step - loss: 0.2901 - accuracy: 0.8910 - val_loss: 0.3200 - val_accuracy: 0.8819\n"
     ]
    },
    {
     "data": {
      "text/plain": [
       "<keras.callbacks.History at 0x1dfab69b760>"
      ]
     },
     "execution_count": 39,
     "metadata": {},
     "output_type": "execute_result"
    }
   ],
   "source": [
    "modelo = keras.Sequential([\n",
    "    keras.layers.Flatten(input_shape=(28, 28)),\n",
    "    \n",
    "    keras.layers.Dense(256, activation=tensorflow.nn.relu),\n",
    "    keras.layers.Dense(128, activation=tensorflow.nn.relu),\n",
    "    \n",
    "    keras.layers.Dense(10, activation=tensorflow.nn.softmax)\n",
    "])\n",
    "\n",
    "modelo.compile(optimizer='adam', loss='sparse_categorical_crossentropy', metrics=['accuracy'])\n",
    "\n",
    "modelo.fit(imagens_treino, identificacoes_treino, epochs=5, validation_split=0.2)"
   ]
  },
  {
   "cell_type": "markdown",
   "id": "149e1c87",
   "metadata": {},
   "source": [
    "- val_loss: perda da validação\n",
    "- val_accuracy: perda da acurácia"
   ]
  },
  {
   "cell_type": "code",
   "execution_count": 40,
   "id": "36ca4348",
   "metadata": {},
   "outputs": [
    {
     "name": "stdout",
     "output_type": "stream",
     "text": [
      "Epoch 1/5\n",
      "1500/1500 [==============================] - 8s 5ms/step - loss: 0.2739 - accuracy: 0.8969 - val_loss: 0.3520 - val_accuracy: 0.8746\n",
      "Epoch 2/5\n",
      "1500/1500 [==============================] - 8s 5ms/step - loss: 0.2609 - accuracy: 0.9021 - val_loss: 0.3228 - val_accuracy: 0.8854\n",
      "Epoch 3/5\n",
      "1500/1500 [==============================] - 8s 5ms/step - loss: 0.2482 - accuracy: 0.9059 - val_loss: 0.3204 - val_accuracy: 0.8878\n",
      "Epoch 4/5\n",
      "1500/1500 [==============================] - 7s 5ms/step - loss: 0.2379 - accuracy: 0.9108 - val_loss: 0.3144 - val_accuracy: 0.8923\n",
      "Epoch 5/5\n",
      "1500/1500 [==============================] - 7s 5ms/step - loss: 0.2275 - accuracy: 0.9135 - val_loss: 0.3389 - val_accuracy: 0.8832\n"
     ]
    }
   ],
   "source": [
    "historico = modelo.fit(imagens_treino, identificacoes_treino, epochs=5, validation_split=0.2)"
   ]
  },
  {
   "cell_type": "code",
   "execution_count": 41,
   "id": "96ee31d7",
   "metadata": {},
   "outputs": [
    {
     "data": {
      "text/plain": [
       "{'loss': [0.2739444673061371,\n",
       "  0.26093706488609314,\n",
       "  0.2481810301542282,\n",
       "  0.2379201501607895,\n",
       "  0.22747544944286346],\n",
       " 'accuracy': [0.8969166874885559,\n",
       "  0.9021458625793457,\n",
       "  0.9058958292007446,\n",
       "  0.9107916951179504,\n",
       "  0.9134583473205566],\n",
       " 'val_loss': [0.35201558470726013,\n",
       "  0.32277774810791016,\n",
       "  0.32043299078941345,\n",
       "  0.31437379121780396,\n",
       "  0.3389138877391815],\n",
       " 'val_accuracy': [0.8745833039283752,\n",
       "  0.8854166865348816,\n",
       "  0.8877500295639038,\n",
       "  0.8922500014305115,\n",
       "  0.8831666707992554]}"
      ]
     },
     "execution_count": 41,
     "metadata": {},
     "output_type": "execute_result"
    }
   ],
   "source": [
    "historico.history"
   ]
  },
  {
   "cell_type": "code",
   "execution_count": 46,
   "id": "9d1ca27b",
   "metadata": {},
   "outputs": [
    {
     "data": {
      "text/html": [
       "<div>\n",
       "<style scoped>\n",
       "    .dataframe tbody tr th:only-of-type {\n",
       "        vertical-align: middle;\n",
       "    }\n",
       "\n",
       "    .dataframe tbody tr th {\n",
       "        vertical-align: top;\n",
       "    }\n",
       "\n",
       "    .dataframe thead th {\n",
       "        text-align: right;\n",
       "    }\n",
       "</style>\n",
       "<table border=\"1\" class=\"dataframe\">\n",
       "  <thead>\n",
       "    <tr style=\"text-align: right;\">\n",
       "      <th></th>\n",
       "      <th>loss</th>\n",
       "      <th>accuracy</th>\n",
       "      <th>val_loss</th>\n",
       "      <th>val_accuracy</th>\n",
       "    </tr>\n",
       "  </thead>\n",
       "  <tbody>\n",
       "    <tr>\n",
       "      <th>0</th>\n",
       "      <td>0.273944</td>\n",
       "      <td>0.896917</td>\n",
       "      <td>0.352016</td>\n",
       "      <td>0.874583</td>\n",
       "    </tr>\n",
       "    <tr>\n",
       "      <th>1</th>\n",
       "      <td>0.260937</td>\n",
       "      <td>0.902146</td>\n",
       "      <td>0.322778</td>\n",
       "      <td>0.885417</td>\n",
       "    </tr>\n",
       "    <tr>\n",
       "      <th>2</th>\n",
       "      <td>0.248181</td>\n",
       "      <td>0.905896</td>\n",
       "      <td>0.320433</td>\n",
       "      <td>0.887750</td>\n",
       "    </tr>\n",
       "    <tr>\n",
       "      <th>3</th>\n",
       "      <td>0.237920</td>\n",
       "      <td>0.910792</td>\n",
       "      <td>0.314374</td>\n",
       "      <td>0.892250</td>\n",
       "    </tr>\n",
       "    <tr>\n",
       "      <th>4</th>\n",
       "      <td>0.227475</td>\n",
       "      <td>0.913458</td>\n",
       "      <td>0.338914</td>\n",
       "      <td>0.883167</td>\n",
       "    </tr>\n",
       "  </tbody>\n",
       "</table>\n",
       "</div>"
      ],
      "text/plain": [
       "       loss  accuracy  val_loss  val_accuracy\n",
       "0  0.273944  0.896917  0.352016      0.874583\n",
       "1  0.260937  0.902146  0.322778      0.885417\n",
       "2  0.248181  0.905896  0.320433      0.887750\n",
       "3  0.237920  0.910792  0.314374      0.892250\n",
       "4  0.227475  0.913458  0.338914      0.883167"
      ]
     },
     "execution_count": 46,
     "metadata": {},
     "output_type": "execute_result"
    }
   ],
   "source": [
    "df_historico = pd.DataFrame(historico.history)\n",
    "\n",
    "df_historico"
   ]
  },
  {
   "cell_type": "code",
   "execution_count": 61,
   "id": "7b731c4d",
   "metadata": {
    "scrolled": false
   },
   "outputs": [
    {
     "data": {
      "text/plain": [
       "<matplotlib.legend.Legend at 0x1dfacec7040>"
      ]
     },
     "execution_count": 61,
     "metadata": {},
     "output_type": "execute_result"
    },
    {
     "data": {
      "image/png": "[encoded data removed]",
      "text/plain": [
       "<Figure size 864x576 with 1 Axes>"
      ]
     },
     "metadata": {},
     "output_type": "display_data"
    }
   ],
   "source": [
    "sns.set_theme()\n",
    "plt.figure(figsize=(12, 8))\n",
    "\n",
    "sns.lineplot(data=df_historico, x=df_historico.index.values, y='accuracy')\n",
    "sns.lineplot(data=df_historico, x=df_historico.index.values, y='val_accuracy')\n",
    "\n",
    "plt.title('Acurácia por época')\n",
    "plt.ylabel('Acurácia')\n",
    "plt.xlabel('Época')\n",
    "plt.legend(['Treino', 'Validação'])"
   ]
  },
  {
   "cell_type": "code",
   "execution_count": 62,
   "id": "d991efda",
   "metadata": {},
   "outputs": [
    {
     "data": {
      "text/plain": [
       "<matplotlib.legend.Legend at 0x1dfad00eaf0>"
      ]
     },
     "execution_count": 62,
     "metadata": {},
     "output_type": "execute_result"
    },
    {
     "data": {
      "image/png": "[encoded data removed]",
      "text/plain": [
       "<Figure size 864x576 with 1 Axes>"
      ]
     },
     "metadata": {},
     "output_type": "display_data"
    }
   ],
   "source": [
    "sns.set_theme()\n",
    "plt.figure(figsize=(12, 8))\n",
    "\n",
    "sns.lineplot(data=df_historico, x=df_historico.index.values, y='loss')\n",
    "sns.lineplot(data=df_historico, x=df_historico.index.values, y='val_loss')\n",
    "\n",
    "plt.title('Perda por época')\n",
    "plt.ylabel('Perda')\n",
    "plt.xlabel('Época')\n",
    "plt.legend(['Treino', 'Validação'])"
   ]
  },
  {
   "cell_type": "code",
   "execution_count": 63,
   "id": "72637128",
   "metadata": {},
   "outputs": [
    {
     "name": "stdout",
     "output_type": "stream",
     "text": [
      "Epoch 1/10\n",
      "1500/1500 [==============================] - 6s 4ms/step - loss: 0.2201 - accuracy: 0.9164 - val_loss: 0.3254 - val_accuracy: 0.8916\n",
      "Epoch 2/10\n",
      "1500/1500 [==============================] - 6s 4ms/step - loss: 0.2098 - accuracy: 0.9212 - val_loss: 0.3343 - val_accuracy: 0.8886\n",
      "Epoch 3/10\n",
      "1500/1500 [==============================] - 6s 4ms/step - loss: 0.2005 - accuracy: 0.9233 - val_loss: 0.3609 - val_accuracy: 0.8802\n",
      "Epoch 4/10\n",
      "1500/1500 [==============================] - 6s 4ms/step - loss: 0.1935 - accuracy: 0.9273 - val_loss: 0.3404 - val_accuracy: 0.8941\n",
      "Epoch 5/10\n",
      "1500/1500 [==============================] - 6s 4ms/step - loss: 0.1900 - accuracy: 0.9282 - val_loss: 0.3770 - val_accuracy: 0.8870\n",
      "Epoch 6/10\n",
      "1500/1500 [==============================] - 6s 4ms/step - loss: 0.1840 - accuracy: 0.9298 - val_loss: 0.3448 - val_accuracy: 0.8897\n",
      "Epoch 7/10\n",
      "1500/1500 [==============================] - 6s 4ms/step - loss: 0.1788 - accuracy: 0.9310 - val_loss: 0.3546 - val_accuracy: 0.8903\n",
      "Epoch 8/10\n",
      "1500/1500 [==============================] - 6s 4ms/step - loss: 0.1695 - accuracy: 0.9358 - val_loss: 0.3903 - val_accuracy: 0.8880\n",
      "Epoch 9/10\n",
      "1500/1500 [==============================] - 6s 4ms/step - loss: 0.1686 - accuracy: 0.9358 - val_loss: 0.3689 - val_accuracy: 0.8917\n",
      "Epoch 10/10\n",
      "1500/1500 [==============================] - 6s 4ms/step - loss: 0.1621 - accuracy: 0.9381 - val_loss: 0.3691 - val_accuracy: 0.8868\n"
     ]
    }
   ],
   "source": [
    "historico = modelo.fit(imagens_treino, identificacoes_treino, epochs=10, validation_split=0.2)"
   ]
  },
  {
   "cell_type": "code",
   "execution_count": 64,
   "id": "f31f1008",
   "metadata": {},
   "outputs": [
    {
     "data": {
      "text/html": [
       "<div>\n",
       "<style scoped>\n",
       "    .dataframe tbody tr th:only-of-type {\n",
       "        vertical-align: middle;\n",
       "    }\n",
       "\n",
       "    .dataframe tbody tr th {\n",
       "        vertical-align: top;\n",
       "    }\n",
       "\n",
       "    .dataframe thead th {\n",
       "        text-align: right;\n",
       "    }\n",
       "</style>\n",
       "<table border=\"1\" class=\"dataframe\">\n",
       "  <thead>\n",
       "    <tr style=\"text-align: right;\">\n",
       "      <th></th>\n",
       "      <th>loss</th>\n",
       "      <th>accuracy</th>\n",
       "      <th>val_loss</th>\n",
       "      <th>val_accuracy</th>\n",
       "    </tr>\n",
       "  </thead>\n",
       "  <tbody>\n",
       "    <tr>\n",
       "      <th>0</th>\n",
       "      <td>0.220080</td>\n",
       "      <td>0.916354</td>\n",
       "      <td>0.325430</td>\n",
       "      <td>0.891583</td>\n",
       "    </tr>\n",
       "    <tr>\n",
       "      <th>1</th>\n",
       "      <td>0.209793</td>\n",
       "      <td>0.921188</td>\n",
       "      <td>0.334321</td>\n",
       "      <td>0.888583</td>\n",
       "    </tr>\n",
       "    <tr>\n",
       "      <th>2</th>\n",
       "      <td>0.200534</td>\n",
       "      <td>0.923292</td>\n",
       "      <td>0.360936</td>\n",
       "      <td>0.880167</td>\n",
       "    </tr>\n",
       "    <tr>\n",
       "      <th>3</th>\n",
       "      <td>0.193532</td>\n",
       "      <td>0.927250</td>\n",
       "      <td>0.340431</td>\n",
       "      <td>0.894083</td>\n",
       "    </tr>\n",
       "    <tr>\n",
       "      <th>4</th>\n",
       "      <td>0.190009</td>\n",
       "      <td>0.928187</td>\n",
       "      <td>0.376955</td>\n",
       "      <td>0.887000</td>\n",
       "    </tr>\n",
       "    <tr>\n",
       "      <th>5</th>\n",
       "      <td>0.183986</td>\n",
       "      <td>0.929750</td>\n",
       "      <td>0.344808</td>\n",
       "      <td>0.889667</td>\n",
       "    </tr>\n",
       "    <tr>\n",
       "      <th>6</th>\n",
       "      <td>0.178812</td>\n",
       "      <td>0.931021</td>\n",
       "      <td>0.354602</td>\n",
       "      <td>0.890250</td>\n",
       "    </tr>\n",
       "    <tr>\n",
       "      <th>7</th>\n",
       "      <td>0.169472</td>\n",
       "      <td>0.935750</td>\n",
       "      <td>0.390266</td>\n",
       "      <td>0.888000</td>\n",
       "    </tr>\n",
       "    <tr>\n",
       "      <th>8</th>\n",
       "      <td>0.168625</td>\n",
       "      <td>0.935792</td>\n",
       "      <td>0.368940</td>\n",
       "      <td>0.891750</td>\n",
       "    </tr>\n",
       "    <tr>\n",
       "      <th>9</th>\n",
       "      <td>0.162057</td>\n",
       "      <td>0.938146</td>\n",
       "      <td>0.369137</td>\n",
       "      <td>0.886833</td>\n",
       "    </tr>\n",
       "  </tbody>\n",
       "</table>\n",
       "</div>"
      ],
      "text/plain": [
       "       loss  accuracy  val_loss  val_accuracy\n",
       "0  0.220080  0.916354  0.325430      0.891583\n",
       "1  0.209793  0.921188  0.334321      0.888583\n",
       "2  0.200534  0.923292  0.360936      0.880167\n",
       "3  0.193532  0.927250  0.340431      0.894083\n",
       "4  0.190009  0.928187  0.376955      0.887000\n",
       "5  0.183986  0.929750  0.344808      0.889667\n",
       "6  0.178812  0.931021  0.354602      0.890250\n",
       "7  0.169472  0.935750  0.390266      0.888000\n",
       "8  0.168625  0.935792  0.368940      0.891750\n",
       "9  0.162057  0.938146  0.369137      0.886833"
      ]
     },
     "execution_count": 64,
     "metadata": {},
     "output_type": "execute_result"
    }
   ],
   "source": [
    "df_historico = pd.DataFrame(historico.history)\n",
    "\n",
    "df_historico"
   ]
  },
  {
   "cell_type": "code",
   "execution_count": 65,
   "id": "9e7c77a6",
   "metadata": {},
   "outputs": [
    {
     "data": {
      "text/plain": [
       "<matplotlib.legend.Legend at 0x1dfad2dd490>"
      ]
     },
     "execution_count": 65,
     "metadata": {},
     "output_type": "execute_result"
    },
    {
     "data": {
      "image/png": "[encoded data removed]",
      "text/plain": [
       "<Figure size 864x576 with 1 Axes>"
      ]
     },
     "metadata": {},
     "output_type": "display_data"
    }
   ],
   "source": [
    "sns.set_theme()\n",
    "plt.figure(figsize=(12, 8))\n",
    "\n",
    "sns.lineplot(data=df_historico, x=df_historico.index.values, y='accuracy')\n",
    "sns.lineplot(data=df_historico, x=df_historico.index.values, y='val_accuracy')\n",
    "\n",
    "plt.title('Acurácia por época')\n",
    "plt.ylabel('Acurácia')\n",
    "plt.xlabel('Época')\n",
    "plt.legend(['Treino', 'Validação'])"
   ]
  },
  {
   "cell_type": "code",
   "execution_count": 66,
   "id": "e1a24e95",
   "metadata": {},
   "outputs": [
    {
     "data": {
      "text/plain": [
       "<matplotlib.legend.Legend at 0x1dfad4b1a00>"
      ]
     },
     "execution_count": 66,
     "metadata": {},
     "output_type": "execute_result"
    },
    {
     "data": {
      "image/png": "[encoded data removed]",
      "text/plain": [
       "<Figure size 864x576 with 1 Axes>"
      ]
     },
     "metadata": {},
     "output_type": "display_data"
    }
   ],
   "source": [
    "sns.set_theme()\n",
    "plt.figure(figsize=(12, 8))\n",
    "\n",
    "sns.lineplot(data=df_historico, x=df_historico.index.values, y='loss')\n",
    "sns.lineplot(data=df_historico, x=df_historico.index.values, y='val_loss')\n",
    "\n",
    "plt.title('Perda por época')\n",
    "plt.ylabel('Perda')\n",
    "plt.xlabel('Época')\n",
    "plt.legend(['Treino', 'Validação'])"
   ]
  },
  {
   "cell_type": "markdown",
   "id": "94f264a3",
   "metadata": {},
   "source": [
    "O modelo está se adaptando demais ao treino $\\rightarrow$ `overfitting`\n",
    "\n",
    "A idéia é analisar pelo gráfico e colocar a melhor época"
   ]
  },
  {
   "cell_type": "markdown",
   "id": "d319061d",
   "metadata": {},
   "source": [
    "Outra idéia de diminuir as chances de overfitting é a técnica de `dropout`"
   ]
  },
  {
   "cell_type": "code",
   "execution_count": 68,
   "id": "6d3c791d",
   "metadata": {},
   "outputs": [
    {
     "name": "stdout",
     "output_type": "stream",
     "text": [
      "Epoch 1/5\n",
      "1500/1500 [==============================] - 7s 4ms/step - loss: 0.5259 - accuracy: 0.8095 - val_loss: 0.4188 - val_accuracy: 0.8537\n",
      "Epoch 2/5\n",
      "1500/1500 [==============================] - 6s 4ms/step - loss: 0.4053 - accuracy: 0.8508 - val_loss: 0.3672 - val_accuracy: 0.8708\n",
      "Epoch 3/5\n",
      "1500/1500 [==============================] - 7s 5ms/step - loss: 0.3653 - accuracy: 0.8678 - val_loss: 0.3662 - val_accuracy: 0.8662\n",
      "Epoch 4/5\n",
      "1500/1500 [==============================] - 7s 4ms/step - loss: 0.3422 - accuracy: 0.8729 - val_loss: 0.3385 - val_accuracy: 0.8767\n",
      "Epoch 5/5\n",
      "1500/1500 [==============================] - 7s 4ms/step - loss: 0.3272 - accuracy: 0.8781 - val_loss: 0.3552 - val_accuracy: 0.8666\n"
     ]
    },
    {
     "data": {
      "text/html": [
       "<div>\n",
       "<style scoped>\n",
       "    .dataframe tbody tr th:only-of-type {\n",
       "        vertical-align: middle;\n",
       "    }\n",
       "\n",
       "    .dataframe tbody tr th {\n",
       "        vertical-align: top;\n",
       "    }\n",
       "\n",
       "    .dataframe thead th {\n",
       "        text-align: right;\n",
       "    }\n",
       "</style>\n",
       "<table border=\"1\" class=\"dataframe\">\n",
       "  <thead>\n",
       "    <tr style=\"text-align: right;\">\n",
       "      <th></th>\n",
       "      <th>loss</th>\n",
       "      <th>accuracy</th>\n",
       "      <th>val_loss</th>\n",
       "      <th>val_accuracy</th>\n",
       "    </tr>\n",
       "  </thead>\n",
       "  <tbody>\n",
       "    <tr>\n",
       "      <th>0</th>\n",
       "      <td>0.525913</td>\n",
       "      <td>0.809500</td>\n",
       "      <td>0.418763</td>\n",
       "      <td>0.853750</td>\n",
       "    </tr>\n",
       "    <tr>\n",
       "      <th>1</th>\n",
       "      <td>0.405308</td>\n",
       "      <td>0.850792</td>\n",
       "      <td>0.367182</td>\n",
       "      <td>0.870833</td>\n",
       "    </tr>\n",
       "    <tr>\n",
       "      <th>2</th>\n",
       "      <td>0.365257</td>\n",
       "      <td>0.867771</td>\n",
       "      <td>0.366152</td>\n",
       "      <td>0.866167</td>\n",
       "    </tr>\n",
       "    <tr>\n",
       "      <th>3</th>\n",
       "      <td>0.342242</td>\n",
       "      <td>0.872917</td>\n",
       "      <td>0.338464</td>\n",
       "      <td>0.876667</td>\n",
       "    </tr>\n",
       "    <tr>\n",
       "      <th>4</th>\n",
       "      <td>0.327243</td>\n",
       "      <td>0.878146</td>\n",
       "      <td>0.355209</td>\n",
       "      <td>0.866583</td>\n",
       "    </tr>\n",
       "  </tbody>\n",
       "</table>\n",
       "</div>"
      ],
      "text/plain": [
       "       loss  accuracy  val_loss  val_accuracy\n",
       "0  0.525913  0.809500  0.418763      0.853750\n",
       "1  0.405308  0.850792  0.367182      0.870833\n",
       "2  0.365257  0.867771  0.366152      0.866167\n",
       "3  0.342242  0.872917  0.338464      0.876667\n",
       "4  0.327243  0.878146  0.355209      0.866583"
      ]
     },
     "execution_count": 68,
     "metadata": {},
     "output_type": "execute_result"
    }
   ],
   "source": [
    "modelo = keras.Sequential([\n",
    "    keras.layers.Flatten(input_shape=(28, 28)),\n",
    "    \n",
    "    keras.layers.Dense(256, activation=tensorflow.nn.relu),\n",
    "    #Porcentagem de \"bolinhas\" adormecidas\n",
    "    keras.layers.Dropout(0.2),\n",
    "    keras.layers.Dense(128, activation=tensorflow.nn.relu),\n",
    "    \n",
    "    keras.layers.Dense(10, activation=tensorflow.nn.softmax)\n",
    "])\n",
    "\n",
    "modelo.compile(optimizer='adam', loss='sparse_categorical_crossentropy', metrics=['accuracy'])\n",
    "\n",
    "historico = modelo.fit(imagens_treino, identificacoes_treino, epochs=5, validation_split=0.2)\n",
    "\n",
    "df_historico = pd.DataFrame(historico.history)\n",
    "\n",
    "df_historico"
   ]
  },
  {
   "cell_type": "code",
   "execution_count": 69,
   "id": "82b75e6d",
   "metadata": {},
   "outputs": [
    {
     "data": {
      "text/plain": [
       "<matplotlib.legend.Legend at 0x1dfad8bd910>"
      ]
     },
     "execution_count": 69,
     "metadata": {},
     "output_type": "execute_result"
    },
    {
     "data": {
      "image/png": "[encoded data removed]",
      "text/plain": [
       "<Figure size 864x576 with 1 Axes>"
      ]
     },
     "metadata": {},
     "output_type": "display_data"
    }
   ],
   "source": [
    "sns.set_theme()\n",
    "plt.figure(figsize=(12, 8))\n",
    "\n",
    "sns.lineplot(data=df_historico, x=df_historico.index.values, y='accuracy')\n",
    "sns.lineplot(data=df_historico, x=df_historico.index.values, y='val_accuracy')\n",
    "\n",
    "plt.title('Acurácia por época')\n",
    "plt.ylabel('Acurácia')\n",
    "plt.xlabel('Época')\n",
    "plt.legend(['Treino', 'Validação'])"
   ]
  },
  {
   "cell_type": "code",
   "execution_count": 70,
   "id": "3a6f27e0",
   "metadata": {},
   "outputs": [
    {
     "data": {
      "text/plain": [
       "<matplotlib.legend.Legend at 0x1dfb1a8fe20>"
      ]
     },
     "execution_count": 70,
     "metadata": {},
     "output_type": "execute_result"
    },
    {
     "data": {
      "image/png": "[encoded data removed]",
      "text/plain": [
       "<Figure size 864x576 with 1 Axes>"
      ]
     },
     "metadata": {},
     "output_type": "display_data"
    }
   ],
   "source": [
    "sns.set_theme()\n",
    "plt.figure(figsize=(12, 8))\n",
    "\n",
    "sns.lineplot(data=df_historico, x=df_historico.index.values, y='loss')\n",
    "sns.lineplot(data=df_historico, x=df_historico.index.values, y='val_loss')\n",
    "\n",
    "plt.title('Perda por época')\n",
    "plt.ylabel('Perda')\n",
    "plt.xlabel('Época')\n",
    "plt.legend(['Treino', 'Validação'])"
   ]
  },
  {
   "cell_type": "code",
   "execution_count": 71,
   "id": "97525424",
   "metadata": {},
   "outputs": [],
   "source": [
    "modelo.save('modelo.h5')"
   ]
  },
  {
   "cell_type": "code",
   "execution_count": 72,
   "id": "88de17aa",
   "metadata": {},
   "outputs": [],
   "source": [
    "modelo_salvo = keras.models.load_model('modelo.h5')"
   ]
  },
  {
   "cell_type": "code",
   "execution_count": 73,
   "id": "7c2a2c7c",
   "metadata": {},
   "outputs": [
    {
     "data": {
      "text/plain": [
       "array([[0., 0., 0., ..., 0., 0., 1.],\n",
       "       [0., 0., 1., ..., 0., 0., 0.],\n",
       "       [0., 1., 0., ..., 0., 0., 0.],\n",
       "       ...,\n",
       "       [0., 0., 0., ..., 0., 1., 0.],\n",
       "       [0., 1., 0., ..., 0., 0., 0.],\n",
       "       [0., 0., 0., ..., 0., 0., 0.]], dtype=float32)"
      ]
     },
     "execution_count": 73,
     "metadata": {},
     "output_type": "execute_result"
    }
   ],
   "source": [
    "modelo_salvo.predict(imagens_teste)"
   ]
  },
  {
   "cell_type": "code",
   "execution_count": null,
   "id": "e044a447",
   "metadata": {},
   "outputs": [],
   "source": []
  }
 ],
 "metadata": {
  "kernelspec": {
   "display_name": "Python 3",
   "language": "python",
   "name": "python3"
  },
  "language_info": {
   "codemirror_mode": {
    "name": "ipython",
    "version": 3
   },
   "file_extension": ".py",
   "mimetype": "text/x-python",
   "name": "python",
   "nbconvert_exporter": "python",
   "pygments_lexer": "ipython3",
   "version": "3.9.5"
  },
  "latex_envs": {
   "LaTeX_envs_menu_present": true,
   "autoclose": false,
   "autocomplete": true,
   "bibliofile": "biblio.bib",
   "cite_by": "apalike",
   "current_citInitial": 1,
   "eqLabelWithNumbers": true,
   "eqNumInitial": 1,
   "hotkeys": {
    "equation": "Ctrl-E",
    "itemize": "Ctrl-I"
   },
   "labels_anchors": false,
   "latex_user_defs": false,
   "report_style_numbering": false,
   "user_envs_cfg": false
  }
 },
 "nbformat": 4,
 "nbformat_minor": 5
}
