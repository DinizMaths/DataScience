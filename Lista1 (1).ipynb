{
  "nbformat": 4,
  "nbformat_minor": 0,
  "metadata": {
    "colab": {
      "provenance": [],
      "collapsed_sections": [
        "d_Pa13VH8DNv",
        "Dwqg8XLDq_BP",
        "y461sbKErC5E",
        "7tOFeBRKrHeJ",
        "noJzwULYrKQT",
        "s23Yc5_ukXRb",
        "PiJhjNpoklV7",
        "XlDqq1uylra0",
        "gidiU_DRyH8Z",
        "u7w1LVcpyO6I",
        "rOpCvXvA1OJC",
        "2PJ_-YIXqcFf",
        "tljVgM3ueL_V",
        "JVqwZXAUgwNa",
        "U8ditl0kiQYD",
        "2iGoHi5mi1vF"
      ]
    },
    "kernelspec": {
      "name": "python3",
      "display_name": "Python 3"
    },
    "language_info": {
      "name": "python"
    }
  },
  "cells": [
    {
      "cell_type": "markdown",
      "source": [
        "# **UNIVERSIDADE FEDERAL DO RIO GRANDE DO NORTE**\n",
        "### **DCA0200 - INTELIGÊNCIA ARTIFICIAL**\n",
        "### **1ª LISTA DE EXERCÍCIOS - 2023.1**\n",
        "\n",
        "### **Docente:** \n",
        "- Adrião Duarte Doria Neto\n",
        "\n",
        "### **Discente:**\n",
        "- Matheus Gomes Diniz Andrade"
      ],
      "metadata": {
        "id": "i9Vcvd536GdZ"
      }
    },
    {
      "cell_type": "markdown",
      "source": [
        "# Importação de Bibliotecas"
      ],
      "metadata": {
        "id": "GZ44HRAl6Xtw"
      }
    },
    {
      "cell_type": "code",
      "execution_count": 115,
      "metadata": {
        "id": "z3uRtJGEi7CK"
      },
      "outputs": [],
      "source": [
        "import numpy  as np\n",
        "import pandas as pd"
      ]
    },
    {
      "cell_type": "code",
      "source": [
        "import matplotlib.pyplot as plt\n",
        "import seaborn           as sns"
      ],
      "metadata": {
        "id": "LcCKavEbukGE"
      },
      "execution_count": 116,
      "outputs": []
    },
    {
      "cell_type": "code",
      "source": [
        "sns.set_theme()"
      ],
      "metadata": {
        "id": "M5aEMmH9un87"
      },
      "execution_count": 117,
      "outputs": []
    },
    {
      "cell_type": "markdown",
      "source": [
        "# 1."
      ],
      "metadata": {
        "id": "d_Pa13VH8DNv"
      }
    },
    {
      "cell_type": "markdown",
      "source": [
        "\n",
        "A tabela de dados abaixo ilustra a aplicação do método Naive-Bayes. Um determinado banco deve decidir se um cliente deve ou não receber um empréstimo bancário em função da sua condição de bom ou mau pagador. \n",
        "\n",
        "Considerando os dados de treinamento abaixo, aplique o classificador Naive-Bayes, para atribuir a classe (rótulo) para os registros 12 e 13:\n",
        "\n",
        "| Registro | Tem casa própria | Estado Civil | Possui Carro | Rendimentos | Bom Pagador |\n",
        "|:--------:|:----------------:|:------------:|:------------:|:-----------:|:-----------:|\n",
        "|     1    |        Sim       |   Solteiro   |      Sim     |     Alto    |     Sim     |\n",
        "|     2    |        Não       |    Casado    |      Sim     |    Médio    |     Não     |\n",
        "|     3    |        Não       |   Solteiro   |      Não     |    Baixo    |     Não     |\n",
        "|     4    |        Sim       |    Casado    |      Sim     |     Alto    |     Não     |\n",
        "|     5    |        Não       |  Divorciado  |      Não     |    Médio    |     Sim     |\n",
        "|     6    |        Não       |    Casado    |      Não     |    Baixo    |     Não     |\n",
        "|     7    |        Sim       |  Divorciado  |      Sim     |     Alto    |     Sim     |\n",
        "|     8    |        Não       |   Solteiro   |      Sim     |    Médio    |     Sim     |\n",
        "|     9    |        Não       |    Casado    |      Sim     |    Baixo    |     Não     |\n",
        "|    10    |        Não       |   Solteiro   |      Não     |    Médio    |     Sim     |\n",
        "|    11    |        Sim       |  Divorciado  |      Não     |    Médio    |     Não     |\n",
        "|    12    |        Não       |  Divorciado  |      Sim     |     Alto    |      ?      |\n",
        "|    13    |        Sim       |   Solteiro   |      Não     |    Médio    |      ?      |"
      ],
      "metadata": {
        "id": "0RuPgZnuqpmp"
      }
    },
    {
      "cell_type": "code",
      "source": [
        "has_own_home   = [   \"Yes\",      \"No\",     \"No\",     \"Yes\",       \"No\",      \"No\",      \"Yes\",      \"No\",      \"No\",      \"No\",      \"Yes\"]\n",
        "marital_status = [\"Single\", \"Married\", \"Single\", \"Married\", \"Divorced\", \"Married\", \"Divorced\",  \"Single\", \"Married\",  \"Single\", \"Divorced\"]\n",
        "have_car       = [   \"Yes\",     \"Yes\",     \"No\",     \"Yes\",       \"No\",      \"No\",      \"Yes\",     \"Yes\",     \"Yes\",      \"No\",       \"No\"]\n",
        "income         = [  \"High\", \"Average\",    \"Low\",    \"High\",  \"Average\",     \"Low\",     \"High\", \"Average\",     \"Low\", \"Average\",  \"Average\"]\n",
        "good_payer     = [   \"Yes\",      \"No\",     \"No\",      \"No\",      \"Yes\",      \"No\",      \"Yes\",     \"Yes\",      \"No\",     \"Yes\",       \"No\"]"
      ],
      "metadata": {
        "id": "5RcunlqbAkOu"
      },
      "execution_count": 118,
      "outputs": []
    },
    {
      "cell_type": "code",
      "source": [
        "bank_table = pd.DataFrame({\n",
        "    \"has_own_home\": has_own_home,\n",
        "    \"marital_status\": marital_status,\n",
        "    \"have_car\": have_car,\n",
        "    \"income\": income,\n",
        "    \"good_payer\": good_payer\n",
        "})\n",
        "\n",
        "bank_table"
      ],
      "metadata": {
        "colab": {
          "base_uri": "https://localhost:8080/",
          "height": 394
        },
        "id": "O4SWlKQwEnwP",
        "outputId": "346dcb04-cc39-40dd-b216-de9d33b2b1e4"
      },
      "execution_count": 119,
      "outputs": [
        {
          "output_type": "execute_result",
          "data": {
            "text/plain": [
              "   has_own_home marital_status have_car   income good_payer\n",
              "0           Yes         Single      Yes     High        Yes\n",
              "1            No        Married      Yes  Average         No\n",
              "2            No         Single       No      Low         No\n",
              "3           Yes        Married      Yes     High         No\n",
              "4            No       Divorced       No  Average        Yes\n",
              "5            No        Married       No      Low         No\n",
              "6           Yes       Divorced      Yes     High        Yes\n",
              "7            No         Single      Yes  Average        Yes\n",
              "8            No        Married      Yes      Low         No\n",
              "9            No         Single       No  Average        Yes\n",
              "10          Yes       Divorced       No  Average         No"
            ],
            "text/html": [
              "\n",
              "  <div id=\"df-f0ce92ed-f4a0-4bc5-90a3-76a40d06ca40\">\n",
              "    <div class=\"colab-df-container\">\n",
              "      <div>\n",
              "<style scoped>\n",
              "    .dataframe tbody tr th:only-of-type {\n",
              "        vertical-align: middle;\n",
              "    }\n",
              "\n",
              "    .dataframe tbody tr th {\n",
              "        vertical-align: top;\n",
              "    }\n",
              "\n",
              "    .dataframe thead th {\n",
              "        text-align: right;\n",
              "    }\n",
              "</style>\n",
              "<table border=\"1\" class=\"dataframe\">\n",
              "  <thead>\n",
              "    <tr style=\"text-align: right;\">\n",
              "      <th></th>\n",
              "      <th>has_own_home</th>\n",
              "      <th>marital_status</th>\n",
              "      <th>have_car</th>\n",
              "      <th>income</th>\n",
              "      <th>good_payer</th>\n",
              "    </tr>\n",
              "  </thead>\n",
              "  <tbody>\n",
              "    <tr>\n",
              "      <th>0</th>\n",
              "      <td>Yes</td>\n",
              "      <td>Single</td>\n",
              "      <td>Yes</td>\n",
              "      <td>High</td>\n",
              "      <td>Yes</td>\n",
              "    </tr>\n",
              "    <tr>\n",
              "      <th>1</th>\n",
              "      <td>No</td>\n",
              "      <td>Married</td>\n",
              "      <td>Yes</td>\n",
              "      <td>Average</td>\n",
              "      <td>No</td>\n",
              "    </tr>\n",
              "    <tr>\n",
              "      <th>2</th>\n",
              "      <td>No</td>\n",
              "      <td>Single</td>\n",
              "      <td>No</td>\n",
              "      <td>Low</td>\n",
              "      <td>No</td>\n",
              "    </tr>\n",
              "    <tr>\n",
              "      <th>3</th>\n",
              "      <td>Yes</td>\n",
              "      <td>Married</td>\n",
              "      <td>Yes</td>\n",
              "      <td>High</td>\n",
              "      <td>No</td>\n",
              "    </tr>\n",
              "    <tr>\n",
              "      <th>4</th>\n",
              "      <td>No</td>\n",
              "      <td>Divorced</td>\n",
              "      <td>No</td>\n",
              "      <td>Average</td>\n",
              "      <td>Yes</td>\n",
              "    </tr>\n",
              "    <tr>\n",
              "      <th>5</th>\n",
              "      <td>No</td>\n",
              "      <td>Married</td>\n",
              "      <td>No</td>\n",
              "      <td>Low</td>\n",
              "      <td>No</td>\n",
              "    </tr>\n",
              "    <tr>\n",
              "      <th>6</th>\n",
              "      <td>Yes</td>\n",
              "      <td>Divorced</td>\n",
              "      <td>Yes</td>\n",
              "      <td>High</td>\n",
              "      <td>Yes</td>\n",
              "    </tr>\n",
              "    <tr>\n",
              "      <th>7</th>\n",
              "      <td>No</td>\n",
              "      <td>Single</td>\n",
              "      <td>Yes</td>\n",
              "      <td>Average</td>\n",
              "      <td>Yes</td>\n",
              "    </tr>\n",
              "    <tr>\n",
              "      <th>8</th>\n",
              "      <td>No</td>\n",
              "      <td>Married</td>\n",
              "      <td>Yes</td>\n",
              "      <td>Low</td>\n",
              "      <td>No</td>\n",
              "    </tr>\n",
              "    <tr>\n",
              "      <th>9</th>\n",
              "      <td>No</td>\n",
              "      <td>Single</td>\n",
              "      <td>No</td>\n",
              "      <td>Average</td>\n",
              "      <td>Yes</td>\n",
              "    </tr>\n",
              "    <tr>\n",
              "      <th>10</th>\n",
              "      <td>Yes</td>\n",
              "      <td>Divorced</td>\n",
              "      <td>No</td>\n",
              "      <td>Average</td>\n",
              "      <td>No</td>\n",
              "    </tr>\n",
              "  </tbody>\n",
              "</table>\n",
              "</div>\n",
              "      <button class=\"colab-df-convert\" onclick=\"convertToInteractive('df-f0ce92ed-f4a0-4bc5-90a3-76a40d06ca40')\"\n",
              "              title=\"Convert this dataframe to an interactive table.\"\n",
              "              style=\"display:none;\">\n",
              "        \n",
              "  <svg xmlns=\"http://www.w3.org/2000/svg\" height=\"24px\"viewBox=\"0 0 24 24\"\n",
              "       width=\"24px\">\n",
              "    <path d=\"M0 0h24v24H0V0z\" fill=\"none\"/>\n",
              "    <path d=\"M18.56 5.44l.94 2.06.94-2.06 2.06-.94-2.06-.94-.94-2.06-.94 2.06-2.06.94zm-11 1L8.5 8.5l.94-2.06 2.06-.94-2.06-.94L8.5 2.5l-.94 2.06-2.06.94zm10 10l.94 2.06.94-2.06 2.06-.94-2.06-.94-.94-2.06-.94 2.06-2.06.94z\"/><path d=\"M17.41 7.96l-1.37-1.37c-.4-.4-.92-.59-1.43-.59-.52 0-1.04.2-1.43.59L10.3 9.45l-7.72 7.72c-.78.78-.78 2.05 0 2.83L4 21.41c.39.39.9.59 1.41.59.51 0 1.02-.2 1.41-.59l7.78-7.78 2.81-2.81c.8-.78.8-2.07 0-2.86zM5.41 20L4 18.59l7.72-7.72 1.47 1.35L5.41 20z\"/>\n",
              "  </svg>\n",
              "      </button>\n",
              "      \n",
              "  <style>\n",
              "    .colab-df-container {\n",
              "      display:flex;\n",
              "      flex-wrap:wrap;\n",
              "      gap: 12px;\n",
              "    }\n",
              "\n",
              "    .colab-df-convert {\n",
              "      background-color: #E8F0FE;\n",
              "      border: none;\n",
              "      border-radius: 50%;\n",
              "      cursor: pointer;\n",
              "      display: none;\n",
              "      fill: #1967D2;\n",
              "      height: 32px;\n",
              "      padding: 0 0 0 0;\n",
              "      width: 32px;\n",
              "    }\n",
              "\n",
              "    .colab-df-convert:hover {\n",
              "      background-color: #E2EBFA;\n",
              "      box-shadow: 0px 1px 2px rgba(60, 64, 67, 0.3), 0px 1px 3px 1px rgba(60, 64, 67, 0.15);\n",
              "      fill: #174EA6;\n",
              "    }\n",
              "\n",
              "    [theme=dark] .colab-df-convert {\n",
              "      background-color: #3B4455;\n",
              "      fill: #D2E3FC;\n",
              "    }\n",
              "\n",
              "    [theme=dark] .colab-df-convert:hover {\n",
              "      background-color: #434B5C;\n",
              "      box-shadow: 0px 1px 3px 1px rgba(0, 0, 0, 0.15);\n",
              "      filter: drop-shadow(0px 1px 2px rgba(0, 0, 0, 0.3));\n",
              "      fill: #FFFFFF;\n",
              "    }\n",
              "  </style>\n",
              "\n",
              "      <script>\n",
              "        const buttonEl =\n",
              "          document.querySelector('#df-f0ce92ed-f4a0-4bc5-90a3-76a40d06ca40 button.colab-df-convert');\n",
              "        buttonEl.style.display =\n",
              "          google.colab.kernel.accessAllowed ? 'block' : 'none';\n",
              "\n",
              "        async function convertToInteractive(key) {\n",
              "          const element = document.querySelector('#df-f0ce92ed-f4a0-4bc5-90a3-76a40d06ca40');\n",
              "          const dataTable =\n",
              "            await google.colab.kernel.invokeFunction('convertToInteractive',\n",
              "                                                     [key], {});\n",
              "          if (!dataTable) return;\n",
              "\n",
              "          const docLinkHtml = 'Like what you see? Visit the ' +\n",
              "            '<a target=\"_blank\" href=https://colab.research.google.com/notebooks/data_table.ipynb>data table notebook</a>'\n",
              "            + ' to learn more about interactive tables.';\n",
              "          element.innerHTML = '';\n",
              "          dataTable['output_type'] = 'display_data';\n",
              "          await google.colab.output.renderOutput(dataTable, element);\n",
              "          const docLink = document.createElement('div');\n",
              "          docLink.innerHTML = docLinkHtml;\n",
              "          element.appendChild(docLink);\n",
              "        }\n",
              "      </script>\n",
              "    </div>\n",
              "  </div>\n",
              "  "
            ]
          },
          "metadata": {},
          "execution_count": 119
        }
      ]
    },
    {
      "cell_type": "code",
      "source": [
        "has_own_home   = [      \"No\",     \"Yes\"]\n",
        "marital_status = [\"Divorced\",  \"Single\"]\n",
        "have_car       = [     \"Yes\",      \"No\"]\n",
        "income         = [    \"High\", \"Average\"]"
      ],
      "metadata": {
        "id": "qQY10ImlFZnp"
      },
      "execution_count": 120,
      "outputs": []
    },
    {
      "cell_type": "code",
      "source": [
        "new_entries = pd.DataFrame({\n",
        "    \"has_own_home\": has_own_home,\n",
        "    \"marital_status\": marital_status,\n",
        "    \"have_car\": have_car,\n",
        "    \"income\": income\n",
        "})\n",
        "\n",
        "new_entries"
      ],
      "metadata": {
        "colab": {
          "base_uri": "https://localhost:8080/",
          "height": 112
        },
        "id": "dQ0hKUOPEqfM",
        "outputId": "62077831-d01c-4928-830e-32ef4304a1e0"
      },
      "execution_count": 121,
      "outputs": [
        {
          "output_type": "execute_result",
          "data": {
            "text/plain": [
              "  has_own_home marital_status have_car   income\n",
              "0           No       Divorced      Yes     High\n",
              "1          Yes         Single       No  Average"
            ],
            "text/html": [
              "\n",
              "  <div id=\"df-e93dfebc-578b-4263-8893-21c024011c1a\">\n",
              "    <div class=\"colab-df-container\">\n",
              "      <div>\n",
              "<style scoped>\n",
              "    .dataframe tbody tr th:only-of-type {\n",
              "        vertical-align: middle;\n",
              "    }\n",
              "\n",
              "    .dataframe tbody tr th {\n",
              "        vertical-align: top;\n",
              "    }\n",
              "\n",
              "    .dataframe thead th {\n",
              "        text-align: right;\n",
              "    }\n",
              "</style>\n",
              "<table border=\"1\" class=\"dataframe\">\n",
              "  <thead>\n",
              "    <tr style=\"text-align: right;\">\n",
              "      <th></th>\n",
              "      <th>has_own_home</th>\n",
              "      <th>marital_status</th>\n",
              "      <th>have_car</th>\n",
              "      <th>income</th>\n",
              "    </tr>\n",
              "  </thead>\n",
              "  <tbody>\n",
              "    <tr>\n",
              "      <th>0</th>\n",
              "      <td>No</td>\n",
              "      <td>Divorced</td>\n",
              "      <td>Yes</td>\n",
              "      <td>High</td>\n",
              "    </tr>\n",
              "    <tr>\n",
              "      <th>1</th>\n",
              "      <td>Yes</td>\n",
              "      <td>Single</td>\n",
              "      <td>No</td>\n",
              "      <td>Average</td>\n",
              "    </tr>\n",
              "  </tbody>\n",
              "</table>\n",
              "</div>\n",
              "      <button class=\"colab-df-convert\" onclick=\"convertToInteractive('df-e93dfebc-578b-4263-8893-21c024011c1a')\"\n",
              "              title=\"Convert this dataframe to an interactive table.\"\n",
              "              style=\"display:none;\">\n",
              "        \n",
              "  <svg xmlns=\"http://www.w3.org/2000/svg\" height=\"24px\"viewBox=\"0 0 24 24\"\n",
              "       width=\"24px\">\n",
              "    <path d=\"M0 0h24v24H0V0z\" fill=\"none\"/>\n",
              "    <path d=\"M18.56 5.44l.94 2.06.94-2.06 2.06-.94-2.06-.94-.94-2.06-.94 2.06-2.06.94zm-11 1L8.5 8.5l.94-2.06 2.06-.94-2.06-.94L8.5 2.5l-.94 2.06-2.06.94zm10 10l.94 2.06.94-2.06 2.06-.94-2.06-.94-.94-2.06-.94 2.06-2.06.94z\"/><path d=\"M17.41 7.96l-1.37-1.37c-.4-.4-.92-.59-1.43-.59-.52 0-1.04.2-1.43.59L10.3 9.45l-7.72 7.72c-.78.78-.78 2.05 0 2.83L4 21.41c.39.39.9.59 1.41.59.51 0 1.02-.2 1.41-.59l7.78-7.78 2.81-2.81c.8-.78.8-2.07 0-2.86zM5.41 20L4 18.59l7.72-7.72 1.47 1.35L5.41 20z\"/>\n",
              "  </svg>\n",
              "      </button>\n",
              "      \n",
              "  <style>\n",
              "    .colab-df-container {\n",
              "      display:flex;\n",
              "      flex-wrap:wrap;\n",
              "      gap: 12px;\n",
              "    }\n",
              "\n",
              "    .colab-df-convert {\n",
              "      background-color: #E8F0FE;\n",
              "      border: none;\n",
              "      border-radius: 50%;\n",
              "      cursor: pointer;\n",
              "      display: none;\n",
              "      fill: #1967D2;\n",
              "      height: 32px;\n",
              "      padding: 0 0 0 0;\n",
              "      width: 32px;\n",
              "    }\n",
              "\n",
              "    .colab-df-convert:hover {\n",
              "      background-color: #E2EBFA;\n",
              "      box-shadow: 0px 1px 2px rgba(60, 64, 67, 0.3), 0px 1px 3px 1px rgba(60, 64, 67, 0.15);\n",
              "      fill: #174EA6;\n",
              "    }\n",
              "\n",
              "    [theme=dark] .colab-df-convert {\n",
              "      background-color: #3B4455;\n",
              "      fill: #D2E3FC;\n",
              "    }\n",
              "\n",
              "    [theme=dark] .colab-df-convert:hover {\n",
              "      background-color: #434B5C;\n",
              "      box-shadow: 0px 1px 3px 1px rgba(0, 0, 0, 0.15);\n",
              "      filter: drop-shadow(0px 1px 2px rgba(0, 0, 0, 0.3));\n",
              "      fill: #FFFFFF;\n",
              "    }\n",
              "  </style>\n",
              "\n",
              "      <script>\n",
              "        const buttonEl =\n",
              "          document.querySelector('#df-e93dfebc-578b-4263-8893-21c024011c1a button.colab-df-convert');\n",
              "        buttonEl.style.display =\n",
              "          google.colab.kernel.accessAllowed ? 'block' : 'none';\n",
              "\n",
              "        async function convertToInteractive(key) {\n",
              "          const element = document.querySelector('#df-e93dfebc-578b-4263-8893-21c024011c1a');\n",
              "          const dataTable =\n",
              "            await google.colab.kernel.invokeFunction('convertToInteractive',\n",
              "                                                     [key], {});\n",
              "          if (!dataTable) return;\n",
              "\n",
              "          const docLinkHtml = 'Like what you see? Visit the ' +\n",
              "            '<a target=\"_blank\" href=https://colab.research.google.com/notebooks/data_table.ipynb>data table notebook</a>'\n",
              "            + ' to learn more about interactive tables.';\n",
              "          element.innerHTML = '';\n",
              "          dataTable['output_type'] = 'display_data';\n",
              "          await google.colab.output.renderOutput(dataTable, element);\n",
              "          const docLink = document.createElement('div');\n",
              "          docLink.innerHTML = docLinkHtml;\n",
              "          element.appendChild(docLink);\n",
              "        }\n",
              "      </script>\n",
              "    </div>\n",
              "  </div>\n",
              "  "
            ]
          },
          "metadata": {},
          "execution_count": 121
        }
      ]
    },
    {
      "cell_type": "markdown",
      "source": [
        "O que desejamos calcular é:\n",
        "- $P($good_payer$~|~$ has_own_home$=$No, marital_status$=$Divorced, have_car$=$Yes, income$=$High$)$\n",
        "- $P($good_payer$~|~$ has_own_home$=$Yes, marital_status$=$Single, have_car$=$No, income$=$Average$)$\n",
        "\n",
        "Para calcular ambos os casos, usamos que:\n",
        "\n",
        "$P(H~|~E) = \\frac{P(H) \\cdot \\prod_{i=1}^N P(e_i~|~H)}{\\sum_j P(E~|~h=h_j) \\cdot P(h=h_j)}$\n",
        "\n",
        "Sendo:\n",
        "- $H$ : Hipótese\n",
        "- $E$ : Evidência\n",
        "- $E = \\bigcup_{i=1}^N e_i$\n",
        "\n",
        "Para ambos os casos, temos que calcular 2 hipóteses:\n",
        "- $H$ : good_payer $=$ Yes\n",
        "- $H$ : good_payer $=$ No\n",
        "\n",
        "E decidir pelo critério MAP (Máxima Probabilidade a Posteriori)\n",
        "\n",
        "$\\underset{j}{argmax} \\left(P(h=h_j) \\prod_{i=1}^N P(e_i~|~h=h_j) \\right)$"
      ],
      "metadata": {
        "id": "ojRzHtWVSpn1"
      }
    },
    {
      "cell_type": "code",
      "source": [
        "def naive_bayes(df, target, dependencies):\n",
        "  dependencies_columns = list(dependencies.keys())\n",
        "  results              = {}\n",
        "\n",
        "  df_len = len(df)\n",
        "\n",
        "  for value in df[target].unique():\n",
        "    data     = df.query(f\"{target} == '{value}'\")\n",
        "    data_len = len(data)\n",
        "    \n",
        "    results[f\"{target} = {value}\"] = data_len / df_len\n",
        "\n",
        "    for column in dependencies_columns:\n",
        "      dependencie_value = dependencies[column]\n",
        "\n",
        "      results[f\"{target} = {value}\"] *= len(data.query(f\"{column} == @dependencie_value\")) / data_len\n",
        "\n",
        "  return max(results, key=results.get)"
      ],
      "metadata": {
        "id": "PiyplpmK8t0L"
      },
      "execution_count": 122,
      "outputs": []
    },
    {
      "cell_type": "markdown",
      "source": [
        "#### $P($good_payer$~|~$ has_own_home$=$No, marital_status$=$Divorced, have_car$=$Yes, income$=$High$)$"
      ],
      "metadata": {
        "id": "HaW0wnGgZ-qC"
      }
    },
    {
      "cell_type": "markdown",
      "source": [
        "Probabilidades a priori:\n",
        "- $P($good_payer$=$Yes$) = \\frac{5}{11}$\n",
        "- $P($good_payer$=$No$) = \\frac{6}{11}$\n",
        "\n",
        "Probabilidades a posteriori:\n",
        "- $P($has_own_home$=$No$~|~$good_payer$=$Yes$) = \\frac{3}{5}$\n",
        "- $P($marital_status$=$Divorced$~|~$good_payer$=$Yes$) = \\frac{2}{5}$\n",
        "- $P($have_car$=$Yes$~|~$good_payer$=$Yes$) = \\frac{3}{5}$\n",
        "- $P($income$=$High$~|~$good_payer$=$Yes$) = \\frac{2}{5}$\n",
        "\n",
        "- $P($has_own_home$=$No$~|~$good_payer$=$No$) = \\frac{4}{6}$\n",
        "- $P($marital_status$=$Divorced$~|~$good_payer$=$No$) = \\frac{1}{6}$\n",
        "- $P($have_car$=$Yes$~|~$good_payer$=$No$) = \\frac{3}{6}$\n",
        "- $P($income$=$High$~|~$good_payer$=$No$) = \\frac{1}{6}$"
      ],
      "metadata": {
        "id": "Zx_4JjfdihU9"
      }
    },
    {
      "cell_type": "markdown",
      "source": [
        "$H$ : good_payer$=$Yes\n",
        "\n",
        "$P(H~|~E) = \\frac{\\frac{5}{11} \\cdot \\frac{3}{5} \\cdot \\frac{2}{5} \\cdot \\frac{3}{5} \\cdot \\frac{2}{5}}{\\frac{5}{11} \\cdot \\frac{3}{5} \\cdot \\frac{2}{5} \\cdot \\frac{3}{5} \\cdot \\frac{2}{5} + \\frac{6}{11} \\cdot \\frac{4}{6} \\cdot \\frac{1}{6} \\cdot \\frac{3}{6} \\cdot \\frac{1}{6}} = \\frac{0.026182}{0.031232} = 0.838307$\n",
        "\n",
        "$H$ : good_payer$=$No\n",
        "\n",
        "$P(H~|~E) = \\frac{\\frac{6}{11} \\cdot \\frac{4}{6} \\cdot \\frac{1}{6} \\cdot \\frac{3}{6} \\cdot \\frac{1}{6}}{\\frac{5}{11} \\cdot \\frac{3}{5} \\cdot \\frac{2}{5} \\cdot \\frac{3}{5} \\cdot \\frac{2}{5} + \\frac{6}{11} \\cdot \\frac{4}{6} \\cdot \\frac{1}{6} \\cdot \\frac{3}{6} \\cdot \\frac{1}{6}} = \\frac{0.005051}{0.031232} = 0.161725$"
      ],
      "metadata": {
        "id": "VwuPLlvMAj88"
      }
    },
    {
      "cell_type": "code",
      "source": [
        "dependencies = {\n",
        "  \"has_own_home\": \"No\", \n",
        "  \"marital_status\": \"Divorced\",\n",
        "  \"have_car\": \"Yes\",\n",
        "  \"income\": \"High\"\n",
        "}\n",
        "\n",
        "naive_bayes(bank_table, \"good_payer\", dependencies)"
      ],
      "metadata": {
        "colab": {
          "base_uri": "https://localhost:8080/",
          "height": 36
        },
        "id": "r07au1ksajbk",
        "outputId": "1a0fea90-9b71-4c39-9d4c-91a7a5fb1463"
      },
      "execution_count": 123,
      "outputs": [
        {
          "output_type": "execute_result",
          "data": {
            "text/plain": [
              "'good_payer = Yes'"
            ],
            "application/vnd.google.colaboratory.intrinsic+json": {
              "type": "string"
            }
          },
          "metadata": {},
          "execution_count": 123
        }
      ]
    },
    {
      "cell_type": "markdown",
      "source": [
        "#### $P($good_payer$~|~$ has_own_home$=$Yes, marital_status$=$Single, have_car$=$No, income$=$Average$)$"
      ],
      "metadata": {
        "id": "PYerQCGgaOxc"
      }
    },
    {
      "cell_type": "markdown",
      "source": [
        "Probabilidades a priori:\n",
        "- $P($good_payer$=$Yes$) = \\frac{5}{11}$\n",
        "- $P($good_payer$=$No$) = \\frac{6}{11}$\n",
        "\n",
        "Probabilidades a posteriori:\n",
        "- $P($has_own_home$=$Yes$~|~$good_payer$=$Yes$) = \\frac{2}{5}$\n",
        "- $P($marital_status$=$Single$~|~$good_payer$=$Yes$) = \\frac{3}{5}$\n",
        "- $P($have_car$=$No$~|~$good_payer$=$Yes$) = \\frac{2}{5}$\n",
        "- $P($income$=$Average$~|~$good_payer$=$Yes$) = \\frac{3}{5}$\n",
        "\n",
        "- $P($has_own_home$=$Yes$~|~$good_payer$=$No$) = \\frac{2}{6}$\n",
        "- $P($marital_status$=$Single$~|~$good_payer$=$No$) = \\frac{1}{6}$\n",
        "- $P($have_car$=$No$~|~$good_payer$=$No$) = \\frac{3}{6}$\n",
        "- $P($income$=$Average$~|~$good_payer$=$No$) = \\frac{2}{6}$"
      ],
      "metadata": {
        "id": "T_djeEXxjeCe"
      }
    },
    {
      "cell_type": "markdown",
      "source": [
        "$H$ : good_payer$=$Yes\n",
        "\n",
        "  $P(H~|~E) = \\frac{\\frac{5}{11} \\cdot \\frac{2}{5} \\cdot \\frac{3}{5} \\cdot \\frac{2}{5} \\cdot \\frac{3}{5}}{\\frac{5}{11} \\cdot \\frac{2}{5} \\cdot \\frac{3}{5} \\cdot \\frac{2}{5} \\cdot \\frac{3}{5} + \\frac{6}{11} \\cdot \\frac{2}{6} \\cdot \\frac{1}{6} \\cdot \\frac{3}{6} \\cdot \\frac{2}{6}} = \\frac{0.026182}{0.031232} = 0.838307$\n",
        "\n",
        "$H$ : good_payer$=$No\n",
        "\n",
        "  $P(H~|~E) = \\frac{\\frac{6}{11} \\cdot \\frac{2}{6} \\cdot \\frac{1}{6} \\cdot \\frac{3}{6} \\cdot \\frac{2}{6}}{\\frac{5}{11} \\cdot \\frac{2}{5} \\cdot \\frac{3}{5} \\cdot \\frac{2}{5} \\cdot \\frac{3}{5} + \\frac{6}{11} \\cdot \\frac{2}{6} \\cdot \\frac{1}{6} \\cdot \\frac{3}{6} \\cdot \\frac{2}{6}} = \\frac{0.005051}{0.031232} = 0.161725$"
      ],
      "metadata": {
        "id": "HugpDEqyBENV"
      }
    },
    {
      "cell_type": "code",
      "source": [
        "dependencies = {\n",
        "  \"has_own_home\": \"Yes\", \n",
        "  \"marital_status\": \"Single\",\n",
        "  \"have_car\": \"No\",\n",
        "  \"income\": \"Average\"\n",
        "}\n",
        "\n",
        "naive_bayes(bank_table, \"good_payer\", dependencies)"
      ],
      "metadata": {
        "colab": {
          "base_uri": "https://localhost:8080/",
          "height": 36
        },
        "id": "AV49VIn8cTow",
        "outputId": "8c70796e-a082-4c4e-f44a-351962cfc549"
      },
      "execution_count": 124,
      "outputs": [
        {
          "output_type": "execute_result",
          "data": {
            "text/plain": [
              "'good_payer = Yes'"
            ],
            "application/vnd.google.colaboratory.intrinsic+json": {
              "type": "string"
            }
          },
          "metadata": {},
          "execution_count": 124
        }
      ]
    },
    {
      "cell_type": "markdown",
      "source": [
        "# 2."
      ],
      "metadata": {
        "id": "dRZInmPkq4lE"
      }
    },
    {
      "cell_type": "markdown",
      "source": [
        "A rede bayesiana abaixo concerne ao problema de partida de um carro, de uma forma bem simplificada:\n",
        "\n",
        "_(Extraído do Livro Bayesian Reasoning and Macine Learning - D. Barber)_\n",
        "\n",
        "<br>\n",
        "  <img src=\"https://drive.google.com/uc?id=1IvN9KGrWpLA1iaPioZWmiYTZx6hfjFLW\">\n",
        "<br>\n",
        "\n",
        "As variáveis aleatórias envolvidas são:\n",
        "- b = battery\n",
        "- g = gauge\n",
        "- f = fuel\n",
        "- t = turn over\n",
        "- s = start\n",
        "\n",
        "As probabilidades referentes a rede bayesiana são dadas por:\n",
        "\n",
        "<br>\n",
        "  <img src=\"https://drive.google.com/uc?id=1hym0zksr5Of6JTPTBWekx1hgYnAGmoba\">\n",
        "<br>\n",
        "\n",
        "Um agente inteligente com base nas inferências, isto é, no cálculo da P(f=empty | s=false) (a probabilidade do tanque estar vazio dado que o carro não deu partida) e da P(b=bad | s=false)(a probabilidade da bateria estar descarregada e o carro não deu partida), deve decidir qual o problema mais provável pela não partida do carro. Apresente a solução e implemente os cálculos de forma computacional."
      ],
      "metadata": {
        "id": "YaWEHSGOFkmF"
      }
    },
    {
      "cell_type": "markdown",
      "source": [
        "Pela tabela, conseguimos a seguinte rede bayesiana:\n",
        "\n",
        "<br>\n",
        "  <img src=\"https://drive.google.com/uc?id=1ydX1TIA217XJd2syz66uezKVXGFazTik\">\n",
        "<br>\n"
      ],
      "metadata": {
        "id": "vaYTIcPkY3GR"
      }
    },
    {
      "cell_type": "markdown",
      "source": [
        "## $P($f $=$ empty$~|~$ s $=$ false$)$\n",
        "\n",
        "Dada a falta de valor para 3 classes, é necessário considerar todas as possibilidade para elas.\n",
        "\n",
        "$P($f $=$ empty$~|~$s $=$ false$,$ b $=B,$ t $=T$)$\n",
        "\n",
        "- $B =$ { bad , good }\n",
        "- $T =$ { true , false }\n",
        "- $G =$ { empty , not empty }"
      ],
      "metadata": {
        "id": "zgIVaf_PK7va"
      }
    },
    {
      "cell_type": "markdown",
      "source": [
        "$\\sum_{k=1}^{2} \\sum_{j=1}^{2} \\sum_{i=1}^{2} P($f $=$ empty $ | $ s $=$ false$,$ b $=b_i, $ t $=t_j,$ g $=g_k)$\n",
        "\n",
        "- $B =$ { $b_1=$ bad , $b_2=$ good }\n",
        "- $T =$ { $t_1=$ true , $t_2=$ false }\n",
        "- $G =$ { $g_1=$ empty , $g_2=$ not empty }"
      ],
      "metadata": {
        "id": "Fyh9UpQY6sAx"
      }
    },
    {
      "cell_type": "markdown",
      "source": [
        "$P($f $=$ empty $ | $ s $=$ false$,$ b $=b_i, $ t $=t_j,$ g $=g_k)$\n",
        "\n",
        "$= P($f $=$ empty $, $ s $=$ false$,$ b $=b_i, $ t $=t_j,$ g $=g_k) / P($s $=$ false$,$ b $=b_i, $ t $=t_j,$ g $=g_k)$\n",
        "\n",
        "--- \n",
        "\n",
        "$P($f $=$ empty $, $ s $=$ false$,$ b $=b_i, $ t $=t_j,$ g $=g_k)$\n",
        "\n",
        "$ = P($b $=b_i) P($f $=$ empty$) P($g $=g_k | $b $=b_i , $f $=$ empty$) P($t $=t_j | $b $=b_i) P($s $=$ false $ | $f $=$ empty$, $ t $=t_j) = $\n",
        "\n",
        "$P($b $=b_1) P($f $=$ empty$) P($g $=g_1 | $b $=b_1 , $f $=$ empty$) P($t $=t_1 | $b $=b_1) P($s $=$ false $ | $f $=$ empty$, $ t $=t_1) +$\n",
        "\n",
        "$P($b $=b_2) P($f $=$ empty$) P($g $=g_1 | $b $=b_2 , $f $=$ empty$) P($t $=t_1 | $b $=b_2) P($s $=$ false $ | $f $=$ empty$, $ t $=t_1) +$\n",
        "\n",
        "$P($b $=b_1) P($f $=$ empty$) P($g $=g_1 | $b $=b_1 , $f $=$ empty$) P($t $=t_2 | $b $=b_1) P($s $=$ false $ | $f $=$ empty$, $ t $=t_2) +$\n",
        "\n",
        "$P($b $=b_2) P($f $=$ empty$) P($g $=g_1 | $b $=b_2 , $f $=$ empty$) P($t $=t_2 | $b $=b_2) P($s $=$ false $ | $f $=$ empty$, $ t $=t_2) +$\n",
        "\n",
        "$P($b $=b_1) P($f $=$ empty$) P($g $=g_2 | $b $=b_1 , $f $=$ empty$) P($t $=t_1 | $b $=b_1) P($s $=$ false $ | $f $=$ empty$, $ t $=t_1) +$\n",
        "\n",
        "$P($b $=b_2) P($f $=$ empty$) P($g $=g_2 | $b $=b_2 , $f $=$ empty$) P($t $=t_1 | $b $=b_2) P($s $=$ false $ | $f $=$ empty$, $ t $=t_1) +$\n",
        "\n",
        "$P($b $=b_1) P($f $=$ empty$) P($g $=g_2 | $b $=b_1 , $f $=$ empty$) P($t $=t_2 | $b $=b_1) P($s $=$ false $ | $f $=$ empty$, $ t $=t_2) +$\n",
        "\n",
        "$P($b $=b_2) P($f $=$ empty$) P($g $=g_2 | $b $=b_2 , $f $=$ empty$) P($t $=t_2 | $b $=b_2) P($s $=$ false $ | $f $=$ empty$, $ t $=t_2) =$\n",
        "\n",
        "\n",
        "$0.05 \\cdot 0.1 \\cdot 0.97 \\cdot 0.04 \\cdot 0.92 +$\n",
        "\n",
        "$0.95 \\cdot 0.1 \\cdot 0.98 \\cdot 0.90 \\cdot 0.92 +$\n",
        "\n",
        "$0.05 \\cdot 0.1 \\cdot 0.97 \\cdot 0.96 \\cdot 0.99 +$\n",
        "\n",
        "$0.95 \\cdot 0.1 \\cdot 0.98 \\cdot 0.10 \\cdot 0.99 +$\n",
        "\n",
        "$0.05 \\cdot 0.1 \\cdot 0.03 \\cdot 0.04 \\cdot 0.92 +$\n",
        "\n",
        "$0.95 \\cdot 0.1 \\cdot 0.02 \\cdot 0.90 \\cdot 0.92 +$\n",
        "\n",
        "$0.05 \\cdot 0.1 \\cdot 0.03 \\cdot 0.96 \\cdot 0.99 +$\n",
        "\n",
        "$0.95 \\cdot 0.1 \\cdot 0.02 \\cdot 0.10 \\cdot 0.99 =$\n",
        "\n",
        "$0.093001$\n",
        "\n",
        "---\n",
        "\n",
        "$P($s $=$ false$,$ b $=b_i, $ t $=t_j,$ g $=g_k) = $\n",
        "\n",
        "$P($f $=$ empty $, $ s $=$ false$,$ b $=b_i, $ t $=t_j,$ g $=g_k) + P($f $=$ not empty $, $ s $=$ false$,$ b $=b_i, $ t $=t_j,$ g $=g_k)$\n",
        "\n",
        "$P($f $=$ not empty $, $ s $=$ false$,$ b $=b_i, $ t $=t_j,$ g $=g_k) = $\n",
        "\n",
        "$P($b $=b_1) P($f $=$ not empty$) P($g $=g_1 | $b $=b_1 , $f $=$ not empty$) P($t $=t_1 | $b $=b_1) P($s $=$ false $ | $f $=$ not empty$, $ t $=t_1) +$\n",
        "\n",
        "$P($b $=b_2) P($f $=$ not empty$) P($g $=g_1 | $b $=b_2 , $f $=$ not empty$) P($t $=t_1 | $b $=b_2) P($s $=$ false $ | $f $=$ not empty$, $ t $=t_1) +$\n",
        "\n",
        "$P($b $=b_1) P($f $=$ not empty$) P($g $=g_1 | $b $=b_1 , $f $=$ not empty$) P($t $=t_2 | $b $=b_1) P($s $=$ false $ | $f $=$ not empty$, $ t $=t_2) +$\n",
        "\n",
        "$P($b $=b_2) P($f $=$ not empty$) P($g $=g_1 | $b $=b_2 , $f $=$ not empty$) P($t $=t_2 | $b $=b_2) P($s $=$ false $ | $f $=$ not empty$, $ t $=t_2) +$\n",
        "\n",
        "$P($b $=b_1) P($f $=$ not empty$) P($g $=g_2 | $b $=b_1 , $f $=$ not empty$) P($t $=t_1 | $b $=b_1) P($s $=$ false $ | $f $=$ not empty$, $ t $=t_1) +$\n",
        "\n",
        "$P($b $=b_2) P($f $=$ not empty$) P($g $=g_2 | $b $=b_2 , $f $=$ not empty$) P($t $=t_1 | $b $=b_2) P($s $=$ false $ | $f $=$ not empty$, $ t $=t_1) +$\n",
        "\n",
        "$P($b $=b_1) P($f $=$ not empty$) P($g $=g_2 | $b $=b_1 , $f $=$ not empty$) P($t $=t_2 | $b $=b_1) P($s $=$ false $ | $f $=$ not empty$, $ t $=t_2) +$\n",
        "\n",
        "$P($b $=b_2) P($f $=$ not empty$) P($g $=g_2 | $b $=b_2 , $f $=$ not empty$) P($t $=t_2 | $b $=b_2) P($s $=$ false $ | $f $=$ not empty$, $ t $=t_2) =$\n",
        "\n",
        "---\n",
        "\n",
        "$P($f $=$ empty $ | $ s $=$ false$,$ b $=b_i, $ t $=t_j,$ g $=g_k)$"
      ],
      "metadata": {
        "id": "QjZsvI93D4On"
      }
    },
    {
      "cell_type": "markdown",
      "source": [
        "## $P($b $=$ bad$~|~$s $=$ false$)$\n",
        "\n",
        "Dada a falta de valor para 3 classes, é necessário considerar todas as possibilidade para elas.\n",
        "\n",
        "$P($b $=$ bad$~|~$s $=$ false$,$ f $=F$, t $=T$, g $=G)$\n",
        "- $F =$ { empty , not empty }\n",
        "- $T =$ { true , false }\n",
        "- $G =$ { empty , not empty }"
      ],
      "metadata": {
        "id": "mhaXSMa1LMWW"
      }
    },
    {
      "cell_type": "markdown",
      "source": [
        "$\\sum_{k=1}^{2} \\sum_{j=1}^{2} \\sum_{i=1}^{2} P($b $=$ bad$~|~$s $=$ false$,$ f $=f_i, $ t $=t_j, $ g $=g_k)$\n",
        "\n",
        "- $F =$ { $f_1=$ empty , $f_2=$ not empty }\n",
        "- $T =$ { $t_1=$ true , $t_2=$ false }\n",
        "- $G =$ { $g_1=$ empty , $g_2=$ not empty }"
      ],
      "metadata": {
        "id": "NGzY6CtRC4tP"
      }
    },
    {
      "cell_type": "markdown",
      "source": [
        "$P($b $=$ bad$~|~$s $=$ false$,$ f $=$ empty$, $ t $=$ true$, $ g $=$ empty$)+$\n",
        "\n",
        "$P($b $=$ bad$~|~$s $=$ false$,$ f $=$ not empty$, $ t $=$ true$, $ g $=$ empty$)+$\n",
        "\n",
        "$P($b $=$ bad$~|~$s $=$ false$,$ f $=$ empty$, $ t $=$ false$, $ g $=$ empty$)+$\n",
        "\n",
        "$P($b $=$ bad$~|~$s $=$ false$,$ f $=$ not empty$, $ t $=$ false$, $ g $=$ empty$)+$\n",
        "\n",
        "$P($b $=$ bad$~|~$s $=$ false$,$ f $=$ empty$, $ t $=$ true$, $ g $=$ not empty$)+$\n",
        "\n",
        "$P($b $=$ bad$~|~$s $=$ false$,$ f $=$ not empty$, $ t $=$ true$, $ g $=$ not empty$)+$\n",
        "\n",
        "$P($b $=$ bad$~|~$s $=$ false$,$ f $=$ empty$, $ t $=$ false$, $ g $=$ not empty$)+$\n",
        "\n",
        "$P($b $=$ bad$~|~$s $=$ false$,$ f $=$ not empty$, $ t $=$ false$, $ g $=$ not empty$)$"
      ],
      "metadata": {
        "id": "Rakp6J1LGEkG"
      }
    },
    {
      "cell_type": "markdown",
      "source": [
        "# 3."
      ],
      "metadata": {
        "id": "Dwqg8XLDq_BP"
      }
    },
    {
      "cell_type": "markdown",
      "source": [
        "\n",
        "\n",
        "Uma rede de crença (ou rede bayesiana) modela a relação entre as variáveis oil (price of oil), inf (inflation), eh (economy health), bp (Britishh Petroleum Stock price), rt (retailer stock pricec).\n",
        "\n",
        "Cada variável tem os estados **low** e **high**, exceto a variável bp que tem adicionalmente o estado **normal**. A rede de crença, modela as variáveis de acordo com a tabela abaixo.\n",
        "\n",
        "<br>\n",
        "  <img src=\"https://drive.google.com/uc?id=1EsySCsM0QY003t3wf5K7Lnj3ge3DvIb-\">\n",
        "<br>\n"
      ],
      "metadata": {
        "id": "TbdCJE642mFa"
      }
    },
    {
      "cell_type": "markdown",
      "source": [
        "A partir da tabela, pode-se gerar a rede de crença:\n",
        "\n",
        "<br>\n",
        "  <img src=\"https://drive.google.com/uc?id=1NB5TjnFunv1CkGzLeLiSb_K455Jq79kC\">\n",
        "<br>"
      ],
      "metadata": {
        "id": "t6oVv39I5ZBc"
      }
    },
    {
      "cell_type": "markdown",
      "source": [
        "## 3.a\n",
        "\n",
        "Determine o gráfico da rede bayesiana para esse problema"
      ],
      "metadata": {
        "id": "e70EfGx1-nEK"
      }
    },
    {
      "cell_type": "markdown",
      "source": [
        "<br>\n",
        "  <img src=\"https://drive.google.com/uc?id=1HzQTYZuRCBW62R77qI9Mynq-ecDWDHTp\">\n",
        "<br>"
      ],
      "metadata": {
        "id": "CdB9B4OAiTdf"
      }
    },
    {
      "cell_type": "markdown",
      "source": [
        "## 3.b\n",
        "\n",
        "Dado que bp=normal e rt=high, qual é a probabilidade de que a inflação seja alta?"
      ],
      "metadata": {
        "id": "31ZdxE03-wcD"
      }
    },
    {
      "cell_type": "markdown",
      "source": [
        "$P($inf $=$ high$~|~$bp $=$ normal$,$ rt $=$ high$)$"
      ],
      "metadata": {
        "id": "RpEP6YWUioqL"
      }
    },
    {
      "cell_type": "markdown",
      "source": [
        "# 4."
      ],
      "metadata": {
        "id": "y461sbKErC5E"
      }
    },
    {
      "cell_type": "markdown",
      "source": [
        "\n",
        "Considere o problema de decisão caracterizado por uma sequência de eventos que\n",
        "podem ser apresentados por um gráfico conhecido como rede de decisão. Uma casa\n",
        "está a venda. A casa foi construída a mais de dez anos. João está interessado em\n",
        "comprar a casa como investimento. Isto é fazer uma pequena reforma e revender a\n",
        "casa. \n",
        "\n",
        "Ele considera que a casa tem 70% de chance de estar realmente em bom estado. Se a casa estiver realmente em bom estado ele pode após uma pequena reforma ter um lucro de 30.000 reais na revenda. Caso contrário ele vai ter um prejuízo de 18.000,00 reais. \n",
        "\n",
        "João sabe que se ele contratar um profissional especializado em inspecionar imóveis ele terá uma melhor avaliação da situação da casa. Entretanto a contratação deste profissional requer um custo de 3.600,00 reais. A tabela abaixo indica as probabilidades envolvidas no processo de fazer ou não a inspeção e as condições do imóvel.\n",
        "\n",
        "Tabela de Probabilidades:\n",
        "\n",
        "<br>\n",
        "  <img src=\"https://drive.google.com/uc?id=1YNRlwkk8VHbmAkJv2-U4lOhKP9ftHcsg\">\n",
        "<br>\n",
        "\n",
        "- I = Inspect\n",
        "- C = Property Conditions\n",
        "- A = Avaliation\n",
        "\n",
        "<br>\n",
        "\n",
        "Tabelas de Utilidades:\n",
        "\n",
        "<br>\n",
        "  <img src=\"https://drive.google.com/uc?id=12DQBXSt4wtErLfBv47JKnDxULO3Bhxsy\">\n",
        "<br>\n",
        "\n",
        "- BH = Buy House\n",
        "- C = Property Conditions\n",
        "- U = Utility Function\n",
        "\n",
        "<br>\n",
        "  <img src=\"https://drive.google.com/uc?id=1_hXT8O_qM4dwxHD1Fjn_lWjtJL1c57FJ\">\n",
        "<br>\n",
        "\n",
        "- I = Inspect\n",
        "- U = Utility Function\n",
        "\n"
      ],
      "metadata": {
        "id": "9AulT83Y-9sh"
      }
    },
    {
      "cell_type": "markdown",
      "source": [
        "## 4.a\n",
        "\n",
        "Construa a rede bayesiana para esse problema"
      ],
      "metadata": {
        "id": "QW5LOZ0p3xHj"
      }
    },
    {
      "cell_type": "markdown",
      "source": [
        "\n",
        "<br>\n",
        "  <img height=600 src=\"https://drive.google.com/uc?id=1TwAx3W7BNF0CzmTugxIUxeyPA_dRBz4P\">\n",
        "<br>"
      ],
      "metadata": {
        "id": "SCK844kM3ONk"
      }
    },
    {
      "cell_type": "markdown",
      "source": [
        "## 4.b\n",
        "\n",
        "Qual a melhor decisão?"
      ],
      "metadata": {
        "id": "bwOW-shH338l"
      }
    },
    {
      "cell_type": "markdown",
      "source": [
        "Fazer a inspeção"
      ],
      "metadata": {
        "id": "2lM6KioY3bx3"
      }
    },
    {
      "cell_type": "markdown",
      "source": [
        "# 5."
      ],
      "metadata": {
        "id": "7tOFeBRKrHeJ"
      }
    },
    {
      "cell_type": "markdown",
      "source": [
        "Considere o problema de tomada de decisão caracterizado por uma sequência de\n",
        "eventos que podem ser apresentado por um grafo conhecido como rede de decisão. O\n",
        "problema em questão consiste das escolhas e das decisões por parte de uma empresa de petróleo. Uma determinada empresa petrolífera obteve a concessão para explorar uma certa região. Os estudos anteriores (testes preliminares) estimam a probabilidade de existir petróleo nessa região em 20%. A companhia pode optar por um novo teste, que custa US\\$ 100.000,00, sendo que, se realmente existe petróleo, esse teste dirá com uma probabilidade de 0.85 que existe, e se realmente não existe, dirá com probabilidade 0.70 que não existe. Considerando que o custo de perfuração será de US\\$ 1.000.000,00 e que, se for encontrado petróleo, a companhia receberá US\\$ 20.000.000,00 pela produção. \n",
        "\n",
        "Considere, portanto os seguintes eventos e os seus complementos: \n",
        "1. Evento T (a companhia faz o teste); \n",
        "2. Evento F (o teste é favorável à existência de petróleo;\n",
        "3. Evento P (a companhia perfura o poço); \n",
        "4. Evento E (existe petróleo).\n",
        "\n",
        "Observações:\n",
        "- O evento inicial da árvore é se a companhia faz ou não faz o teste\n",
        "- Para cada evento tem o seu complementar\n",
        "- Para o cálculo da utilidade esperada, determine, antes, as probabilidade condicionais a posteriori com base no teorema de bayes"
      ],
      "metadata": {
        "id": "40tIy6ENB07Z"
      }
    },
    {
      "cell_type": "markdown",
      "source": [
        "## 5.a\n",
        "\n",
        "Construa a rede indicando os nós de decisões e os nós ao acaso (variáveis aleatórias). Considere as funções de utilidade, representadas por losangos, como\n",
        "sendo o `lucro = receita - despesas`, calculado em cada percurso da árvore."
      ],
      "metadata": {
        "id": "B0Wjga-IACvz"
      }
    },
    {
      "cell_type": "code",
      "source": [],
      "metadata": {
        "id": "muuo53u1B1rd"
      },
      "execution_count": 124,
      "outputs": []
    },
    {
      "cell_type": "markdown",
      "source": [
        "## 5.b\n",
        "\n",
        "Determine em cada nó dos percursos da árvore a utilidade esperada."
      ],
      "metadata": {
        "id": "9XAdL4FdAEhK"
      }
    },
    {
      "cell_type": "code",
      "source": [],
      "metadata": {
        "id": "0YiocMjnAF_Y"
      },
      "execution_count": 124,
      "outputs": []
    },
    {
      "cell_type": "markdown",
      "source": [
        "## 5.c\n",
        "\n",
        "Usando o critério da utilidade máxima esperada, determine a melhor decisão."
      ],
      "metadata": {
        "id": "KsYMSwz6AGTx"
      }
    },
    {
      "cell_type": "code",
      "source": [],
      "metadata": {
        "id": "1pAjDc3yAH2B"
      },
      "execution_count": 124,
      "outputs": []
    },
    {
      "cell_type": "markdown",
      "source": [
        "## 5.d\n",
        "\n",
        "Qual o valor esperado do lucro da companhia se for tomada a melhor decisão?"
      ],
      "metadata": {
        "id": "LcYmKP2zAIH5"
      }
    },
    {
      "cell_type": "code",
      "source": [],
      "metadata": {
        "id": "Ns49JtChAJYI"
      },
      "execution_count": 124,
      "outputs": []
    },
    {
      "cell_type": "markdown",
      "source": [
        "## 5.e\n",
        "\n",
        "Apresente também a solução deste problema através de um programa\n",
        "computacional e simule diferentes situações alterando o valor das probabilidades."
      ],
      "metadata": {
        "id": "GGR6yyv4-9nc"
      }
    },
    {
      "cell_type": "code",
      "source": [],
      "metadata": {
        "id": "MbKBNnmk-_hK"
      },
      "execution_count": 124,
      "outputs": []
    },
    {
      "cell_type": "markdown",
      "source": [
        "# 6."
      ],
      "metadata": {
        "id": "noJzwULYrKQT"
      }
    },
    {
      "cell_type": "markdown",
      "source": [
        "Considere o problema de separação de padrões constituído por duas classes\n",
        "$w_1$ e $w_2$ . Assumindo que as distribuições associadas a cada classe são gaussianas com probabilidades a priori dadas por $\\left ( P(w_1) = P(w_2) = \\frac{1}{2}\\right )$. \n",
        "\n",
        "As distribuições\n",
        "gaussianas para cada classe apresentam os seguintes parâmetros (vetor média e\n",
        "matriz de covariância) dados por:\n",
        "\n",
        "$\\mu_1 = \\begin{bmatrix}\n",
        "3\\\\ \n",
        "6\n",
        "\\end{bmatrix}, $\n",
        "$\\sum_1 = \\begin{bmatrix}\n",
        "\\frac{1}{2} & 0\\\\ \n",
        "0 & 2\n",
        "\\end{bmatrix}, $\n",
        "$\\sum_1^{-1} = \\begin{bmatrix}\n",
        "2 & 0\\\\ \n",
        "0 & \\frac{1}{2}\n",
        "\\end{bmatrix}, $\n",
        "\n",
        "$\\mu_2 = \\begin{bmatrix}\n",
        "3\\\\ \n",
        "-2\n",
        "\\end{bmatrix}, $\n",
        "$\\sum_2 = \\begin{bmatrix}\n",
        "2 & 0\\\\ \n",
        "0 & 2\n",
        "\\end{bmatrix}, $\n",
        "$\\sum_2^{-1}  = \\begin{bmatrix}\n",
        "\\frac{1}{2} & 0\\\\ \n",
        "0 & \\frac{1}{2}\n",
        "\\end{bmatrix}, $\n",
        "\n",
        "As funções discriminantes $g_1(\\mathbf{x})$ e $g_2(\\mathbf{x})$ definem a superfície de separação ou decisão entre os padrões ou classes associadas as distribuições gaussianas. A superfície de separação é obtida fazendo $g_1(\\mathbf{x}) = g_2(\\mathbf{x})$.\n",
        "\n",
        "Para as condições deste problema as funções descriminantes $g_i(\\mathbf{x}), i=1, 2$ podem ser calculadas pela equação abaixo:\n",
        "\n",
        "$g_i(\\mathbf{x}) = -\\frac{1}{2}\\left ( \\left ( \\mathbf{x} - \\mathbf{\\mu}_i\\right )^t \\cdot \\sum_i^{-1} \\cdot  \\left ( \\mathbf{x} - \\mathbf{\\mu}_i\\right ) \\right ) - \\frac{1}{2} \\cdot ln\\left | \\sum_i \\right |, i=1, 2$\n",
        "\n",
        "- $\\mu$ : Vetor Média\n",
        "- $\\sum$ : Matriz de Covariância\n",
        "- $\\sum^{-1}$ : Inversa da Matriz de Covariância\n",
        "- $\\left | \\sum \\right |$ : Determinante da Matriz de Covariância"
      ],
      "metadata": {
        "id": "TwuZxN7p_vAJ"
      }
    },
    {
      "cell_type": "markdown",
      "source": [
        "## 6.a\n",
        "\n",
        "Mostre que a superfície de decisão é dada por\n",
        "\n",
        "$x_2 = 3.514 - 1.125 \\cdot x_1 + 0.1875 \\cdot x_1^2$"
      ],
      "metadata": {
        "id": "yZq0GQHgqzsb"
      }
    },
    {
      "cell_type": "markdown",
      "source": [
        "### Demonstração:"
      ],
      "metadata": {
        "id": "3YX8KLyWbEjC"
      }
    },
    {
      "cell_type": "markdown",
      "source": [
        "$g_1(\\mathbf{x}) = g_2(\\mathbf{x})$\n",
        "\n",
        "$-\\frac{1}{2}\\left ( \\left ( \\mathbf{x} - \\mathbf{\\mu}_1\\right )^t \\cdot \\sum_1^{-1} \\cdot  \\left ( \\mathbf{x} - \\mathbf{\\mu}_1\\right ) \\right ) - \\frac{1}{2} \\cdot ln\\left | \\sum_1 \\right | = -\\frac{1}{2}\\left ( \\left ( \\mathbf{x} - \\mathbf{\\mu}_2\\right )^t \\cdot \\sum_2^{-1} \\cdot  \\left ( \\mathbf{x} - \\mathbf{\\mu}_2\\right ) \\right ) - \\frac{1}{2} \\cdot ln\\left | \\sum_2 \\right |$\n",
        "\n",
        "$\\left ( \\left ( \\mathbf{x} - \\mathbf{\\mu}_1\\right )^t \\cdot \\sum_1^{-1} \\cdot  \\left ( \\mathbf{x} - \\mathbf{\\mu}_1\\right ) \\right ) + ln\\left | \\sum_1 \\right | = \\left ( \\left ( \\mathbf{x} - \\mathbf{\\mu}_2\\right )^t \\cdot \\sum_2^{-1} \\cdot  \\left ( \\mathbf{x} - \\mathbf{\\mu}_2\\right ) \\right ) + ln\\left | \\sum_2 \\right |$\n",
        "\n",
        "$\\left ( \\begin{bmatrix} x_1\\\\ x_2 \\end{bmatrix} - \\begin{bmatrix} 3 \\\\ 6 \\end{bmatrix} \\right )^t \\begin{bmatrix} 2 & 0\\\\ 0 & \\frac{1}{2} \\end{bmatrix} \\left ( \\begin{bmatrix} x_1\\\\ x_2 \\end{bmatrix} - \\begin{bmatrix} 3 \\\\ 6 \\end{bmatrix} \\right ) + ln\\begin{vmatrix} \\frac{1}{2} & 0 \\\\ 0 & 2 \\end{vmatrix} =\n",
        "\\left ( \\begin{bmatrix} x_1\\\\ x_2 \\end{bmatrix} - \\begin{bmatrix} 3 \\\\ -2 \\end{bmatrix} \\right )^t \\begin{bmatrix} \\frac{1}{2} & 0\\\\ 0 & \\frac{1}{2} \\end{bmatrix} \\left ( \\begin{bmatrix} x_1\\\\ x_2 \\end{bmatrix} - \\begin{bmatrix} 3 \\\\ -2 \\end{bmatrix} \\right ) + ln\\begin{vmatrix} 2 & 0 \\\\ 0 & 2 \\end{vmatrix}$\n",
        "\n",
        "$\\begin{bmatrix} x_1 - 3 \\\\ x_2 - 6 \\end{bmatrix} ^t \\begin{bmatrix} 2 & 0\\\\ 0 & \\frac{1}{2} \\end{bmatrix} \\begin{bmatrix} x_1 - 3 \\\\ x_2 - 6 \\end{bmatrix} + ln\\begin{vmatrix} \\frac{1}{2} & 0 \\\\ 0 & 2 \\end{vmatrix} =\n",
        "\\begin{bmatrix} x_1 - 3 \\\\ x_2 + 2 \\end{bmatrix} ^t \\begin{bmatrix} \\frac{1}{2} & 0\\\\ 0 & \\frac{1}{2} \\end{bmatrix} \\begin{bmatrix} x_1 - 3 \\\\ x_2 + 2 \\end{bmatrix} + ln\\begin{vmatrix} 2 & 0 \\\\ 0 & 2 \\end{vmatrix}$\n",
        "\n",
        "$2 (x_1 - 3)^2 + \\frac{1}{2} (x_2 - 6)^2 + ln(1) = \\frac{1}{2} (x_1 - 3)^2 + \\frac{1}{2} (x_2 + 2)^2 + ln(4)$\n",
        "\n",
        "$x_2 = \\frac{59}{16} - \\frac{ln(2)}{4} - \\frac{9}{8} x_1 + \\frac{3}{16} x_1^2 $\n",
        "\n",
        "$x_2 = 3.514 - 1.125 x_1 + 0.1875 x_1^2$\n",
        "\n"
      ],
      "metadata": {
        "id": "IcS_ktetbIor"
      }
    },
    {
      "cell_type": "markdown",
      "source": [
        "## 6.b\n",
        "\n",
        "Trace o gráfico da superfície de decisão"
      ],
      "metadata": {
        "id": "JQfSRj2srHbJ"
      }
    },
    {
      "cell_type": "code",
      "source": [
        "fig, ax = plt.subplots(figsize=(8, 5))\n",
        "\n",
        "x1 = np.linspace(-100, 100, 1000)\n",
        "x2 = 3.514 - 1.125 * x1 + 0.1875 * (x1**2)\n",
        "\n",
        "ax.plot(x1, x2)\n",
        "\n",
        "ax.set_xlabel(\"$x_1$\", fontsize=14)\n",
        "ax.set_ylabel(\"$x_2$\", fontsize=14)\n",
        "ax.set_title(\"Decision Boundary\", fontsize=18)\n",
        "\n",
        "plt.show()"
      ],
      "metadata": {
        "id": "Pnlr0yijrHyw",
        "colab": {
          "base_uri": "https://localhost:8080/",
          "height": 0
        },
        "outputId": "1717c147-7a48-414a-c223-04aefa4fe16b"
      },
      "execution_count": 125,
      "outputs": [
        {
          "output_type": "display_data",
          "data": {
            "text/plain": [
              "<Figure size 800x500 with 1 Axes>"
            ],
            "image/png": "[encoded data removed]"
          },
          "metadata": {}
        }
      ]
    },
    {
      "cell_type": "markdown",
      "source": [
        "## 6.c\n",
        "\n",
        "Indique a que classe pertence os padrões\n",
        "\n",
        "$\\mathbf{x_1} = \\begin{bmatrix}\n",
        "4\\\\ \n",
        "5\n",
        "\\end{bmatrix}$\n",
        "\n",
        "$\\mathbf{x_2} = \\begin{bmatrix}\n",
        "-3\\\\ \n",
        "4\n",
        "\\end{bmatrix}$"
      ],
      "metadata": {
        "id": "cqbiwVzLrOeC"
      }
    },
    {
      "cell_type": "code",
      "source": [
        "fig, ax = plt.subplots(figsize=(8, 5))\n",
        "\n",
        "x1 = np.linspace(-10, 10, 1000)\n",
        "x2 = 3.514 - 1.125 * x1 + 0.1875 * (x1**2)\n",
        "\n",
        "ax.plot(x1, x2)\n",
        "ax.scatter(4, 5, label=\"Pattern 1\", c=\"green\")\n",
        "ax.scatter(-3, 4, label=\"Pattern 2\", c=\"orange\")\n",
        "\n",
        "ax.set_xlabel(\"$x_1$\", fontsize=14)\n",
        "ax.set_ylabel(\"$x_2$\", fontsize=14)\n",
        "ax.set_title(\"Decision Boundary\", fontsize=18)\n",
        "\n",
        "plt.legend()\n",
        "plt.show()"
      ],
      "metadata": {
        "colab": {
          "base_uri": "https://localhost:8080/",
          "height": 0
        },
        "id": "tXVWjG6NvgPB",
        "outputId": "79485a4c-effb-4732-8624-e49d50c76209"
      },
      "execution_count": 126,
      "outputs": [
        {
          "output_type": "display_data",
          "data": {
            "text/plain": [
              "<Figure size 800x500 with 1 Axes>"
            ],
            "image/png": "[encoded data removed]"
          },
          "metadata": {}
        }
      ]
    },
    {
      "cell_type": "markdown",
      "source": [
        "# Trabalhos\n",
        "\n",
        "Escolha dois dos três trabalhos abaixo:\n",
        "\n",
        "- Trabalho1: Pesquise e apresente um trabalho sobre o algoritmo Naïve-Bayes para a detecção de Spam em mensagens de email ou para classificar páginas de texto com base em um tema de interesse (esporte, política, ...etc.) presente nas palavras que aparecem nas páginas.\n",
        "\n",
        "- Trabalho 2: Pesquise e apresente um trabalho sobre Random Forest com uma ou mais aplicações de livre escolha.\n",
        "\n",
        "- Trabalho 3: Pesquise e apresente um estudo sobre redes bayesianas na IA com uma ou mais aplicações de livre escolha."
      ],
      "metadata": {
        "id": "0ZSvHQKJ4Vto"
      }
    },
    {
      "cell_type": "code",
      "source": [
        "import pickle\n",
        "\n",
        "import pandas as pd\n",
        "import numpy  as np\n",
        "\n",
        "from sklearn.feature_extraction.text import CountVectorizer\n",
        "from sklearn.model_selection         import train_test_split\n",
        "from sklearn.model_selection         import RandomizedSearchCV\n",
        "from sklearn.metrics                 import confusion_matrix\n",
        "\n",
        "from joblib import dump, load"
      ],
      "metadata": {
        "id": "flgOUh92VNat"
      },
      "execution_count": 127,
      "outputs": []
    },
    {
      "cell_type": "markdown",
      "source": [
        "## Hate Speech and Offensive Language\n",
        "\n",
        "[![Kaggle](https://img.shields.io/badge/Kaggle-20BEFF?style=for-the-badge&logo=Kaggle&logoColor=white)](https://www.kaggle.com/datasets/mrmorj/hate-speech-and-offensive-language-dataset) \n"
      ],
      "metadata": {
        "id": "8ALf61Hitkqy"
      }
    },
    {
      "cell_type": "code",
      "source": [
        "from sklearn.naive_bayes import MultinomialNB\n",
        "from sklearn.ensemble    import RandomForestClassifier\n",
        "\n",
        "import re\n",
        "import nltk\n",
        "import string\n",
        "\n",
        "from nltk.corpus import stopwords\n",
        "\n",
        "stemmer = nltk.SnowballStemmer(\"english\")\n",
        "nltk.download('stopwords')\n",
        "stopword = set(stopwords.words('english'))"
      ],
      "metadata": {
        "colab": {
          "base_uri": "https://localhost:8080/"
        },
        "id": "kj6J5WstV-tZ",
        "outputId": "b3e38a73-0eee-4f20-d2c2-824a8f2c5636"
      },
      "execution_count": 128,
      "outputs": [
        {
          "output_type": "stream",
          "name": "stderr",
          "text": [
            "[nltk_data] Downloading package stopwords to /root/nltk_data...\n",
            "[nltk_data]   Package stopwords is already up-to-date!\n"
          ]
        }
      ]
    },
    {
      "cell_type": "markdown",
      "source": [
        "### Data Aquisition"
      ],
      "metadata": {
        "id": "s23Yc5_ukXRb"
      }
    },
    {
      "cell_type": "code",
      "source": [
        "twitter_data = pd.read_csv(\"https://raw.githubusercontent.com/amankharwal/Website-data/master/twitter.csv\", index_col=[0])\n",
        "\n",
        "twitter_data.head()"
      ],
      "metadata": {
        "id": "MqdfqUTAvrTF",
        "colab": {
          "base_uri": "https://localhost:8080/",
          "height": 206
        },
        "outputId": "3773e438-069c-4f49-c439-4220fc6cf15f"
      },
      "execution_count": 129,
      "outputs": [
        {
          "output_type": "execute_result",
          "data": {
            "text/plain": [
              "   count  hate_speech  offensive_language  neither  class  \\\n",
              "0      3            0                   0        3      2   \n",
              "1      3            0                   3        0      1   \n",
              "2      3            0                   3        0      1   \n",
              "3      3            0                   2        1      1   \n",
              "4      6            0                   6        0      1   \n",
              "\n",
              "                                               tweet  \n",
              "0  !!! RT @mayasolovely: As a woman you shouldn't...  \n",
              "1  !!!!! RT @mleew17: boy dats cold...tyga dwn ba...  \n",
              "2  !!!!!!! RT @UrKindOfBrand Dawg!!!! RT @80sbaby...  \n",
              "3  !!!!!!!!! RT @C_G_Anderson: @viva_based she lo...  \n",
              "4  !!!!!!!!!!!!! RT @ShenikaRoberts: The shit you...  "
            ],
            "text/html": [
              "\n",
              "  <div id=\"df-49d83f72-97b6-4920-bd7a-124822ff89c0\">\n",
              "    <div class=\"colab-df-container\">\n",
              "      <div>\n",
              "<style scoped>\n",
              "    .dataframe tbody tr th:only-of-type {\n",
              "        vertical-align: middle;\n",
              "    }\n",
              "\n",
              "    .dataframe tbody tr th {\n",
              "        vertical-align: top;\n",
              "    }\n",
              "\n",
              "    .dataframe thead th {\n",
              "        text-align: right;\n",
              "    }\n",
              "</style>\n",
              "<table border=\"1\" class=\"dataframe\">\n",
              "  <thead>\n",
              "    <tr style=\"text-align: right;\">\n",
              "      <th></th>\n",
              "      <th>count</th>\n",
              "      <th>hate_speech</th>\n",
              "      <th>offensive_language</th>\n",
              "      <th>neither</th>\n",
              "      <th>class</th>\n",
              "      <th>tweet</th>\n",
              "    </tr>\n",
              "  </thead>\n",
              "  <tbody>\n",
              "    <tr>\n",
              "      <th>0</th>\n",
              "      <td>3</td>\n",
              "      <td>0</td>\n",
              "      <td>0</td>\n",
              "      <td>3</td>\n",
              "      <td>2</td>\n",
              "      <td>!!! RT @mayasolovely: As a woman you shouldn't...</td>\n",
              "    </tr>\n",
              "    <tr>\n",
              "      <th>1</th>\n",
              "      <td>3</td>\n",
              "      <td>0</td>\n",
              "      <td>3</td>\n",
              "      <td>0</td>\n",
              "      <td>1</td>\n",
              "      <td>!!!!! RT @mleew17: boy dats cold...tyga dwn ba...</td>\n",
              "    </tr>\n",
              "    <tr>\n",
              "      <th>2</th>\n",
              "      <td>3</td>\n",
              "      <td>0</td>\n",
              "      <td>3</td>\n",
              "      <td>0</td>\n",
              "      <td>1</td>\n",
              "      <td>!!!!!!! RT @UrKindOfBrand Dawg!!!! RT @80sbaby...</td>\n",
              "    </tr>\n",
              "    <tr>\n",
              "      <th>3</th>\n",
              "      <td>3</td>\n",
              "      <td>0</td>\n",
              "      <td>2</td>\n",
              "      <td>1</td>\n",
              "      <td>1</td>\n",
              "      <td>!!!!!!!!! RT @C_G_Anderson: @viva_based she lo...</td>\n",
              "    </tr>\n",
              "    <tr>\n",
              "      <th>4</th>\n",
              "      <td>6</td>\n",
              "      <td>0</td>\n",
              "      <td>6</td>\n",
              "      <td>0</td>\n",
              "      <td>1</td>\n",
              "      <td>!!!!!!!!!!!!! RT @ShenikaRoberts: The shit you...</td>\n",
              "    </tr>\n",
              "  </tbody>\n",
              "</table>\n",
              "</div>\n",
              "      <button class=\"colab-df-convert\" onclick=\"convertToInteractive('df-49d83f72-97b6-4920-bd7a-124822ff89c0')\"\n",
              "              title=\"Convert this dataframe to an interactive table.\"\n",
              "              style=\"display:none;\">\n",
              "        \n",
              "  <svg xmlns=\"http://www.w3.org/2000/svg\" height=\"24px\"viewBox=\"0 0 24 24\"\n",
              "       width=\"24px\">\n",
              "    <path d=\"M0 0h24v24H0V0z\" fill=\"none\"/>\n",
              "    <path d=\"M18.56 5.44l.94 2.06.94-2.06 2.06-.94-2.06-.94-.94-2.06-.94 2.06-2.06.94zm-11 1L8.5 8.5l.94-2.06 2.06-.94-2.06-.94L8.5 2.5l-.94 2.06-2.06.94zm10 10l.94 2.06.94-2.06 2.06-.94-2.06-.94-.94-2.06-.94 2.06-2.06.94z\"/><path d=\"M17.41 7.96l-1.37-1.37c-.4-.4-.92-.59-1.43-.59-.52 0-1.04.2-1.43.59L10.3 9.45l-7.72 7.72c-.78.78-.78 2.05 0 2.83L4 21.41c.39.39.9.59 1.41.59.51 0 1.02-.2 1.41-.59l7.78-7.78 2.81-2.81c.8-.78.8-2.07 0-2.86zM5.41 20L4 18.59l7.72-7.72 1.47 1.35L5.41 20z\"/>\n",
              "  </svg>\n",
              "      </button>\n",
              "      \n",
              "  <style>\n",
              "    .colab-df-container {\n",
              "      display:flex;\n",
              "      flex-wrap:wrap;\n",
              "      gap: 12px;\n",
              "    }\n",
              "\n",
              "    .colab-df-convert {\n",
              "      background-color: #E8F0FE;\n",
              "      border: none;\n",
              "      border-radius: 50%;\n",
              "      cursor: pointer;\n",
              "      display: none;\n",
              "      fill: #1967D2;\n",
              "      height: 32px;\n",
              "      padding: 0 0 0 0;\n",
              "      width: 32px;\n",
              "    }\n",
              "\n",
              "    .colab-df-convert:hover {\n",
              "      background-color: #E2EBFA;\n",
              "      box-shadow: 0px 1px 2px rgba(60, 64, 67, 0.3), 0px 1px 3px 1px rgba(60, 64, 67, 0.15);\n",
              "      fill: #174EA6;\n",
              "    }\n",
              "\n",
              "    [theme=dark] .colab-df-convert {\n",
              "      background-color: #3B4455;\n",
              "      fill: #D2E3FC;\n",
              "    }\n",
              "\n",
              "    [theme=dark] .colab-df-convert:hover {\n",
              "      background-color: #434B5C;\n",
              "      box-shadow: 0px 1px 3px 1px rgba(0, 0, 0, 0.15);\n",
              "      filter: drop-shadow(0px 1px 2px rgba(0, 0, 0, 0.3));\n",
              "      fill: #FFFFFF;\n",
              "    }\n",
              "  </style>\n",
              "\n",
              "      <script>\n",
              "        const buttonEl =\n",
              "          document.querySelector('#df-49d83f72-97b6-4920-bd7a-124822ff89c0 button.colab-df-convert');\n",
              "        buttonEl.style.display =\n",
              "          google.colab.kernel.accessAllowed ? 'block' : 'none';\n",
              "\n",
              "        async function convertToInteractive(key) {\n",
              "          const element = document.querySelector('#df-49d83f72-97b6-4920-bd7a-124822ff89c0');\n",
              "          const dataTable =\n",
              "            await google.colab.kernel.invokeFunction('convertToInteractive',\n",
              "                                                     [key], {});\n",
              "          if (!dataTable) return;\n",
              "\n",
              "          const docLinkHtml = 'Like what you see? Visit the ' +\n",
              "            '<a target=\"_blank\" href=https://colab.research.google.com/notebooks/data_table.ipynb>data table notebook</a>'\n",
              "            + ' to learn more about interactive tables.';\n",
              "          element.innerHTML = '';\n",
              "          dataTable['output_type'] = 'display_data';\n",
              "          await google.colab.output.renderOutput(dataTable, element);\n",
              "          const docLink = document.createElement('div');\n",
              "          docLink.innerHTML = docLinkHtml;\n",
              "          element.appendChild(docLink);\n",
              "        }\n",
              "      </script>\n",
              "    </div>\n",
              "  </div>\n",
              "  "
            ]
          },
          "metadata": {},
          "execution_count": 129
        }
      ]
    },
    {
      "cell_type": "code",
      "source": [
        "twitter_data.shape"
      ],
      "metadata": {
        "colab": {
          "base_uri": "https://localhost:8080/"
        },
        "id": "YhIhAf_KlKir",
        "outputId": "c9efbe5d-2099-4b84-c77a-e84058b607a1"
      },
      "execution_count": 130,
      "outputs": [
        {
          "output_type": "execute_result",
          "data": {
            "text/plain": [
              "(24783, 6)"
            ]
          },
          "metadata": {},
          "execution_count": 130
        }
      ]
    },
    {
      "cell_type": "markdown",
      "source": [
        "### Exploratory Data Analysis"
      ],
      "metadata": {
        "id": "PiJhjNpoklV7"
      }
    },
    {
      "cell_type": "code",
      "source": [
        "twitter_data[\"labels\"] = twitter_data[\"class\"].map({\n",
        "  0: \"Hate Speech\", \n",
        "  1: \"Offensive Language\", \n",
        "  2: \"No Hate and Offensive\"\n",
        "})\n",
        "\n",
        "twitter_data.drop(columns=[\"class\"], inplace=True)\n",
        "\n",
        "twitter_data.head()"
      ],
      "metadata": {
        "colab": {
          "base_uri": "https://localhost:8080/",
          "height": 206
        },
        "id": "GqeJy1x_V6yh",
        "outputId": "70f4eef1-9ceb-400e-c5be-26f601699c2f"
      },
      "execution_count": 131,
      "outputs": [
        {
          "output_type": "execute_result",
          "data": {
            "text/plain": [
              "   count  hate_speech  offensive_language  neither  \\\n",
              "0      3            0                   0        3   \n",
              "1      3            0                   3        0   \n",
              "2      3            0                   3        0   \n",
              "3      3            0                   2        1   \n",
              "4      6            0                   6        0   \n",
              "\n",
              "                                               tweet                 labels  \n",
              "0  !!! RT @mayasolovely: As a woman you shouldn't...  No Hate and Offensive  \n",
              "1  !!!!! RT @mleew17: boy dats cold...tyga dwn ba...     Offensive Language  \n",
              "2  !!!!!!! RT @UrKindOfBrand Dawg!!!! RT @80sbaby...     Offensive Language  \n",
              "3  !!!!!!!!! RT @C_G_Anderson: @viva_based she lo...     Offensive Language  \n",
              "4  !!!!!!!!!!!!! RT @ShenikaRoberts: The shit you...     Offensive Language  "
            ],
            "text/html": [
              "\n",
              "  <div id=\"df-86187eca-5410-4a3b-8e78-ce00e074bb22\">\n",
              "    <div class=\"colab-df-container\">\n",
              "      <div>\n",
              "<style scoped>\n",
              "    .dataframe tbody tr th:only-of-type {\n",
              "        vertical-align: middle;\n",
              "    }\n",
              "\n",
              "    .dataframe tbody tr th {\n",
              "        vertical-align: top;\n",
              "    }\n",
              "\n",
              "    .dataframe thead th {\n",
              "        text-align: right;\n",
              "    }\n",
              "</style>\n",
              "<table border=\"1\" class=\"dataframe\">\n",
              "  <thead>\n",
              "    <tr style=\"text-align: right;\">\n",
              "      <th></th>\n",
              "      <th>count</th>\n",
              "      <th>hate_speech</th>\n",
              "      <th>offensive_language</th>\n",
              "      <th>neither</th>\n",
              "      <th>tweet</th>\n",
              "      <th>labels</th>\n",
              "    </tr>\n",
              "  </thead>\n",
              "  <tbody>\n",
              "    <tr>\n",
              "      <th>0</th>\n",
              "      <td>3</td>\n",
              "      <td>0</td>\n",
              "      <td>0</td>\n",
              "      <td>3</td>\n",
              "      <td>!!! RT @mayasolovely: As a woman you shouldn't...</td>\n",
              "      <td>No Hate and Offensive</td>\n",
              "    </tr>\n",
              "    <tr>\n",
              "      <th>1</th>\n",
              "      <td>3</td>\n",
              "      <td>0</td>\n",
              "      <td>3</td>\n",
              "      <td>0</td>\n",
              "      <td>!!!!! RT @mleew17: boy dats cold...tyga dwn ba...</td>\n",
              "      <td>Offensive Language</td>\n",
              "    </tr>\n",
              "    <tr>\n",
              "      <th>2</th>\n",
              "      <td>3</td>\n",
              "      <td>0</td>\n",
              "      <td>3</td>\n",
              "      <td>0</td>\n",
              "      <td>!!!!!!! RT @UrKindOfBrand Dawg!!!! RT @80sbaby...</td>\n",
              "      <td>Offensive Language</td>\n",
              "    </tr>\n",
              "    <tr>\n",
              "      <th>3</th>\n",
              "      <td>3</td>\n",
              "      <td>0</td>\n",
              "      <td>2</td>\n",
              "      <td>1</td>\n",
              "      <td>!!!!!!!!! RT @C_G_Anderson: @viva_based she lo...</td>\n",
              "      <td>Offensive Language</td>\n",
              "    </tr>\n",
              "    <tr>\n",
              "      <th>4</th>\n",
              "      <td>6</td>\n",
              "      <td>0</td>\n",
              "      <td>6</td>\n",
              "      <td>0</td>\n",
              "      <td>!!!!!!!!!!!!! RT @ShenikaRoberts: The shit you...</td>\n",
              "      <td>Offensive Language</td>\n",
              "    </tr>\n",
              "  </tbody>\n",
              "</table>\n",
              "</div>\n",
              "      <button class=\"colab-df-convert\" onclick=\"convertToInteractive('df-86187eca-5410-4a3b-8e78-ce00e074bb22')\"\n",
              "              title=\"Convert this dataframe to an interactive table.\"\n",
              "              style=\"display:none;\">\n",
              "        \n",
              "  <svg xmlns=\"http://www.w3.org/2000/svg\" height=\"24px\"viewBox=\"0 0 24 24\"\n",
              "       width=\"24px\">\n",
              "    <path d=\"M0 0h24v24H0V0z\" fill=\"none\"/>\n",
              "    <path d=\"M18.56 5.44l.94 2.06.94-2.06 2.06-.94-2.06-.94-.94-2.06-.94 2.06-2.06.94zm-11 1L8.5 8.5l.94-2.06 2.06-.94-2.06-.94L8.5 2.5l-.94 2.06-2.06.94zm10 10l.94 2.06.94-2.06 2.06-.94-2.06-.94-.94-2.06-.94 2.06-2.06.94z\"/><path d=\"M17.41 7.96l-1.37-1.37c-.4-.4-.92-.59-1.43-.59-.52 0-1.04.2-1.43.59L10.3 9.45l-7.72 7.72c-.78.78-.78 2.05 0 2.83L4 21.41c.39.39.9.59 1.41.59.51 0 1.02-.2 1.41-.59l7.78-7.78 2.81-2.81c.8-.78.8-2.07 0-2.86zM5.41 20L4 18.59l7.72-7.72 1.47 1.35L5.41 20z\"/>\n",
              "  </svg>\n",
              "      </button>\n",
              "      \n",
              "  <style>\n",
              "    .colab-df-container {\n",
              "      display:flex;\n",
              "      flex-wrap:wrap;\n",
              "      gap: 12px;\n",
              "    }\n",
              "\n",
              "    .colab-df-convert {\n",
              "      background-color: #E8F0FE;\n",
              "      border: none;\n",
              "      border-radius: 50%;\n",
              "      cursor: pointer;\n",
              "      display: none;\n",
              "      fill: #1967D2;\n",
              "      height: 32px;\n",
              "      padding: 0 0 0 0;\n",
              "      width: 32px;\n",
              "    }\n",
              "\n",
              "    .colab-df-convert:hover {\n",
              "      background-color: #E2EBFA;\n",
              "      box-shadow: 0px 1px 2px rgba(60, 64, 67, 0.3), 0px 1px 3px 1px rgba(60, 64, 67, 0.15);\n",
              "      fill: #174EA6;\n",
              "    }\n",
              "\n",
              "    [theme=dark] .colab-df-convert {\n",
              "      background-color: #3B4455;\n",
              "      fill: #D2E3FC;\n",
              "    }\n",
              "\n",
              "    [theme=dark] .colab-df-convert:hover {\n",
              "      background-color: #434B5C;\n",
              "      box-shadow: 0px 1px 3px 1px rgba(0, 0, 0, 0.15);\n",
              "      filter: drop-shadow(0px 1px 2px rgba(0, 0, 0, 0.3));\n",
              "      fill: #FFFFFF;\n",
              "    }\n",
              "  </style>\n",
              "\n",
              "      <script>\n",
              "        const buttonEl =\n",
              "          document.querySelector('#df-86187eca-5410-4a3b-8e78-ce00e074bb22 button.colab-df-convert');\n",
              "        buttonEl.style.display =\n",
              "          google.colab.kernel.accessAllowed ? 'block' : 'none';\n",
              "\n",
              "        async function convertToInteractive(key) {\n",
              "          const element = document.querySelector('#df-86187eca-5410-4a3b-8e78-ce00e074bb22');\n",
              "          const dataTable =\n",
              "            await google.colab.kernel.invokeFunction('convertToInteractive',\n",
              "                                                     [key], {});\n",
              "          if (!dataTable) return;\n",
              "\n",
              "          const docLinkHtml = 'Like what you see? Visit the ' +\n",
              "            '<a target=\"_blank\" href=https://colab.research.google.com/notebooks/data_table.ipynb>data table notebook</a>'\n",
              "            + ' to learn more about interactive tables.';\n",
              "          element.innerHTML = '';\n",
              "          dataTable['output_type'] = 'display_data';\n",
              "          await google.colab.output.renderOutput(dataTable, element);\n",
              "          const docLink = document.createElement('div');\n",
              "          docLink.innerHTML = docLinkHtml;\n",
              "          element.appendChild(docLink);\n",
              "        }\n",
              "      </script>\n",
              "    </div>\n",
              "  </div>\n",
              "  "
            ]
          },
          "metadata": {},
          "execution_count": 131
        }
      ]
    },
    {
      "cell_type": "code",
      "source": [
        "fig, ax = plt.subplots(figsize=(16, 6))\n",
        "\n",
        "ax = sns.countplot(data=twitter_data, y=\"labels\", order=[\"Offensive Language\", \"No Hate and Offensive\", \"Hate Speech\"])\n",
        "\n",
        "ax.set_ylabel(\"\")\n",
        "\n",
        "plt.show()"
      ],
      "metadata": {
        "colab": {
          "base_uri": "https://localhost:8080/",
          "height": 550
        },
        "id": "5gOYBnc7m28i",
        "outputId": "a3cf1049-51b8-4346-dd8d-da5f369c6ced"
      },
      "execution_count": 132,
      "outputs": [
        {
          "output_type": "display_data",
          "data": {
            "text/plain": [
              "<Figure size 1600x600 with 1 Axes>"
            ],
            "image/png": "[encoded data removed]"
          },
          "metadata": {}
        }
      ]
    },
    {
      "cell_type": "code",
      "source": [
        "twitter_data[\"labels\"].value_counts()"
      ],
      "metadata": {
        "colab": {
          "base_uri": "https://localhost:8080/"
        },
        "id": "ufMpIYYIo6cF",
        "outputId": "3adf12b6-2765-41eb-843f-19ad90b73a0e"
      },
      "execution_count": 133,
      "outputs": [
        {
          "output_type": "execute_result",
          "data": {
            "text/plain": [
              "Offensive Language       19190\n",
              "No Hate and Offensive     4163\n",
              "Hate Speech               1430\n",
              "Name: labels, dtype: int64"
            ]
          },
          "metadata": {},
          "execution_count": 133
        }
      ]
    },
    {
      "cell_type": "markdown",
      "source": [
        "### Data Treatment"
      ],
      "metadata": {
        "id": "XlDqq1uylra0"
      }
    },
    {
      "cell_type": "markdown",
      "source": [
        "<img width=700 src=\"https://machinelearningmastery.com/wp-content/uploads/2019/09/Header_smaller_text_better-1.png\">\n",
        "\n",
        "**The accuracy paradox** :\n",
        "> \"It is the case where your accuracy measures tell the story that you have excellent accuracy (such as 90%), but the accuracy is only reflecting the underlying class distribution\".\n",
        "\n",
        "[8 Tactics to Combat Imbalanced Classes in Your Machine Learning Dataset](https://machinelearningmastery.com/tactics-to-combat-imbalanced-classes-in-your-machine-learning-dataset/)"
      ],
      "metadata": {
        "id": "MHZfCblfpKIo"
      }
    },
    {
      "cell_type": "code",
      "source": [
        "MIN_SIZE = twitter_data[\"labels\"].value_counts().min()"
      ],
      "metadata": {
        "id": "B1MFDjXHtNwS"
      },
      "execution_count": 134,
      "outputs": []
    },
    {
      "cell_type": "code",
      "source": [
        "def balance(dataset):\n",
        "  datasets = []\n",
        "\n",
        "  for value in dataset[\"labels\"].unique():\n",
        "    query_data  = dataset.query(f\"labels == @value\")\n",
        "    sorted_data = query_data.sort_values(by=[\"count\"], ascending=False)\n",
        "\n",
        "    datasets.append(sorted_data.query(f\"labels == @value\").reset_index(drop=True).iloc[:MIN_SIZE])\n",
        "\n",
        "  return pd.concat(datasets, ignore_index=True)"
      ],
      "metadata": {
        "id": "42V_n49_vY8G"
      },
      "execution_count": 135,
      "outputs": []
    },
    {
      "cell_type": "code",
      "source": [
        "twitter_data = balance(twitter_data)"
      ],
      "metadata": {
        "id": "rYYeL2vnrQz2"
      },
      "execution_count": 136,
      "outputs": []
    },
    {
      "cell_type": "code",
      "source": [
        "twitter_data.shape"
      ],
      "metadata": {
        "colab": {
          "base_uri": "https://localhost:8080/"
        },
        "id": "qI9LEiCxuZGK",
        "outputId": "01532e3f-4971-4b01-e716-c7243cfc59da"
      },
      "execution_count": 137,
      "outputs": [
        {
          "output_type": "execute_result",
          "data": {
            "text/plain": [
              "(4290, 6)"
            ]
          },
          "metadata": {},
          "execution_count": 137
        }
      ]
    },
    {
      "cell_type": "code",
      "source": [
        "def clean(text):\n",
        "    text = str(text).lower()\n",
        "\n",
        "    text = re.sub('\\[.*?\\]', '', text)\n",
        "    text = re.sub('https?://\\S+|www\\.\\S+', '', text)\n",
        "    text = re.sub('<.*?>+', '', text)\n",
        "    text = re.sub('[%s]' % re.escape(string.punctuation), '', text)\n",
        "    text = re.sub('\\n', '', text)\n",
        "    text = re.sub('\\w*\\d\\w*', '', text)\n",
        "\n",
        "    text = [word for word in text.split(' ') if word not in stopword]\n",
        "    text = \" \".join(text)\n",
        "\n",
        "    text = [stemmer.stem(word) for word in text.split(' ')]\n",
        "    text = \" \".join(text)\n",
        "\n",
        "    return text"
      ],
      "metadata": {
        "id": "lcmyWe9dxOjq"
      },
      "execution_count": 138,
      "outputs": []
    },
    {
      "cell_type": "code",
      "source": [
        "twitter_data[\"tweet\"] = twitter_data[\"tweet\"].apply(clean)"
      ],
      "metadata": {
        "id": "XlzSuJqGxPwG"
      },
      "execution_count": 139,
      "outputs": []
    },
    {
      "cell_type": "code",
      "source": [
        "twitter_data = twitter_data[[\"tweet\", \"labels\"]]"
      ],
      "metadata": {
        "id": "uvkc2ZwWx2I1"
      },
      "execution_count": 140,
      "outputs": []
    },
    {
      "cell_type": "code",
      "source": [
        "twitter_data.head(10)"
      ],
      "metadata": {
        "colab": {
          "base_uri": "https://localhost:8080/",
          "height": 363
        },
        "id": "U6LBVJurx9wQ",
        "outputId": "bc8bad63-1d3b-4e58-ff51-20bf528c8686"
      },
      "execution_count": 141,
      "outputs": [
        {
          "output_type": "execute_result",
          "data": {
            "text/plain": [
              "                                               tweet                 labels\n",
              "0  rt elisaamartinez happi birthday cotton picker...  No Hate and Offensive\n",
              "1                              rt hoe emma watson     No Hate and Offensive\n",
              "2  id rather follow girl instagram rather bird br...  No Hate and Offensive\n",
              "3  rt mindonsuccess mother trash man  ask everyda...  No Hate and Offensive\n",
              "4           pretti girl wit bird brainswhat wast smh  No Hate and Offensive\n",
              "5  cant wait till get full appetit back ate half ...  No Hate and Offensive\n",
              "6                  wonder charli brown would say day  No Hate and Offensive\n",
              "7  rt bitterarab halloween fast approach pleas un...  No Hate and Offensive\n",
              "8                        earli bird get worm gogetit  No Hate and Offensive\n",
              "9  nytim seem dont come trash nobodi outsid holly...  No Hate and Offensive"
            ],
            "text/html": [
              "\n",
              "  <div id=\"df-d319481e-9cb5-4aea-8e7e-450fdd5f0c77\">\n",
              "    <div class=\"colab-df-container\">\n",
              "      <div>\n",
              "<style scoped>\n",
              "    .dataframe tbody tr th:only-of-type {\n",
              "        vertical-align: middle;\n",
              "    }\n",
              "\n",
              "    .dataframe tbody tr th {\n",
              "        vertical-align: top;\n",
              "    }\n",
              "\n",
              "    .dataframe thead th {\n",
              "        text-align: right;\n",
              "    }\n",
              "</style>\n",
              "<table border=\"1\" class=\"dataframe\">\n",
              "  <thead>\n",
              "    <tr style=\"text-align: right;\">\n",
              "      <th></th>\n",
              "      <th>tweet</th>\n",
              "      <th>labels</th>\n",
              "    </tr>\n",
              "  </thead>\n",
              "  <tbody>\n",
              "    <tr>\n",
              "      <th>0</th>\n",
              "      <td>rt elisaamartinez happi birthday cotton picker...</td>\n",
              "      <td>No Hate and Offensive</td>\n",
              "    </tr>\n",
              "    <tr>\n",
              "      <th>1</th>\n",
              "      <td>rt hoe emma watson</td>\n",
              "      <td>No Hate and Offensive</td>\n",
              "    </tr>\n",
              "    <tr>\n",
              "      <th>2</th>\n",
              "      <td>id rather follow girl instagram rather bird br...</td>\n",
              "      <td>No Hate and Offensive</td>\n",
              "    </tr>\n",
              "    <tr>\n",
              "      <th>3</th>\n",
              "      <td>rt mindonsuccess mother trash man  ask everyda...</td>\n",
              "      <td>No Hate and Offensive</td>\n",
              "    </tr>\n",
              "    <tr>\n",
              "      <th>4</th>\n",
              "      <td>pretti girl wit bird brainswhat wast smh</td>\n",
              "      <td>No Hate and Offensive</td>\n",
              "    </tr>\n",
              "    <tr>\n",
              "      <th>5</th>\n",
              "      <td>cant wait till get full appetit back ate half ...</td>\n",
              "      <td>No Hate and Offensive</td>\n",
              "    </tr>\n",
              "    <tr>\n",
              "      <th>6</th>\n",
              "      <td>wonder charli brown would say day</td>\n",
              "      <td>No Hate and Offensive</td>\n",
              "    </tr>\n",
              "    <tr>\n",
              "      <th>7</th>\n",
              "      <td>rt bitterarab halloween fast approach pleas un...</td>\n",
              "      <td>No Hate and Offensive</td>\n",
              "    </tr>\n",
              "    <tr>\n",
              "      <th>8</th>\n",
              "      <td>earli bird get worm gogetit</td>\n",
              "      <td>No Hate and Offensive</td>\n",
              "    </tr>\n",
              "    <tr>\n",
              "      <th>9</th>\n",
              "      <td>nytim seem dont come trash nobodi outsid holly...</td>\n",
              "      <td>No Hate and Offensive</td>\n",
              "    </tr>\n",
              "  </tbody>\n",
              "</table>\n",
              "</div>\n",
              "      <button class=\"colab-df-convert\" onclick=\"convertToInteractive('df-d319481e-9cb5-4aea-8e7e-450fdd5f0c77')\"\n",
              "              title=\"Convert this dataframe to an interactive table.\"\n",
              "              style=\"display:none;\">\n",
              "        \n",
              "  <svg xmlns=\"http://www.w3.org/2000/svg\" height=\"24px\"viewBox=\"0 0 24 24\"\n",
              "       width=\"24px\">\n",
              "    <path d=\"M0 0h24v24H0V0z\" fill=\"none\"/>\n",
              "    <path d=\"M18.56 5.44l.94 2.06.94-2.06 2.06-.94-2.06-.94-.94-2.06-.94 2.06-2.06.94zm-11 1L8.5 8.5l.94-2.06 2.06-.94-2.06-.94L8.5 2.5l-.94 2.06-2.06.94zm10 10l.94 2.06.94-2.06 2.06-.94-2.06-.94-.94-2.06-.94 2.06-2.06.94z\"/><path d=\"M17.41 7.96l-1.37-1.37c-.4-.4-.92-.59-1.43-.59-.52 0-1.04.2-1.43.59L10.3 9.45l-7.72 7.72c-.78.78-.78 2.05 0 2.83L4 21.41c.39.39.9.59 1.41.59.51 0 1.02-.2 1.41-.59l7.78-7.78 2.81-2.81c.8-.78.8-2.07 0-2.86zM5.41 20L4 18.59l7.72-7.72 1.47 1.35L5.41 20z\"/>\n",
              "  </svg>\n",
              "      </button>\n",
              "      \n",
              "  <style>\n",
              "    .colab-df-container {\n",
              "      display:flex;\n",
              "      flex-wrap:wrap;\n",
              "      gap: 12px;\n",
              "    }\n",
              "\n",
              "    .colab-df-convert {\n",
              "      background-color: #E8F0FE;\n",
              "      border: none;\n",
              "      border-radius: 50%;\n",
              "      cursor: pointer;\n",
              "      display: none;\n",
              "      fill: #1967D2;\n",
              "      height: 32px;\n",
              "      padding: 0 0 0 0;\n",
              "      width: 32px;\n",
              "    }\n",
              "\n",
              "    .colab-df-convert:hover {\n",
              "      background-color: #E2EBFA;\n",
              "      box-shadow: 0px 1px 2px rgba(60, 64, 67, 0.3), 0px 1px 3px 1px rgba(60, 64, 67, 0.15);\n",
              "      fill: #174EA6;\n",
              "    }\n",
              "\n",
              "    [theme=dark] .colab-df-convert {\n",
              "      background-color: #3B4455;\n",
              "      fill: #D2E3FC;\n",
              "    }\n",
              "\n",
              "    [theme=dark] .colab-df-convert:hover {\n",
              "      background-color: #434B5C;\n",
              "      box-shadow: 0px 1px 3px 1px rgba(0, 0, 0, 0.15);\n",
              "      filter: drop-shadow(0px 1px 2px rgba(0, 0, 0, 0.3));\n",
              "      fill: #FFFFFF;\n",
              "    }\n",
              "  </style>\n",
              "\n",
              "      <script>\n",
              "        const buttonEl =\n",
              "          document.querySelector('#df-d319481e-9cb5-4aea-8e7e-450fdd5f0c77 button.colab-df-convert');\n",
              "        buttonEl.style.display =\n",
              "          google.colab.kernel.accessAllowed ? 'block' : 'none';\n",
              "\n",
              "        async function convertToInteractive(key) {\n",
              "          const element = document.querySelector('#df-d319481e-9cb5-4aea-8e7e-450fdd5f0c77');\n",
              "          const dataTable =\n",
              "            await google.colab.kernel.invokeFunction('convertToInteractive',\n",
              "                                                     [key], {});\n",
              "          if (!dataTable) return;\n",
              "\n",
              "          const docLinkHtml = 'Like what you see? Visit the ' +\n",
              "            '<a target=\"_blank\" href=https://colab.research.google.com/notebooks/data_table.ipynb>data table notebook</a>'\n",
              "            + ' to learn more about interactive tables.';\n",
              "          element.innerHTML = '';\n",
              "          dataTable['output_type'] = 'display_data';\n",
              "          await google.colab.output.renderOutput(dataTable, element);\n",
              "          const docLink = document.createElement('div');\n",
              "          docLink.innerHTML = docLinkHtml;\n",
              "          element.appendChild(docLink);\n",
              "        }\n",
              "      </script>\n",
              "    </div>\n",
              "  </div>\n",
              "  "
            ]
          },
          "metadata": {},
          "execution_count": 141
        }
      ]
    },
    {
      "cell_type": "markdown",
      "source": [
        "### Creating Train and Test data"
      ],
      "metadata": {
        "id": "gidiU_DRyH8Z"
      }
    },
    {
      "cell_type": "code",
      "source": [
        "x = np.array(twitter_data[\"tweet\"])\n",
        "y = np.array(twitter_data[\"labels\"])"
      ],
      "metadata": {
        "id": "FW4nShNly2dB"
      },
      "execution_count": 142,
      "outputs": []
    },
    {
      "cell_type": "code",
      "source": [
        "cv = CountVectorizer()\n",
        "X  = cv.fit_transform(x)"
      ],
      "metadata": {
        "id": "oGprsAxpy6V0"
      },
      "execution_count": 143,
      "outputs": []
    },
    {
      "cell_type": "code",
      "source": [
        "X_train, X_test, y_train, y_test = train_test_split(X, y, stratify=y, test_size=0.2, random_state=42)"
      ],
      "metadata": {
        "id": "JLfsDmrkxGOZ"
      },
      "execution_count": 144,
      "outputs": []
    },
    {
      "cell_type": "code",
      "source": [
        "pd.DataFrame(y_train).value_counts()"
      ],
      "metadata": {
        "colab": {
          "base_uri": "https://localhost:8080/"
        },
        "id": "oHXmv0X0zFkM",
        "outputId": "0d90212e-fc52-4ddc-a632-84d6210a2ac4"
      },
      "execution_count": 145,
      "outputs": [
        {
          "output_type": "execute_result",
          "data": {
            "text/plain": [
              "Hate Speech              1144\n",
              "No Hate and Offensive    1144\n",
              "Offensive Language       1144\n",
              "dtype: int64"
            ]
          },
          "metadata": {},
          "execution_count": 145
        }
      ]
    },
    {
      "cell_type": "markdown",
      "source": [
        "### Training Model"
      ],
      "metadata": {
        "id": "u7w1LVcpyO6I"
      }
    },
    {
      "cell_type": "code",
      "source": [
        "mnb = MultinomialNB()\n",
        "\n",
        "mnb.fit(X_train, y_train)"
      ],
      "metadata": {
        "colab": {
          "base_uri": "https://localhost:8080/",
          "height": 75
        },
        "id": "x0LRAKVUzgU2",
        "outputId": "67e9df0b-6494-415b-97b9-79623816e875"
      },
      "execution_count": 146,
      "outputs": [
        {
          "output_type": "execute_result",
          "data": {
            "text/plain": [
              "MultinomialNB()"
            ],
            "text/html": [
              "<style>#sk-container-id-7 {color: black;background-color: white;}#sk-container-id-7 pre{padding: 0;}#sk-container-id-7 div.sk-toggleable {background-color: white;}#sk-container-id-7 label.sk-toggleable__label {cursor: pointer;display: block;width: 100%;margin-bottom: 0;padding: 0.3em;box-sizing: border-box;text-align: center;}#sk-container-id-7 label.sk-toggleable__label-arrow:before {content: \"▸\";float: left;margin-right: 0.25em;color: #696969;}#sk-container-id-7 label.sk-toggleable__label-arrow:hover:before {color: black;}#sk-container-id-7 div.sk-estimator:hover label.sk-toggleable__label-arrow:before {color: black;}#sk-container-id-7 div.sk-toggleable__content {max-height: 0;max-width: 0;overflow: hidden;text-align: left;background-color: #f0f8ff;}#sk-container-id-7 div.sk-toggleable__content pre {margin: 0.2em;color: black;border-radius: 0.25em;background-color: #f0f8ff;}#sk-container-id-7 input.sk-toggleable__control:checked~div.sk-toggleable__content {max-height: 200px;max-width: 100%;overflow: auto;}#sk-container-id-7 input.sk-toggleable__control:checked~label.sk-toggleable__label-arrow:before {content: \"▾\";}#sk-container-id-7 div.sk-estimator input.sk-toggleable__control:checked~label.sk-toggleable__label {background-color: #d4ebff;}#sk-container-id-7 div.sk-label input.sk-toggleable__control:checked~label.sk-toggleable__label {background-color: #d4ebff;}#sk-container-id-7 input.sk-hidden--visually {border: 0;clip: rect(1px 1px 1px 1px);clip: rect(1px, 1px, 1px, 1px);height: 1px;margin: -1px;overflow: hidden;padding: 0;position: absolute;width: 1px;}#sk-container-id-7 div.sk-estimator {font-family: monospace;background-color: #f0f8ff;border: 1px dotted black;border-radius: 0.25em;box-sizing: border-box;margin-bottom: 0.5em;}#sk-container-id-7 div.sk-estimator:hover {background-color: #d4ebff;}#sk-container-id-7 div.sk-parallel-item::after {content: \"\";width: 100%;border-bottom: 1px solid gray;flex-grow: 1;}#sk-container-id-7 div.sk-label:hover label.sk-toggleable__label {background-color: #d4ebff;}#sk-container-id-7 div.sk-serial::before {content: \"\";position: absolute;border-left: 1px solid gray;box-sizing: border-box;top: 0;bottom: 0;left: 50%;z-index: 0;}#sk-container-id-7 div.sk-serial {display: flex;flex-direction: column;align-items: center;background-color: white;padding-right: 0.2em;padding-left: 0.2em;position: relative;}#sk-container-id-7 div.sk-item {position: relative;z-index: 1;}#sk-container-id-7 div.sk-parallel {display: flex;align-items: stretch;justify-content: center;background-color: white;position: relative;}#sk-container-id-7 div.sk-item::before, #sk-container-id-7 div.sk-parallel-item::before {content: \"\";position: absolute;border-left: 1px solid gray;box-sizing: border-box;top: 0;bottom: 0;left: 50%;z-index: -1;}#sk-container-id-7 div.sk-parallel-item {display: flex;flex-direction: column;z-index: 1;position: relative;background-color: white;}#sk-container-id-7 div.sk-parallel-item:first-child::after {align-self: flex-end;width: 50%;}#sk-container-id-7 div.sk-parallel-item:last-child::after {align-self: flex-start;width: 50%;}#sk-container-id-7 div.sk-parallel-item:only-child::after {width: 0;}#sk-container-id-7 div.sk-dashed-wrapped {border: 1px dashed gray;margin: 0 0.4em 0.5em 0.4em;box-sizing: border-box;padding-bottom: 0.4em;background-color: white;}#sk-container-id-7 div.sk-label label {font-family: monospace;font-weight: bold;display: inline-block;line-height: 1.2em;}#sk-container-id-7 div.sk-label-container {text-align: center;}#sk-container-id-7 div.sk-container {/* jupyter's `normalize.less` sets `[hidden] { display: none; }` but bootstrap.min.css set `[hidden] { display: none !important; }` so we also need the `!important` here to be able to override the default hidden behavior on the sphinx rendered scikit-learn.org. See: https://github.com/scikit-learn/scikit-learn/issues/21755 */display: inline-block !important;position: relative;}#sk-container-id-7 div.sk-text-repr-fallback {display: none;}</style><div id=\"sk-container-id-7\" class=\"sk-top-container\"><div class=\"sk-text-repr-fallback\"><pre>MultinomialNB()</pre><b>In a Jupyter environment, please rerun this cell to show the HTML representation or trust the notebook. <br />On GitHub, the HTML representation is unable to render, please try loading this page with nbviewer.org.</b></div><div class=\"sk-container\" hidden><div class=\"sk-item\"><div class=\"sk-estimator sk-toggleable\"><input class=\"sk-toggleable__control sk-hidden--visually\" id=\"sk-estimator-id-11\" type=\"checkbox\" checked><label for=\"sk-estimator-id-11\" class=\"sk-toggleable__label sk-toggleable__label-arrow\">MultinomialNB</label><div class=\"sk-toggleable__content\"><pre>MultinomialNB()</pre></div></div></div></div></div>"
            ]
          },
          "metadata": {},
          "execution_count": 146
        }
      ]
    },
    {
      "cell_type": "code",
      "source": [
        "rfc = RandomForestClassifier()\n",
        "\n",
        "param_distributions = {\n",
        "  \"n_estimators\": list(range(10, 201)),\n",
        "  \"criterion\": [\"gini\", \"entropy\"],\n",
        "  \"max_depth\": [None, 5, 10, 15]\n",
        "}\n",
        "\n",
        "RSCV = RandomizedSearchCV(rfc, param_distributions, random_state=42)"
      ],
      "metadata": {
        "id": "Kj3hco8c1gCZ"
      },
      "execution_count": 147,
      "outputs": []
    },
    {
      "cell_type": "code",
      "source": [
        "RSCV.fit(X_train, y_train)"
      ],
      "metadata": {
        "colab": {
          "base_uri": "https://localhost:8080/",
          "height": 118
        },
        "id": "rwFeUE9g2cKy",
        "outputId": "f1a6489a-2afc-44a6-a8b1-d8fb081200ba"
      },
      "execution_count": 148,
      "outputs": [
        {
          "output_type": "execute_result",
          "data": {
            "text/plain": [
              "RandomizedSearchCV(estimator=RandomForestClassifier(),\n",
              "                   param_distributions={'criterion': ['gini', 'entropy'],\n",
              "                                        'max_depth': [None, 5, 10, 15],\n",
              "                                        'n_estimators': [10, 11, 12, 13, 14, 15,\n",
              "                                                         16, 17, 18, 19, 20, 21,\n",
              "                                                         22, 23, 24, 25, 26, 27,\n",
              "                                                         28, 29, 30, 31, 32, 33,\n",
              "                                                         34, 35, 36, 37, 38, 39, ...]},\n",
              "                   random_state=42)"
            ],
            "text/html": [
              "<style>#sk-container-id-8 {color: black;background-color: white;}#sk-container-id-8 pre{padding: 0;}#sk-container-id-8 div.sk-toggleable {background-color: white;}#sk-container-id-8 label.sk-toggleable__label {cursor: pointer;display: block;width: 100%;margin-bottom: 0;padding: 0.3em;box-sizing: border-box;text-align: center;}#sk-container-id-8 label.sk-toggleable__label-arrow:before {content: \"▸\";float: left;margin-right: 0.25em;color: #696969;}#sk-container-id-8 label.sk-toggleable__label-arrow:hover:before {color: black;}#sk-container-id-8 div.sk-estimator:hover label.sk-toggleable__label-arrow:before {color: black;}#sk-container-id-8 div.sk-toggleable__content {max-height: 0;max-width: 0;overflow: hidden;text-align: left;background-color: #f0f8ff;}#sk-container-id-8 div.sk-toggleable__content pre {margin: 0.2em;color: black;border-radius: 0.25em;background-color: #f0f8ff;}#sk-container-id-8 input.sk-toggleable__control:checked~div.sk-toggleable__content {max-height: 200px;max-width: 100%;overflow: auto;}#sk-container-id-8 input.sk-toggleable__control:checked~label.sk-toggleable__label-arrow:before {content: \"▾\";}#sk-container-id-8 div.sk-estimator input.sk-toggleable__control:checked~label.sk-toggleable__label {background-color: #d4ebff;}#sk-container-id-8 div.sk-label input.sk-toggleable__control:checked~label.sk-toggleable__label {background-color: #d4ebff;}#sk-container-id-8 input.sk-hidden--visually {border: 0;clip: rect(1px 1px 1px 1px);clip: rect(1px, 1px, 1px, 1px);height: 1px;margin: -1px;overflow: hidden;padding: 0;position: absolute;width: 1px;}#sk-container-id-8 div.sk-estimator {font-family: monospace;background-color: #f0f8ff;border: 1px dotted black;border-radius: 0.25em;box-sizing: border-box;margin-bottom: 0.5em;}#sk-container-id-8 div.sk-estimator:hover {background-color: #d4ebff;}#sk-container-id-8 div.sk-parallel-item::after {content: \"\";width: 100%;border-bottom: 1px solid gray;flex-grow: 1;}#sk-container-id-8 div.sk-label:hover label.sk-toggleable__label {background-color: #d4ebff;}#sk-container-id-8 div.sk-serial::before {content: \"\";position: absolute;border-left: 1px solid gray;box-sizing: border-box;top: 0;bottom: 0;left: 50%;z-index: 0;}#sk-container-id-8 div.sk-serial {display: flex;flex-direction: column;align-items: center;background-color: white;padding-right: 0.2em;padding-left: 0.2em;position: relative;}#sk-container-id-8 div.sk-item {position: relative;z-index: 1;}#sk-container-id-8 div.sk-parallel {display: flex;align-items: stretch;justify-content: center;background-color: white;position: relative;}#sk-container-id-8 div.sk-item::before, #sk-container-id-8 div.sk-parallel-item::before {content: \"\";position: absolute;border-left: 1px solid gray;box-sizing: border-box;top: 0;bottom: 0;left: 50%;z-index: -1;}#sk-container-id-8 div.sk-parallel-item {display: flex;flex-direction: column;z-index: 1;position: relative;background-color: white;}#sk-container-id-8 div.sk-parallel-item:first-child::after {align-self: flex-end;width: 50%;}#sk-container-id-8 div.sk-parallel-item:last-child::after {align-self: flex-start;width: 50%;}#sk-container-id-8 div.sk-parallel-item:only-child::after {width: 0;}#sk-container-id-8 div.sk-dashed-wrapped {border: 1px dashed gray;margin: 0 0.4em 0.5em 0.4em;box-sizing: border-box;padding-bottom: 0.4em;background-color: white;}#sk-container-id-8 div.sk-label label {font-family: monospace;font-weight: bold;display: inline-block;line-height: 1.2em;}#sk-container-id-8 div.sk-label-container {text-align: center;}#sk-container-id-8 div.sk-container {/* jupyter's `normalize.less` sets `[hidden] { display: none; }` but bootstrap.min.css set `[hidden] { display: none !important; }` so we also need the `!important` here to be able to override the default hidden behavior on the sphinx rendered scikit-learn.org. See: https://github.com/scikit-learn/scikit-learn/issues/21755 */display: inline-block !important;position: relative;}#sk-container-id-8 div.sk-text-repr-fallback {display: none;}</style><div id=\"sk-container-id-8\" class=\"sk-top-container\"><div class=\"sk-text-repr-fallback\"><pre>RandomizedSearchCV(estimator=RandomForestClassifier(),\n",
              "                   param_distributions={&#x27;criterion&#x27;: [&#x27;gini&#x27;, &#x27;entropy&#x27;],\n",
              "                                        &#x27;max_depth&#x27;: [None, 5, 10, 15],\n",
              "                                        &#x27;n_estimators&#x27;: [10, 11, 12, 13, 14, 15,\n",
              "                                                         16, 17, 18, 19, 20, 21,\n",
              "                                                         22, 23, 24, 25, 26, 27,\n",
              "                                                         28, 29, 30, 31, 32, 33,\n",
              "                                                         34, 35, 36, 37, 38, 39, ...]},\n",
              "                   random_state=42)</pre><b>In a Jupyter environment, please rerun this cell to show the HTML representation or trust the notebook. <br />On GitHub, the HTML representation is unable to render, please try loading this page with nbviewer.org.</b></div><div class=\"sk-container\" hidden><div class=\"sk-item sk-dashed-wrapped\"><div class=\"sk-label-container\"><div class=\"sk-label sk-toggleable\"><input class=\"sk-toggleable__control sk-hidden--visually\" id=\"sk-estimator-id-12\" type=\"checkbox\" ><label for=\"sk-estimator-id-12\" class=\"sk-toggleable__label sk-toggleable__label-arrow\">RandomizedSearchCV</label><div class=\"sk-toggleable__content\"><pre>RandomizedSearchCV(estimator=RandomForestClassifier(),\n",
              "                   param_distributions={&#x27;criterion&#x27;: [&#x27;gini&#x27;, &#x27;entropy&#x27;],\n",
              "                                        &#x27;max_depth&#x27;: [None, 5, 10, 15],\n",
              "                                        &#x27;n_estimators&#x27;: [10, 11, 12, 13, 14, 15,\n",
              "                                                         16, 17, 18, 19, 20, 21,\n",
              "                                                         22, 23, 24, 25, 26, 27,\n",
              "                                                         28, 29, 30, 31, 32, 33,\n",
              "                                                         34, 35, 36, 37, 38, 39, ...]},\n",
              "                   random_state=42)</pre></div></div></div><div class=\"sk-parallel\"><div class=\"sk-parallel-item\"><div class=\"sk-item\"><div class=\"sk-label-container\"><div class=\"sk-label sk-toggleable\"><input class=\"sk-toggleable__control sk-hidden--visually\" id=\"sk-estimator-id-13\" type=\"checkbox\" ><label for=\"sk-estimator-id-13\" class=\"sk-toggleable__label sk-toggleable__label-arrow\">estimator: RandomForestClassifier</label><div class=\"sk-toggleable__content\"><pre>RandomForestClassifier()</pre></div></div></div><div class=\"sk-serial\"><div class=\"sk-item\"><div class=\"sk-estimator sk-toggleable\"><input class=\"sk-toggleable__control sk-hidden--visually\" id=\"sk-estimator-id-14\" type=\"checkbox\" ><label for=\"sk-estimator-id-14\" class=\"sk-toggleable__label sk-toggleable__label-arrow\">RandomForestClassifier</label><div class=\"sk-toggleable__content\"><pre>RandomForestClassifier()</pre></div></div></div></div></div></div></div></div></div></div>"
            ]
          },
          "metadata": {},
          "execution_count": 148
        }
      ]
    },
    {
      "cell_type": "code",
      "source": [
        "rfc = RSCV.best_estimator_"
      ],
      "metadata": {
        "id": "hDVQBIEk2vD4"
      },
      "execution_count": 149,
      "outputs": []
    },
    {
      "cell_type": "code",
      "source": [
        "rfc.get_params()"
      ],
      "metadata": {
        "colab": {
          "base_uri": "https://localhost:8080/"
        },
        "id": "xKedc7HM4MTq",
        "outputId": "636c3764-91cc-417c-add4-608558f4f49e"
      },
      "execution_count": 150,
      "outputs": [
        {
          "output_type": "execute_result",
          "data": {
            "text/plain": [
              "{'bootstrap': True,\n",
              " 'ccp_alpha': 0.0,\n",
              " 'class_weight': None,\n",
              " 'criterion': 'entropy',\n",
              " 'max_depth': 15,\n",
              " 'max_features': 'sqrt',\n",
              " 'max_leaf_nodes': None,\n",
              " 'max_samples': None,\n",
              " 'min_impurity_decrease': 0.0,\n",
              " 'min_samples_leaf': 1,\n",
              " 'min_samples_split': 2,\n",
              " 'min_weight_fraction_leaf': 0.0,\n",
              " 'n_estimators': 132,\n",
              " 'n_jobs': None,\n",
              " 'oob_score': False,\n",
              " 'random_state': None,\n",
              " 'verbose': 0,\n",
              " 'warm_start': False}"
            ]
          },
          "metadata": {},
          "execution_count": 150
        }
      ]
    },
    {
      "cell_type": "markdown",
      "source": [
        "### Models Performance"
      ],
      "metadata": {
        "id": "rOpCvXvA1OJC"
      }
    },
    {
      "cell_type": "code",
      "source": [
        "mnb.score(X_test, y_test)"
      ],
      "metadata": {
        "colab": {
          "base_uri": "https://localhost:8080/"
        },
        "id": "Lk6B1JfD4BF1",
        "outputId": "2a6ad526-f016-445d-da95-89e63ff222fc"
      },
      "execution_count": 151,
      "outputs": [
        {
          "output_type": "execute_result",
          "data": {
            "text/plain": [
              "0.7832167832167832"
            ]
          },
          "metadata": {},
          "execution_count": 151
        }
      ]
    },
    {
      "cell_type": "code",
      "source": [
        "cm = confusion_matrix(y_test, mnb.predict(X_test))\n",
        "\n",
        "plt.figure(figsize=(10, 6))\n",
        "sns.heatmap(cm, annot=True, linewidth=.8, cmap=\"crest\", fmt='g')\n",
        "\n",
        "plt.ylabel(\"Real\")\n",
        "plt.xlabel(\"Predicted\")\n",
        "\n",
        "plt.show()"
      ],
      "metadata": {
        "colab": {
          "base_uri": "https://localhost:8080/",
          "height": 550
        },
        "id": "FNauLG4uktNE",
        "outputId": "1aa050df-b735-4f34-ca38-03ed29532475"
      },
      "execution_count": 152,
      "outputs": [
        {
          "output_type": "display_data",
          "data": {
            "text/plain": [
              "<Figure size 1000x600 with 2 Axes>"
            ],
            "image/png": "[encoded data removed]"
          },
          "metadata": {}
        }
      ]
    },
    {
      "cell_type": "code",
      "source": [
        "rfc.score(X_test, y_test)"
      ],
      "metadata": {
        "colab": {
          "base_uri": "https://localhost:8080/"
        },
        "id": "a2hK_niV4GWa",
        "outputId": "c7acba22-d60a-4d6f-a1c0-06bb1dc321d0"
      },
      "execution_count": 153,
      "outputs": [
        {
          "output_type": "execute_result",
          "data": {
            "text/plain": [
              "0.8263403263403264"
            ]
          },
          "metadata": {},
          "execution_count": 153
        }
      ]
    },
    {
      "cell_type": "code",
      "source": [
        "cm = confusion_matrix(y_test, rfc.predict(X_test))\n",
        "\n",
        "plt.figure(figsize=(10, 6))\n",
        "sns.heatmap(cm, annot=True, linewidth=.8, cmap=\"crest\", fmt='g')\n",
        "\n",
        "plt.ylabel(\"Real\")\n",
        "plt.xlabel(\"Predicted\")\n",
        "\n",
        "plt.show()"
      ],
      "metadata": {
        "colab": {
          "base_uri": "https://localhost:8080/",
          "height": 550
        },
        "id": "x_9j3KWGk2h-",
        "outputId": "0329f001-d0e3-4446-fb34-04544a2c0a42"
      },
      "execution_count": 154,
      "outputs": [
        {
          "output_type": "display_data",
          "data": {
            "text/plain": [
              "<Figure size 1000x600 with 2 Axes>"
            ],
            "image/png": "[encoded data removed]"
          },
          "metadata": {}
        }
      ]
    },
    {
      "cell_type": "code",
      "source": [
        "dump(cv, \"CV_Twitter.joblib\")\n",
        "dump(mnb, \"MNB_Twitter.joblib\")\n",
        "dump(rfc, \"RFC_Twitter.joblib\")"
      ],
      "metadata": {
        "colab": {
          "base_uri": "https://localhost:8080/"
        },
        "id": "X4IMXr0CfEnu",
        "outputId": "458a33c4-1156-49f5-ff89-ce6ad9bea02a"
      },
      "execution_count": 155,
      "outputs": [
        {
          "output_type": "execute_result",
          "data": {
            "text/plain": [
              "['RFC_Twitter.joblib']"
            ]
          },
          "metadata": {},
          "execution_count": 155
        }
      ]
    },
    {
      "cell_type": "markdown",
      "source": [
        "## Sarcasm Detection\n",
        "\n",
        "[![Kaggle](https://img.shields.io/badge/Kaggle-20BEFF?style=for-the-badge&logo=Kaggle&logoColor=white)](https://www.kaggle.com/datasets/rmisra/news-headlines-dataset-for-sarcasm-detection)\n"
      ],
      "metadata": {
        "id": "nv86t0Z3tf-q"
      }
    },
    {
      "cell_type": "code",
      "source": [
        "from sklearn.naive_bayes import BernoulliNB"
      ],
      "metadata": {
        "id": "lHhvJP7rZp3H"
      },
      "execution_count": 156,
      "outputs": []
    },
    {
      "cell_type": "markdown",
      "source": [
        "### Data Aquisition"
      ],
      "metadata": {
        "id": "2PJ_-YIXqcFf"
      }
    },
    {
      "cell_type": "code",
      "source": [
        "sarcasm_data = pd.read_json(\"https://raw.githubusercontent.com/amankharwal/Website-data/master/Sarcasm.json\", lines=True)"
      ],
      "metadata": {
        "id": "qqnm2Udtvzab"
      },
      "execution_count": 157,
      "outputs": []
    },
    {
      "cell_type": "code",
      "source": [
        "sarcasm_data.head()"
      ],
      "metadata": {
        "colab": {
          "base_uri": "https://localhost:8080/",
          "height": 206
        },
        "id": "kvXr73QNxIi8",
        "outputId": "da5b0601-1907-4b24-c4c0-4a285de9b647"
      },
      "execution_count": 158,
      "outputs": [
        {
          "output_type": "execute_result",
          "data": {
            "text/plain": [
              "                                        article_link  \\\n",
              "0  https://www.huffingtonpost.com/entry/versace-b...   \n",
              "1  https://www.huffingtonpost.com/entry/roseanne-...   \n",
              "2  https://local.theonion.com/mom-starting-to-fea...   \n",
              "3  https://politics.theonion.com/boehner-just-wan...   \n",
              "4  https://www.huffingtonpost.com/entry/jk-rowlin...   \n",
              "\n",
              "                                            headline  is_sarcastic  \n",
              "0  former versace store clerk sues over secret 'b...             0  \n",
              "1  the 'roseanne' revival catches up to our thorn...             0  \n",
              "2  mom starting to fear son's web series closest ...             1  \n",
              "3  boehner just wants wife to listen, not come up...             1  \n",
              "4  j.k. rowling wishes snape happy birthday in th...             0  "
            ],
            "text/html": [
              "\n",
              "  <div id=\"df-1bf6ebfc-1627-4e33-9074-242388af2f88\">\n",
              "    <div class=\"colab-df-container\">\n",
              "      <div>\n",
              "<style scoped>\n",
              "    .dataframe tbody tr th:only-of-type {\n",
              "        vertical-align: middle;\n",
              "    }\n",
              "\n",
              "    .dataframe tbody tr th {\n",
              "        vertical-align: top;\n",
              "    }\n",
              "\n",
              "    .dataframe thead th {\n",
              "        text-align: right;\n",
              "    }\n",
              "</style>\n",
              "<table border=\"1\" class=\"dataframe\">\n",
              "  <thead>\n",
              "    <tr style=\"text-align: right;\">\n",
              "      <th></th>\n",
              "      <th>article_link</th>\n",
              "      <th>headline</th>\n",
              "      <th>is_sarcastic</th>\n",
              "    </tr>\n",
              "  </thead>\n",
              "  <tbody>\n",
              "    <tr>\n",
              "      <th>0</th>\n",
              "      <td>https://www.huffingtonpost.com/entry/versace-b...</td>\n",
              "      <td>former versace store clerk sues over secret 'b...</td>\n",
              "      <td>0</td>\n",
              "    </tr>\n",
              "    <tr>\n",
              "      <th>1</th>\n",
              "      <td>https://www.huffingtonpost.com/entry/roseanne-...</td>\n",
              "      <td>the 'roseanne' revival catches up to our thorn...</td>\n",
              "      <td>0</td>\n",
              "    </tr>\n",
              "    <tr>\n",
              "      <th>2</th>\n",
              "      <td>https://local.theonion.com/mom-starting-to-fea...</td>\n",
              "      <td>mom starting to fear son's web series closest ...</td>\n",
              "      <td>1</td>\n",
              "    </tr>\n",
              "    <tr>\n",
              "      <th>3</th>\n",
              "      <td>https://politics.theonion.com/boehner-just-wan...</td>\n",
              "      <td>boehner just wants wife to listen, not come up...</td>\n",
              "      <td>1</td>\n",
              "    </tr>\n",
              "    <tr>\n",
              "      <th>4</th>\n",
              "      <td>https://www.huffingtonpost.com/entry/jk-rowlin...</td>\n",
              "      <td>j.k. rowling wishes snape happy birthday in th...</td>\n",
              "      <td>0</td>\n",
              "    </tr>\n",
              "  </tbody>\n",
              "</table>\n",
              "</div>\n",
              "      <button class=\"colab-df-convert\" onclick=\"convertToInteractive('df-1bf6ebfc-1627-4e33-9074-242388af2f88')\"\n",
              "              title=\"Convert this dataframe to an interactive table.\"\n",
              "              style=\"display:none;\">\n",
              "        \n",
              "  <svg xmlns=\"http://www.w3.org/2000/svg\" height=\"24px\"viewBox=\"0 0 24 24\"\n",
              "       width=\"24px\">\n",
              "    <path d=\"M0 0h24v24H0V0z\" fill=\"none\"/>\n",
              "    <path d=\"M18.56 5.44l.94 2.06.94-2.06 2.06-.94-2.06-.94-.94-2.06-.94 2.06-2.06.94zm-11 1L8.5 8.5l.94-2.06 2.06-.94-2.06-.94L8.5 2.5l-.94 2.06-2.06.94zm10 10l.94 2.06.94-2.06 2.06-.94-2.06-.94-.94-2.06-.94 2.06-2.06.94z\"/><path d=\"M17.41 7.96l-1.37-1.37c-.4-.4-.92-.59-1.43-.59-.52 0-1.04.2-1.43.59L10.3 9.45l-7.72 7.72c-.78.78-.78 2.05 0 2.83L4 21.41c.39.39.9.59 1.41.59.51 0 1.02-.2 1.41-.59l7.78-7.78 2.81-2.81c.8-.78.8-2.07 0-2.86zM5.41 20L4 18.59l7.72-7.72 1.47 1.35L5.41 20z\"/>\n",
              "  </svg>\n",
              "      </button>\n",
              "      \n",
              "  <style>\n",
              "    .colab-df-container {\n",
              "      display:flex;\n",
              "      flex-wrap:wrap;\n",
              "      gap: 12px;\n",
              "    }\n",
              "\n",
              "    .colab-df-convert {\n",
              "      background-color: #E8F0FE;\n",
              "      border: none;\n",
              "      border-radius: 50%;\n",
              "      cursor: pointer;\n",
              "      display: none;\n",
              "      fill: #1967D2;\n",
              "      height: 32px;\n",
              "      padding: 0 0 0 0;\n",
              "      width: 32px;\n",
              "    }\n",
              "\n",
              "    .colab-df-convert:hover {\n",
              "      background-color: #E2EBFA;\n",
              "      box-shadow: 0px 1px 2px rgba(60, 64, 67, 0.3), 0px 1px 3px 1px rgba(60, 64, 67, 0.15);\n",
              "      fill: #174EA6;\n",
              "    }\n",
              "\n",
              "    [theme=dark] .colab-df-convert {\n",
              "      background-color: #3B4455;\n",
              "      fill: #D2E3FC;\n",
              "    }\n",
              "\n",
              "    [theme=dark] .colab-df-convert:hover {\n",
              "      background-color: #434B5C;\n",
              "      box-shadow: 0px 1px 3px 1px rgba(0, 0, 0, 0.15);\n",
              "      filter: drop-shadow(0px 1px 2px rgba(0, 0, 0, 0.3));\n",
              "      fill: #FFFFFF;\n",
              "    }\n",
              "  </style>\n",
              "\n",
              "      <script>\n",
              "        const buttonEl =\n",
              "          document.querySelector('#df-1bf6ebfc-1627-4e33-9074-242388af2f88 button.colab-df-convert');\n",
              "        buttonEl.style.display =\n",
              "          google.colab.kernel.accessAllowed ? 'block' : 'none';\n",
              "\n",
              "        async function convertToInteractive(key) {\n",
              "          const element = document.querySelector('#df-1bf6ebfc-1627-4e33-9074-242388af2f88');\n",
              "          const dataTable =\n",
              "            await google.colab.kernel.invokeFunction('convertToInteractive',\n",
              "                                                     [key], {});\n",
              "          if (!dataTable) return;\n",
              "\n",
              "          const docLinkHtml = 'Like what you see? Visit the ' +\n",
              "            '<a target=\"_blank\" href=https://colab.research.google.com/notebooks/data_table.ipynb>data table notebook</a>'\n",
              "            + ' to learn more about interactive tables.';\n",
              "          element.innerHTML = '';\n",
              "          dataTable['output_type'] = 'display_data';\n",
              "          await google.colab.output.renderOutput(dataTable, element);\n",
              "          const docLink = document.createElement('div');\n",
              "          docLink.innerHTML = docLinkHtml;\n",
              "          element.appendChild(docLink);\n",
              "        }\n",
              "      </script>\n",
              "    </div>\n",
              "  </div>\n",
              "  "
            ]
          },
          "metadata": {},
          "execution_count": 158
        }
      ]
    },
    {
      "cell_type": "code",
      "source": [
        "sarcasm_data[\"is_sarcastic\"] = sarcasm_data[\"is_sarcastic\"].map({\n",
        "    0: \"Not Sarcasm\", \n",
        "    1: \"Sarcasm\"\n",
        "})\n",
        "\n",
        "sarcasm_data.head()"
      ],
      "metadata": {
        "colab": {
          "base_uri": "https://localhost:8080/",
          "height": 206
        },
        "id": "HK9DIfBtZqhC",
        "outputId": "aa9758df-7bdf-400f-e4a6-9a642c8bbaa9"
      },
      "execution_count": 159,
      "outputs": [
        {
          "output_type": "execute_result",
          "data": {
            "text/plain": [
              "                                        article_link  \\\n",
              "0  https://www.huffingtonpost.com/entry/versace-b...   \n",
              "1  https://www.huffingtonpost.com/entry/roseanne-...   \n",
              "2  https://local.theonion.com/mom-starting-to-fea...   \n",
              "3  https://politics.theonion.com/boehner-just-wan...   \n",
              "4  https://www.huffingtonpost.com/entry/jk-rowlin...   \n",
              "\n",
              "                                            headline is_sarcastic  \n",
              "0  former versace store clerk sues over secret 'b...  Not Sarcasm  \n",
              "1  the 'roseanne' revival catches up to our thorn...  Not Sarcasm  \n",
              "2  mom starting to fear son's web series closest ...      Sarcasm  \n",
              "3  boehner just wants wife to listen, not come up...      Sarcasm  \n",
              "4  j.k. rowling wishes snape happy birthday in th...  Not Sarcasm  "
            ],
            "text/html": [
              "\n",
              "  <div id=\"df-295f464c-65d3-419a-bde3-622b6ad735fe\">\n",
              "    <div class=\"colab-df-container\">\n",
              "      <div>\n",
              "<style scoped>\n",
              "    .dataframe tbody tr th:only-of-type {\n",
              "        vertical-align: middle;\n",
              "    }\n",
              "\n",
              "    .dataframe tbody tr th {\n",
              "        vertical-align: top;\n",
              "    }\n",
              "\n",
              "    .dataframe thead th {\n",
              "        text-align: right;\n",
              "    }\n",
              "</style>\n",
              "<table border=\"1\" class=\"dataframe\">\n",
              "  <thead>\n",
              "    <tr style=\"text-align: right;\">\n",
              "      <th></th>\n",
              "      <th>article_link</th>\n",
              "      <th>headline</th>\n",
              "      <th>is_sarcastic</th>\n",
              "    </tr>\n",
              "  </thead>\n",
              "  <tbody>\n",
              "    <tr>\n",
              "      <th>0</th>\n",
              "      <td>https://www.huffingtonpost.com/entry/versace-b...</td>\n",
              "      <td>former versace store clerk sues over secret 'b...</td>\n",
              "      <td>Not Sarcasm</td>\n",
              "    </tr>\n",
              "    <tr>\n",
              "      <th>1</th>\n",
              "      <td>https://www.huffingtonpost.com/entry/roseanne-...</td>\n",
              "      <td>the 'roseanne' revival catches up to our thorn...</td>\n",
              "      <td>Not Sarcasm</td>\n",
              "    </tr>\n",
              "    <tr>\n",
              "      <th>2</th>\n",
              "      <td>https://local.theonion.com/mom-starting-to-fea...</td>\n",
              "      <td>mom starting to fear son's web series closest ...</td>\n",
              "      <td>Sarcasm</td>\n",
              "    </tr>\n",
              "    <tr>\n",
              "      <th>3</th>\n",
              "      <td>https://politics.theonion.com/boehner-just-wan...</td>\n",
              "      <td>boehner just wants wife to listen, not come up...</td>\n",
              "      <td>Sarcasm</td>\n",
              "    </tr>\n",
              "    <tr>\n",
              "      <th>4</th>\n",
              "      <td>https://www.huffingtonpost.com/entry/jk-rowlin...</td>\n",
              "      <td>j.k. rowling wishes snape happy birthday in th...</td>\n",
              "      <td>Not Sarcasm</td>\n",
              "    </tr>\n",
              "  </tbody>\n",
              "</table>\n",
              "</div>\n",
              "      <button class=\"colab-df-convert\" onclick=\"convertToInteractive('df-295f464c-65d3-419a-bde3-622b6ad735fe')\"\n",
              "              title=\"Convert this dataframe to an interactive table.\"\n",
              "              style=\"display:none;\">\n",
              "        \n",
              "  <svg xmlns=\"http://www.w3.org/2000/svg\" height=\"24px\"viewBox=\"0 0 24 24\"\n",
              "       width=\"24px\">\n",
              "    <path d=\"M0 0h24v24H0V0z\" fill=\"none\"/>\n",
              "    <path d=\"M18.56 5.44l.94 2.06.94-2.06 2.06-.94-2.06-.94-.94-2.06-.94 2.06-2.06.94zm-11 1L8.5 8.5l.94-2.06 2.06-.94-2.06-.94L8.5 2.5l-.94 2.06-2.06.94zm10 10l.94 2.06.94-2.06 2.06-.94-2.06-.94-.94-2.06-.94 2.06-2.06.94z\"/><path d=\"M17.41 7.96l-1.37-1.37c-.4-.4-.92-.59-1.43-.59-.52 0-1.04.2-1.43.59L10.3 9.45l-7.72 7.72c-.78.78-.78 2.05 0 2.83L4 21.41c.39.39.9.59 1.41.59.51 0 1.02-.2 1.41-.59l7.78-7.78 2.81-2.81c.8-.78.8-2.07 0-2.86zM5.41 20L4 18.59l7.72-7.72 1.47 1.35L5.41 20z\"/>\n",
              "  </svg>\n",
              "      </button>\n",
              "      \n",
              "  <style>\n",
              "    .colab-df-container {\n",
              "      display:flex;\n",
              "      flex-wrap:wrap;\n",
              "      gap: 12px;\n",
              "    }\n",
              "\n",
              "    .colab-df-convert {\n",
              "      background-color: #E8F0FE;\n",
              "      border: none;\n",
              "      border-radius: 50%;\n",
              "      cursor: pointer;\n",
              "      display: none;\n",
              "      fill: #1967D2;\n",
              "      height: 32px;\n",
              "      padding: 0 0 0 0;\n",
              "      width: 32px;\n",
              "    }\n",
              "\n",
              "    .colab-df-convert:hover {\n",
              "      background-color: #E2EBFA;\n",
              "      box-shadow: 0px 1px 2px rgba(60, 64, 67, 0.3), 0px 1px 3px 1px rgba(60, 64, 67, 0.15);\n",
              "      fill: #174EA6;\n",
              "    }\n",
              "\n",
              "    [theme=dark] .colab-df-convert {\n",
              "      background-color: #3B4455;\n",
              "      fill: #D2E3FC;\n",
              "    }\n",
              "\n",
              "    [theme=dark] .colab-df-convert:hover {\n",
              "      background-color: #434B5C;\n",
              "      box-shadow: 0px 1px 3px 1px rgba(0, 0, 0, 0.15);\n",
              "      filter: drop-shadow(0px 1px 2px rgba(0, 0, 0, 0.3));\n",
              "      fill: #FFFFFF;\n",
              "    }\n",
              "  </style>\n",
              "\n",
              "      <script>\n",
              "        const buttonEl =\n",
              "          document.querySelector('#df-295f464c-65d3-419a-bde3-622b6ad735fe button.colab-df-convert');\n",
              "        buttonEl.style.display =\n",
              "          google.colab.kernel.accessAllowed ? 'block' : 'none';\n",
              "\n",
              "        async function convertToInteractive(key) {\n",
              "          const element = document.querySelector('#df-295f464c-65d3-419a-bde3-622b6ad735fe');\n",
              "          const dataTable =\n",
              "            await google.colab.kernel.invokeFunction('convertToInteractive',\n",
              "                                                     [key], {});\n",
              "          if (!dataTable) return;\n",
              "\n",
              "          const docLinkHtml = 'Like what you see? Visit the ' +\n",
              "            '<a target=\"_blank\" href=https://colab.research.google.com/notebooks/data_table.ipynb>data table notebook</a>'\n",
              "            + ' to learn more about interactive tables.';\n",
              "          element.innerHTML = '';\n",
              "          dataTable['output_type'] = 'display_data';\n",
              "          await google.colab.output.renderOutput(dataTable, element);\n",
              "          const docLink = document.createElement('div');\n",
              "          docLink.innerHTML = docLinkHtml;\n",
              "          element.appendChild(docLink);\n",
              "        }\n",
              "      </script>\n",
              "    </div>\n",
              "  </div>\n",
              "  "
            ]
          },
          "metadata": {},
          "execution_count": 159
        }
      ]
    },
    {
      "cell_type": "code",
      "source": [
        "sarcasm_data.shape"
      ],
      "metadata": {
        "colab": {
          "base_uri": "https://localhost:8080/"
        },
        "id": "Dx-f9zlNw0HV",
        "outputId": "d4b8f79d-4d33-4730-b97f-8a338bd53b1c"
      },
      "execution_count": 160,
      "outputs": [
        {
          "output_type": "execute_result",
          "data": {
            "text/plain": [
              "(26709, 3)"
            ]
          },
          "metadata": {},
          "execution_count": 160
        }
      ]
    },
    {
      "cell_type": "markdown",
      "source": [
        "### Exploratory Data Analysis"
      ],
      "metadata": {
        "id": "tljVgM3ueL_V"
      }
    },
    {
      "cell_type": "code",
      "source": [
        "fig, ax = plt.subplots(figsize=(16, 6))\n",
        "\n",
        "ax = sns.countplot(data=sarcasm_data, y=\"is_sarcastic\")\n",
        "\n",
        "ax.set_ylabel(\"\")\n",
        "\n",
        "plt.show()"
      ],
      "metadata": {
        "colab": {
          "base_uri": "https://localhost:8080/",
          "height": 0
        },
        "id": "HcHqMOOYeRv0",
        "outputId": "a756175b-1a72-499b-e6d9-af94c36fcae5"
      },
      "execution_count": 161,
      "outputs": [
        {
          "output_type": "display_data",
          "data": {
            "text/plain": [
              "<Figure size 1600x600 with 1 Axes>"
            ],
            "image/png": "[encoded data removed]"
          },
          "metadata": {}
        }
      ]
    },
    {
      "cell_type": "code",
      "source": [
        "sarcasm_data[\"is_sarcastic\"].value_counts()"
      ],
      "metadata": {
        "colab": {
          "base_uri": "https://localhost:8080/"
        },
        "id": "hfkk_MdSgTjA",
        "outputId": "13ece5a9-d218-40cf-fd36-eebb052fb576"
      },
      "execution_count": 162,
      "outputs": [
        {
          "output_type": "execute_result",
          "data": {
            "text/plain": [
              "Not Sarcasm    14985\n",
              "Sarcasm        11724\n",
              "Name: is_sarcastic, dtype: int64"
            ]
          },
          "metadata": {},
          "execution_count": 162
        }
      ]
    },
    {
      "cell_type": "markdown",
      "source": [
        "### Data Treatment"
      ],
      "metadata": {
        "id": "JVqwZXAUgwNa"
      }
    },
    {
      "cell_type": "code",
      "source": [
        "MIN_SIZE = sarcasm_data[\"is_sarcastic\"].value_counts().min()"
      ],
      "metadata": {
        "id": "beK0e06ngyoA"
      },
      "execution_count": 163,
      "outputs": []
    },
    {
      "cell_type": "code",
      "source": [
        "is_sarcasm  = sarcasm_data.query(\"is_sarcastic == 'Sarcasm'\")\n",
        "not_sarcasm = sarcasm_data.query(\"is_sarcastic == 'Not Sarcasm'\").sample(MIN_SIZE)"
      ],
      "metadata": {
        "id": "kJK_WbKfg9S4"
      },
      "execution_count": 164,
      "outputs": []
    },
    {
      "cell_type": "code",
      "source": [
        "sarcasm_data = pd.concat([is_sarcasm, not_sarcasm])\n",
        "sarcasm_data = sarcasm_data[[\"headline\", \"is_sarcastic\"]]\n",
        "\n",
        "sarcasm_data.reset_index(drop=True, inplace=True)\n",
        "\n",
        "sarcasm_data[\"is_sarcastic\"].value_counts()"
      ],
      "metadata": {
        "colab": {
          "base_uri": "https://localhost:8080/"
        },
        "id": "ZaJiTmmZhmvw",
        "outputId": "3fd3f6b8-bd06-4cdd-e7b4-2040761d6e6d"
      },
      "execution_count": 165,
      "outputs": [
        {
          "output_type": "execute_result",
          "data": {
            "text/plain": [
              "Sarcasm        11724\n",
              "Not Sarcasm    11724\n",
              "Name: is_sarcastic, dtype: int64"
            ]
          },
          "metadata": {},
          "execution_count": 165
        }
      ]
    },
    {
      "cell_type": "markdown",
      "source": [
        "### Creating Train and Test data"
      ],
      "metadata": {
        "id": "U8ditl0kiQYD"
      }
    },
    {
      "cell_type": "code",
      "source": [
        "x = np.array(sarcasm_data[\"headline\"])\n",
        "y = np.array(sarcasm_data[\"is_sarcastic\"])\n",
        "\n",
        "cv = CountVectorizer()\n",
        "X = cv.fit_transform(x)\n",
        "\n",
        "X_train, X_test, y_train, y_test = train_test_split(X, y, test_size=0.20, random_state=42)"
      ],
      "metadata": {
        "id": "syIoW9gQZycM"
      },
      "execution_count": 166,
      "outputs": []
    },
    {
      "cell_type": "markdown",
      "source": [
        "### Training Model"
      ],
      "metadata": {
        "id": "q-UikHPAiftX"
      }
    },
    {
      "cell_type": "code",
      "source": [
        "bnb = BernoulliNB()\n",
        "\n",
        "bnb.fit(X_train, y_train)"
      ],
      "metadata": {
        "colab": {
          "base_uri": "https://localhost:8080/",
          "height": 75
        },
        "id": "MQ-P7xXEiZ1V",
        "outputId": "86c2c173-5e52-4722-d3e3-5da3f9e0970c"
      },
      "execution_count": 167,
      "outputs": [
        {
          "output_type": "execute_result",
          "data": {
            "text/plain": [
              "BernoulliNB()"
            ],
            "text/html": [
              "<style>#sk-container-id-9 {color: black;background-color: white;}#sk-container-id-9 pre{padding: 0;}#sk-container-id-9 div.sk-toggleable {background-color: white;}#sk-container-id-9 label.sk-toggleable__label {cursor: pointer;display: block;width: 100%;margin-bottom: 0;padding: 0.3em;box-sizing: border-box;text-align: center;}#sk-container-id-9 label.sk-toggleable__label-arrow:before {content: \"▸\";float: left;margin-right: 0.25em;color: #696969;}#sk-container-id-9 label.sk-toggleable__label-arrow:hover:before {color: black;}#sk-container-id-9 div.sk-estimator:hover label.sk-toggleable__label-arrow:before {color: black;}#sk-container-id-9 div.sk-toggleable__content {max-height: 0;max-width: 0;overflow: hidden;text-align: left;background-color: #f0f8ff;}#sk-container-id-9 div.sk-toggleable__content pre {margin: 0.2em;color: black;border-radius: 0.25em;background-color: #f0f8ff;}#sk-container-id-9 input.sk-toggleable__control:checked~div.sk-toggleable__content {max-height: 200px;max-width: 100%;overflow: auto;}#sk-container-id-9 input.sk-toggleable__control:checked~label.sk-toggleable__label-arrow:before {content: \"▾\";}#sk-container-id-9 div.sk-estimator input.sk-toggleable__control:checked~label.sk-toggleable__label {background-color: #d4ebff;}#sk-container-id-9 div.sk-label input.sk-toggleable__control:checked~label.sk-toggleable__label {background-color: #d4ebff;}#sk-container-id-9 input.sk-hidden--visually {border: 0;clip: rect(1px 1px 1px 1px);clip: rect(1px, 1px, 1px, 1px);height: 1px;margin: -1px;overflow: hidden;padding: 0;position: absolute;width: 1px;}#sk-container-id-9 div.sk-estimator {font-family: monospace;background-color: #f0f8ff;border: 1px dotted black;border-radius: 0.25em;box-sizing: border-box;margin-bottom: 0.5em;}#sk-container-id-9 div.sk-estimator:hover {background-color: #d4ebff;}#sk-container-id-9 div.sk-parallel-item::after {content: \"\";width: 100%;border-bottom: 1px solid gray;flex-grow: 1;}#sk-container-id-9 div.sk-label:hover label.sk-toggleable__label {background-color: #d4ebff;}#sk-container-id-9 div.sk-serial::before {content: \"\";position: absolute;border-left: 1px solid gray;box-sizing: border-box;top: 0;bottom: 0;left: 50%;z-index: 0;}#sk-container-id-9 div.sk-serial {display: flex;flex-direction: column;align-items: center;background-color: white;padding-right: 0.2em;padding-left: 0.2em;position: relative;}#sk-container-id-9 div.sk-item {position: relative;z-index: 1;}#sk-container-id-9 div.sk-parallel {display: flex;align-items: stretch;justify-content: center;background-color: white;position: relative;}#sk-container-id-9 div.sk-item::before, #sk-container-id-9 div.sk-parallel-item::before {content: \"\";position: absolute;border-left: 1px solid gray;box-sizing: border-box;top: 0;bottom: 0;left: 50%;z-index: -1;}#sk-container-id-9 div.sk-parallel-item {display: flex;flex-direction: column;z-index: 1;position: relative;background-color: white;}#sk-container-id-9 div.sk-parallel-item:first-child::after {align-self: flex-end;width: 50%;}#sk-container-id-9 div.sk-parallel-item:last-child::after {align-self: flex-start;width: 50%;}#sk-container-id-9 div.sk-parallel-item:only-child::after {width: 0;}#sk-container-id-9 div.sk-dashed-wrapped {border: 1px dashed gray;margin: 0 0.4em 0.5em 0.4em;box-sizing: border-box;padding-bottom: 0.4em;background-color: white;}#sk-container-id-9 div.sk-label label {font-family: monospace;font-weight: bold;display: inline-block;line-height: 1.2em;}#sk-container-id-9 div.sk-label-container {text-align: center;}#sk-container-id-9 div.sk-container {/* jupyter's `normalize.less` sets `[hidden] { display: none; }` but bootstrap.min.css set `[hidden] { display: none !important; }` so we also need the `!important` here to be able to override the default hidden behavior on the sphinx rendered scikit-learn.org. See: https://github.com/scikit-learn/scikit-learn/issues/21755 */display: inline-block !important;position: relative;}#sk-container-id-9 div.sk-text-repr-fallback {display: none;}</style><div id=\"sk-container-id-9\" class=\"sk-top-container\"><div class=\"sk-text-repr-fallback\"><pre>BernoulliNB()</pre><b>In a Jupyter environment, please rerun this cell to show the HTML representation or trust the notebook. <br />On GitHub, the HTML representation is unable to render, please try loading this page with nbviewer.org.</b></div><div class=\"sk-container\" hidden><div class=\"sk-item\"><div class=\"sk-estimator sk-toggleable\"><input class=\"sk-toggleable__control sk-hidden--visually\" id=\"sk-estimator-id-15\" type=\"checkbox\" checked><label for=\"sk-estimator-id-15\" class=\"sk-toggleable__label sk-toggleable__label-arrow\">BernoulliNB</label><div class=\"sk-toggleable__content\"><pre>BernoulliNB()</pre></div></div></div></div></div>"
            ]
          },
          "metadata": {},
          "execution_count": 167
        }
      ]
    },
    {
      "cell_type": "code",
      "source": [
        "rfc = RandomForestClassifier()\n",
        "\n",
        "param_distributions = {\n",
        "  \"n_estimators\": list(range(10, 201)),\n",
        "  \"criterion\": [\"gini\", \"entropy\"],\n",
        "  \"max_depth\": [None, 5, 10, 15]\n",
        "}\n",
        "\n",
        "RSCV = RandomizedSearchCV(rfc, param_distributions, random_state=42)"
      ],
      "metadata": {
        "id": "XF_AC6C8ioo1"
      },
      "execution_count": 168,
      "outputs": []
    },
    {
      "cell_type": "code",
      "source": [
        "RSCV.fit(X_train, y_train)"
      ],
      "metadata": {
        "id": "2JFBhyGqisCy"
      },
      "execution_count": null,
      "outputs": []
    },
    {
      "cell_type": "code",
      "source": [
        "rfc = RSCV.best_estimator_"
      ],
      "metadata": {
        "id": "uFxu647JaQWS"
      },
      "execution_count": null,
      "outputs": []
    },
    {
      "cell_type": "code",
      "source": [
        "rfc.get_params()"
      ],
      "metadata": {
        "id": "tcwvAewXi1Ks"
      },
      "execution_count": null,
      "outputs": []
    },
    {
      "cell_type": "markdown",
      "source": [
        "### Models Performance"
      ],
      "metadata": {
        "id": "2iGoHi5mi1vF"
      }
    },
    {
      "cell_type": "code",
      "source": [
        "bnb.score(X_test, y_test)"
      ],
      "metadata": {
        "id": "qv9cIBaHbokF"
      },
      "execution_count": null,
      "outputs": []
    },
    {
      "cell_type": "code",
      "source": [
        "cm = confusion_matrix(y_test, bnb.predict(X_test))\n",
        "\n",
        "plt.figure(figsize=(10, 6))\n",
        "sns.heatmap(cm, annot=True, linewidth=.8, cmap=\"crest\", fmt='g')\n",
        "\n",
        "plt.ylabel(\"Real\")\n",
        "plt.xlabel(\"Predicted\")\n",
        "\n",
        "plt.show()"
      ],
      "metadata": {
        "id": "1-WYyLsGlS-o"
      },
      "execution_count": null,
      "outputs": []
    },
    {
      "cell_type": "code",
      "source": [
        "rfc.score(X_test, y_test)"
      ],
      "metadata": {
        "id": "QtQvrNOIbh9z"
      },
      "execution_count": null,
      "outputs": []
    },
    {
      "cell_type": "code",
      "source": [
        "cm = confusion_matrix(y_test, rfc.predict(X_test))\n",
        "\n",
        "plt.figure(figsize=(10, 6))\n",
        "sns.heatmap(cm, annot=True, linewidth=.8, cmap=\"crest\", fmt='g')\n",
        "\n",
        "plt.ylabel(\"Real\")\n",
        "plt.xlabel(\"Predicted\")\n",
        "\n",
        "plt.show()"
      ],
      "metadata": {
        "id": "p5mNu0QYlTkq"
      },
      "execution_count": null,
      "outputs": []
    },
    {
      "cell_type": "code",
      "source": [
        "dump(cv, \"CV_Sarcasm.joblib\")\n",
        "dump(bnb, \"BNB_Sarcasm.joblib\")\n",
        "dump(rfc, \"RFC_Sarcasm.joblib\")"
      ],
      "metadata": {
        "id": "t-Gxqx3ao5wj"
      },
      "execution_count": null,
      "outputs": []
    },
    {
      "cell_type": "markdown",
      "source": [
        "## Hate Speech and Offensive Language Samples"
      ],
      "metadata": {
        "id": "J58PKunQ4yHP"
      }
    },
    {
      "cell_type": "code",
      "source": [
        "twitter_data.query(\"labels == 'No Hate and Offensive'\").sample()[\"tweet\"]"
      ],
      "metadata": {
        "id": "4p6J3CIR4zQj"
      },
      "execution_count": null,
      "outputs": []
    },
    {
      "cell_type": "code",
      "source": [
        "twitter_data.query(\"labels == 'Offensive Language'\").sample()[\"tweet\"]"
      ],
      "metadata": {
        "id": "pqMdEYpy42nZ"
      },
      "execution_count": null,
      "outputs": []
    },
    {
      "cell_type": "code",
      "source": [
        "twitter_data.query(\"labels == 'Hate Speech'\").sample()[\"tweet\"]"
      ],
      "metadata": {
        "id": "txtV4RsR45YH"
      },
      "execution_count": null,
      "outputs": []
    },
    {
      "cell_type": "markdown",
      "source": [
        "## Sarcasm"
      ],
      "metadata": {
        "id": "p70kI1Az4_LU"
      }
    },
    {
      "cell_type": "code",
      "source": [
        "sarcasm_data.query(\"is_sarcastic == 'Not Sarcasm'\").sample()[\"headline\"]"
      ],
      "metadata": {
        "id": "EhOiaEHa45VF"
      },
      "execution_count": null,
      "outputs": []
    },
    {
      "cell_type": "code",
      "source": [
        "sarcasm_data.query(\"is_sarcastic == 'Sarcasm'\").sample()[\"headline\"]"
      ],
      "metadata": {
        "id": "2I02Tb5wjTps"
      },
      "execution_count": null,
      "outputs": []
    }
  ]
}